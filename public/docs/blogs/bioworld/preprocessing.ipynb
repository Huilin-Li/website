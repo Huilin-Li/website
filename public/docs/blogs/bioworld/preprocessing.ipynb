{
 "cells": [
  {
   "cell_type": "code",
   "execution_count": 23,
   "id": "2fa10a86",
   "metadata": {},
   "outputs": [],
   "source": [
    "from biopandas.pdb import PandasPdb\n",
    "from itertools import chain\n",
    "from Bio import PDB\n",
    "import numpy as np\n",
    "import pandas as pd\n",
    "\n",
    "import plotly.express as px\n",
    "import plotly.graph_objects as go\n",
    "\n",
    "from sklearn.cluster import KMeans\n",
    "\n",
    "import warnings\n",
    "warnings.simplefilter(action=\"ignore\")"
   ]
  },
  {
   "cell_type": "markdown",
   "id": "63896c06",
   "metadata": {},
   "source": [
    "# 0. TOOLS"
   ]
  },
  {
   "cell_type": "code",
   "execution_count": 14,
   "id": "5945050b",
   "metadata": {},
   "outputs": [],
   "source": [
    "def residue_remove(pdbfile, remove_ids, outputName):\n",
    "    \"\"\"\n",
    "    Assumption: pdbfile only has A chain\n",
    "    \"\"\"\n",
    "    residue_to_remove = []\n",
    "\n",
    "    pdb_io = PDB.PDBIO()\n",
    "    pdb_parser = PDB.PDBParser()\n",
    "    structure = pdb_parser.get_structure(\" \", pdbfile)\n",
    "\n",
    "    model = structure[0]\n",
    "    chain = model[\"A\"]\n",
    "\n",
    "    for residue in chain:\n",
    "        id = residue.id\n",
    "        if id[1] in remove_ids: \n",
    "            residue_to_remove.append(residue.id)\n",
    "\n",
    "    for residue in residue_to_remove:\n",
    "        chain.detach_child(residue)\n",
    "    pdb_io.set_structure(structure)\n",
    "    pdb_io.save(outputName)\n",
    "    return "
   ]
  },
  {
   "cell_type": "code",
   "execution_count": 84,
   "id": "ddd40c44",
   "metadata": {},
   "outputs": [],
   "source": [
    "def update_resnum(pdbfile):\n",
    "    \"\"\"\n",
    "    🌟 CHANGE RESIDUE NUMBER\n",
    "    Assumption: pdbfile only has A chain\n",
    "    \"\"\"\n",
    "    pdb_io = PDB.PDBIO()\n",
    "    pdb_parser = PDB.PDBParser()\n",
    "    structure = pdb_parser.get_structure(\" \", pdbfile)\n",
    "\n",
    "    model = structure[0]\n",
    "    chain = model[\"A\"]\n",
    "    print(len([i for i in chain.get_residues()]))\n",
    "    new_resnums = list(range(1, 1+len([i for i in chain.get_residues()])))\n",
    "\n",
    "    for i, residue in enumerate(chain.get_residues()):\n",
    "        res_id = list(residue.id)\n",
    "        res_id[1] = new_resnums[i]\n",
    "        residue.id = tuple(res_id)\n",
    "\n",
    "    pdb_io.set_structure(structure)\n",
    "    pdb_io.save(pdbfile.split('pdb')[0] + '_update_resnum.pdb')\n",
    "    return"
   ]
  },
  {
   "cell_type": "code",
   "execution_count": null,
   "id": "50165ac7",
   "metadata": {},
   "outputs": [],
   "source": []
  },
  {
   "cell_type": "code",
   "execution_count": null,
   "id": "12934a05",
   "metadata": {},
   "outputs": [],
   "source": []
  },
  {
   "cell_type": "markdown",
   "id": "7b1ed226",
   "metadata": {},
   "source": [
    "#  1. Load target protein"
   ]
  },
  {
   "cell_type": "code",
   "execution_count": 2,
   "id": "e8d5eb4c",
   "metadata": {},
   "outputs": [],
   "source": [
    "target_pdb = PandasPdb().read_pdb('./target/AF-Q9H1U9-F1-model_v4.pdb')"
   ]
  },
  {
   "cell_type": "code",
   "execution_count": 4,
   "id": "edfcfd85",
   "metadata": {},
   "outputs": [
    {
     "data": {
      "text/html": [
       "<div>\n",
       "<style scoped>\n",
       "    .dataframe tbody tr th:only-of-type {\n",
       "        vertical-align: middle;\n",
       "    }\n",
       "\n",
       "    .dataframe tbody tr th {\n",
       "        vertical-align: top;\n",
       "    }\n",
       "\n",
       "    .dataframe thead th {\n",
       "        text-align: right;\n",
       "    }\n",
       "</style>\n",
       "<table border=\"1\" class=\"dataframe\">\n",
       "  <thead>\n",
       "    <tr style=\"text-align: right;\">\n",
       "      <th></th>\n",
       "      <th>record_name</th>\n",
       "      <th>atom_number</th>\n",
       "      <th>blank_1</th>\n",
       "      <th>atom_name</th>\n",
       "      <th>alt_loc</th>\n",
       "      <th>residue_name</th>\n",
       "      <th>blank_2</th>\n",
       "      <th>chain_id</th>\n",
       "      <th>residue_number</th>\n",
       "      <th>insertion</th>\n",
       "      <th>...</th>\n",
       "      <th>x_coord</th>\n",
       "      <th>y_coord</th>\n",
       "      <th>z_coord</th>\n",
       "      <th>occupancy</th>\n",
       "      <th>b_factor</th>\n",
       "      <th>blank_4</th>\n",
       "      <th>segment_id</th>\n",
       "      <th>element_symbol</th>\n",
       "      <th>charge</th>\n",
       "      <th>line_idx</th>\n",
       "    </tr>\n",
       "  </thead>\n",
       "  <tbody>\n",
       "    <tr>\n",
       "      <th>0</th>\n",
       "      <td>ATOM</td>\n",
       "      <td>1</td>\n",
       "      <td></td>\n",
       "      <td>N</td>\n",
       "      <td></td>\n",
       "      <td>MET</td>\n",
       "      <td></td>\n",
       "      <td>A</td>\n",
       "      <td>1</td>\n",
       "      <td></td>\n",
       "      <td>...</td>\n",
       "      <td>50.382</td>\n",
       "      <td>-9.024</td>\n",
       "      <td>-50.566</td>\n",
       "      <td>1.0</td>\n",
       "      <td>35.97</td>\n",
       "      <td></td>\n",
       "      <td></td>\n",
       "      <td>N</td>\n",
       "      <td>NaN</td>\n",
       "      <td>70</td>\n",
       "    </tr>\n",
       "    <tr>\n",
       "      <th>1</th>\n",
       "      <td>ATOM</td>\n",
       "      <td>2</td>\n",
       "      <td></td>\n",
       "      <td>CA</td>\n",
       "      <td></td>\n",
       "      <td>MET</td>\n",
       "      <td></td>\n",
       "      <td>A</td>\n",
       "      <td>1</td>\n",
       "      <td></td>\n",
       "      <td>...</td>\n",
       "      <td>50.276</td>\n",
       "      <td>-7.868</td>\n",
       "      <td>-51.476</td>\n",
       "      <td>1.0</td>\n",
       "      <td>35.97</td>\n",
       "      <td></td>\n",
       "      <td></td>\n",
       "      <td>C</td>\n",
       "      <td>NaN</td>\n",
       "      <td>71</td>\n",
       "    </tr>\n",
       "    <tr>\n",
       "      <th>2</th>\n",
       "      <td>ATOM</td>\n",
       "      <td>3</td>\n",
       "      <td></td>\n",
       "      <td>C</td>\n",
       "      <td></td>\n",
       "      <td>MET</td>\n",
       "      <td></td>\n",
       "      <td>A</td>\n",
       "      <td>1</td>\n",
       "      <td></td>\n",
       "      <td>...</td>\n",
       "      <td>49.309</td>\n",
       "      <td>-6.908</td>\n",
       "      <td>-50.793</td>\n",
       "      <td>1.0</td>\n",
       "      <td>35.97</td>\n",
       "      <td></td>\n",
       "      <td></td>\n",
       "      <td>C</td>\n",
       "      <td>NaN</td>\n",
       "      <td>72</td>\n",
       "    </tr>\n",
       "    <tr>\n",
       "      <th>3</th>\n",
       "      <td>ATOM</td>\n",
       "      <td>4</td>\n",
       "      <td></td>\n",
       "      <td>CB</td>\n",
       "      <td></td>\n",
       "      <td>MET</td>\n",
       "      <td></td>\n",
       "      <td>A</td>\n",
       "      <td>1</td>\n",
       "      <td></td>\n",
       "      <td>...</td>\n",
       "      <td>49.838</td>\n",
       "      <td>-8.362</td>\n",
       "      <td>-52.871</td>\n",
       "      <td>1.0</td>\n",
       "      <td>35.97</td>\n",
       "      <td></td>\n",
       "      <td></td>\n",
       "      <td>C</td>\n",
       "      <td>NaN</td>\n",
       "      <td>73</td>\n",
       "    </tr>\n",
       "    <tr>\n",
       "      <th>4</th>\n",
       "      <td>ATOM</td>\n",
       "      <td>5</td>\n",
       "      <td></td>\n",
       "      <td>O</td>\n",
       "      <td></td>\n",
       "      <td>MET</td>\n",
       "      <td></td>\n",
       "      <td>A</td>\n",
       "      <td>1</td>\n",
       "      <td></td>\n",
       "      <td>...</td>\n",
       "      <td>48.126</td>\n",
       "      <td>-7.209</td>\n",
       "      <td>-50.783</td>\n",
       "      <td>1.0</td>\n",
       "      <td>35.97</td>\n",
       "      <td></td>\n",
       "      <td></td>\n",
       "      <td>O</td>\n",
       "      <td>NaN</td>\n",
       "      <td>74</td>\n",
       "    </tr>\n",
       "    <tr>\n",
       "      <th>...</th>\n",
       "      <td>...</td>\n",
       "      <td>...</td>\n",
       "      <td>...</td>\n",
       "      <td>...</td>\n",
       "      <td>...</td>\n",
       "      <td>...</td>\n",
       "      <td>...</td>\n",
       "      <td>...</td>\n",
       "      <td>...</td>\n",
       "      <td>...</td>\n",
       "      <td>...</td>\n",
       "      <td>...</td>\n",
       "      <td>...</td>\n",
       "      <td>...</td>\n",
       "      <td>...</td>\n",
       "      <td>...</td>\n",
       "      <td>...</td>\n",
       "      <td>...</td>\n",
       "      <td>...</td>\n",
       "      <td>...</td>\n",
       "      <td>...</td>\n",
       "    </tr>\n",
       "    <tr>\n",
       "      <th>2372</th>\n",
       "      <td>ATOM</td>\n",
       "      <td>2373</td>\n",
       "      <td></td>\n",
       "      <td>O</td>\n",
       "      <td></td>\n",
       "      <td>ILE</td>\n",
       "      <td></td>\n",
       "      <td>A</td>\n",
       "      <td>297</td>\n",
       "      <td></td>\n",
       "      <td>...</td>\n",
       "      <td>-0.792</td>\n",
       "      <td>25.811</td>\n",
       "      <td>-25.379</td>\n",
       "      <td>1.0</td>\n",
       "      <td>78.01</td>\n",
       "      <td></td>\n",
       "      <td></td>\n",
       "      <td>O</td>\n",
       "      <td>NaN</td>\n",
       "      <td>2442</td>\n",
       "    </tr>\n",
       "    <tr>\n",
       "      <th>2373</th>\n",
       "      <td>ATOM</td>\n",
       "      <td>2374</td>\n",
       "      <td></td>\n",
       "      <td>CG1</td>\n",
       "      <td></td>\n",
       "      <td>ILE</td>\n",
       "      <td></td>\n",
       "      <td>A</td>\n",
       "      <td>297</td>\n",
       "      <td></td>\n",
       "      <td>...</td>\n",
       "      <td>-3.634</td>\n",
       "      <td>24.414</td>\n",
       "      <td>-22.032</td>\n",
       "      <td>1.0</td>\n",
       "      <td>78.01</td>\n",
       "      <td></td>\n",
       "      <td></td>\n",
       "      <td>C</td>\n",
       "      <td>NaN</td>\n",
       "      <td>2443</td>\n",
       "    </tr>\n",
       "    <tr>\n",
       "      <th>2374</th>\n",
       "      <td>ATOM</td>\n",
       "      <td>2375</td>\n",
       "      <td></td>\n",
       "      <td>CG2</td>\n",
       "      <td></td>\n",
       "      <td>ILE</td>\n",
       "      <td></td>\n",
       "      <td>A</td>\n",
       "      <td>297</td>\n",
       "      <td></td>\n",
       "      <td>...</td>\n",
       "      <td>-1.337</td>\n",
       "      <td>25.379</td>\n",
       "      <td>-22.401</td>\n",
       "      <td>1.0</td>\n",
       "      <td>78.01</td>\n",
       "      <td></td>\n",
       "      <td></td>\n",
       "      <td>C</td>\n",
       "      <td>NaN</td>\n",
       "      <td>2444</td>\n",
       "    </tr>\n",
       "    <tr>\n",
       "      <th>2375</th>\n",
       "      <td>ATOM</td>\n",
       "      <td>2376</td>\n",
       "      <td></td>\n",
       "      <td>CD1</td>\n",
       "      <td></td>\n",
       "      <td>ILE</td>\n",
       "      <td></td>\n",
       "      <td>A</td>\n",
       "      <td>297</td>\n",
       "      <td></td>\n",
       "      <td>...</td>\n",
       "      <td>-3.337</td>\n",
       "      <td>23.661</td>\n",
       "      <td>-20.729</td>\n",
       "      <td>1.0</td>\n",
       "      <td>78.01</td>\n",
       "      <td></td>\n",
       "      <td></td>\n",
       "      <td>C</td>\n",
       "      <td>NaN</td>\n",
       "      <td>2445</td>\n",
       "    </tr>\n",
       "    <tr>\n",
       "      <th>2376</th>\n",
       "      <td>ATOM</td>\n",
       "      <td>2377</td>\n",
       "      <td></td>\n",
       "      <td>OXT</td>\n",
       "      <td></td>\n",
       "      <td>ILE</td>\n",
       "      <td></td>\n",
       "      <td>A</td>\n",
       "      <td>297</td>\n",
       "      <td></td>\n",
       "      <td>...</td>\n",
       "      <td>-1.741</td>\n",
       "      <td>24.057</td>\n",
       "      <td>-26.252</td>\n",
       "      <td>1.0</td>\n",
       "      <td>78.01</td>\n",
       "      <td></td>\n",
       "      <td></td>\n",
       "      <td>O</td>\n",
       "      <td>NaN</td>\n",
       "      <td>2446</td>\n",
       "    </tr>\n",
       "  </tbody>\n",
       "</table>\n",
       "<p>2377 rows × 21 columns</p>\n",
       "</div>"
      ],
      "text/plain": [
       "     record_name  atom_number blank_1 atom_name alt_loc residue_name blank_2  \\\n",
       "0           ATOM            1                 N                  MET           \n",
       "1           ATOM            2                CA                  MET           \n",
       "2           ATOM            3                 C                  MET           \n",
       "3           ATOM            4                CB                  MET           \n",
       "4           ATOM            5                 O                  MET           \n",
       "...          ...          ...     ...       ...     ...          ...     ...   \n",
       "2372        ATOM         2373                 O                  ILE           \n",
       "2373        ATOM         2374               CG1                  ILE           \n",
       "2374        ATOM         2375               CG2                  ILE           \n",
       "2375        ATOM         2376               CD1                  ILE           \n",
       "2376        ATOM         2377               OXT                  ILE           \n",
       "\n",
       "     chain_id  residue_number insertion  ... x_coord  y_coord  z_coord  \\\n",
       "0           A               1            ...  50.382   -9.024  -50.566   \n",
       "1           A               1            ...  50.276   -7.868  -51.476   \n",
       "2           A               1            ...  49.309   -6.908  -50.793   \n",
       "3           A               1            ...  49.838   -8.362  -52.871   \n",
       "4           A               1            ...  48.126   -7.209  -50.783   \n",
       "...       ...             ...       ...  ...     ...      ...      ...   \n",
       "2372        A             297            ...  -0.792   25.811  -25.379   \n",
       "2373        A             297            ...  -3.634   24.414  -22.032   \n",
       "2374        A             297            ...  -1.337   25.379  -22.401   \n",
       "2375        A             297            ...  -3.337   23.661  -20.729   \n",
       "2376        A             297            ...  -1.741   24.057  -26.252   \n",
       "\n",
       "      occupancy  b_factor  blank_4 segment_id element_symbol charge  line_idx  \n",
       "0           1.0     35.97                                  N    NaN        70  \n",
       "1           1.0     35.97                                  C    NaN        71  \n",
       "2           1.0     35.97                                  C    NaN        72  \n",
       "3           1.0     35.97                                  C    NaN        73  \n",
       "4           1.0     35.97                                  O    NaN        74  \n",
       "...         ...       ...      ...        ...            ...    ...       ...  \n",
       "2372        1.0     78.01                                  O    NaN      2442  \n",
       "2373        1.0     78.01                                  C    NaN      2443  \n",
       "2374        1.0     78.01                                  C    NaN      2444  \n",
       "2375        1.0     78.01                                  C    NaN      2445  \n",
       "2376        1.0     78.01                                  O    NaN      2446  \n",
       "\n",
       "[2377 rows x 21 columns]"
      ]
     },
     "execution_count": 4,
     "metadata": {},
     "output_type": "execute_result"
    }
   ],
   "source": [
    "target_df = target_pdb.df['ATOM']\n",
    "target_df"
   ]
  },
  {
   "cell_type": "code",
   "execution_count": 55,
   "id": "99d081a3",
   "metadata": {},
   "outputs": [
    {
     "data": {
      "text/plain": [
       "record_name          1\n",
       "atom_number       2377\n",
       "blank_1              1\n",
       "atom_name           37\n",
       "alt_loc              1\n",
       "residue_name        20\n",
       "blank_2              1\n",
       "chain_id             1\n",
       "residue_number     297\n",
       "insertion            1\n",
       "blank_3              1\n",
       "x_coord           2321\n",
       "y_coord           2306\n",
       "z_coord           2318\n",
       "occupancy            1\n",
       "b_factor           273\n",
       "blank_4              1\n",
       "segment_id           1\n",
       "element_symbol       4\n",
       "charge               0\n",
       "line_idx          2377\n",
       "dtype: int64"
      ]
     },
     "execution_count": 55,
     "metadata": {},
     "output_type": "execute_result"
    }
   ],
   "source": [
    "target_df.nunique()"
   ]
  },
  {
   "cell_type": "code",
   "execution_count": 61,
   "id": "f9b57f5d",
   "metadata": {},
   "outputs": [
    {
     "data": {
      "text/plain": [
       "record_name        object\n",
       "atom_number         int32\n",
       "blank_1            object\n",
       "atom_name          object\n",
       "alt_loc            object\n",
       "residue_name       object\n",
       "blank_2            object\n",
       "chain_id           object\n",
       "residue_number      int32\n",
       "insertion          object\n",
       "blank_3            object\n",
       "x_coord           float64\n",
       "y_coord           float64\n",
       "z_coord           float64\n",
       "occupancy         float64\n",
       "b_factor          float64\n",
       "blank_4            object\n",
       "segment_id         object\n",
       "element_symbol     object\n",
       "charge            float64\n",
       "line_idx            int64\n",
       "dtype: object"
      ]
     },
     "execution_count": 61,
     "metadata": {},
     "output_type": "execute_result"
    }
   ],
   "source": [
    "target_df.dtypes"
   ]
  },
  {
   "cell_type": "markdown",
   "id": "bfc851ad",
   "metadata": {},
   "source": [
    "# 2. Truncate target protein\n",
    "## low pLDDT: 1-22\n",
    "## transmembrane: 36-56, 85-105, 116-135, 179-199, 215-235, 268-289\n",
    "## https://alphafold.ebi.ac.uk/entry/Q9H1U9\n",
    "## https://www.uniprot.org/uniprotkb/Q9H1U9/entry#subcellular_location"
   ]
  },
  {
   "cell_type": "code",
   "execution_count": 32,
   "id": "6e64fbcc",
   "metadata": {},
   "outputs": [],
   "source": [
    "truncating_ids = list(range(1,23))+list(range(36,57))+list(range(85,106))+list(range(116,136))+list(range(179,200))+list(range(215,236))+list(range(268,290))"
   ]
  },
  {
   "cell_type": "code",
   "execution_count": 56,
   "id": "e922de72",
   "metadata": {},
   "outputs": [
    {
     "data": {
      "text/plain": [
       "149"
      ]
     },
     "execution_count": 56,
     "metadata": {},
     "output_type": "execute_result"
    }
   ],
   "source": [
    "297 - 148"
   ]
  },
  {
   "cell_type": "code",
   "execution_count": 54,
   "id": "9cb12c1e",
   "metadata": {},
   "outputs": [
    {
     "data": {
      "text/plain": [
       "148"
      ]
     },
     "execution_count": 54,
     "metadata": {},
     "output_type": "execute_result"
    }
   ],
   "source": [
    "len(truncating_ids)"
   ]
  },
  {
   "cell_type": "code",
   "execution_count": 33,
   "id": "53108717",
   "metadata": {},
   "outputs": [],
   "source": [
    "residue_remove(pdbfile=\"./target/AF-Q9H1U9-F1-model_v4.pdb\", \n",
    "               remove_ids=truncating_ids, \n",
    "               outputName=\"./target/truncation.pdb\")"
   ]
  },
  {
   "cell_type": "code",
   "execution_count": 34,
   "id": "f2086631",
   "metadata": {},
   "outputs": [
    {
     "data": {
      "text/html": [
       "<div>\n",
       "<style scoped>\n",
       "    .dataframe tbody tr th:only-of-type {\n",
       "        vertical-align: middle;\n",
       "    }\n",
       "\n",
       "    .dataframe tbody tr th {\n",
       "        vertical-align: top;\n",
       "    }\n",
       "\n",
       "    .dataframe thead th {\n",
       "        text-align: right;\n",
       "    }\n",
       "</style>\n",
       "<table border=\"1\" class=\"dataframe\">\n",
       "  <thead>\n",
       "    <tr style=\"text-align: right;\">\n",
       "      <th></th>\n",
       "      <th>atom_name</th>\n",
       "      <th>residue_name</th>\n",
       "      <th>residue_number</th>\n",
       "      <th>x_coord</th>\n",
       "      <th>y_coord</th>\n",
       "      <th>z_coord</th>\n",
       "    </tr>\n",
       "  </thead>\n",
       "  <tbody>\n",
       "    <tr>\n",
       "      <th>0</th>\n",
       "      <td>N</td>\n",
       "      <td>PRO</td>\n",
       "      <td>23</td>\n",
       "      <td>16.691</td>\n",
       "      <td>28.716</td>\n",
       "      <td>-21.862</td>\n",
       "    </tr>\n",
       "    <tr>\n",
       "      <th>1</th>\n",
       "      <td>CA</td>\n",
       "      <td>PRO</td>\n",
       "      <td>23</td>\n",
       "      <td>16.179</td>\n",
       "      <td>28.381</td>\n",
       "      <td>-20.521</td>\n",
       "    </tr>\n",
       "    <tr>\n",
       "      <th>2</th>\n",
       "      <td>C</td>\n",
       "      <td>PRO</td>\n",
       "      <td>23</td>\n",
       "      <td>14.687</td>\n",
       "      <td>28.705</td>\n",
       "      <td>-20.310</td>\n",
       "    </tr>\n",
       "    <tr>\n",
       "      <th>3</th>\n",
       "      <td>CB</td>\n",
       "      <td>PRO</td>\n",
       "      <td>23</td>\n",
       "      <td>17.085</td>\n",
       "      <td>29.147</td>\n",
       "      <td>-19.554</td>\n",
       "    </tr>\n",
       "    <tr>\n",
       "      <th>4</th>\n",
       "      <td>O</td>\n",
       "      <td>PRO</td>\n",
       "      <td>23</td>\n",
       "      <td>14.032</td>\n",
       "      <td>28.086</td>\n",
       "      <td>-19.476</td>\n",
       "    </tr>\n",
       "    <tr>\n",
       "      <th>...</th>\n",
       "      <td>...</td>\n",
       "      <td>...</td>\n",
       "      <td>...</td>\n",
       "      <td>...</td>\n",
       "      <td>...</td>\n",
       "      <td>...</td>\n",
       "    </tr>\n",
       "    <tr>\n",
       "      <th>1236</th>\n",
       "      <td>O</td>\n",
       "      <td>ILE</td>\n",
       "      <td>297</td>\n",
       "      <td>-0.792</td>\n",
       "      <td>25.811</td>\n",
       "      <td>-25.379</td>\n",
       "    </tr>\n",
       "    <tr>\n",
       "      <th>1237</th>\n",
       "      <td>CG1</td>\n",
       "      <td>ILE</td>\n",
       "      <td>297</td>\n",
       "      <td>-3.634</td>\n",
       "      <td>24.414</td>\n",
       "      <td>-22.032</td>\n",
       "    </tr>\n",
       "    <tr>\n",
       "      <th>1238</th>\n",
       "      <td>CG2</td>\n",
       "      <td>ILE</td>\n",
       "      <td>297</td>\n",
       "      <td>-1.337</td>\n",
       "      <td>25.379</td>\n",
       "      <td>-22.401</td>\n",
       "    </tr>\n",
       "    <tr>\n",
       "      <th>1239</th>\n",
       "      <td>CD1</td>\n",
       "      <td>ILE</td>\n",
       "      <td>297</td>\n",
       "      <td>-3.337</td>\n",
       "      <td>23.661</td>\n",
       "      <td>-20.729</td>\n",
       "    </tr>\n",
       "    <tr>\n",
       "      <th>1240</th>\n",
       "      <td>OXT</td>\n",
       "      <td>ILE</td>\n",
       "      <td>297</td>\n",
       "      <td>-1.741</td>\n",
       "      <td>24.057</td>\n",
       "      <td>-26.252</td>\n",
       "    </tr>\n",
       "  </tbody>\n",
       "</table>\n",
       "<p>1241 rows × 6 columns</p>\n",
       "</div>"
      ],
      "text/plain": [
       "     atom_name residue_name  residue_number  x_coord  y_coord  z_coord\n",
       "0            N          PRO              23   16.691   28.716  -21.862\n",
       "1           CA          PRO              23   16.179   28.381  -20.521\n",
       "2            C          PRO              23   14.687   28.705  -20.310\n",
       "3           CB          PRO              23   17.085   29.147  -19.554\n",
       "4            O          PRO              23   14.032   28.086  -19.476\n",
       "...        ...          ...             ...      ...      ...      ...\n",
       "1236         O          ILE             297   -0.792   25.811  -25.379\n",
       "1237       CG1          ILE             297   -3.634   24.414  -22.032\n",
       "1238       CG2          ILE             297   -1.337   25.379  -22.401\n",
       "1239       CD1          ILE             297   -3.337   23.661  -20.729\n",
       "1240       OXT          ILE             297   -1.741   24.057  -26.252\n",
       "\n",
       "[1241 rows x 6 columns]"
      ]
     },
     "execution_count": 34,
     "metadata": {},
     "output_type": "execute_result"
    }
   ],
   "source": [
    "truncation = PandasPdb().read_pdb(\"./target/truncation.pdb\")\n",
    "cols = [\"atom_name\", \"residue_name\", \"residue_number\", \"x_coord\", \"y_coord\", \"z_coord\"]\n",
    "df = truncation.df[\"ATOM\"][cols]\n",
    "df"
   ]
  },
  {
   "cell_type": "code",
   "execution_count": 57,
   "id": "6ea4ba5a",
   "metadata": {},
   "outputs": [
    {
     "data": {
      "text/plain": [
       "149"
      ]
     },
     "execution_count": 57,
     "metadata": {},
     "output_type": "execute_result"
    }
   ],
   "source": [
    "len(set(df['residue_number'].tolist()))"
   ]
  },
  {
   "cell_type": "code",
   "execution_count": 68,
   "id": "6dbcf8f4",
   "metadata": {},
   "outputs": [
    {
     "name": "stdout",
     "output_type": "stream",
     "text": [
      "29\n",
      "62\n",
      "76\n",
      "83\n",
      "168\n",
      "170\n",
      "175\n",
      "244\n",
      "245\n",
      "i= 9\n"
     ]
    }
   ],
   "source": [
    "# check: whether each resnum has one CB\n",
    "resnum = list(set(df['residue_number'].tolist()))\n",
    "CB_nan = []\n",
    "i = 0\n",
    "for res in resnum:\n",
    "    sub_df = df[df[\"residue_number\"]==res]\n",
    "    if \"CB\" in sub_df[\"atom_name\"].tolist():\n",
    "        pass\n",
    "    else:\n",
    "        i += 1\n",
    "        CB_nan.append(res)\n",
    "        print(res)\n",
    "print(\"i=\", i)"
   ]
  },
  {
   "cell_type": "code",
   "execution_count": null,
   "id": "93555814",
   "metadata": {},
   "outputs": [],
   "source": []
  },
  {
   "cell_type": "code",
   "execution_count": null,
   "id": "abca3733",
   "metadata": {},
   "outputs": [],
   "source": []
  },
  {
   "cell_type": "markdown",
   "id": "8916c167",
   "metadata": {},
   "source": [
    "# 2. Visualize $fig$ truncation.pdb with only $C_{\\beta}$ ATOM"
   ]
  },
  {
   "cell_type": "code",
   "execution_count": 35,
   "id": "641bd491",
   "metadata": {},
   "outputs": [],
   "source": [
    "df_CB = df[df[\"atom_name\"]==\"CB\"]"
   ]
  },
  {
   "cell_type": "code",
   "execution_count": 50,
   "id": "3fed71ea",
   "metadata": {},
   "outputs": [
    {
     "data": {
      "text/plain": [
       "140"
      ]
     },
     "execution_count": 50,
     "metadata": {},
     "output_type": "execute_result"
    }
   ],
   "source": [
    "len(set(df_CB['residue_number'].tolist()))"
   ]
  },
  {
   "cell_type": "code",
   "execution_count": 36,
   "id": "94ea9b78",
   "metadata": {},
   "outputs": [
    {
     "data": {
      "application/vnd.plotly.v1+json": {
       "config": {
        "plotlyServerURL": "https://plot.ly"
       },
       "data": [
        {
         "marker": {
          "size": 10
         },
         "mode": "markers",
         "type": "scatter3d",
         "x": [
          17.085,
          12.505,
          11.779,
          13.504,
          11.041,
          7.024,
          8.863,
          5.113,
          2.711,
          4.251,
          3.567,
          -0.753,
          -19.548,
          -17.363,
          -12.863,
          -15.576,
          -19.833,
          -22.148,
          -23.533,
          -21.683,
          -27,
          -25.827,
          -21.878,
          -25.414,
          -29.131,
          -25.349,
          -23.937,
          -29.249,
          -29.933,
          -25.405,
          -27.122,
          -25.429,
          -23.462,
          -22.422,
          -18.727,
          -19.023,
          -13.981,
          18.5,
          21.394,
          21.461,
          21.727,
          24.717,
          26.869,
          26.897,
          26.298,
          31.134,
          28.049,
          -0.362,
          -2.459,
          -4.346,
          -4.86,
          -6.081,
          -8.904,
          -9.67,
          -10.51,
          -12.809,
          -14.682,
          -15.344,
          -16.829,
          -22.79,
          -20.038,
          -17.62,
          -22.697,
          -24.109,
          -18.879,
          -16.587,
          -19.868,
          -15.713,
          -11.078,
          -11.426,
          -15.113,
          -12.352,
          -7.894,
          -10.757,
          -12.807,
          -7.923,
          -6.402,
          -10.05,
          -7.99,
          0.29,
          -5.619,
          -2.679,
          0.372,
          -4.922,
          1.429,
          1.633,
          -1.973,
          9.631,
          8.54,
          9.114,
          14.266,
          10.33,
          12.613,
          8.15,
          7.471,
          3.723,
          7.472,
          8.858,
          3.543,
          3.001,
          7.657,
          6.237,
          -5.354,
          -10.43,
          -11.126,
          -6.671,
          -7.993,
          -13.269,
          -11.269,
          -12.656,
          -7.086,
          -3.267,
          -7.121,
          -2.127,
          -1.945,
          -2.725,
          -6.327,
          -7.969,
          -6.429,
          -8.608,
          -12.201,
          -11.974,
          -11.119,
          -14.894,
          -17.113,
          -15.86,
          -19.258,
          -14.25,
          -16.204,
          -10.963,
          -15.66,
          -16.73,
          -3.048,
          -4.532,
          -8.407,
          -5.104,
          -1.227,
          -4.821,
          -7.003,
          -2.436
         ],
         "y": [
          29.147,
          31.513,
          27.657,
          24.063,
          27.148,
          27.884,
          21.706,
          25.341,
          23.394,
          18.522,
          20.605,
          23.104,
          0.117,
          -4.088,
          -2.928,
          -1.252,
          -4.008,
          -5.547,
          -8.078,
          -4.406,
          -5.039,
          -4.758,
          -1.453,
          0.629,
          -0.536,
          1.14,
          4.589,
          4.95,
          4.547,
          7.654,
          13.379,
          15.878,
          11.196,
          10.955,
          14.34,
          12.667,
          13.947,
          11.449,
          15.428,
          12.74,
          8.288,
          10.963,
          13.21,
          8.996,
          5.075,
          5.503,
          1.344,
          6.828,
          11.587,
          12.173,
          6.76,
          7.568,
          11.937,
          9.034,
          4.961,
          8.303,
          11.152,
          6.512,
          4.426,
          4.811,
          3.48,
          7.986,
          9.515,
          10.518,
          10.692,
          13.4,
          17.434,
          18.835,
          16.832,
          20.514,
          17.476,
          13.326,
          16.291,
          18.257,
          13.403,
          11.473,
          15.787,
          13.646,
          8.947,
          11.805,
          7.821,
          10.314,
          6.262,
          3.598,
          2.888,
          -2.485,
          -3.515,
          -15.979,
          -11.328,
          -12.678,
          -10.255,
          -5.888,
          -6.65,
          -3.883,
          0.908,
          -2.988,
          -6.306,
          -1.919,
          -1.073,
          -6.404,
          -6.659,
          -2.102,
          -1.738,
          -0.903,
          -3.97,
          -1.646,
          2.651,
          1.385,
          0.594,
          6.182,
          -2.624,
          -0.58,
          -4.709,
          -7.598,
          -7.466,
          -12.217,
          -9.699,
          -6.923,
          -11.294,
          -14.18,
          -10.195,
          -9.804,
          -15.127,
          -15.29,
          -10.996,
          -13.081,
          -17.607,
          -19.722,
          -18.073,
          -17.682,
          -16.372,
          -13.813,
          13.904,
          13.655,
          17.019,
          19.547,
          18.292,
          19.749,
          23.205,
          24.489
         ],
         "z": [
          -19.554,
          -21.284,
          -25.057,
          -21.142,
          -17.728,
          -21.446,
          -17.761,
          -16.718,
          -21.24,
          -19.685,
          -14.724,
          -16.417,
          -0.729,
          -3.22,
          -0.537,
          3.533,
          3.599,
          -0.073,
          -4.681,
          -8.145,
          -7.079,
          -1.913,
          -3.412,
          -6.954,
          -3.178,
          0.382,
          -3.263,
          -4.489,
          0.936,
          1.138,
          -5.204,
          -0.611,
          0.891,
          -4.891,
          -4.59,
          1.027,
          -4.079,
          -8.501,
          -6.456,
          -1.872,
          -4.881,
          -8.408,
          -3.998,
          -1.128,
          -4.283,
          -7.956,
          -7.066,
          5.557,
          7.284,
          2.22,
          2.268,
          7.267,
          6.019,
          1.345,
          4.564,
          7.991,
          3.936,
          1.219,
          6.123,
          5.267,
          9.965,
          9.443,
          6.647,
          11.755,
          13.003,
          9.538,
          7.362,
          5.566,
          4.281,
          8.147,
          10.611,
          8.683,
          9.88,
          13.893,
          14.523,
          13.112,
          16.2,
          19.59,
          18.553,
          16.185,
          15.09,
          11.08,
          10.843,
          11.93,
          8.22,
          9.236,
          5.419,
          -21.48,
          -24.469,
          -29.746,
          -29.899,
          -29.445,
          -34.949,
          -35.371,
          -33.177,
          -33.536,
          -31.594,
          -28.479,
          -28.168,
          -28.127,
          -25.452,
          -22.979,
          3.44,
          2.884,
          7.312,
          9.258,
          6.436,
          7.98,
          13.004,
          14.467,
          20.43,
          16.904,
          14.72,
          14.543,
          9.137,
          11.595,
          14.697,
          10.416,
          7.535,
          11.471,
          11.865,
          6.523,
          6.78,
          10.493,
          8.111,
          3.503,
          3.887,
          5.362,
          0.034,
          -2.362,
          -4.713,
          -0.102,
          -21.003,
          -26.076,
          -24.753,
          -21.49,
          -25.069,
          -28.811,
          -25.432,
          -23.013
         ]
        }
       ],
       "layout": {
        "height": 1100,
        "margin": {
         "b": 0,
         "l": 0,
         "r": 0,
         "t": 0
        },
        "scene": {
         "xaxis": {
          "title": {
           "text": "x coord"
          }
         },
         "yaxis": {
          "title": {
           "text": "y coord"
          }
         },
         "zaxis": {
          "title": {
           "text": "z coord"
          }
         }
        },
        "template": {
         "data": {
          "bar": [
           {
            "error_x": {
             "color": "#2a3f5f"
            },
            "error_y": {
             "color": "#2a3f5f"
            },
            "marker": {
             "line": {
              "color": "#E5ECF6",
              "width": 0.5
             },
             "pattern": {
              "fillmode": "overlay",
              "size": 10,
              "solidity": 0.2
             }
            },
            "type": "bar"
           }
          ],
          "barpolar": [
           {
            "marker": {
             "line": {
              "color": "#E5ECF6",
              "width": 0.5
             },
             "pattern": {
              "fillmode": "overlay",
              "size": 10,
              "solidity": 0.2
             }
            },
            "type": "barpolar"
           }
          ],
          "carpet": [
           {
            "aaxis": {
             "endlinecolor": "#2a3f5f",
             "gridcolor": "white",
             "linecolor": "white",
             "minorgridcolor": "white",
             "startlinecolor": "#2a3f5f"
            },
            "baxis": {
             "endlinecolor": "#2a3f5f",
             "gridcolor": "white",
             "linecolor": "white",
             "minorgridcolor": "white",
             "startlinecolor": "#2a3f5f"
            },
            "type": "carpet"
           }
          ],
          "choropleth": [
           {
            "colorbar": {
             "outlinewidth": 0,
             "ticks": ""
            },
            "type": "choropleth"
           }
          ],
          "contour": [
           {
            "colorbar": {
             "outlinewidth": 0,
             "ticks": ""
            },
            "colorscale": [
             [
              0,
              "#0d0887"
             ],
             [
              0.1111111111111111,
              "#46039f"
             ],
             [
              0.2222222222222222,
              "#7201a8"
             ],
             [
              0.3333333333333333,
              "#9c179e"
             ],
             [
              0.4444444444444444,
              "#bd3786"
             ],
             [
              0.5555555555555556,
              "#d8576b"
             ],
             [
              0.6666666666666666,
              "#ed7953"
             ],
             [
              0.7777777777777778,
              "#fb9f3a"
             ],
             [
              0.8888888888888888,
              "#fdca26"
             ],
             [
              1,
              "#f0f921"
             ]
            ],
            "type": "contour"
           }
          ],
          "contourcarpet": [
           {
            "colorbar": {
             "outlinewidth": 0,
             "ticks": ""
            },
            "type": "contourcarpet"
           }
          ],
          "heatmap": [
           {
            "colorbar": {
             "outlinewidth": 0,
             "ticks": ""
            },
            "colorscale": [
             [
              0,
              "#0d0887"
             ],
             [
              0.1111111111111111,
              "#46039f"
             ],
             [
              0.2222222222222222,
              "#7201a8"
             ],
             [
              0.3333333333333333,
              "#9c179e"
             ],
             [
              0.4444444444444444,
              "#bd3786"
             ],
             [
              0.5555555555555556,
              "#d8576b"
             ],
             [
              0.6666666666666666,
              "#ed7953"
             ],
             [
              0.7777777777777778,
              "#fb9f3a"
             ],
             [
              0.8888888888888888,
              "#fdca26"
             ],
             [
              1,
              "#f0f921"
             ]
            ],
            "type": "heatmap"
           }
          ],
          "heatmapgl": [
           {
            "colorbar": {
             "outlinewidth": 0,
             "ticks": ""
            },
            "colorscale": [
             [
              0,
              "#0d0887"
             ],
             [
              0.1111111111111111,
              "#46039f"
             ],
             [
              0.2222222222222222,
              "#7201a8"
             ],
             [
              0.3333333333333333,
              "#9c179e"
             ],
             [
              0.4444444444444444,
              "#bd3786"
             ],
             [
              0.5555555555555556,
              "#d8576b"
             ],
             [
              0.6666666666666666,
              "#ed7953"
             ],
             [
              0.7777777777777778,
              "#fb9f3a"
             ],
             [
              0.8888888888888888,
              "#fdca26"
             ],
             [
              1,
              "#f0f921"
             ]
            ],
            "type": "heatmapgl"
           }
          ],
          "histogram": [
           {
            "marker": {
             "pattern": {
              "fillmode": "overlay",
              "size": 10,
              "solidity": 0.2
             }
            },
            "type": "histogram"
           }
          ],
          "histogram2d": [
           {
            "colorbar": {
             "outlinewidth": 0,
             "ticks": ""
            },
            "colorscale": [
             [
              0,
              "#0d0887"
             ],
             [
              0.1111111111111111,
              "#46039f"
             ],
             [
              0.2222222222222222,
              "#7201a8"
             ],
             [
              0.3333333333333333,
              "#9c179e"
             ],
             [
              0.4444444444444444,
              "#bd3786"
             ],
             [
              0.5555555555555556,
              "#d8576b"
             ],
             [
              0.6666666666666666,
              "#ed7953"
             ],
             [
              0.7777777777777778,
              "#fb9f3a"
             ],
             [
              0.8888888888888888,
              "#fdca26"
             ],
             [
              1,
              "#f0f921"
             ]
            ],
            "type": "histogram2d"
           }
          ],
          "histogram2dcontour": [
           {
            "colorbar": {
             "outlinewidth": 0,
             "ticks": ""
            },
            "colorscale": [
             [
              0,
              "#0d0887"
             ],
             [
              0.1111111111111111,
              "#46039f"
             ],
             [
              0.2222222222222222,
              "#7201a8"
             ],
             [
              0.3333333333333333,
              "#9c179e"
             ],
             [
              0.4444444444444444,
              "#bd3786"
             ],
             [
              0.5555555555555556,
              "#d8576b"
             ],
             [
              0.6666666666666666,
              "#ed7953"
             ],
             [
              0.7777777777777778,
              "#fb9f3a"
             ],
             [
              0.8888888888888888,
              "#fdca26"
             ],
             [
              1,
              "#f0f921"
             ]
            ],
            "type": "histogram2dcontour"
           }
          ],
          "mesh3d": [
           {
            "colorbar": {
             "outlinewidth": 0,
             "ticks": ""
            },
            "type": "mesh3d"
           }
          ],
          "parcoords": [
           {
            "line": {
             "colorbar": {
              "outlinewidth": 0,
              "ticks": ""
             }
            },
            "type": "parcoords"
           }
          ],
          "pie": [
           {
            "automargin": true,
            "type": "pie"
           }
          ],
          "scatter": [
           {
            "fillpattern": {
             "fillmode": "overlay",
             "size": 10,
             "solidity": 0.2
            },
            "type": "scatter"
           }
          ],
          "scatter3d": [
           {
            "line": {
             "colorbar": {
              "outlinewidth": 0,
              "ticks": ""
             }
            },
            "marker": {
             "colorbar": {
              "outlinewidth": 0,
              "ticks": ""
             }
            },
            "type": "scatter3d"
           }
          ],
          "scattercarpet": [
           {
            "marker": {
             "colorbar": {
              "outlinewidth": 0,
              "ticks": ""
             }
            },
            "type": "scattercarpet"
           }
          ],
          "scattergeo": [
           {
            "marker": {
             "colorbar": {
              "outlinewidth": 0,
              "ticks": ""
             }
            },
            "type": "scattergeo"
           }
          ],
          "scattergl": [
           {
            "marker": {
             "colorbar": {
              "outlinewidth": 0,
              "ticks": ""
             }
            },
            "type": "scattergl"
           }
          ],
          "scattermapbox": [
           {
            "marker": {
             "colorbar": {
              "outlinewidth": 0,
              "ticks": ""
             }
            },
            "type": "scattermapbox"
           }
          ],
          "scatterpolar": [
           {
            "marker": {
             "colorbar": {
              "outlinewidth": 0,
              "ticks": ""
             }
            },
            "type": "scatterpolar"
           }
          ],
          "scatterpolargl": [
           {
            "marker": {
             "colorbar": {
              "outlinewidth": 0,
              "ticks": ""
             }
            },
            "type": "scatterpolargl"
           }
          ],
          "scatterternary": [
           {
            "marker": {
             "colorbar": {
              "outlinewidth": 0,
              "ticks": ""
             }
            },
            "type": "scatterternary"
           }
          ],
          "surface": [
           {
            "colorbar": {
             "outlinewidth": 0,
             "ticks": ""
            },
            "colorscale": [
             [
              0,
              "#0d0887"
             ],
             [
              0.1111111111111111,
              "#46039f"
             ],
             [
              0.2222222222222222,
              "#7201a8"
             ],
             [
              0.3333333333333333,
              "#9c179e"
             ],
             [
              0.4444444444444444,
              "#bd3786"
             ],
             [
              0.5555555555555556,
              "#d8576b"
             ],
             [
              0.6666666666666666,
              "#ed7953"
             ],
             [
              0.7777777777777778,
              "#fb9f3a"
             ],
             [
              0.8888888888888888,
              "#fdca26"
             ],
             [
              1,
              "#f0f921"
             ]
            ],
            "type": "surface"
           }
          ],
          "table": [
           {
            "cells": {
             "fill": {
              "color": "#EBF0F8"
             },
             "line": {
              "color": "white"
             }
            },
            "header": {
             "fill": {
              "color": "#C8D4E3"
             },
             "line": {
              "color": "white"
             }
            },
            "type": "table"
           }
          ]
         },
         "layout": {
          "annotationdefaults": {
           "arrowcolor": "#2a3f5f",
           "arrowhead": 0,
           "arrowwidth": 1
          },
          "autotypenumbers": "strict",
          "coloraxis": {
           "colorbar": {
            "outlinewidth": 0,
            "ticks": ""
           }
          },
          "colorscale": {
           "diverging": [
            [
             0,
             "#8e0152"
            ],
            [
             0.1,
             "#c51b7d"
            ],
            [
             0.2,
             "#de77ae"
            ],
            [
             0.3,
             "#f1b6da"
            ],
            [
             0.4,
             "#fde0ef"
            ],
            [
             0.5,
             "#f7f7f7"
            ],
            [
             0.6,
             "#e6f5d0"
            ],
            [
             0.7,
             "#b8e186"
            ],
            [
             0.8,
             "#7fbc41"
            ],
            [
             0.9,
             "#4d9221"
            ],
            [
             1,
             "#276419"
            ]
           ],
           "sequential": [
            [
             0,
             "#0d0887"
            ],
            [
             0.1111111111111111,
             "#46039f"
            ],
            [
             0.2222222222222222,
             "#7201a8"
            ],
            [
             0.3333333333333333,
             "#9c179e"
            ],
            [
             0.4444444444444444,
             "#bd3786"
            ],
            [
             0.5555555555555556,
             "#d8576b"
            ],
            [
             0.6666666666666666,
             "#ed7953"
            ],
            [
             0.7777777777777778,
             "#fb9f3a"
            ],
            [
             0.8888888888888888,
             "#fdca26"
            ],
            [
             1,
             "#f0f921"
            ]
           ],
           "sequentialminus": [
            [
             0,
             "#0d0887"
            ],
            [
             0.1111111111111111,
             "#46039f"
            ],
            [
             0.2222222222222222,
             "#7201a8"
            ],
            [
             0.3333333333333333,
             "#9c179e"
            ],
            [
             0.4444444444444444,
             "#bd3786"
            ],
            [
             0.5555555555555556,
             "#d8576b"
            ],
            [
             0.6666666666666666,
             "#ed7953"
            ],
            [
             0.7777777777777778,
             "#fb9f3a"
            ],
            [
             0.8888888888888888,
             "#fdca26"
            ],
            [
             1,
             "#f0f921"
            ]
           ]
          },
          "colorway": [
           "#636efa",
           "#EF553B",
           "#00cc96",
           "#ab63fa",
           "#FFA15A",
           "#19d3f3",
           "#FF6692",
           "#B6E880",
           "#FF97FF",
           "#FECB52"
          ],
          "font": {
           "color": "#2a3f5f"
          },
          "geo": {
           "bgcolor": "white",
           "lakecolor": "white",
           "landcolor": "#E5ECF6",
           "showlakes": true,
           "showland": true,
           "subunitcolor": "white"
          },
          "hoverlabel": {
           "align": "left"
          },
          "hovermode": "closest",
          "mapbox": {
           "style": "light"
          },
          "paper_bgcolor": "white",
          "plot_bgcolor": "#E5ECF6",
          "polar": {
           "angularaxis": {
            "gridcolor": "white",
            "linecolor": "white",
            "ticks": ""
           },
           "bgcolor": "#E5ECF6",
           "radialaxis": {
            "gridcolor": "white",
            "linecolor": "white",
            "ticks": ""
           }
          },
          "scene": {
           "xaxis": {
            "backgroundcolor": "#E5ECF6",
            "gridcolor": "white",
            "gridwidth": 2,
            "linecolor": "white",
            "showbackground": true,
            "ticks": "",
            "zerolinecolor": "white"
           },
           "yaxis": {
            "backgroundcolor": "#E5ECF6",
            "gridcolor": "white",
            "gridwidth": 2,
            "linecolor": "white",
            "showbackground": true,
            "ticks": "",
            "zerolinecolor": "white"
           },
           "zaxis": {
            "backgroundcolor": "#E5ECF6",
            "gridcolor": "white",
            "gridwidth": 2,
            "linecolor": "white",
            "showbackground": true,
            "ticks": "",
            "zerolinecolor": "white"
           }
          },
          "shapedefaults": {
           "line": {
            "color": "#2a3f5f"
           }
          },
          "ternary": {
           "aaxis": {
            "gridcolor": "white",
            "linecolor": "white",
            "ticks": ""
           },
           "baxis": {
            "gridcolor": "white",
            "linecolor": "white",
            "ticks": ""
           },
           "bgcolor": "#E5ECF6",
           "caxis": {
            "gridcolor": "white",
            "linecolor": "white",
            "ticks": ""
           }
          },
          "title": {
           "x": 0.05
          },
          "xaxis": {
           "automargin": true,
           "gridcolor": "white",
           "linecolor": "white",
           "ticks": "",
           "title": {
            "standoff": 15
           },
           "zerolinecolor": "white",
           "zerolinewidth": 2
          },
          "yaxis": {
           "automargin": true,
           "gridcolor": "white",
           "linecolor": "white",
           "ticks": "",
           "title": {
            "standoff": 15
           },
           "zerolinecolor": "white",
           "zerolinewidth": 2
          }
         }
        },
        "width": 1100
       }
      },
      "text/html": [
       "<div>                            <div id=\"8bcdef18-9c34-41a3-b4a3-aec565df0d92\" class=\"plotly-graph-div\" style=\"height:1100px; width:1100px;\"></div>            <script type=\"text/javascript\">                require([\"plotly\"], function(Plotly) {                    window.PLOTLYENV=window.PLOTLYENV || {};                                    if (document.getElementById(\"8bcdef18-9c34-41a3-b4a3-aec565df0d92\")) {                    Plotly.newPlot(                        \"8bcdef18-9c34-41a3-b4a3-aec565df0d92\",                        [{\"mode\":\"markers\",\"x\":[17.085,12.505,11.779,13.504,11.041,7.024,8.863,5.113,2.711,4.251,3.567,-0.753,-19.548,-17.363,-12.863,-15.576,-19.833,-22.148,-23.533,-21.683,-27.0,-25.827,-21.878,-25.414,-29.131,-25.349,-23.937,-29.249,-29.933,-25.405,-27.122,-25.429,-23.462,-22.422,-18.727,-19.023,-13.981,18.5,21.394,21.461,21.727,24.717,26.869,26.897,26.298,31.134,28.049,-0.362,-2.459,-4.346,-4.86,-6.081,-8.904,-9.67,-10.51,-12.809,-14.682,-15.344,-16.829,-22.79,-20.038,-17.62,-22.697,-24.109,-18.879,-16.587,-19.868,-15.713,-11.078,-11.426,-15.113,-12.352,-7.894,-10.757,-12.807,-7.923,-6.402,-10.05,-7.99,0.29,-5.619,-2.679,0.372,-4.922,1.429,1.633,-1.973,9.631,8.54,9.114,14.266,10.33,12.613,8.15,7.471,3.723,7.472,8.858,3.543,3.001,7.657,6.237,-5.354,-10.43,-11.126,-6.671,-7.993,-13.269,-11.269,-12.656,-7.086,-3.267,-7.121,-2.127,-1.945,-2.725,-6.327,-7.969,-6.429,-8.608,-12.201,-11.974,-11.119,-14.894,-17.113,-15.86,-19.258,-14.25,-16.204,-10.963,-15.66,-16.73,-3.048,-4.532,-8.407,-5.104,-1.227,-4.821,-7.003,-2.436],\"y\":[29.147,31.513,27.657,24.063,27.148,27.884,21.706,25.341,23.394,18.522,20.605,23.104,0.117,-4.088,-2.928,-1.252,-4.008,-5.547,-8.078,-4.406,-5.039,-4.758,-1.453,0.629,-0.536,1.14,4.589,4.95,4.547,7.654,13.379,15.878,11.196,10.955,14.34,12.667,13.947,11.449,15.428,12.74,8.288,10.963,13.21,8.996,5.075,5.503,1.344,6.828,11.587,12.173,6.76,7.568,11.937,9.034,4.961,8.303,11.152,6.512,4.426,4.811,3.48,7.986,9.515,10.518,10.692,13.4,17.434,18.835,16.832,20.514,17.476,13.326,16.291,18.257,13.403,11.473,15.787,13.646,8.947,11.805,7.821,10.314,6.262,3.598,2.888,-2.485,-3.515,-15.979,-11.328,-12.678,-10.255,-5.888,-6.65,-3.883,0.908,-2.988,-6.306,-1.919,-1.073,-6.404,-6.659,-2.102,-1.738,-0.903,-3.97,-1.646,2.651,1.385,0.594,6.182,-2.624,-0.58,-4.709,-7.598,-7.466,-12.217,-9.699,-6.923,-11.294,-14.18,-10.195,-9.804,-15.127,-15.29,-10.996,-13.081,-17.607,-19.722,-18.073,-17.682,-16.372,-13.813,13.904,13.655,17.019,19.547,18.292,19.749,23.205,24.489],\"z\":[-19.554,-21.284,-25.057,-21.142,-17.728,-21.446,-17.761,-16.718,-21.24,-19.685,-14.724,-16.417,-0.729,-3.22,-0.537,3.533,3.599,-0.073,-4.681,-8.145,-7.079,-1.913,-3.412,-6.954,-3.178,0.382,-3.263,-4.489,0.936,1.138,-5.204,-0.611,0.891,-4.891,-4.59,1.027,-4.079,-8.501,-6.456,-1.872,-4.881,-8.408,-3.998,-1.128,-4.283,-7.956,-7.066,5.557,7.284,2.22,2.268,7.267,6.019,1.345,4.564,7.991,3.936,1.219,6.123,5.267,9.965,9.443,6.647,11.755,13.003,9.538,7.362,5.566,4.281,8.147,10.611,8.683,9.88,13.893,14.523,13.112,16.2,19.59,18.553,16.185,15.09,11.08,10.843,11.93,8.22,9.236,5.419,-21.48,-24.469,-29.746,-29.899,-29.445,-34.949,-35.371,-33.177,-33.536,-31.594,-28.479,-28.168,-28.127,-25.452,-22.979,3.44,2.884,7.312,9.258,6.436,7.98,13.004,14.467,20.43,16.904,14.72,14.543,9.137,11.595,14.697,10.416,7.535,11.471,11.865,6.523,6.78,10.493,8.111,3.503,3.887,5.362,0.034,-2.362,-4.713,-0.102,-21.003,-26.076,-24.753,-21.49,-25.069,-28.811,-25.432,-23.013],\"type\":\"scatter3d\",\"marker\":{\"size\":10}}],                        {\"template\":{\"data\":{\"histogram2dcontour\":[{\"type\":\"histogram2dcontour\",\"colorbar\":{\"outlinewidth\":0,\"ticks\":\"\"},\"colorscale\":[[0.0,\"#0d0887\"],[0.1111111111111111,\"#46039f\"],[0.2222222222222222,\"#7201a8\"],[0.3333333333333333,\"#9c179e\"],[0.4444444444444444,\"#bd3786\"],[0.5555555555555556,\"#d8576b\"],[0.6666666666666666,\"#ed7953\"],[0.7777777777777778,\"#fb9f3a\"],[0.8888888888888888,\"#fdca26\"],[1.0,\"#f0f921\"]]}],\"choropleth\":[{\"type\":\"choropleth\",\"colorbar\":{\"outlinewidth\":0,\"ticks\":\"\"}}],\"histogram2d\":[{\"type\":\"histogram2d\",\"colorbar\":{\"outlinewidth\":0,\"ticks\":\"\"},\"colorscale\":[[0.0,\"#0d0887\"],[0.1111111111111111,\"#46039f\"],[0.2222222222222222,\"#7201a8\"],[0.3333333333333333,\"#9c179e\"],[0.4444444444444444,\"#bd3786\"],[0.5555555555555556,\"#d8576b\"],[0.6666666666666666,\"#ed7953\"],[0.7777777777777778,\"#fb9f3a\"],[0.8888888888888888,\"#fdca26\"],[1.0,\"#f0f921\"]]}],\"heatmap\":[{\"type\":\"heatmap\",\"colorbar\":{\"outlinewidth\":0,\"ticks\":\"\"},\"colorscale\":[[0.0,\"#0d0887\"],[0.1111111111111111,\"#46039f\"],[0.2222222222222222,\"#7201a8\"],[0.3333333333333333,\"#9c179e\"],[0.4444444444444444,\"#bd3786\"],[0.5555555555555556,\"#d8576b\"],[0.6666666666666666,\"#ed7953\"],[0.7777777777777778,\"#fb9f3a\"],[0.8888888888888888,\"#fdca26\"],[1.0,\"#f0f921\"]]}],\"heatmapgl\":[{\"type\":\"heatmapgl\",\"colorbar\":{\"outlinewidth\":0,\"ticks\":\"\"},\"colorscale\":[[0.0,\"#0d0887\"],[0.1111111111111111,\"#46039f\"],[0.2222222222222222,\"#7201a8\"],[0.3333333333333333,\"#9c179e\"],[0.4444444444444444,\"#bd3786\"],[0.5555555555555556,\"#d8576b\"],[0.6666666666666666,\"#ed7953\"],[0.7777777777777778,\"#fb9f3a\"],[0.8888888888888888,\"#fdca26\"],[1.0,\"#f0f921\"]]}],\"contourcarpet\":[{\"type\":\"contourcarpet\",\"colorbar\":{\"outlinewidth\":0,\"ticks\":\"\"}}],\"contour\":[{\"type\":\"contour\",\"colorbar\":{\"outlinewidth\":0,\"ticks\":\"\"},\"colorscale\":[[0.0,\"#0d0887\"],[0.1111111111111111,\"#46039f\"],[0.2222222222222222,\"#7201a8\"],[0.3333333333333333,\"#9c179e\"],[0.4444444444444444,\"#bd3786\"],[0.5555555555555556,\"#d8576b\"],[0.6666666666666666,\"#ed7953\"],[0.7777777777777778,\"#fb9f3a\"],[0.8888888888888888,\"#fdca26\"],[1.0,\"#f0f921\"]]}],\"surface\":[{\"type\":\"surface\",\"colorbar\":{\"outlinewidth\":0,\"ticks\":\"\"},\"colorscale\":[[0.0,\"#0d0887\"],[0.1111111111111111,\"#46039f\"],[0.2222222222222222,\"#7201a8\"],[0.3333333333333333,\"#9c179e\"],[0.4444444444444444,\"#bd3786\"],[0.5555555555555556,\"#d8576b\"],[0.6666666666666666,\"#ed7953\"],[0.7777777777777778,\"#fb9f3a\"],[0.8888888888888888,\"#fdca26\"],[1.0,\"#f0f921\"]]}],\"mesh3d\":[{\"type\":\"mesh3d\",\"colorbar\":{\"outlinewidth\":0,\"ticks\":\"\"}}],\"scatter\":[{\"fillpattern\":{\"fillmode\":\"overlay\",\"size\":10,\"solidity\":0.2},\"type\":\"scatter\"}],\"parcoords\":[{\"type\":\"parcoords\",\"line\":{\"colorbar\":{\"outlinewidth\":0,\"ticks\":\"\"}}}],\"scatterpolargl\":[{\"type\":\"scatterpolargl\",\"marker\":{\"colorbar\":{\"outlinewidth\":0,\"ticks\":\"\"}}}],\"bar\":[{\"error_x\":{\"color\":\"#2a3f5f\"},\"error_y\":{\"color\":\"#2a3f5f\"},\"marker\":{\"line\":{\"color\":\"#E5ECF6\",\"width\":0.5},\"pattern\":{\"fillmode\":\"overlay\",\"size\":10,\"solidity\":0.2}},\"type\":\"bar\"}],\"scattergeo\":[{\"type\":\"scattergeo\",\"marker\":{\"colorbar\":{\"outlinewidth\":0,\"ticks\":\"\"}}}],\"scatterpolar\":[{\"type\":\"scatterpolar\",\"marker\":{\"colorbar\":{\"outlinewidth\":0,\"ticks\":\"\"}}}],\"histogram\":[{\"marker\":{\"pattern\":{\"fillmode\":\"overlay\",\"size\":10,\"solidity\":0.2}},\"type\":\"histogram\"}],\"scattergl\":[{\"type\":\"scattergl\",\"marker\":{\"colorbar\":{\"outlinewidth\":0,\"ticks\":\"\"}}}],\"scatter3d\":[{\"type\":\"scatter3d\",\"line\":{\"colorbar\":{\"outlinewidth\":0,\"ticks\":\"\"}},\"marker\":{\"colorbar\":{\"outlinewidth\":0,\"ticks\":\"\"}}}],\"scattermapbox\":[{\"type\":\"scattermapbox\",\"marker\":{\"colorbar\":{\"outlinewidth\":0,\"ticks\":\"\"}}}],\"scatterternary\":[{\"type\":\"scatterternary\",\"marker\":{\"colorbar\":{\"outlinewidth\":0,\"ticks\":\"\"}}}],\"scattercarpet\":[{\"type\":\"scattercarpet\",\"marker\":{\"colorbar\":{\"outlinewidth\":0,\"ticks\":\"\"}}}],\"carpet\":[{\"aaxis\":{\"endlinecolor\":\"#2a3f5f\",\"gridcolor\":\"white\",\"linecolor\":\"white\",\"minorgridcolor\":\"white\",\"startlinecolor\":\"#2a3f5f\"},\"baxis\":{\"endlinecolor\":\"#2a3f5f\",\"gridcolor\":\"white\",\"linecolor\":\"white\",\"minorgridcolor\":\"white\",\"startlinecolor\":\"#2a3f5f\"},\"type\":\"carpet\"}],\"table\":[{\"cells\":{\"fill\":{\"color\":\"#EBF0F8\"},\"line\":{\"color\":\"white\"}},\"header\":{\"fill\":{\"color\":\"#C8D4E3\"},\"line\":{\"color\":\"white\"}},\"type\":\"table\"}],\"barpolar\":[{\"marker\":{\"line\":{\"color\":\"#E5ECF6\",\"width\":0.5},\"pattern\":{\"fillmode\":\"overlay\",\"size\":10,\"solidity\":0.2}},\"type\":\"barpolar\"}],\"pie\":[{\"automargin\":true,\"type\":\"pie\"}]},\"layout\":{\"autotypenumbers\":\"strict\",\"colorway\":[\"#636efa\",\"#EF553B\",\"#00cc96\",\"#ab63fa\",\"#FFA15A\",\"#19d3f3\",\"#FF6692\",\"#B6E880\",\"#FF97FF\",\"#FECB52\"],\"font\":{\"color\":\"#2a3f5f\"},\"hovermode\":\"closest\",\"hoverlabel\":{\"align\":\"left\"},\"paper_bgcolor\":\"white\",\"plot_bgcolor\":\"#E5ECF6\",\"polar\":{\"bgcolor\":\"#E5ECF6\",\"angularaxis\":{\"gridcolor\":\"white\",\"linecolor\":\"white\",\"ticks\":\"\"},\"radialaxis\":{\"gridcolor\":\"white\",\"linecolor\":\"white\",\"ticks\":\"\"}},\"ternary\":{\"bgcolor\":\"#E5ECF6\",\"aaxis\":{\"gridcolor\":\"white\",\"linecolor\":\"white\",\"ticks\":\"\"},\"baxis\":{\"gridcolor\":\"white\",\"linecolor\":\"white\",\"ticks\":\"\"},\"caxis\":{\"gridcolor\":\"white\",\"linecolor\":\"white\",\"ticks\":\"\"}},\"coloraxis\":{\"colorbar\":{\"outlinewidth\":0,\"ticks\":\"\"}},\"colorscale\":{\"sequential\":[[0.0,\"#0d0887\"],[0.1111111111111111,\"#46039f\"],[0.2222222222222222,\"#7201a8\"],[0.3333333333333333,\"#9c179e\"],[0.4444444444444444,\"#bd3786\"],[0.5555555555555556,\"#d8576b\"],[0.6666666666666666,\"#ed7953\"],[0.7777777777777778,\"#fb9f3a\"],[0.8888888888888888,\"#fdca26\"],[1.0,\"#f0f921\"]],\"sequentialminus\":[[0.0,\"#0d0887\"],[0.1111111111111111,\"#46039f\"],[0.2222222222222222,\"#7201a8\"],[0.3333333333333333,\"#9c179e\"],[0.4444444444444444,\"#bd3786\"],[0.5555555555555556,\"#d8576b\"],[0.6666666666666666,\"#ed7953\"],[0.7777777777777778,\"#fb9f3a\"],[0.8888888888888888,\"#fdca26\"],[1.0,\"#f0f921\"]],\"diverging\":[[0,\"#8e0152\"],[0.1,\"#c51b7d\"],[0.2,\"#de77ae\"],[0.3,\"#f1b6da\"],[0.4,\"#fde0ef\"],[0.5,\"#f7f7f7\"],[0.6,\"#e6f5d0\"],[0.7,\"#b8e186\"],[0.8,\"#7fbc41\"],[0.9,\"#4d9221\"],[1,\"#276419\"]]},\"xaxis\":{\"gridcolor\":\"white\",\"linecolor\":\"white\",\"ticks\":\"\",\"title\":{\"standoff\":15},\"zerolinecolor\":\"white\",\"automargin\":true,\"zerolinewidth\":2},\"yaxis\":{\"gridcolor\":\"white\",\"linecolor\":\"white\",\"ticks\":\"\",\"title\":{\"standoff\":15},\"zerolinecolor\":\"white\",\"automargin\":true,\"zerolinewidth\":2},\"scene\":{\"xaxis\":{\"backgroundcolor\":\"#E5ECF6\",\"gridcolor\":\"white\",\"linecolor\":\"white\",\"showbackground\":true,\"ticks\":\"\",\"zerolinecolor\":\"white\",\"gridwidth\":2},\"yaxis\":{\"backgroundcolor\":\"#E5ECF6\",\"gridcolor\":\"white\",\"linecolor\":\"white\",\"showbackground\":true,\"ticks\":\"\",\"zerolinecolor\":\"white\",\"gridwidth\":2},\"zaxis\":{\"backgroundcolor\":\"#E5ECF6\",\"gridcolor\":\"white\",\"linecolor\":\"white\",\"showbackground\":true,\"ticks\":\"\",\"zerolinecolor\":\"white\",\"gridwidth\":2}},\"shapedefaults\":{\"line\":{\"color\":\"#2a3f5f\"}},\"annotationdefaults\":{\"arrowcolor\":\"#2a3f5f\",\"arrowhead\":0,\"arrowwidth\":1},\"geo\":{\"bgcolor\":\"white\",\"landcolor\":\"#E5ECF6\",\"subunitcolor\":\"white\",\"showland\":true,\"showlakes\":true,\"lakecolor\":\"white\"},\"title\":{\"x\":0.05},\"mapbox\":{\"style\":\"light\"}}},\"width\":1100,\"height\":1100,\"margin\":{\"l\":0,\"r\":0,\"b\":0,\"t\":0},\"scene\":{\"xaxis\":{\"title\":{\"text\":\"x coord\"}},\"yaxis\":{\"title\":{\"text\":\"y coord\"}},\"zaxis\":{\"title\":{\"text\":\"z coord\"}}}},                        {\"responsive\": true}                    ).then(function(){\n",
       "                            \n",
       "var gd = document.getElementById('8bcdef18-9c34-41a3-b4a3-aec565df0d92');\n",
       "var x = new MutationObserver(function (mutations, observer) {{\n",
       "        var display = window.getComputedStyle(gd).display;\n",
       "        if (!display || display === 'none') {{\n",
       "            console.log([gd, 'removed!']);\n",
       "            Plotly.purge(gd);\n",
       "            observer.disconnect();\n",
       "        }}\n",
       "}});\n",
       "\n",
       "// Listen for the removal of the full notebook cells\n",
       "var notebookContainer = gd.closest('#notebook-container');\n",
       "if (notebookContainer) {{\n",
       "    x.observe(notebookContainer, {childList: true});\n",
       "}}\n",
       "\n",
       "// Listen for the clearing of the current output cell\n",
       "var outputEl = gd.closest('.output');\n",
       "if (outputEl) {{\n",
       "    x.observe(outputEl, {childList: true});\n",
       "}}\n",
       "\n",
       "                        })                };                });            </script>        </div>"
      ]
     },
     "metadata": {},
     "output_type": "display_data"
    }
   ],
   "source": [
    "fig = go.Figure(data =[go.Scatter3d(x = df_CB['x_coord'],\n",
    "                                    y = df_CB['y_coord'],\n",
    "                                    z = df_CB['z_coord'],\n",
    "                                    mode ='markers')])\n",
    "fig.update_traces(marker_size=10)\n",
    "\n",
    "fig.update_layout(\n",
    "    width = 1100, \n",
    "    height=1100\n",
    ")\n",
    "fig.update_layout(margin=dict(l=0, r=0, b=0, t=0))\n",
    "\n",
    "fig.update_layout(scene=dict(\n",
    "    xaxis_title='x coord',\n",
    "    yaxis_title='y coord',\n",
    "    zaxis_title='z coord'\n",
    "))\n",
    "fig.show()"
   ]
  },
  {
   "cell_type": "markdown",
   "id": "7f373db1",
   "metadata": {},
   "source": [
    "# 3. Grouping into 2 parts using clustering for separately desiging binders for each part \n",
    "## when observing 3D plot, we can see there are 2 clear distinguishing parts"
   ]
  },
  {
   "cell_type": "code",
   "execution_count": 37,
   "id": "12e83676",
   "metadata": {},
   "outputs": [
    {
     "data": {
      "text/html": [
       "<div>\n",
       "<style scoped>\n",
       "    .dataframe tbody tr th:only-of-type {\n",
       "        vertical-align: middle;\n",
       "    }\n",
       "\n",
       "    .dataframe tbody tr th {\n",
       "        vertical-align: top;\n",
       "    }\n",
       "\n",
       "    .dataframe thead th {\n",
       "        text-align: right;\n",
       "    }\n",
       "</style>\n",
       "<table border=\"1\" class=\"dataframe\">\n",
       "  <thead>\n",
       "    <tr style=\"text-align: right;\">\n",
       "      <th></th>\n",
       "      <th>atom_name</th>\n",
       "      <th>residue_name</th>\n",
       "      <th>residue_number</th>\n",
       "      <th>x_coord</th>\n",
       "      <th>y_coord</th>\n",
       "      <th>z_coord</th>\n",
       "      <th>label</th>\n",
       "    </tr>\n",
       "  </thead>\n",
       "  <tbody>\n",
       "    <tr>\n",
       "      <th>3</th>\n",
       "      <td>CB</td>\n",
       "      <td>PRO</td>\n",
       "      <td>23</td>\n",
       "      <td>17.085</td>\n",
       "      <td>29.147</td>\n",
       "      <td>-19.554</td>\n",
       "      <td>1</td>\n",
       "    </tr>\n",
       "    <tr>\n",
       "      <th>10</th>\n",
       "      <td>CB</td>\n",
       "      <td>HIS</td>\n",
       "      <td>24</td>\n",
       "      <td>12.505</td>\n",
       "      <td>31.513</td>\n",
       "      <td>-21.284</td>\n",
       "      <td>1</td>\n",
       "    </tr>\n",
       "    <tr>\n",
       "      <th>20</th>\n",
       "      <td>CB</td>\n",
       "      <td>ILE</td>\n",
       "      <td>25</td>\n",
       "      <td>11.779</td>\n",
       "      <td>27.657</td>\n",
       "      <td>-25.057</td>\n",
       "      <td>1</td>\n",
       "    </tr>\n",
       "    <tr>\n",
       "      <th>28</th>\n",
       "      <td>CB</td>\n",
       "      <td>THR</td>\n",
       "      <td>26</td>\n",
       "      <td>13.504</td>\n",
       "      <td>24.063</td>\n",
       "      <td>-21.142</td>\n",
       "      <td>1</td>\n",
       "    </tr>\n",
       "    <tr>\n",
       "      <th>35</th>\n",
       "      <td>CB</td>\n",
       "      <td>ASN</td>\n",
       "      <td>27</td>\n",
       "      <td>11.041</td>\n",
       "      <td>27.148</td>\n",
       "      <td>-17.728</td>\n",
       "      <td>1</td>\n",
       "    </tr>\n",
       "    <tr>\n",
       "      <th>...</th>\n",
       "      <td>...</td>\n",
       "      <td>...</td>\n",
       "      <td>...</td>\n",
       "      <td>...</td>\n",
       "      <td>...</td>\n",
       "      <td>...</td>\n",
       "      <td>...</td>\n",
       "    </tr>\n",
       "    <tr>\n",
       "      <th>1203</th>\n",
       "      <td>CB</td>\n",
       "      <td>LEU</td>\n",
       "      <td>293</td>\n",
       "      <td>-5.104</td>\n",
       "      <td>19.547</td>\n",
       "      <td>-21.490</td>\n",
       "      <td>1</td>\n",
       "    </tr>\n",
       "    <tr>\n",
       "      <th>1211</th>\n",
       "      <td>CB</td>\n",
       "      <td>LEU</td>\n",
       "      <td>294</td>\n",
       "      <td>-1.227</td>\n",
       "      <td>18.292</td>\n",
       "      <td>-25.069</td>\n",
       "      <td>1</td>\n",
       "    </tr>\n",
       "    <tr>\n",
       "      <th>1219</th>\n",
       "      <td>CB</td>\n",
       "      <td>LYS</td>\n",
       "      <td>295</td>\n",
       "      <td>-4.821</td>\n",
       "      <td>19.749</td>\n",
       "      <td>-28.811</td>\n",
       "      <td>1</td>\n",
       "    </tr>\n",
       "    <tr>\n",
       "      <th>1228</th>\n",
       "      <td>CB</td>\n",
       "      <td>VAL</td>\n",
       "      <td>296</td>\n",
       "      <td>-7.003</td>\n",
       "      <td>23.205</td>\n",
       "      <td>-25.432</td>\n",
       "      <td>1</td>\n",
       "    </tr>\n",
       "    <tr>\n",
       "      <th>1235</th>\n",
       "      <td>CB</td>\n",
       "      <td>ILE</td>\n",
       "      <td>297</td>\n",
       "      <td>-2.436</td>\n",
       "      <td>24.489</td>\n",
       "      <td>-23.013</td>\n",
       "      <td>1</td>\n",
       "    </tr>\n",
       "  </tbody>\n",
       "</table>\n",
       "<p>140 rows × 7 columns</p>\n",
       "</div>"
      ],
      "text/plain": [
       "     atom_name residue_name  residue_number  x_coord  y_coord  z_coord label\n",
       "3           CB          PRO              23   17.085   29.147  -19.554     1\n",
       "10          CB          HIS              24   12.505   31.513  -21.284     1\n",
       "20          CB          ILE              25   11.779   27.657  -25.057     1\n",
       "28          CB          THR              26   13.504   24.063  -21.142     1\n",
       "35          CB          ASN              27   11.041   27.148  -17.728     1\n",
       "...        ...          ...             ...      ...      ...      ...   ...\n",
       "1203        CB          LEU             293   -5.104   19.547  -21.490     1\n",
       "1211        CB          LEU             294   -1.227   18.292  -25.069     1\n",
       "1219        CB          LYS             295   -4.821   19.749  -28.811     1\n",
       "1228        CB          VAL             296   -7.003   23.205  -25.432     1\n",
       "1235        CB          ILE             297   -2.436   24.489  -23.013     1\n",
       "\n",
       "[140 rows x 7 columns]"
      ]
     },
     "execution_count": 37,
     "metadata": {},
     "output_type": "execute_result"
    }
   ],
   "source": [
    "x = df_CB[['x_coord', 'y_coord', 'z_coord']].values\n",
    "model = KMeans(n_clusters = 2, init = \"k-means++\", max_iter = 300, n_init = 10, random_state = 0)\n",
    "y_clusters = model.fit_predict(x)\n",
    "\n",
    "df_CB['label'] = [str(i) for i in y_clusters]\n",
    "df_CB"
   ]
  },
  {
   "cell_type": "code",
   "execution_count": 38,
   "id": "1aeba2f6",
   "metadata": {
    "scrolled": false
   },
   "outputs": [
    {
     "data": {
      "application/vnd.plotly.v1+json": {
       "config": {
        "plotlyServerURL": "https://plot.ly"
       },
       "data": [
        {
         "hovertemplate": "label=1<br>x_coord=%{x}<br>y_coord=%{y}<br>z_coord=%{z}<extra></extra>",
         "legendgroup": "1",
         "marker": {
          "color": "#636efa",
          "size": 10,
          "symbol": "circle"
         },
         "mode": "markers",
         "name": "1",
         "scene": "scene",
         "showlegend": true,
         "type": "scatter3d",
         "x": [
          17.085,
          12.505,
          11.779,
          13.504,
          11.041,
          7.024,
          8.863,
          5.113,
          2.711,
          4.251,
          3.567,
          -0.753,
          18.5,
          21.394,
          21.461,
          21.727,
          24.717,
          26.869,
          26.897,
          26.298,
          31.134,
          28.049,
          9.631,
          8.54,
          9.114,
          14.266,
          10.33,
          12.613,
          8.15,
          7.471,
          3.723,
          7.472,
          8.858,
          3.543,
          3.001,
          7.657,
          6.237,
          -3.048,
          -4.532,
          -8.407,
          -5.104,
          -1.227,
          -4.821,
          -7.003,
          -2.436
         ],
         "y": [
          29.147,
          31.513,
          27.657,
          24.063,
          27.148,
          27.884,
          21.706,
          25.341,
          23.394,
          18.522,
          20.605,
          23.104,
          11.449,
          15.428,
          12.74,
          8.288,
          10.963,
          13.21,
          8.996,
          5.075,
          5.503,
          1.344,
          -15.979,
          -11.328,
          -12.678,
          -10.255,
          -5.888,
          -6.65,
          -3.883,
          0.908,
          -2.988,
          -6.306,
          -1.919,
          -1.073,
          -6.404,
          -6.659,
          -2.102,
          13.904,
          13.655,
          17.019,
          19.547,
          18.292,
          19.749,
          23.205,
          24.489
         ],
         "z": [
          -19.554,
          -21.284,
          -25.057,
          -21.142,
          -17.728,
          -21.446,
          -17.761,
          -16.718,
          -21.24,
          -19.685,
          -14.724,
          -16.417,
          -8.501,
          -6.456,
          -1.872,
          -4.881,
          -8.408,
          -3.998,
          -1.128,
          -4.283,
          -7.956,
          -7.066,
          -21.48,
          -24.469,
          -29.746,
          -29.899,
          -29.445,
          -34.949,
          -35.371,
          -33.177,
          -33.536,
          -31.594,
          -28.479,
          -28.168,
          -28.127,
          -25.452,
          -22.979,
          -21.003,
          -26.076,
          -24.753,
          -21.49,
          -25.069,
          -28.811,
          -25.432,
          -23.013
         ]
        },
        {
         "hovertemplate": "label=0<br>x_coord=%{x}<br>y_coord=%{y}<br>z_coord=%{z}<extra></extra>",
         "legendgroup": "0",
         "marker": {
          "color": "#EF553B",
          "size": 10,
          "symbol": "circle"
         },
         "mode": "markers",
         "name": "0",
         "scene": "scene",
         "showlegend": true,
         "type": "scatter3d",
         "x": [
          -19.548,
          -17.363,
          -12.863,
          -15.576,
          -19.833,
          -22.148,
          -23.533,
          -21.683,
          -27,
          -25.827,
          -21.878,
          -25.414,
          -29.131,
          -25.349,
          -23.937,
          -29.249,
          -29.933,
          -25.405,
          -27.122,
          -25.429,
          -23.462,
          -22.422,
          -18.727,
          -19.023,
          -13.981,
          -0.362,
          -2.459,
          -4.346,
          -4.86,
          -6.081,
          -8.904,
          -9.67,
          -10.51,
          -12.809,
          -14.682,
          -15.344,
          -16.829,
          -22.79,
          -20.038,
          -17.62,
          -22.697,
          -24.109,
          -18.879,
          -16.587,
          -19.868,
          -15.713,
          -11.078,
          -11.426,
          -15.113,
          -12.352,
          -7.894,
          -10.757,
          -12.807,
          -7.923,
          -6.402,
          -10.05,
          -7.99,
          0.29,
          -5.619,
          -2.679,
          0.372,
          -4.922,
          1.429,
          1.633,
          -1.973,
          -5.354,
          -10.43,
          -11.126,
          -6.671,
          -7.993,
          -13.269,
          -11.269,
          -12.656,
          -7.086,
          -3.267,
          -7.121,
          -2.127,
          -1.945,
          -2.725,
          -6.327,
          -7.969,
          -6.429,
          -8.608,
          -12.201,
          -11.974,
          -11.119,
          -14.894,
          -17.113,
          -15.86,
          -19.258,
          -14.25,
          -16.204,
          -10.963,
          -15.66,
          -16.73
         ],
         "y": [
          0.117,
          -4.088,
          -2.928,
          -1.252,
          -4.008,
          -5.547,
          -8.078,
          -4.406,
          -5.039,
          -4.758,
          -1.453,
          0.629,
          -0.536,
          1.14,
          4.589,
          4.95,
          4.547,
          7.654,
          13.379,
          15.878,
          11.196,
          10.955,
          14.34,
          12.667,
          13.947,
          6.828,
          11.587,
          12.173,
          6.76,
          7.568,
          11.937,
          9.034,
          4.961,
          8.303,
          11.152,
          6.512,
          4.426,
          4.811,
          3.48,
          7.986,
          9.515,
          10.518,
          10.692,
          13.4,
          17.434,
          18.835,
          16.832,
          20.514,
          17.476,
          13.326,
          16.291,
          18.257,
          13.403,
          11.473,
          15.787,
          13.646,
          8.947,
          11.805,
          7.821,
          10.314,
          6.262,
          3.598,
          2.888,
          -2.485,
          -3.515,
          -1.738,
          -0.903,
          -3.97,
          -1.646,
          2.651,
          1.385,
          0.594,
          6.182,
          -2.624,
          -0.58,
          -4.709,
          -7.598,
          -7.466,
          -12.217,
          -9.699,
          -6.923,
          -11.294,
          -14.18,
          -10.195,
          -9.804,
          -15.127,
          -15.29,
          -10.996,
          -13.081,
          -17.607,
          -19.722,
          -18.073,
          -17.682,
          -16.372,
          -13.813
         ],
         "z": [
          -0.729,
          -3.22,
          -0.537,
          3.533,
          3.599,
          -0.073,
          -4.681,
          -8.145,
          -7.079,
          -1.913,
          -3.412,
          -6.954,
          -3.178,
          0.382,
          -3.263,
          -4.489,
          0.936,
          1.138,
          -5.204,
          -0.611,
          0.891,
          -4.891,
          -4.59,
          1.027,
          -4.079,
          5.557,
          7.284,
          2.22,
          2.268,
          7.267,
          6.019,
          1.345,
          4.564,
          7.991,
          3.936,
          1.219,
          6.123,
          5.267,
          9.965,
          9.443,
          6.647,
          11.755,
          13.003,
          9.538,
          7.362,
          5.566,
          4.281,
          8.147,
          10.611,
          8.683,
          9.88,
          13.893,
          14.523,
          13.112,
          16.2,
          19.59,
          18.553,
          16.185,
          15.09,
          11.08,
          10.843,
          11.93,
          8.22,
          9.236,
          5.419,
          3.44,
          2.884,
          7.312,
          9.258,
          6.436,
          7.98,
          13.004,
          14.467,
          20.43,
          16.904,
          14.72,
          14.543,
          9.137,
          11.595,
          14.697,
          10.416,
          7.535,
          11.471,
          11.865,
          6.523,
          6.78,
          10.493,
          8.111,
          3.503,
          3.887,
          5.362,
          0.034,
          -2.362,
          -4.713,
          -0.102
         ]
        }
       ],
       "layout": {
        "height": 1100,
        "legend": {
         "title": {
          "text": "label"
         },
         "tracegroupgap": 0
        },
        "margin": {
         "t": 60
        },
        "scene": {
         "domain": {
          "x": [
           0,
           1
          ],
          "y": [
           0,
           1
          ]
         },
         "xaxis": {
          "title": {
           "text": "x_coord"
          }
         },
         "yaxis": {
          "title": {
           "text": "y_coord"
          }
         },
         "zaxis": {
          "title": {
           "text": "z_coord"
          }
         }
        },
        "template": {
         "data": {
          "bar": [
           {
            "error_x": {
             "color": "#2a3f5f"
            },
            "error_y": {
             "color": "#2a3f5f"
            },
            "marker": {
             "line": {
              "color": "#E5ECF6",
              "width": 0.5
             },
             "pattern": {
              "fillmode": "overlay",
              "size": 10,
              "solidity": 0.2
             }
            },
            "type": "bar"
           }
          ],
          "barpolar": [
           {
            "marker": {
             "line": {
              "color": "#E5ECF6",
              "width": 0.5
             },
             "pattern": {
              "fillmode": "overlay",
              "size": 10,
              "solidity": 0.2
             }
            },
            "type": "barpolar"
           }
          ],
          "carpet": [
           {
            "aaxis": {
             "endlinecolor": "#2a3f5f",
             "gridcolor": "white",
             "linecolor": "white",
             "minorgridcolor": "white",
             "startlinecolor": "#2a3f5f"
            },
            "baxis": {
             "endlinecolor": "#2a3f5f",
             "gridcolor": "white",
             "linecolor": "white",
             "minorgridcolor": "white",
             "startlinecolor": "#2a3f5f"
            },
            "type": "carpet"
           }
          ],
          "choropleth": [
           {
            "colorbar": {
             "outlinewidth": 0,
             "ticks": ""
            },
            "type": "choropleth"
           }
          ],
          "contour": [
           {
            "colorbar": {
             "outlinewidth": 0,
             "ticks": ""
            },
            "colorscale": [
             [
              0,
              "#0d0887"
             ],
             [
              0.1111111111111111,
              "#46039f"
             ],
             [
              0.2222222222222222,
              "#7201a8"
             ],
             [
              0.3333333333333333,
              "#9c179e"
             ],
             [
              0.4444444444444444,
              "#bd3786"
             ],
             [
              0.5555555555555556,
              "#d8576b"
             ],
             [
              0.6666666666666666,
              "#ed7953"
             ],
             [
              0.7777777777777778,
              "#fb9f3a"
             ],
             [
              0.8888888888888888,
              "#fdca26"
             ],
             [
              1,
              "#f0f921"
             ]
            ],
            "type": "contour"
           }
          ],
          "contourcarpet": [
           {
            "colorbar": {
             "outlinewidth": 0,
             "ticks": ""
            },
            "type": "contourcarpet"
           }
          ],
          "heatmap": [
           {
            "colorbar": {
             "outlinewidth": 0,
             "ticks": ""
            },
            "colorscale": [
             [
              0,
              "#0d0887"
             ],
             [
              0.1111111111111111,
              "#46039f"
             ],
             [
              0.2222222222222222,
              "#7201a8"
             ],
             [
              0.3333333333333333,
              "#9c179e"
             ],
             [
              0.4444444444444444,
              "#bd3786"
             ],
             [
              0.5555555555555556,
              "#d8576b"
             ],
             [
              0.6666666666666666,
              "#ed7953"
             ],
             [
              0.7777777777777778,
              "#fb9f3a"
             ],
             [
              0.8888888888888888,
              "#fdca26"
             ],
             [
              1,
              "#f0f921"
             ]
            ],
            "type": "heatmap"
           }
          ],
          "heatmapgl": [
           {
            "colorbar": {
             "outlinewidth": 0,
             "ticks": ""
            },
            "colorscale": [
             [
              0,
              "#0d0887"
             ],
             [
              0.1111111111111111,
              "#46039f"
             ],
             [
              0.2222222222222222,
              "#7201a8"
             ],
             [
              0.3333333333333333,
              "#9c179e"
             ],
             [
              0.4444444444444444,
              "#bd3786"
             ],
             [
              0.5555555555555556,
              "#d8576b"
             ],
             [
              0.6666666666666666,
              "#ed7953"
             ],
             [
              0.7777777777777778,
              "#fb9f3a"
             ],
             [
              0.8888888888888888,
              "#fdca26"
             ],
             [
              1,
              "#f0f921"
             ]
            ],
            "type": "heatmapgl"
           }
          ],
          "histogram": [
           {
            "marker": {
             "pattern": {
              "fillmode": "overlay",
              "size": 10,
              "solidity": 0.2
             }
            },
            "type": "histogram"
           }
          ],
          "histogram2d": [
           {
            "colorbar": {
             "outlinewidth": 0,
             "ticks": ""
            },
            "colorscale": [
             [
              0,
              "#0d0887"
             ],
             [
              0.1111111111111111,
              "#46039f"
             ],
             [
              0.2222222222222222,
              "#7201a8"
             ],
             [
              0.3333333333333333,
              "#9c179e"
             ],
             [
              0.4444444444444444,
              "#bd3786"
             ],
             [
              0.5555555555555556,
              "#d8576b"
             ],
             [
              0.6666666666666666,
              "#ed7953"
             ],
             [
              0.7777777777777778,
              "#fb9f3a"
             ],
             [
              0.8888888888888888,
              "#fdca26"
             ],
             [
              1,
              "#f0f921"
             ]
            ],
            "type": "histogram2d"
           }
          ],
          "histogram2dcontour": [
           {
            "colorbar": {
             "outlinewidth": 0,
             "ticks": ""
            },
            "colorscale": [
             [
              0,
              "#0d0887"
             ],
             [
              0.1111111111111111,
              "#46039f"
             ],
             [
              0.2222222222222222,
              "#7201a8"
             ],
             [
              0.3333333333333333,
              "#9c179e"
             ],
             [
              0.4444444444444444,
              "#bd3786"
             ],
             [
              0.5555555555555556,
              "#d8576b"
             ],
             [
              0.6666666666666666,
              "#ed7953"
             ],
             [
              0.7777777777777778,
              "#fb9f3a"
             ],
             [
              0.8888888888888888,
              "#fdca26"
             ],
             [
              1,
              "#f0f921"
             ]
            ],
            "type": "histogram2dcontour"
           }
          ],
          "mesh3d": [
           {
            "colorbar": {
             "outlinewidth": 0,
             "ticks": ""
            },
            "type": "mesh3d"
           }
          ],
          "parcoords": [
           {
            "line": {
             "colorbar": {
              "outlinewidth": 0,
              "ticks": ""
             }
            },
            "type": "parcoords"
           }
          ],
          "pie": [
           {
            "automargin": true,
            "type": "pie"
           }
          ],
          "scatter": [
           {
            "fillpattern": {
             "fillmode": "overlay",
             "size": 10,
             "solidity": 0.2
            },
            "type": "scatter"
           }
          ],
          "scatter3d": [
           {
            "line": {
             "colorbar": {
              "outlinewidth": 0,
              "ticks": ""
             }
            },
            "marker": {
             "colorbar": {
              "outlinewidth": 0,
              "ticks": ""
             }
            },
            "type": "scatter3d"
           }
          ],
          "scattercarpet": [
           {
            "marker": {
             "colorbar": {
              "outlinewidth": 0,
              "ticks": ""
             }
            },
            "type": "scattercarpet"
           }
          ],
          "scattergeo": [
           {
            "marker": {
             "colorbar": {
              "outlinewidth": 0,
              "ticks": ""
             }
            },
            "type": "scattergeo"
           }
          ],
          "scattergl": [
           {
            "marker": {
             "colorbar": {
              "outlinewidth": 0,
              "ticks": ""
             }
            },
            "type": "scattergl"
           }
          ],
          "scattermapbox": [
           {
            "marker": {
             "colorbar": {
              "outlinewidth": 0,
              "ticks": ""
             }
            },
            "type": "scattermapbox"
           }
          ],
          "scatterpolar": [
           {
            "marker": {
             "colorbar": {
              "outlinewidth": 0,
              "ticks": ""
             }
            },
            "type": "scatterpolar"
           }
          ],
          "scatterpolargl": [
           {
            "marker": {
             "colorbar": {
              "outlinewidth": 0,
              "ticks": ""
             }
            },
            "type": "scatterpolargl"
           }
          ],
          "scatterternary": [
           {
            "marker": {
             "colorbar": {
              "outlinewidth": 0,
              "ticks": ""
             }
            },
            "type": "scatterternary"
           }
          ],
          "surface": [
           {
            "colorbar": {
             "outlinewidth": 0,
             "ticks": ""
            },
            "colorscale": [
             [
              0,
              "#0d0887"
             ],
             [
              0.1111111111111111,
              "#46039f"
             ],
             [
              0.2222222222222222,
              "#7201a8"
             ],
             [
              0.3333333333333333,
              "#9c179e"
             ],
             [
              0.4444444444444444,
              "#bd3786"
             ],
             [
              0.5555555555555556,
              "#d8576b"
             ],
             [
              0.6666666666666666,
              "#ed7953"
             ],
             [
              0.7777777777777778,
              "#fb9f3a"
             ],
             [
              0.8888888888888888,
              "#fdca26"
             ],
             [
              1,
              "#f0f921"
             ]
            ],
            "type": "surface"
           }
          ],
          "table": [
           {
            "cells": {
             "fill": {
              "color": "#EBF0F8"
             },
             "line": {
              "color": "white"
             }
            },
            "header": {
             "fill": {
              "color": "#C8D4E3"
             },
             "line": {
              "color": "white"
             }
            },
            "type": "table"
           }
          ]
         },
         "layout": {
          "annotationdefaults": {
           "arrowcolor": "#2a3f5f",
           "arrowhead": 0,
           "arrowwidth": 1
          },
          "autotypenumbers": "strict",
          "coloraxis": {
           "colorbar": {
            "outlinewidth": 0,
            "ticks": ""
           }
          },
          "colorscale": {
           "diverging": [
            [
             0,
             "#8e0152"
            ],
            [
             0.1,
             "#c51b7d"
            ],
            [
             0.2,
             "#de77ae"
            ],
            [
             0.3,
             "#f1b6da"
            ],
            [
             0.4,
             "#fde0ef"
            ],
            [
             0.5,
             "#f7f7f7"
            ],
            [
             0.6,
             "#e6f5d0"
            ],
            [
             0.7,
             "#b8e186"
            ],
            [
             0.8,
             "#7fbc41"
            ],
            [
             0.9,
             "#4d9221"
            ],
            [
             1,
             "#276419"
            ]
           ],
           "sequential": [
            [
             0,
             "#0d0887"
            ],
            [
             0.1111111111111111,
             "#46039f"
            ],
            [
             0.2222222222222222,
             "#7201a8"
            ],
            [
             0.3333333333333333,
             "#9c179e"
            ],
            [
             0.4444444444444444,
             "#bd3786"
            ],
            [
             0.5555555555555556,
             "#d8576b"
            ],
            [
             0.6666666666666666,
             "#ed7953"
            ],
            [
             0.7777777777777778,
             "#fb9f3a"
            ],
            [
             0.8888888888888888,
             "#fdca26"
            ],
            [
             1,
             "#f0f921"
            ]
           ],
           "sequentialminus": [
            [
             0,
             "#0d0887"
            ],
            [
             0.1111111111111111,
             "#46039f"
            ],
            [
             0.2222222222222222,
             "#7201a8"
            ],
            [
             0.3333333333333333,
             "#9c179e"
            ],
            [
             0.4444444444444444,
             "#bd3786"
            ],
            [
             0.5555555555555556,
             "#d8576b"
            ],
            [
             0.6666666666666666,
             "#ed7953"
            ],
            [
             0.7777777777777778,
             "#fb9f3a"
            ],
            [
             0.8888888888888888,
             "#fdca26"
            ],
            [
             1,
             "#f0f921"
            ]
           ]
          },
          "colorway": [
           "#636efa",
           "#EF553B",
           "#00cc96",
           "#ab63fa",
           "#FFA15A",
           "#19d3f3",
           "#FF6692",
           "#B6E880",
           "#FF97FF",
           "#FECB52"
          ],
          "font": {
           "color": "#2a3f5f"
          },
          "geo": {
           "bgcolor": "white",
           "lakecolor": "white",
           "landcolor": "#E5ECF6",
           "showlakes": true,
           "showland": true,
           "subunitcolor": "white"
          },
          "hoverlabel": {
           "align": "left"
          },
          "hovermode": "closest",
          "mapbox": {
           "style": "light"
          },
          "paper_bgcolor": "white",
          "plot_bgcolor": "#E5ECF6",
          "polar": {
           "angularaxis": {
            "gridcolor": "white",
            "linecolor": "white",
            "ticks": ""
           },
           "bgcolor": "#E5ECF6",
           "radialaxis": {
            "gridcolor": "white",
            "linecolor": "white",
            "ticks": ""
           }
          },
          "scene": {
           "xaxis": {
            "backgroundcolor": "#E5ECF6",
            "gridcolor": "white",
            "gridwidth": 2,
            "linecolor": "white",
            "showbackground": true,
            "ticks": "",
            "zerolinecolor": "white"
           },
           "yaxis": {
            "backgroundcolor": "#E5ECF6",
            "gridcolor": "white",
            "gridwidth": 2,
            "linecolor": "white",
            "showbackground": true,
            "ticks": "",
            "zerolinecolor": "white"
           },
           "zaxis": {
            "backgroundcolor": "#E5ECF6",
            "gridcolor": "white",
            "gridwidth": 2,
            "linecolor": "white",
            "showbackground": true,
            "ticks": "",
            "zerolinecolor": "white"
           }
          },
          "shapedefaults": {
           "line": {
            "color": "#2a3f5f"
           }
          },
          "ternary": {
           "aaxis": {
            "gridcolor": "white",
            "linecolor": "white",
            "ticks": ""
           },
           "baxis": {
            "gridcolor": "white",
            "linecolor": "white",
            "ticks": ""
           },
           "bgcolor": "#E5ECF6",
           "caxis": {
            "gridcolor": "white",
            "linecolor": "white",
            "ticks": ""
           }
          },
          "title": {
           "x": 0.05
          },
          "xaxis": {
           "automargin": true,
           "gridcolor": "white",
           "linecolor": "white",
           "ticks": "",
           "title": {
            "standoff": 15
           },
           "zerolinecolor": "white",
           "zerolinewidth": 2
          },
          "yaxis": {
           "automargin": true,
           "gridcolor": "white",
           "linecolor": "white",
           "ticks": "",
           "title": {
            "standoff": 15
           },
           "zerolinecolor": "white",
           "zerolinewidth": 2
          }
         }
        },
        "width": 1100
       }
      },
      "text/html": [
       "<div>                            <div id=\"13345e33-a1d2-440e-a777-a6c74280691c\" class=\"plotly-graph-div\" style=\"height:1100px; width:1100px;\"></div>            <script type=\"text/javascript\">                require([\"plotly\"], function(Plotly) {                    window.PLOTLYENV=window.PLOTLYENV || {};                                    if (document.getElementById(\"13345e33-a1d2-440e-a777-a6c74280691c\")) {                    Plotly.newPlot(                        \"13345e33-a1d2-440e-a777-a6c74280691c\",                        [{\"hovertemplate\":\"label=1<br>x_coord=%{x}<br>y_coord=%{y}<br>z_coord=%{z}<extra></extra>\",\"legendgroup\":\"1\",\"marker\":{\"color\":\"#636efa\",\"symbol\":\"circle\",\"size\":10},\"mode\":\"markers\",\"name\":\"1\",\"scene\":\"scene\",\"showlegend\":true,\"x\":[17.085,12.505,11.779,13.504,11.041,7.024,8.863,5.113,2.711,4.251,3.567,-0.753,18.5,21.394,21.461,21.727,24.717,26.869,26.897,26.298,31.134,28.049,9.631,8.54,9.114,14.266,10.33,12.613,8.15,7.471,3.723,7.472,8.858,3.543,3.001,7.657,6.237,-3.048,-4.532,-8.407,-5.104,-1.227,-4.821,-7.003,-2.436],\"y\":[29.147,31.513,27.657,24.063,27.148,27.884,21.706,25.341,23.394,18.522,20.605,23.104,11.449,15.428,12.74,8.288,10.963,13.21,8.996,5.075,5.503,1.344,-15.979,-11.328,-12.678,-10.255,-5.888,-6.65,-3.883,0.908,-2.988,-6.306,-1.919,-1.073,-6.404,-6.659,-2.102,13.904,13.655,17.019,19.547,18.292,19.749,23.205,24.489],\"z\":[-19.554,-21.284,-25.057,-21.142,-17.728,-21.446,-17.761,-16.718,-21.24,-19.685,-14.724,-16.417,-8.501,-6.456,-1.872,-4.881,-8.408,-3.998,-1.128,-4.283,-7.956,-7.066,-21.48,-24.469,-29.746,-29.899,-29.445,-34.949,-35.371,-33.177,-33.536,-31.594,-28.479,-28.168,-28.127,-25.452,-22.979,-21.003,-26.076,-24.753,-21.49,-25.069,-28.811,-25.432,-23.013],\"type\":\"scatter3d\"},{\"hovertemplate\":\"label=0<br>x_coord=%{x}<br>y_coord=%{y}<br>z_coord=%{z}<extra></extra>\",\"legendgroup\":\"0\",\"marker\":{\"color\":\"#EF553B\",\"symbol\":\"circle\",\"size\":10},\"mode\":\"markers\",\"name\":\"0\",\"scene\":\"scene\",\"showlegend\":true,\"x\":[-19.548,-17.363,-12.863,-15.576,-19.833,-22.148,-23.533,-21.683,-27.0,-25.827,-21.878,-25.414,-29.131,-25.349,-23.937,-29.249,-29.933,-25.405,-27.122,-25.429,-23.462,-22.422,-18.727,-19.023,-13.981,-0.362,-2.459,-4.346,-4.86,-6.081,-8.904,-9.67,-10.51,-12.809,-14.682,-15.344,-16.829,-22.79,-20.038,-17.62,-22.697,-24.109,-18.879,-16.587,-19.868,-15.713,-11.078,-11.426,-15.113,-12.352,-7.894,-10.757,-12.807,-7.923,-6.402,-10.05,-7.99,0.29,-5.619,-2.679,0.372,-4.922,1.429,1.633,-1.973,-5.354,-10.43,-11.126,-6.671,-7.993,-13.269,-11.269,-12.656,-7.086,-3.267,-7.121,-2.127,-1.945,-2.725,-6.327,-7.969,-6.429,-8.608,-12.201,-11.974,-11.119,-14.894,-17.113,-15.86,-19.258,-14.25,-16.204,-10.963,-15.66,-16.73],\"y\":[0.117,-4.088,-2.928,-1.252,-4.008,-5.547,-8.078,-4.406,-5.039,-4.758,-1.453,0.629,-0.536,1.14,4.589,4.95,4.547,7.654,13.379,15.878,11.196,10.955,14.34,12.667,13.947,6.828,11.587,12.173,6.76,7.568,11.937,9.034,4.961,8.303,11.152,6.512,4.426,4.811,3.48,7.986,9.515,10.518,10.692,13.4,17.434,18.835,16.832,20.514,17.476,13.326,16.291,18.257,13.403,11.473,15.787,13.646,8.947,11.805,7.821,10.314,6.262,3.598,2.888,-2.485,-3.515,-1.738,-0.903,-3.97,-1.646,2.651,1.385,0.594,6.182,-2.624,-0.58,-4.709,-7.598,-7.466,-12.217,-9.699,-6.923,-11.294,-14.18,-10.195,-9.804,-15.127,-15.29,-10.996,-13.081,-17.607,-19.722,-18.073,-17.682,-16.372,-13.813],\"z\":[-0.729,-3.22,-0.537,3.533,3.599,-0.073,-4.681,-8.145,-7.079,-1.913,-3.412,-6.954,-3.178,0.382,-3.263,-4.489,0.936,1.138,-5.204,-0.611,0.891,-4.891,-4.59,1.027,-4.079,5.557,7.284,2.22,2.268,7.267,6.019,1.345,4.564,7.991,3.936,1.219,6.123,5.267,9.965,9.443,6.647,11.755,13.003,9.538,7.362,5.566,4.281,8.147,10.611,8.683,9.88,13.893,14.523,13.112,16.2,19.59,18.553,16.185,15.09,11.08,10.843,11.93,8.22,9.236,5.419,3.44,2.884,7.312,9.258,6.436,7.98,13.004,14.467,20.43,16.904,14.72,14.543,9.137,11.595,14.697,10.416,7.535,11.471,11.865,6.523,6.78,10.493,8.111,3.503,3.887,5.362,0.034,-2.362,-4.713,-0.102],\"type\":\"scatter3d\"}],                        {\"template\":{\"data\":{\"histogram2dcontour\":[{\"type\":\"histogram2dcontour\",\"colorbar\":{\"outlinewidth\":0,\"ticks\":\"\"},\"colorscale\":[[0.0,\"#0d0887\"],[0.1111111111111111,\"#46039f\"],[0.2222222222222222,\"#7201a8\"],[0.3333333333333333,\"#9c179e\"],[0.4444444444444444,\"#bd3786\"],[0.5555555555555556,\"#d8576b\"],[0.6666666666666666,\"#ed7953\"],[0.7777777777777778,\"#fb9f3a\"],[0.8888888888888888,\"#fdca26\"],[1.0,\"#f0f921\"]]}],\"choropleth\":[{\"type\":\"choropleth\",\"colorbar\":{\"outlinewidth\":0,\"ticks\":\"\"}}],\"histogram2d\":[{\"type\":\"histogram2d\",\"colorbar\":{\"outlinewidth\":0,\"ticks\":\"\"},\"colorscale\":[[0.0,\"#0d0887\"],[0.1111111111111111,\"#46039f\"],[0.2222222222222222,\"#7201a8\"],[0.3333333333333333,\"#9c179e\"],[0.4444444444444444,\"#bd3786\"],[0.5555555555555556,\"#d8576b\"],[0.6666666666666666,\"#ed7953\"],[0.7777777777777778,\"#fb9f3a\"],[0.8888888888888888,\"#fdca26\"],[1.0,\"#f0f921\"]]}],\"heatmap\":[{\"type\":\"heatmap\",\"colorbar\":{\"outlinewidth\":0,\"ticks\":\"\"},\"colorscale\":[[0.0,\"#0d0887\"],[0.1111111111111111,\"#46039f\"],[0.2222222222222222,\"#7201a8\"],[0.3333333333333333,\"#9c179e\"],[0.4444444444444444,\"#bd3786\"],[0.5555555555555556,\"#d8576b\"],[0.6666666666666666,\"#ed7953\"],[0.7777777777777778,\"#fb9f3a\"],[0.8888888888888888,\"#fdca26\"],[1.0,\"#f0f921\"]]}],\"heatmapgl\":[{\"type\":\"heatmapgl\",\"colorbar\":{\"outlinewidth\":0,\"ticks\":\"\"},\"colorscale\":[[0.0,\"#0d0887\"],[0.1111111111111111,\"#46039f\"],[0.2222222222222222,\"#7201a8\"],[0.3333333333333333,\"#9c179e\"],[0.4444444444444444,\"#bd3786\"],[0.5555555555555556,\"#d8576b\"],[0.6666666666666666,\"#ed7953\"],[0.7777777777777778,\"#fb9f3a\"],[0.8888888888888888,\"#fdca26\"],[1.0,\"#f0f921\"]]}],\"contourcarpet\":[{\"type\":\"contourcarpet\",\"colorbar\":{\"outlinewidth\":0,\"ticks\":\"\"}}],\"contour\":[{\"type\":\"contour\",\"colorbar\":{\"outlinewidth\":0,\"ticks\":\"\"},\"colorscale\":[[0.0,\"#0d0887\"],[0.1111111111111111,\"#46039f\"],[0.2222222222222222,\"#7201a8\"],[0.3333333333333333,\"#9c179e\"],[0.4444444444444444,\"#bd3786\"],[0.5555555555555556,\"#d8576b\"],[0.6666666666666666,\"#ed7953\"],[0.7777777777777778,\"#fb9f3a\"],[0.8888888888888888,\"#fdca26\"],[1.0,\"#f0f921\"]]}],\"surface\":[{\"type\":\"surface\",\"colorbar\":{\"outlinewidth\":0,\"ticks\":\"\"},\"colorscale\":[[0.0,\"#0d0887\"],[0.1111111111111111,\"#46039f\"],[0.2222222222222222,\"#7201a8\"],[0.3333333333333333,\"#9c179e\"],[0.4444444444444444,\"#bd3786\"],[0.5555555555555556,\"#d8576b\"],[0.6666666666666666,\"#ed7953\"],[0.7777777777777778,\"#fb9f3a\"],[0.8888888888888888,\"#fdca26\"],[1.0,\"#f0f921\"]]}],\"mesh3d\":[{\"type\":\"mesh3d\",\"colorbar\":{\"outlinewidth\":0,\"ticks\":\"\"}}],\"scatter\":[{\"fillpattern\":{\"fillmode\":\"overlay\",\"size\":10,\"solidity\":0.2},\"type\":\"scatter\"}],\"parcoords\":[{\"type\":\"parcoords\",\"line\":{\"colorbar\":{\"outlinewidth\":0,\"ticks\":\"\"}}}],\"scatterpolargl\":[{\"type\":\"scatterpolargl\",\"marker\":{\"colorbar\":{\"outlinewidth\":0,\"ticks\":\"\"}}}],\"bar\":[{\"error_x\":{\"color\":\"#2a3f5f\"},\"error_y\":{\"color\":\"#2a3f5f\"},\"marker\":{\"line\":{\"color\":\"#E5ECF6\",\"width\":0.5},\"pattern\":{\"fillmode\":\"overlay\",\"size\":10,\"solidity\":0.2}},\"type\":\"bar\"}],\"scattergeo\":[{\"type\":\"scattergeo\",\"marker\":{\"colorbar\":{\"outlinewidth\":0,\"ticks\":\"\"}}}],\"scatterpolar\":[{\"type\":\"scatterpolar\",\"marker\":{\"colorbar\":{\"outlinewidth\":0,\"ticks\":\"\"}}}],\"histogram\":[{\"marker\":{\"pattern\":{\"fillmode\":\"overlay\",\"size\":10,\"solidity\":0.2}},\"type\":\"histogram\"}],\"scattergl\":[{\"type\":\"scattergl\",\"marker\":{\"colorbar\":{\"outlinewidth\":0,\"ticks\":\"\"}}}],\"scatter3d\":[{\"type\":\"scatter3d\",\"line\":{\"colorbar\":{\"outlinewidth\":0,\"ticks\":\"\"}},\"marker\":{\"colorbar\":{\"outlinewidth\":0,\"ticks\":\"\"}}}],\"scattermapbox\":[{\"type\":\"scattermapbox\",\"marker\":{\"colorbar\":{\"outlinewidth\":0,\"ticks\":\"\"}}}],\"scatterternary\":[{\"type\":\"scatterternary\",\"marker\":{\"colorbar\":{\"outlinewidth\":0,\"ticks\":\"\"}}}],\"scattercarpet\":[{\"type\":\"scattercarpet\",\"marker\":{\"colorbar\":{\"outlinewidth\":0,\"ticks\":\"\"}}}],\"carpet\":[{\"aaxis\":{\"endlinecolor\":\"#2a3f5f\",\"gridcolor\":\"white\",\"linecolor\":\"white\",\"minorgridcolor\":\"white\",\"startlinecolor\":\"#2a3f5f\"},\"baxis\":{\"endlinecolor\":\"#2a3f5f\",\"gridcolor\":\"white\",\"linecolor\":\"white\",\"minorgridcolor\":\"white\",\"startlinecolor\":\"#2a3f5f\"},\"type\":\"carpet\"}],\"table\":[{\"cells\":{\"fill\":{\"color\":\"#EBF0F8\"},\"line\":{\"color\":\"white\"}},\"header\":{\"fill\":{\"color\":\"#C8D4E3\"},\"line\":{\"color\":\"white\"}},\"type\":\"table\"}],\"barpolar\":[{\"marker\":{\"line\":{\"color\":\"#E5ECF6\",\"width\":0.5},\"pattern\":{\"fillmode\":\"overlay\",\"size\":10,\"solidity\":0.2}},\"type\":\"barpolar\"}],\"pie\":[{\"automargin\":true,\"type\":\"pie\"}]},\"layout\":{\"autotypenumbers\":\"strict\",\"colorway\":[\"#636efa\",\"#EF553B\",\"#00cc96\",\"#ab63fa\",\"#FFA15A\",\"#19d3f3\",\"#FF6692\",\"#B6E880\",\"#FF97FF\",\"#FECB52\"],\"font\":{\"color\":\"#2a3f5f\"},\"hovermode\":\"closest\",\"hoverlabel\":{\"align\":\"left\"},\"paper_bgcolor\":\"white\",\"plot_bgcolor\":\"#E5ECF6\",\"polar\":{\"bgcolor\":\"#E5ECF6\",\"angularaxis\":{\"gridcolor\":\"white\",\"linecolor\":\"white\",\"ticks\":\"\"},\"radialaxis\":{\"gridcolor\":\"white\",\"linecolor\":\"white\",\"ticks\":\"\"}},\"ternary\":{\"bgcolor\":\"#E5ECF6\",\"aaxis\":{\"gridcolor\":\"white\",\"linecolor\":\"white\",\"ticks\":\"\"},\"baxis\":{\"gridcolor\":\"white\",\"linecolor\":\"white\",\"ticks\":\"\"},\"caxis\":{\"gridcolor\":\"white\",\"linecolor\":\"white\",\"ticks\":\"\"}},\"coloraxis\":{\"colorbar\":{\"outlinewidth\":0,\"ticks\":\"\"}},\"colorscale\":{\"sequential\":[[0.0,\"#0d0887\"],[0.1111111111111111,\"#46039f\"],[0.2222222222222222,\"#7201a8\"],[0.3333333333333333,\"#9c179e\"],[0.4444444444444444,\"#bd3786\"],[0.5555555555555556,\"#d8576b\"],[0.6666666666666666,\"#ed7953\"],[0.7777777777777778,\"#fb9f3a\"],[0.8888888888888888,\"#fdca26\"],[1.0,\"#f0f921\"]],\"sequentialminus\":[[0.0,\"#0d0887\"],[0.1111111111111111,\"#46039f\"],[0.2222222222222222,\"#7201a8\"],[0.3333333333333333,\"#9c179e\"],[0.4444444444444444,\"#bd3786\"],[0.5555555555555556,\"#d8576b\"],[0.6666666666666666,\"#ed7953\"],[0.7777777777777778,\"#fb9f3a\"],[0.8888888888888888,\"#fdca26\"],[1.0,\"#f0f921\"]],\"diverging\":[[0,\"#8e0152\"],[0.1,\"#c51b7d\"],[0.2,\"#de77ae\"],[0.3,\"#f1b6da\"],[0.4,\"#fde0ef\"],[0.5,\"#f7f7f7\"],[0.6,\"#e6f5d0\"],[0.7,\"#b8e186\"],[0.8,\"#7fbc41\"],[0.9,\"#4d9221\"],[1,\"#276419\"]]},\"xaxis\":{\"gridcolor\":\"white\",\"linecolor\":\"white\",\"ticks\":\"\",\"title\":{\"standoff\":15},\"zerolinecolor\":\"white\",\"automargin\":true,\"zerolinewidth\":2},\"yaxis\":{\"gridcolor\":\"white\",\"linecolor\":\"white\",\"ticks\":\"\",\"title\":{\"standoff\":15},\"zerolinecolor\":\"white\",\"automargin\":true,\"zerolinewidth\":2},\"scene\":{\"xaxis\":{\"backgroundcolor\":\"#E5ECF6\",\"gridcolor\":\"white\",\"linecolor\":\"white\",\"showbackground\":true,\"ticks\":\"\",\"zerolinecolor\":\"white\",\"gridwidth\":2},\"yaxis\":{\"backgroundcolor\":\"#E5ECF6\",\"gridcolor\":\"white\",\"linecolor\":\"white\",\"showbackground\":true,\"ticks\":\"\",\"zerolinecolor\":\"white\",\"gridwidth\":2},\"zaxis\":{\"backgroundcolor\":\"#E5ECF6\",\"gridcolor\":\"white\",\"linecolor\":\"white\",\"showbackground\":true,\"ticks\":\"\",\"zerolinecolor\":\"white\",\"gridwidth\":2}},\"shapedefaults\":{\"line\":{\"color\":\"#2a3f5f\"}},\"annotationdefaults\":{\"arrowcolor\":\"#2a3f5f\",\"arrowhead\":0,\"arrowwidth\":1},\"geo\":{\"bgcolor\":\"white\",\"landcolor\":\"#E5ECF6\",\"subunitcolor\":\"white\",\"showland\":true,\"showlakes\":true,\"lakecolor\":\"white\"},\"title\":{\"x\":0.05},\"mapbox\":{\"style\":\"light\"}}},\"scene\":{\"domain\":{\"x\":[0.0,1.0],\"y\":[0.0,1.0]},\"xaxis\":{\"title\":{\"text\":\"x_coord\"}},\"yaxis\":{\"title\":{\"text\":\"y_coord\"}},\"zaxis\":{\"title\":{\"text\":\"z_coord\"}}},\"legend\":{\"title\":{\"text\":\"label\"},\"tracegroupgap\":0},\"margin\":{\"t\":60},\"width\":1100,\"height\":1100},                        {\"responsive\": true}                    ).then(function(){\n",
       "                            \n",
       "var gd = document.getElementById('13345e33-a1d2-440e-a777-a6c74280691c');\n",
       "var x = new MutationObserver(function (mutations, observer) {{\n",
       "        var display = window.getComputedStyle(gd).display;\n",
       "        if (!display || display === 'none') {{\n",
       "            console.log([gd, 'removed!']);\n",
       "            Plotly.purge(gd);\n",
       "            observer.disconnect();\n",
       "        }}\n",
       "}});\n",
       "\n",
       "// Listen for the removal of the full notebook cells\n",
       "var notebookContainer = gd.closest('#notebook-container');\n",
       "if (notebookContainer) {{\n",
       "    x.observe(notebookContainer, {childList: true});\n",
       "}}\n",
       "\n",
       "// Listen for the clearing of the current output cell\n",
       "var outputEl = gd.closest('.output');\n",
       "if (outputEl) {{\n",
       "    x.observe(outputEl, {childList: true});\n",
       "}}\n",
       "\n",
       "                        })                };                });            </script>        </div>"
      ]
     },
     "metadata": {},
     "output_type": "display_data"
    }
   ],
   "source": [
    "# cluster visualization\n",
    "fig2 = px.scatter_3d(df_CB, x='x_coord', y='y_coord', z='z_coord', color='label')\n",
    "fig2.update_traces(marker_size=10)\n",
    "\n",
    "fig2.update_layout(\n",
    "    width = 1100, \n",
    "    height= 1100\n",
    ")\n",
    "fig2.show()"
   ]
  },
  {
   "cell_type": "markdown",
   "id": "eeff49c1",
   "metadata": {},
   "source": [
    "# 4. Get transmembrane outside and inside protein pdb\n",
    "### outside and inside protein residue number"
   ]
  },
  {
   "cell_type": "code",
   "execution_count": 64,
   "id": "ea135b63",
   "metadata": {},
   "outputs": [],
   "source": [
    "out_resnum = df_CB[df_CB['label'] == '0']['residue_number'].tolist()\n",
    "in_resnum = df_CB[df_CB['label'] == '1']['residue_number'].tolist()"
   ]
  },
  {
   "cell_type": "code",
   "execution_count": 66,
   "id": "0897572f",
   "metadata": {},
   "outputs": [
    {
     "data": {
      "text/plain": [
       "(95, 45)"
      ]
     },
     "execution_count": 66,
     "metadata": {},
     "output_type": "execute_result"
    }
   ],
   "source": [
    "len(out_resnum), len(in_resnum) # =140"
   ]
  },
  {
   "cell_type": "code",
   "execution_count": 67,
   "id": "e4f662c4",
   "metadata": {},
   "outputs": [
    {
     "data": {
      "text/plain": [
       "(95, 45)"
      ]
     },
     "execution_count": 67,
     "metadata": {},
     "output_type": "execute_result"
    }
   ],
   "source": [
    "len(set(out_resnum)), len(set(in_resnum))"
   ]
  },
  {
   "cell_type": "markdown",
   "id": "979b26a7",
   "metadata": {},
   "source": [
    "### outside_pdb and inside_pdb"
   ]
  },
  {
   "cell_type": "code",
   "execution_count": 81,
   "id": "ad804785",
   "metadata": {},
   "outputs": [],
   "source": [
    "## OUTSIDE PROTEIN - label0\n",
    "residue_remove(pdbfile=\"./target/truncation.pdb\", \n",
    "               remove_ids=in_resnum+CB_nan, \n",
    "               outputName=\"./target/outside.pdb\")\n",
    "\n",
    "## INSIDE PROTEIN - label1\n",
    "residue_remove(pdbfile=\"./target/truncation.pdb\", \n",
    "               remove_ids=out_resnum+CB_nan, \n",
    "               outputName=\"./target/inside.pdb\")"
   ]
  },
  {
   "cell_type": "code",
   "execution_count": 70,
   "id": "edb1622a",
   "metadata": {},
   "outputs": [
    {
     "data": {
      "text/plain": [
       "(95, 45)"
      ]
     },
     "execution_count": 70,
     "metadata": {},
     "output_type": "execute_result"
    }
   ],
   "source": [
    "# for test\n",
    "op = PandasPdb().read_pdb(\"./target/outside.pdb\")\n",
    "ip = PandasPdb().read_pdb(\"./target/inside.pdb\")\n",
    "len(set(op.df['ATOM']['residue_number'])), len(set(ip.df['ATOM']['residue_number']))"
   ]
  },
  {
   "cell_type": "markdown",
   "id": "59a98ee4",
   "metadata": {},
   "source": [
    "# 5. Replace residue numbers by continuous numbers 🧬🌟 CHANGE RESIDUE NUMBER"
   ]
  },
  {
   "cell_type": "code",
   "execution_count": 86,
   "id": "78e39a48",
   "metadata": {},
   "outputs": [
    {
     "name": "stdout",
     "output_type": "stream",
     "text": [
      "149\n",
      "95\n",
      "45\n"
     ]
    }
   ],
   "source": [
    "## for whole \n",
    "update_resnum(pdbfile=\"./target/truncation.pdb\")\n",
    "\n",
    "## for outside part\n",
    "update_resnum(pdbfile=\"./target/outside.pdb\")\n",
    "\n",
    "## for inside part\n",
    "update_resnum(pdbfile=\"./target/inside.pdb\")"
   ]
  },
  {
   "cell_type": "markdown",
   "id": "921e6ffb",
   "metadata": {},
   "source": [
    "# 6. Select specifi AA position 🤨 for only ouside_update_resnum.pdb\n",
    "#### ref: https://www.sigmaaldrich.com/US/en/technical-documents/technical-article/protein-biology/protein-structural-analysis/amino-acid-reference-chart\n",
    "#### ref: https://github.com/RosettaCommons/RFdiffusion\n",
    "#### At pH $7^{B}$\n",
    "### \"In the paper we define a hotspot as a residue on the target protein which is within 10A Cbeta distance of the binder\"\n",
    "\n",
    "- Can I use AF2_multimer for validation? I found that use_multimer=True would help with the in\n",
    "silico score.\n",
    "\n"
   ]
  },
  {
   "cell_type": "code",
   "execution_count": 88,
   "id": "0246313b",
   "metadata": {},
   "outputs": [],
   "source": [
    "very_hydrohobic = list(map(str.upper,['Leu', 'Ile', 'Phe', 'Trp', 'Val', 'Met']))\n",
    "hydrohobic = list(map(str.upper,['Cys', 'Tyr', 'Ala']))\n",
    "neural = list(map(str.upper,['Thr', 'His', 'Gly', 'Ser', 'Gln']))\n",
    "hydrophilic = list(map(str.upper,['Arg', 'Lys', 'Asn', 'Glu', 'Pro', 'Asp']))"
   ]
  },
  {
   "cell_type": "code",
   "execution_count": 99,
   "id": "0aa730d9",
   "metadata": {},
   "outputs": [
    {
     "data": {
      "text/html": [
       "<div>\n",
       "<style scoped>\n",
       "    .dataframe tbody tr th:only-of-type {\n",
       "        vertical-align: middle;\n",
       "    }\n",
       "\n",
       "    .dataframe tbody tr th {\n",
       "        vertical-align: top;\n",
       "    }\n",
       "\n",
       "    .dataframe thead th {\n",
       "        text-align: right;\n",
       "    }\n",
       "</style>\n",
       "<table border=\"1\" class=\"dataframe\">\n",
       "  <thead>\n",
       "    <tr style=\"text-align: right;\">\n",
       "      <th></th>\n",
       "      <th>atom_name</th>\n",
       "      <th>residue_name</th>\n",
       "      <th>residue_number</th>\n",
       "      <th>x_coord</th>\n",
       "      <th>y_coord</th>\n",
       "      <th>z_coord</th>\n",
       "    </tr>\n",
       "  </thead>\n",
       "  <tbody>\n",
       "    <tr>\n",
       "      <th>3</th>\n",
       "      <td>CB</td>\n",
       "      <td>ARG</td>\n",
       "      <td>1</td>\n",
       "      <td>-19.548</td>\n",
       "      <td>0.117</td>\n",
       "      <td>-0.729</td>\n",
       "    </tr>\n",
       "    <tr>\n",
       "      <th>14</th>\n",
       "      <td>CB</td>\n",
       "      <td>GLN</td>\n",
       "      <td>2</td>\n",
       "      <td>-17.363</td>\n",
       "      <td>-4.088</td>\n",
       "      <td>-3.220</td>\n",
       "    </tr>\n",
       "    <tr>\n",
       "      <th>23</th>\n",
       "      <td>CB</td>\n",
       "      <td>GLN</td>\n",
       "      <td>3</td>\n",
       "      <td>-12.863</td>\n",
       "      <td>-2.928</td>\n",
       "      <td>-0.537</td>\n",
       "    </tr>\n",
       "    <tr>\n",
       "      <th>32</th>\n",
       "      <td>CB</td>\n",
       "      <td>LEU</td>\n",
       "      <td>4</td>\n",
       "      <td>-15.576</td>\n",
       "      <td>-1.252</td>\n",
       "      <td>3.533</td>\n",
       "    </tr>\n",
       "    <tr>\n",
       "      <th>40</th>\n",
       "      <td>CB</td>\n",
       "      <td>TYR</td>\n",
       "      <td>5</td>\n",
       "      <td>-19.833</td>\n",
       "      <td>-4.008</td>\n",
       "      <td>3.599</td>\n",
       "    </tr>\n",
       "    <tr>\n",
       "      <th>...</th>\n",
       "      <td>...</td>\n",
       "      <td>...</td>\n",
       "      <td>...</td>\n",
       "      <td>...</td>\n",
       "      <td>...</td>\n",
       "      <td>...</td>\n",
       "    </tr>\n",
       "    <tr>\n",
       "      <th>800</th>\n",
       "      <td>CB</td>\n",
       "      <td>ARG</td>\n",
       "      <td>91</td>\n",
       "      <td>-14.250</td>\n",
       "      <td>-19.722</td>\n",
       "      <td>5.362</td>\n",
       "    </tr>\n",
       "    <tr>\n",
       "      <th>811</th>\n",
       "      <td>CB</td>\n",
       "      <td>LYS</td>\n",
       "      <td>92</td>\n",
       "      <td>-16.204</td>\n",
       "      <td>-18.073</td>\n",
       "      <td>0.034</td>\n",
       "    </tr>\n",
       "    <tr>\n",
       "      <th>820</th>\n",
       "      <td>CB</td>\n",
       "      <td>LEU</td>\n",
       "      <td>93</td>\n",
       "      <td>-10.963</td>\n",
       "      <td>-17.682</td>\n",
       "      <td>-2.362</td>\n",
       "    </tr>\n",
       "    <tr>\n",
       "      <th>828</th>\n",
       "      <td>CB</td>\n",
       "      <td>ILE</td>\n",
       "      <td>94</td>\n",
       "      <td>-15.660</td>\n",
       "      <td>-16.372</td>\n",
       "      <td>-4.713</td>\n",
       "    </tr>\n",
       "    <tr>\n",
       "      <th>836</th>\n",
       "      <td>CB</td>\n",
       "      <td>ASN</td>\n",
       "      <td>95</td>\n",
       "      <td>-16.730</td>\n",
       "      <td>-13.813</td>\n",
       "      <td>-0.102</td>\n",
       "    </tr>\n",
       "  </tbody>\n",
       "</table>\n",
       "<p>95 rows × 6 columns</p>\n",
       "</div>"
      ],
      "text/plain": [
       "    atom_name residue_name  residue_number  x_coord  y_coord  z_coord\n",
       "3          CB          ARG               1  -19.548    0.117   -0.729\n",
       "14         CB          GLN               2  -17.363   -4.088   -3.220\n",
       "23         CB          GLN               3  -12.863   -2.928   -0.537\n",
       "32         CB          LEU               4  -15.576   -1.252    3.533\n",
       "40         CB          TYR               5  -19.833   -4.008    3.599\n",
       "..        ...          ...             ...      ...      ...      ...\n",
       "800        CB          ARG              91  -14.250  -19.722    5.362\n",
       "811        CB          LYS              92  -16.204  -18.073    0.034\n",
       "820        CB          LEU              93  -10.963  -17.682   -2.362\n",
       "828        CB          ILE              94  -15.660  -16.372   -4.713\n",
       "836        CB          ASN              95  -16.730  -13.813   -0.102\n",
       "\n",
       "[95 rows x 6 columns]"
      ]
     },
     "execution_count": 99,
     "metadata": {},
     "output_type": "execute_result"
    }
   ],
   "source": [
    "outside = PandasPdb().read_pdb('./target/outside_update_resnum.pdb')\n",
    "outdf = outside.df[\"ATOM\"][cols]\n",
    "outdf_CB = outdf[outdf[\"atom_name\"]==\"CB\"]\n",
    "outdf_CB"
   ]
  },
  {
   "cell_type": "code",
   "execution_count": 98,
   "id": "2767beae",
   "metadata": {},
   "outputs": [
    {
     "data": {
      "text/html": [
       "<div>\n",
       "<style scoped>\n",
       "    .dataframe tbody tr th:only-of-type {\n",
       "        vertical-align: middle;\n",
       "    }\n",
       "\n",
       "    .dataframe tbody tr th {\n",
       "        vertical-align: top;\n",
       "    }\n",
       "\n",
       "    .dataframe thead th {\n",
       "        text-align: right;\n",
       "    }\n",
       "</style>\n",
       "<table border=\"1\" class=\"dataframe\">\n",
       "  <thead>\n",
       "    <tr style=\"text-align: right;\">\n",
       "      <th></th>\n",
       "      <th>atom_name</th>\n",
       "      <th>residue_name</th>\n",
       "      <th>residue_number</th>\n",
       "      <th>x_coord</th>\n",
       "      <th>y_coord</th>\n",
       "      <th>z_coord</th>\n",
       "      <th>hydrohobic</th>\n",
       "    </tr>\n",
       "  </thead>\n",
       "  <tbody>\n",
       "    <tr>\n",
       "      <th>3</th>\n",
       "      <td>CB</td>\n",
       "      <td>ARG</td>\n",
       "      <td>1</td>\n",
       "      <td>-19.548</td>\n",
       "      <td>0.117</td>\n",
       "      <td>-0.729</td>\n",
       "      <td>no</td>\n",
       "    </tr>\n",
       "    <tr>\n",
       "      <th>14</th>\n",
       "      <td>CB</td>\n",
       "      <td>GLN</td>\n",
       "      <td>2</td>\n",
       "      <td>-17.363</td>\n",
       "      <td>-4.088</td>\n",
       "      <td>-3.220</td>\n",
       "      <td>no</td>\n",
       "    </tr>\n",
       "    <tr>\n",
       "      <th>23</th>\n",
       "      <td>CB</td>\n",
       "      <td>GLN</td>\n",
       "      <td>3</td>\n",
       "      <td>-12.863</td>\n",
       "      <td>-2.928</td>\n",
       "      <td>-0.537</td>\n",
       "      <td>no</td>\n",
       "    </tr>\n",
       "    <tr>\n",
       "      <th>32</th>\n",
       "      <td>CB</td>\n",
       "      <td>LEU</td>\n",
       "      <td>4</td>\n",
       "      <td>-15.576</td>\n",
       "      <td>-1.252</td>\n",
       "      <td>3.533</td>\n",
       "      <td>yes</td>\n",
       "    </tr>\n",
       "    <tr>\n",
       "      <th>40</th>\n",
       "      <td>CB</td>\n",
       "      <td>TYR</td>\n",
       "      <td>5</td>\n",
       "      <td>-19.833</td>\n",
       "      <td>-4.008</td>\n",
       "      <td>3.599</td>\n",
       "      <td>no</td>\n",
       "    </tr>\n",
       "    <tr>\n",
       "      <th>...</th>\n",
       "      <td>...</td>\n",
       "      <td>...</td>\n",
       "      <td>...</td>\n",
       "      <td>...</td>\n",
       "      <td>...</td>\n",
       "      <td>...</td>\n",
       "      <td>...</td>\n",
       "    </tr>\n",
       "    <tr>\n",
       "      <th>800</th>\n",
       "      <td>CB</td>\n",
       "      <td>ARG</td>\n",
       "      <td>91</td>\n",
       "      <td>-14.250</td>\n",
       "      <td>-19.722</td>\n",
       "      <td>5.362</td>\n",
       "      <td>no</td>\n",
       "    </tr>\n",
       "    <tr>\n",
       "      <th>811</th>\n",
       "      <td>CB</td>\n",
       "      <td>LYS</td>\n",
       "      <td>92</td>\n",
       "      <td>-16.204</td>\n",
       "      <td>-18.073</td>\n",
       "      <td>0.034</td>\n",
       "      <td>no</td>\n",
       "    </tr>\n",
       "    <tr>\n",
       "      <th>820</th>\n",
       "      <td>CB</td>\n",
       "      <td>LEU</td>\n",
       "      <td>93</td>\n",
       "      <td>-10.963</td>\n",
       "      <td>-17.682</td>\n",
       "      <td>-2.362</td>\n",
       "      <td>yes</td>\n",
       "    </tr>\n",
       "    <tr>\n",
       "      <th>828</th>\n",
       "      <td>CB</td>\n",
       "      <td>ILE</td>\n",
       "      <td>94</td>\n",
       "      <td>-15.660</td>\n",
       "      <td>-16.372</td>\n",
       "      <td>-4.713</td>\n",
       "      <td>yes</td>\n",
       "    </tr>\n",
       "    <tr>\n",
       "      <th>836</th>\n",
       "      <td>CB</td>\n",
       "      <td>ASN</td>\n",
       "      <td>95</td>\n",
       "      <td>-16.730</td>\n",
       "      <td>-13.813</td>\n",
       "      <td>-0.102</td>\n",
       "      <td>no</td>\n",
       "    </tr>\n",
       "  </tbody>\n",
       "</table>\n",
       "<p>95 rows × 7 columns</p>\n",
       "</div>"
      ],
      "text/plain": [
       "    atom_name residue_name  residue_number  x_coord  y_coord  z_coord  \\\n",
       "3          CB          ARG               1  -19.548    0.117   -0.729   \n",
       "14         CB          GLN               2  -17.363   -4.088   -3.220   \n",
       "23         CB          GLN               3  -12.863   -2.928   -0.537   \n",
       "32         CB          LEU               4  -15.576   -1.252    3.533   \n",
       "40         CB          TYR               5  -19.833   -4.008    3.599   \n",
       "..        ...          ...             ...      ...      ...      ...   \n",
       "800        CB          ARG              91  -14.250  -19.722    5.362   \n",
       "811        CB          LYS              92  -16.204  -18.073    0.034   \n",
       "820        CB          LEU              93  -10.963  -17.682   -2.362   \n",
       "828        CB          ILE              94  -15.660  -16.372   -4.713   \n",
       "836        CB          ASN              95  -16.730  -13.813   -0.102   \n",
       "\n",
       "    hydrohobic  \n",
       "3           no  \n",
       "14          no  \n",
       "23          no  \n",
       "32         yes  \n",
       "40          no  \n",
       "..         ...  \n",
       "800         no  \n",
       "811         no  \n",
       "820        yes  \n",
       "828        yes  \n",
       "836         no  \n",
       "\n",
       "[95 rows x 7 columns]"
      ]
     },
     "execution_count": 98,
     "metadata": {},
     "output_type": "execute_result"
    }
   ],
   "source": [
    "# # highlight very_hydrohobic aas\n",
    "# hyd = []\n",
    "# for res in outdf_CB['residue_name']:\n",
    "#     if res in very_hydrohobic:\n",
    "#         hyd.append('yes')\n",
    "#     else:\n",
    "#         hyd.append('no')\n",
    "        \n",
    "# outdf_CB['hydrohobic'] = hyd\n",
    "# outdf_CB"
   ]
  },
  {
   "cell_type": "code",
   "execution_count": null,
   "id": "82f52482",
   "metadata": {},
   "outputs": [],
   "source": []
  },
  {
   "cell_type": "code",
   "execution_count": 106,
   "id": "7d4596ca",
   "metadata": {},
   "outputs": [
    {
     "data": {
      "application/vnd.plotly.v1+json": {
       "config": {
        "plotlyServerURL": "https://plot.ly"
       },
       "data": [
        {
         "hovertemplate": "label=1<br>x_coord=%{x}<br>y_coord=%{y}<br>z_coord=%{z}<extra></extra>",
         "legendgroup": "1",
         "marker": {
          "color": "#636efa",
          "size": 10,
          "symbol": "circle"
         },
         "mode": "markers",
         "name": "1",
         "scene": "scene",
         "showlegend": true,
         "type": "scatter3d",
         "x": [
          17.085,
          12.505,
          11.779,
          13.504,
          11.041,
          7.024,
          8.863,
          5.113,
          2.711,
          4.251,
          3.567,
          -0.753,
          18.5,
          21.394,
          21.461,
          21.727,
          24.717,
          26.869,
          26.897,
          26.298,
          31.134,
          28.049,
          9.631,
          8.54,
          9.114,
          14.266,
          10.33,
          12.613,
          8.15,
          7.471,
          3.723,
          7.472,
          8.858,
          3.543,
          3.001,
          7.657,
          6.237,
          -3.048,
          -4.532,
          -8.407,
          -5.104,
          -1.227,
          -4.821,
          -7.003,
          -2.436
         ],
         "y": [
          29.147,
          31.513,
          27.657,
          24.063,
          27.148,
          27.884,
          21.706,
          25.341,
          23.394,
          18.522,
          20.605,
          23.104,
          11.449,
          15.428,
          12.74,
          8.288,
          10.963,
          13.21,
          8.996,
          5.075,
          5.503,
          1.344,
          -15.979,
          -11.328,
          -12.678,
          -10.255,
          -5.888,
          -6.65,
          -3.883,
          0.908,
          -2.988,
          -6.306,
          -1.919,
          -1.073,
          -6.404,
          -6.659,
          -2.102,
          13.904,
          13.655,
          17.019,
          19.547,
          18.292,
          19.749,
          23.205,
          24.489
         ],
         "z": [
          -19.554,
          -21.284,
          -25.057,
          -21.142,
          -17.728,
          -21.446,
          -17.761,
          -16.718,
          -21.24,
          -19.685,
          -14.724,
          -16.417,
          -8.501,
          -6.456,
          -1.872,
          -4.881,
          -8.408,
          -3.998,
          -1.128,
          -4.283,
          -7.956,
          -7.066,
          -21.48,
          -24.469,
          -29.746,
          -29.899,
          -29.445,
          -34.949,
          -35.371,
          -33.177,
          -33.536,
          -31.594,
          -28.479,
          -28.168,
          -28.127,
          -25.452,
          -22.979,
          -21.003,
          -26.076,
          -24.753,
          -21.49,
          -25.069,
          -28.811,
          -25.432,
          -23.013
         ]
        },
        {
         "hovertemplate": "label=0<br>x_coord=%{x}<br>y_coord=%{y}<br>z_coord=%{z}<extra></extra>",
         "legendgroup": "0",
         "marker": {
          "color": "#EF553B",
          "size": 10,
          "symbol": "circle"
         },
         "mode": "markers",
         "name": "0",
         "scene": "scene",
         "showlegend": true,
         "type": "scatter3d",
         "x": [
          -19.548,
          -17.363,
          -12.863,
          -15.576,
          -19.833,
          -22.148,
          -23.533,
          -21.683,
          -27,
          -25.827,
          -21.878,
          -25.414,
          -29.131,
          -25.349,
          -23.937,
          -29.249,
          -29.933,
          -25.405,
          -27.122,
          -25.429,
          -23.462,
          -22.422,
          -18.727,
          -19.023,
          -13.981,
          -0.362,
          -2.459,
          -4.346,
          -4.86,
          -6.081,
          -8.904,
          -9.67,
          -10.51,
          -12.809,
          -14.682,
          -15.344,
          -16.829,
          -22.79,
          -20.038,
          -17.62,
          -22.697,
          -24.109,
          -18.879,
          -16.587,
          -19.868,
          -15.713,
          -11.078,
          -11.426,
          -15.113,
          -12.352,
          -7.894,
          -10.757,
          -12.807,
          -7.923,
          -6.402,
          -10.05,
          -7.99,
          0.29,
          -5.619,
          -2.679,
          0.372,
          -4.922,
          1.429,
          1.633,
          -1.973,
          -5.354,
          -10.43,
          -11.126,
          -6.671,
          -7.993,
          -13.269,
          -11.269,
          -12.656,
          -7.086,
          -3.267,
          -7.121,
          -2.127,
          -1.945,
          -2.725,
          -6.327,
          -7.969,
          -6.429,
          -8.608,
          -12.201,
          -11.974,
          -11.119,
          -14.894,
          -17.113,
          -15.86,
          -19.258,
          -14.25,
          -16.204,
          -10.963,
          -15.66,
          -16.73
         ],
         "y": [
          0.117,
          -4.088,
          -2.928,
          -1.252,
          -4.008,
          -5.547,
          -8.078,
          -4.406,
          -5.039,
          -4.758,
          -1.453,
          0.629,
          -0.536,
          1.14,
          4.589,
          4.95,
          4.547,
          7.654,
          13.379,
          15.878,
          11.196,
          10.955,
          14.34,
          12.667,
          13.947,
          6.828,
          11.587,
          12.173,
          6.76,
          7.568,
          11.937,
          9.034,
          4.961,
          8.303,
          11.152,
          6.512,
          4.426,
          4.811,
          3.48,
          7.986,
          9.515,
          10.518,
          10.692,
          13.4,
          17.434,
          18.835,
          16.832,
          20.514,
          17.476,
          13.326,
          16.291,
          18.257,
          13.403,
          11.473,
          15.787,
          13.646,
          8.947,
          11.805,
          7.821,
          10.314,
          6.262,
          3.598,
          2.888,
          -2.485,
          -3.515,
          -1.738,
          -0.903,
          -3.97,
          -1.646,
          2.651,
          1.385,
          0.594,
          6.182,
          -2.624,
          -0.58,
          -4.709,
          -7.598,
          -7.466,
          -12.217,
          -9.699,
          -6.923,
          -11.294,
          -14.18,
          -10.195,
          -9.804,
          -15.127,
          -15.29,
          -10.996,
          -13.081,
          -17.607,
          -19.722,
          -18.073,
          -17.682,
          -16.372,
          -13.813
         ],
         "z": [
          -0.729,
          -3.22,
          -0.537,
          3.533,
          3.599,
          -0.073,
          -4.681,
          -8.145,
          -7.079,
          -1.913,
          -3.412,
          -6.954,
          -3.178,
          0.382,
          -3.263,
          -4.489,
          0.936,
          1.138,
          -5.204,
          -0.611,
          0.891,
          -4.891,
          -4.59,
          1.027,
          -4.079,
          5.557,
          7.284,
          2.22,
          2.268,
          7.267,
          6.019,
          1.345,
          4.564,
          7.991,
          3.936,
          1.219,
          6.123,
          5.267,
          9.965,
          9.443,
          6.647,
          11.755,
          13.003,
          9.538,
          7.362,
          5.566,
          4.281,
          8.147,
          10.611,
          8.683,
          9.88,
          13.893,
          14.523,
          13.112,
          16.2,
          19.59,
          18.553,
          16.185,
          15.09,
          11.08,
          10.843,
          11.93,
          8.22,
          9.236,
          5.419,
          3.44,
          2.884,
          7.312,
          9.258,
          6.436,
          7.98,
          13.004,
          14.467,
          20.43,
          16.904,
          14.72,
          14.543,
          9.137,
          11.595,
          14.697,
          10.416,
          7.535,
          11.471,
          11.865,
          6.523,
          6.78,
          10.493,
          8.111,
          3.503,
          3.887,
          5.362,
          0.034,
          -2.362,
          -4.713,
          -0.102
         ]
        },
        {
         "marker": {
          "color": "yellow"
         },
         "mode": "markers",
         "text": [
          4,
          6,
          12,
          13,
          15,
          19,
          22,
          25,
          28,
          31,
          34,
          35,
          44,
          51,
          54,
          58,
          63,
          64,
          69,
          73,
          75,
          78,
          81,
          82,
          85,
          86,
          87,
          93,
          94
         ],
         "type": "scatter3d",
         "x": [
          -15.576,
          -22.148,
          -25.414,
          -29.131,
          -23.937,
          -27.122,
          -22.422,
          -13.981,
          -4.346,
          -8.904,
          -12.809,
          -14.682,
          -16.587,
          -7.894,
          -7.923,
          0.29,
          1.429,
          1.633,
          -6.671,
          -12.656,
          -3.267,
          -1.945,
          -7.969,
          -6.429,
          -11.974,
          -11.119,
          -14.894,
          -10.963,
          -15.66
         ],
         "y": [
          -1.252,
          -5.547,
          0.629,
          -0.536,
          4.589,
          13.379,
          10.955,
          13.947,
          12.173,
          11.937,
          8.303,
          11.152,
          13.4,
          16.291,
          11.473,
          11.805,
          2.888,
          -2.485,
          -1.646,
          6.182,
          -0.58,
          -7.466,
          -6.923,
          -11.294,
          -9.804,
          -15.127,
          -15.29,
          -17.682,
          -16.372
         ],
         "z": [
          3.533,
          -0.073,
          -6.954,
          -3.178,
          -3.263,
          -5.204,
          -4.891,
          -4.079,
          2.22,
          6.019,
          7.991,
          3.936,
          9.538,
          9.88,
          13.112,
          16.185,
          8.22,
          9.236,
          9.258,
          14.467,
          16.904,
          9.137,
          10.416,
          7.535,
          6.523,
          6.78,
          10.493,
          -2.362,
          -4.713
         ]
        },
        {
         "marker": {
          "color": "yellow"
         },
         "mode": "markers",
         "text": [
          4,
          6,
          12,
          13,
          15,
          19,
          22,
          25,
          28,
          31,
          34,
          35,
          44,
          51,
          54,
          58,
          63,
          64,
          69,
          73,
          75,
          78,
          81,
          82,
          85,
          86,
          87,
          93,
          94
         ],
         "type": "scatter3d",
         "x": [
          -15.576,
          -22.148,
          -25.414,
          -29.131,
          -23.937,
          -27.122,
          -22.422,
          -13.981,
          -4.346,
          -8.904,
          -12.809,
          -14.682,
          -16.587,
          -7.894,
          -7.923,
          0.29,
          1.429,
          1.633,
          -6.671,
          -12.656,
          -3.267,
          -1.945,
          -7.969,
          -6.429,
          -11.974,
          -11.119,
          -14.894,
          -10.963,
          -15.66
         ],
         "y": [
          -1.252,
          -5.547,
          0.629,
          -0.536,
          4.589,
          13.379,
          10.955,
          13.947,
          12.173,
          11.937,
          8.303,
          11.152,
          13.4,
          16.291,
          11.473,
          11.805,
          2.888,
          -2.485,
          -1.646,
          6.182,
          -0.58,
          -7.466,
          -6.923,
          -11.294,
          -9.804,
          -15.127,
          -15.29,
          -17.682,
          -16.372
         ],
         "z": [
          3.533,
          -0.073,
          -6.954,
          -3.178,
          -3.263,
          -5.204,
          -4.891,
          -4.079,
          2.22,
          6.019,
          7.991,
          3.936,
          9.538,
          9.88,
          13.112,
          16.185,
          8.22,
          9.236,
          9.258,
          14.467,
          16.904,
          9.137,
          10.416,
          7.535,
          6.523,
          6.78,
          10.493,
          -2.362,
          -4.713
         ]
        }
       ],
       "layout": {
        "height": 1100,
        "legend": {
         "title": {
          "text": "label"
         },
         "tracegroupgap": 0
        },
        "margin": {
         "t": 60
        },
        "scene": {
         "domain": {
          "x": [
           0,
           1
          ],
          "y": [
           0,
           1
          ]
         },
         "xaxis": {
          "title": {
           "text": "x_coord"
          }
         },
         "yaxis": {
          "title": {
           "text": "y_coord"
          }
         },
         "zaxis": {
          "title": {
           "text": "z_coord"
          }
         }
        },
        "template": {
         "data": {
          "bar": [
           {
            "error_x": {
             "color": "#2a3f5f"
            },
            "error_y": {
             "color": "#2a3f5f"
            },
            "marker": {
             "line": {
              "color": "#E5ECF6",
              "width": 0.5
             },
             "pattern": {
              "fillmode": "overlay",
              "size": 10,
              "solidity": 0.2
             }
            },
            "type": "bar"
           }
          ],
          "barpolar": [
           {
            "marker": {
             "line": {
              "color": "#E5ECF6",
              "width": 0.5
             },
             "pattern": {
              "fillmode": "overlay",
              "size": 10,
              "solidity": 0.2
             }
            },
            "type": "barpolar"
           }
          ],
          "carpet": [
           {
            "aaxis": {
             "endlinecolor": "#2a3f5f",
             "gridcolor": "white",
             "linecolor": "white",
             "minorgridcolor": "white",
             "startlinecolor": "#2a3f5f"
            },
            "baxis": {
             "endlinecolor": "#2a3f5f",
             "gridcolor": "white",
             "linecolor": "white",
             "minorgridcolor": "white",
             "startlinecolor": "#2a3f5f"
            },
            "type": "carpet"
           }
          ],
          "choropleth": [
           {
            "colorbar": {
             "outlinewidth": 0,
             "ticks": ""
            },
            "type": "choropleth"
           }
          ],
          "contour": [
           {
            "colorbar": {
             "outlinewidth": 0,
             "ticks": ""
            },
            "colorscale": [
             [
              0,
              "#0d0887"
             ],
             [
              0.1111111111111111,
              "#46039f"
             ],
             [
              0.2222222222222222,
              "#7201a8"
             ],
             [
              0.3333333333333333,
              "#9c179e"
             ],
             [
              0.4444444444444444,
              "#bd3786"
             ],
             [
              0.5555555555555556,
              "#d8576b"
             ],
             [
              0.6666666666666666,
              "#ed7953"
             ],
             [
              0.7777777777777778,
              "#fb9f3a"
             ],
             [
              0.8888888888888888,
              "#fdca26"
             ],
             [
              1,
              "#f0f921"
             ]
            ],
            "type": "contour"
           }
          ],
          "contourcarpet": [
           {
            "colorbar": {
             "outlinewidth": 0,
             "ticks": ""
            },
            "type": "contourcarpet"
           }
          ],
          "heatmap": [
           {
            "colorbar": {
             "outlinewidth": 0,
             "ticks": ""
            },
            "colorscale": [
             [
              0,
              "#0d0887"
             ],
             [
              0.1111111111111111,
              "#46039f"
             ],
             [
              0.2222222222222222,
              "#7201a8"
             ],
             [
              0.3333333333333333,
              "#9c179e"
             ],
             [
              0.4444444444444444,
              "#bd3786"
             ],
             [
              0.5555555555555556,
              "#d8576b"
             ],
             [
              0.6666666666666666,
              "#ed7953"
             ],
             [
              0.7777777777777778,
              "#fb9f3a"
             ],
             [
              0.8888888888888888,
              "#fdca26"
             ],
             [
              1,
              "#f0f921"
             ]
            ],
            "type": "heatmap"
           }
          ],
          "heatmapgl": [
           {
            "colorbar": {
             "outlinewidth": 0,
             "ticks": ""
            },
            "colorscale": [
             [
              0,
              "#0d0887"
             ],
             [
              0.1111111111111111,
              "#46039f"
             ],
             [
              0.2222222222222222,
              "#7201a8"
             ],
             [
              0.3333333333333333,
              "#9c179e"
             ],
             [
              0.4444444444444444,
              "#bd3786"
             ],
             [
              0.5555555555555556,
              "#d8576b"
             ],
             [
              0.6666666666666666,
              "#ed7953"
             ],
             [
              0.7777777777777778,
              "#fb9f3a"
             ],
             [
              0.8888888888888888,
              "#fdca26"
             ],
             [
              1,
              "#f0f921"
             ]
            ],
            "type": "heatmapgl"
           }
          ],
          "histogram": [
           {
            "marker": {
             "pattern": {
              "fillmode": "overlay",
              "size": 10,
              "solidity": 0.2
             }
            },
            "type": "histogram"
           }
          ],
          "histogram2d": [
           {
            "colorbar": {
             "outlinewidth": 0,
             "ticks": ""
            },
            "colorscale": [
             [
              0,
              "#0d0887"
             ],
             [
              0.1111111111111111,
              "#46039f"
             ],
             [
              0.2222222222222222,
              "#7201a8"
             ],
             [
              0.3333333333333333,
              "#9c179e"
             ],
             [
              0.4444444444444444,
              "#bd3786"
             ],
             [
              0.5555555555555556,
              "#d8576b"
             ],
             [
              0.6666666666666666,
              "#ed7953"
             ],
             [
              0.7777777777777778,
              "#fb9f3a"
             ],
             [
              0.8888888888888888,
              "#fdca26"
             ],
             [
              1,
              "#f0f921"
             ]
            ],
            "type": "histogram2d"
           }
          ],
          "histogram2dcontour": [
           {
            "colorbar": {
             "outlinewidth": 0,
             "ticks": ""
            },
            "colorscale": [
             [
              0,
              "#0d0887"
             ],
             [
              0.1111111111111111,
              "#46039f"
             ],
             [
              0.2222222222222222,
              "#7201a8"
             ],
             [
              0.3333333333333333,
              "#9c179e"
             ],
             [
              0.4444444444444444,
              "#bd3786"
             ],
             [
              0.5555555555555556,
              "#d8576b"
             ],
             [
              0.6666666666666666,
              "#ed7953"
             ],
             [
              0.7777777777777778,
              "#fb9f3a"
             ],
             [
              0.8888888888888888,
              "#fdca26"
             ],
             [
              1,
              "#f0f921"
             ]
            ],
            "type": "histogram2dcontour"
           }
          ],
          "mesh3d": [
           {
            "colorbar": {
             "outlinewidth": 0,
             "ticks": ""
            },
            "type": "mesh3d"
           }
          ],
          "parcoords": [
           {
            "line": {
             "colorbar": {
              "outlinewidth": 0,
              "ticks": ""
             }
            },
            "type": "parcoords"
           }
          ],
          "pie": [
           {
            "automargin": true,
            "type": "pie"
           }
          ],
          "scatter": [
           {
            "fillpattern": {
             "fillmode": "overlay",
             "size": 10,
             "solidity": 0.2
            },
            "type": "scatter"
           }
          ],
          "scatter3d": [
           {
            "line": {
             "colorbar": {
              "outlinewidth": 0,
              "ticks": ""
             }
            },
            "marker": {
             "colorbar": {
              "outlinewidth": 0,
              "ticks": ""
             }
            },
            "type": "scatter3d"
           }
          ],
          "scattercarpet": [
           {
            "marker": {
             "colorbar": {
              "outlinewidth": 0,
              "ticks": ""
             }
            },
            "type": "scattercarpet"
           }
          ],
          "scattergeo": [
           {
            "marker": {
             "colorbar": {
              "outlinewidth": 0,
              "ticks": ""
             }
            },
            "type": "scattergeo"
           }
          ],
          "scattergl": [
           {
            "marker": {
             "colorbar": {
              "outlinewidth": 0,
              "ticks": ""
             }
            },
            "type": "scattergl"
           }
          ],
          "scattermapbox": [
           {
            "marker": {
             "colorbar": {
              "outlinewidth": 0,
              "ticks": ""
             }
            },
            "type": "scattermapbox"
           }
          ],
          "scatterpolar": [
           {
            "marker": {
             "colorbar": {
              "outlinewidth": 0,
              "ticks": ""
             }
            },
            "type": "scatterpolar"
           }
          ],
          "scatterpolargl": [
           {
            "marker": {
             "colorbar": {
              "outlinewidth": 0,
              "ticks": ""
             }
            },
            "type": "scatterpolargl"
           }
          ],
          "scatterternary": [
           {
            "marker": {
             "colorbar": {
              "outlinewidth": 0,
              "ticks": ""
             }
            },
            "type": "scatterternary"
           }
          ],
          "surface": [
           {
            "colorbar": {
             "outlinewidth": 0,
             "ticks": ""
            },
            "colorscale": [
             [
              0,
              "#0d0887"
             ],
             [
              0.1111111111111111,
              "#46039f"
             ],
             [
              0.2222222222222222,
              "#7201a8"
             ],
             [
              0.3333333333333333,
              "#9c179e"
             ],
             [
              0.4444444444444444,
              "#bd3786"
             ],
             [
              0.5555555555555556,
              "#d8576b"
             ],
             [
              0.6666666666666666,
              "#ed7953"
             ],
             [
              0.7777777777777778,
              "#fb9f3a"
             ],
             [
              0.8888888888888888,
              "#fdca26"
             ],
             [
              1,
              "#f0f921"
             ]
            ],
            "type": "surface"
           }
          ],
          "table": [
           {
            "cells": {
             "fill": {
              "color": "#EBF0F8"
             },
             "line": {
              "color": "white"
             }
            },
            "header": {
             "fill": {
              "color": "#C8D4E3"
             },
             "line": {
              "color": "white"
             }
            },
            "type": "table"
           }
          ]
         },
         "layout": {
          "annotationdefaults": {
           "arrowcolor": "#2a3f5f",
           "arrowhead": 0,
           "arrowwidth": 1
          },
          "autotypenumbers": "strict",
          "coloraxis": {
           "colorbar": {
            "outlinewidth": 0,
            "ticks": ""
           }
          },
          "colorscale": {
           "diverging": [
            [
             0,
             "#8e0152"
            ],
            [
             0.1,
             "#c51b7d"
            ],
            [
             0.2,
             "#de77ae"
            ],
            [
             0.3,
             "#f1b6da"
            ],
            [
             0.4,
             "#fde0ef"
            ],
            [
             0.5,
             "#f7f7f7"
            ],
            [
             0.6,
             "#e6f5d0"
            ],
            [
             0.7,
             "#b8e186"
            ],
            [
             0.8,
             "#7fbc41"
            ],
            [
             0.9,
             "#4d9221"
            ],
            [
             1,
             "#276419"
            ]
           ],
           "sequential": [
            [
             0,
             "#0d0887"
            ],
            [
             0.1111111111111111,
             "#46039f"
            ],
            [
             0.2222222222222222,
             "#7201a8"
            ],
            [
             0.3333333333333333,
             "#9c179e"
            ],
            [
             0.4444444444444444,
             "#bd3786"
            ],
            [
             0.5555555555555556,
             "#d8576b"
            ],
            [
             0.6666666666666666,
             "#ed7953"
            ],
            [
             0.7777777777777778,
             "#fb9f3a"
            ],
            [
             0.8888888888888888,
             "#fdca26"
            ],
            [
             1,
             "#f0f921"
            ]
           ],
           "sequentialminus": [
            [
             0,
             "#0d0887"
            ],
            [
             0.1111111111111111,
             "#46039f"
            ],
            [
             0.2222222222222222,
             "#7201a8"
            ],
            [
             0.3333333333333333,
             "#9c179e"
            ],
            [
             0.4444444444444444,
             "#bd3786"
            ],
            [
             0.5555555555555556,
             "#d8576b"
            ],
            [
             0.6666666666666666,
             "#ed7953"
            ],
            [
             0.7777777777777778,
             "#fb9f3a"
            ],
            [
             0.8888888888888888,
             "#fdca26"
            ],
            [
             1,
             "#f0f921"
            ]
           ]
          },
          "colorway": [
           "#636efa",
           "#EF553B",
           "#00cc96",
           "#ab63fa",
           "#FFA15A",
           "#19d3f3",
           "#FF6692",
           "#B6E880",
           "#FF97FF",
           "#FECB52"
          ],
          "font": {
           "color": "#2a3f5f"
          },
          "geo": {
           "bgcolor": "white",
           "lakecolor": "white",
           "landcolor": "#E5ECF6",
           "showlakes": true,
           "showland": true,
           "subunitcolor": "white"
          },
          "hoverlabel": {
           "align": "left"
          },
          "hovermode": "closest",
          "mapbox": {
           "style": "light"
          },
          "paper_bgcolor": "white",
          "plot_bgcolor": "#E5ECF6",
          "polar": {
           "angularaxis": {
            "gridcolor": "white",
            "linecolor": "white",
            "ticks": ""
           },
           "bgcolor": "#E5ECF6",
           "radialaxis": {
            "gridcolor": "white",
            "linecolor": "white",
            "ticks": ""
           }
          },
          "scene": {
           "xaxis": {
            "backgroundcolor": "#E5ECF6",
            "gridcolor": "white",
            "gridwidth": 2,
            "linecolor": "white",
            "showbackground": true,
            "ticks": "",
            "zerolinecolor": "white"
           },
           "yaxis": {
            "backgroundcolor": "#E5ECF6",
            "gridcolor": "white",
            "gridwidth": 2,
            "linecolor": "white",
            "showbackground": true,
            "ticks": "",
            "zerolinecolor": "white"
           },
           "zaxis": {
            "backgroundcolor": "#E5ECF6",
            "gridcolor": "white",
            "gridwidth": 2,
            "linecolor": "white",
            "showbackground": true,
            "ticks": "",
            "zerolinecolor": "white"
           }
          },
          "shapedefaults": {
           "line": {
            "color": "#2a3f5f"
           }
          },
          "ternary": {
           "aaxis": {
            "gridcolor": "white",
            "linecolor": "white",
            "ticks": ""
           },
           "baxis": {
            "gridcolor": "white",
            "linecolor": "white",
            "ticks": ""
           },
           "bgcolor": "#E5ECF6",
           "caxis": {
            "gridcolor": "white",
            "linecolor": "white",
            "ticks": ""
           }
          },
          "title": {
           "x": 0.05
          },
          "xaxis": {
           "automargin": true,
           "gridcolor": "white",
           "linecolor": "white",
           "ticks": "",
           "title": {
            "standoff": 15
           },
           "zerolinecolor": "white",
           "zerolinewidth": 2
          },
          "yaxis": {
           "automargin": true,
           "gridcolor": "white",
           "linecolor": "white",
           "ticks": "",
           "title": {
            "standoff": 15
           },
           "zerolinecolor": "white",
           "zerolinewidth": 2
          }
         }
        },
        "width": 1100
       }
      },
      "text/html": [
       "<div>                            <div id=\"68cdd4ab-d287-441e-ab1d-0328c7929d90\" class=\"plotly-graph-div\" style=\"height:1100px; width:1100px;\"></div>            <script type=\"text/javascript\">                require([\"plotly\"], function(Plotly) {                    window.PLOTLYENV=window.PLOTLYENV || {};                                    if (document.getElementById(\"68cdd4ab-d287-441e-ab1d-0328c7929d90\")) {                    Plotly.newPlot(                        \"68cdd4ab-d287-441e-ab1d-0328c7929d90\",                        [{\"hovertemplate\":\"label=1<br>x_coord=%{x}<br>y_coord=%{y}<br>z_coord=%{z}<extra></extra>\",\"legendgroup\":\"1\",\"marker\":{\"color\":\"#636efa\",\"symbol\":\"circle\",\"size\":10},\"mode\":\"markers\",\"name\":\"1\",\"scene\":\"scene\",\"showlegend\":true,\"x\":[17.085,12.505,11.779,13.504,11.041,7.024,8.863,5.113,2.711,4.251,3.567,-0.753,18.5,21.394,21.461,21.727,24.717,26.869,26.897,26.298,31.134,28.049,9.631,8.54,9.114,14.266,10.33,12.613,8.15,7.471,3.723,7.472,8.858,3.543,3.001,7.657,6.237,-3.048,-4.532,-8.407,-5.104,-1.227,-4.821,-7.003,-2.436],\"y\":[29.147,31.513,27.657,24.063,27.148,27.884,21.706,25.341,23.394,18.522,20.605,23.104,11.449,15.428,12.74,8.288,10.963,13.21,8.996,5.075,5.503,1.344,-15.979,-11.328,-12.678,-10.255,-5.888,-6.65,-3.883,0.908,-2.988,-6.306,-1.919,-1.073,-6.404,-6.659,-2.102,13.904,13.655,17.019,19.547,18.292,19.749,23.205,24.489],\"z\":[-19.554,-21.284,-25.057,-21.142,-17.728,-21.446,-17.761,-16.718,-21.24,-19.685,-14.724,-16.417,-8.501,-6.456,-1.872,-4.881,-8.408,-3.998,-1.128,-4.283,-7.956,-7.066,-21.48,-24.469,-29.746,-29.899,-29.445,-34.949,-35.371,-33.177,-33.536,-31.594,-28.479,-28.168,-28.127,-25.452,-22.979,-21.003,-26.076,-24.753,-21.49,-25.069,-28.811,-25.432,-23.013],\"type\":\"scatter3d\"},{\"hovertemplate\":\"label=0<br>x_coord=%{x}<br>y_coord=%{y}<br>z_coord=%{z}<extra></extra>\",\"legendgroup\":\"0\",\"marker\":{\"color\":\"#EF553B\",\"symbol\":\"circle\",\"size\":10},\"mode\":\"markers\",\"name\":\"0\",\"scene\":\"scene\",\"showlegend\":true,\"x\":[-19.548,-17.363,-12.863,-15.576,-19.833,-22.148,-23.533,-21.683,-27.0,-25.827,-21.878,-25.414,-29.131,-25.349,-23.937,-29.249,-29.933,-25.405,-27.122,-25.429,-23.462,-22.422,-18.727,-19.023,-13.981,-0.362,-2.459,-4.346,-4.86,-6.081,-8.904,-9.67,-10.51,-12.809,-14.682,-15.344,-16.829,-22.79,-20.038,-17.62,-22.697,-24.109,-18.879,-16.587,-19.868,-15.713,-11.078,-11.426,-15.113,-12.352,-7.894,-10.757,-12.807,-7.923,-6.402,-10.05,-7.99,0.29,-5.619,-2.679,0.372,-4.922,1.429,1.633,-1.973,-5.354,-10.43,-11.126,-6.671,-7.993,-13.269,-11.269,-12.656,-7.086,-3.267,-7.121,-2.127,-1.945,-2.725,-6.327,-7.969,-6.429,-8.608,-12.201,-11.974,-11.119,-14.894,-17.113,-15.86,-19.258,-14.25,-16.204,-10.963,-15.66,-16.73],\"y\":[0.117,-4.088,-2.928,-1.252,-4.008,-5.547,-8.078,-4.406,-5.039,-4.758,-1.453,0.629,-0.536,1.14,4.589,4.95,4.547,7.654,13.379,15.878,11.196,10.955,14.34,12.667,13.947,6.828,11.587,12.173,6.76,7.568,11.937,9.034,4.961,8.303,11.152,6.512,4.426,4.811,3.48,7.986,9.515,10.518,10.692,13.4,17.434,18.835,16.832,20.514,17.476,13.326,16.291,18.257,13.403,11.473,15.787,13.646,8.947,11.805,7.821,10.314,6.262,3.598,2.888,-2.485,-3.515,-1.738,-0.903,-3.97,-1.646,2.651,1.385,0.594,6.182,-2.624,-0.58,-4.709,-7.598,-7.466,-12.217,-9.699,-6.923,-11.294,-14.18,-10.195,-9.804,-15.127,-15.29,-10.996,-13.081,-17.607,-19.722,-18.073,-17.682,-16.372,-13.813],\"z\":[-0.729,-3.22,-0.537,3.533,3.599,-0.073,-4.681,-8.145,-7.079,-1.913,-3.412,-6.954,-3.178,0.382,-3.263,-4.489,0.936,1.138,-5.204,-0.611,0.891,-4.891,-4.59,1.027,-4.079,5.557,7.284,2.22,2.268,7.267,6.019,1.345,4.564,7.991,3.936,1.219,6.123,5.267,9.965,9.443,6.647,11.755,13.003,9.538,7.362,5.566,4.281,8.147,10.611,8.683,9.88,13.893,14.523,13.112,16.2,19.59,18.553,16.185,15.09,11.08,10.843,11.93,8.22,9.236,5.419,3.44,2.884,7.312,9.258,6.436,7.98,13.004,14.467,20.43,16.904,14.72,14.543,9.137,11.595,14.697,10.416,7.535,11.471,11.865,6.523,6.78,10.493,8.111,3.503,3.887,5.362,0.034,-2.362,-4.713,-0.102],\"type\":\"scatter3d\"},{\"marker\":{\"color\":\"yellow\"},\"mode\":\"markers\",\"text\":[4.0,6.0,12.0,13.0,15.0,19.0,22.0,25.0,28.0,31.0,34.0,35.0,44.0,51.0,54.0,58.0,63.0,64.0,69.0,73.0,75.0,78.0,81.0,82.0,85.0,86.0,87.0,93.0,94.0],\"x\":[-15.576,-22.148,-25.414,-29.131,-23.937,-27.122,-22.422,-13.981,-4.346,-8.904,-12.809,-14.682,-16.587,-7.894,-7.923,0.29,1.429,1.633,-6.671,-12.656,-3.267,-1.945,-7.969,-6.429,-11.974,-11.119,-14.894,-10.963,-15.66],\"y\":[-1.252,-5.547,0.629,-0.536,4.589,13.379,10.955,13.947,12.173,11.937,8.303,11.152,13.4,16.291,11.473,11.805,2.888,-2.485,-1.646,6.182,-0.58,-7.466,-6.923,-11.294,-9.804,-15.127,-15.29,-17.682,-16.372],\"z\":[3.533,-0.073,-6.954,-3.178,-3.263,-5.204,-4.891,-4.079,2.22,6.019,7.991,3.936,9.538,9.88,13.112,16.185,8.22,9.236,9.258,14.467,16.904,9.137,10.416,7.535,6.523,6.78,10.493,-2.362,-4.713],\"type\":\"scatter3d\"},{\"marker\":{\"color\":\"yellow\"},\"mode\":\"markers\",\"text\":[4.0,6.0,12.0,13.0,15.0,19.0,22.0,25.0,28.0,31.0,34.0,35.0,44.0,51.0,54.0,58.0,63.0,64.0,69.0,73.0,75.0,78.0,81.0,82.0,85.0,86.0,87.0,93.0,94.0],\"x\":[-15.576,-22.148,-25.414,-29.131,-23.937,-27.122,-22.422,-13.981,-4.346,-8.904,-12.809,-14.682,-16.587,-7.894,-7.923,0.29,1.429,1.633,-6.671,-12.656,-3.267,-1.945,-7.969,-6.429,-11.974,-11.119,-14.894,-10.963,-15.66],\"y\":[-1.252,-5.547,0.629,-0.536,4.589,13.379,10.955,13.947,12.173,11.937,8.303,11.152,13.4,16.291,11.473,11.805,2.888,-2.485,-1.646,6.182,-0.58,-7.466,-6.923,-11.294,-9.804,-15.127,-15.29,-17.682,-16.372],\"z\":[3.533,-0.073,-6.954,-3.178,-3.263,-5.204,-4.891,-4.079,2.22,6.019,7.991,3.936,9.538,9.88,13.112,16.185,8.22,9.236,9.258,14.467,16.904,9.137,10.416,7.535,6.523,6.78,10.493,-2.362,-4.713],\"type\":\"scatter3d\"}],                        {\"template\":{\"data\":{\"histogram2dcontour\":[{\"type\":\"histogram2dcontour\",\"colorbar\":{\"outlinewidth\":0,\"ticks\":\"\"},\"colorscale\":[[0.0,\"#0d0887\"],[0.1111111111111111,\"#46039f\"],[0.2222222222222222,\"#7201a8\"],[0.3333333333333333,\"#9c179e\"],[0.4444444444444444,\"#bd3786\"],[0.5555555555555556,\"#d8576b\"],[0.6666666666666666,\"#ed7953\"],[0.7777777777777778,\"#fb9f3a\"],[0.8888888888888888,\"#fdca26\"],[1.0,\"#f0f921\"]]}],\"choropleth\":[{\"type\":\"choropleth\",\"colorbar\":{\"outlinewidth\":0,\"ticks\":\"\"}}],\"histogram2d\":[{\"type\":\"histogram2d\",\"colorbar\":{\"outlinewidth\":0,\"ticks\":\"\"},\"colorscale\":[[0.0,\"#0d0887\"],[0.1111111111111111,\"#46039f\"],[0.2222222222222222,\"#7201a8\"],[0.3333333333333333,\"#9c179e\"],[0.4444444444444444,\"#bd3786\"],[0.5555555555555556,\"#d8576b\"],[0.6666666666666666,\"#ed7953\"],[0.7777777777777778,\"#fb9f3a\"],[0.8888888888888888,\"#fdca26\"],[1.0,\"#f0f921\"]]}],\"heatmap\":[{\"type\":\"heatmap\",\"colorbar\":{\"outlinewidth\":0,\"ticks\":\"\"},\"colorscale\":[[0.0,\"#0d0887\"],[0.1111111111111111,\"#46039f\"],[0.2222222222222222,\"#7201a8\"],[0.3333333333333333,\"#9c179e\"],[0.4444444444444444,\"#bd3786\"],[0.5555555555555556,\"#d8576b\"],[0.6666666666666666,\"#ed7953\"],[0.7777777777777778,\"#fb9f3a\"],[0.8888888888888888,\"#fdca26\"],[1.0,\"#f0f921\"]]}],\"heatmapgl\":[{\"type\":\"heatmapgl\",\"colorbar\":{\"outlinewidth\":0,\"ticks\":\"\"},\"colorscale\":[[0.0,\"#0d0887\"],[0.1111111111111111,\"#46039f\"],[0.2222222222222222,\"#7201a8\"],[0.3333333333333333,\"#9c179e\"],[0.4444444444444444,\"#bd3786\"],[0.5555555555555556,\"#d8576b\"],[0.6666666666666666,\"#ed7953\"],[0.7777777777777778,\"#fb9f3a\"],[0.8888888888888888,\"#fdca26\"],[1.0,\"#f0f921\"]]}],\"contourcarpet\":[{\"type\":\"contourcarpet\",\"colorbar\":{\"outlinewidth\":0,\"ticks\":\"\"}}],\"contour\":[{\"type\":\"contour\",\"colorbar\":{\"outlinewidth\":0,\"ticks\":\"\"},\"colorscale\":[[0.0,\"#0d0887\"],[0.1111111111111111,\"#46039f\"],[0.2222222222222222,\"#7201a8\"],[0.3333333333333333,\"#9c179e\"],[0.4444444444444444,\"#bd3786\"],[0.5555555555555556,\"#d8576b\"],[0.6666666666666666,\"#ed7953\"],[0.7777777777777778,\"#fb9f3a\"],[0.8888888888888888,\"#fdca26\"],[1.0,\"#f0f921\"]]}],\"surface\":[{\"type\":\"surface\",\"colorbar\":{\"outlinewidth\":0,\"ticks\":\"\"},\"colorscale\":[[0.0,\"#0d0887\"],[0.1111111111111111,\"#46039f\"],[0.2222222222222222,\"#7201a8\"],[0.3333333333333333,\"#9c179e\"],[0.4444444444444444,\"#bd3786\"],[0.5555555555555556,\"#d8576b\"],[0.6666666666666666,\"#ed7953\"],[0.7777777777777778,\"#fb9f3a\"],[0.8888888888888888,\"#fdca26\"],[1.0,\"#f0f921\"]]}],\"mesh3d\":[{\"type\":\"mesh3d\",\"colorbar\":{\"outlinewidth\":0,\"ticks\":\"\"}}],\"scatter\":[{\"fillpattern\":{\"fillmode\":\"overlay\",\"size\":10,\"solidity\":0.2},\"type\":\"scatter\"}],\"parcoords\":[{\"type\":\"parcoords\",\"line\":{\"colorbar\":{\"outlinewidth\":0,\"ticks\":\"\"}}}],\"scatterpolargl\":[{\"type\":\"scatterpolargl\",\"marker\":{\"colorbar\":{\"outlinewidth\":0,\"ticks\":\"\"}}}],\"bar\":[{\"error_x\":{\"color\":\"#2a3f5f\"},\"error_y\":{\"color\":\"#2a3f5f\"},\"marker\":{\"line\":{\"color\":\"#E5ECF6\",\"width\":0.5},\"pattern\":{\"fillmode\":\"overlay\",\"size\":10,\"solidity\":0.2}},\"type\":\"bar\"}],\"scattergeo\":[{\"type\":\"scattergeo\",\"marker\":{\"colorbar\":{\"outlinewidth\":0,\"ticks\":\"\"}}}],\"scatterpolar\":[{\"type\":\"scatterpolar\",\"marker\":{\"colorbar\":{\"outlinewidth\":0,\"ticks\":\"\"}}}],\"histogram\":[{\"marker\":{\"pattern\":{\"fillmode\":\"overlay\",\"size\":10,\"solidity\":0.2}},\"type\":\"histogram\"}],\"scattergl\":[{\"type\":\"scattergl\",\"marker\":{\"colorbar\":{\"outlinewidth\":0,\"ticks\":\"\"}}}],\"scatter3d\":[{\"type\":\"scatter3d\",\"line\":{\"colorbar\":{\"outlinewidth\":0,\"ticks\":\"\"}},\"marker\":{\"colorbar\":{\"outlinewidth\":0,\"ticks\":\"\"}}}],\"scattermapbox\":[{\"type\":\"scattermapbox\",\"marker\":{\"colorbar\":{\"outlinewidth\":0,\"ticks\":\"\"}}}],\"scatterternary\":[{\"type\":\"scatterternary\",\"marker\":{\"colorbar\":{\"outlinewidth\":0,\"ticks\":\"\"}}}],\"scattercarpet\":[{\"type\":\"scattercarpet\",\"marker\":{\"colorbar\":{\"outlinewidth\":0,\"ticks\":\"\"}}}],\"carpet\":[{\"aaxis\":{\"endlinecolor\":\"#2a3f5f\",\"gridcolor\":\"white\",\"linecolor\":\"white\",\"minorgridcolor\":\"white\",\"startlinecolor\":\"#2a3f5f\"},\"baxis\":{\"endlinecolor\":\"#2a3f5f\",\"gridcolor\":\"white\",\"linecolor\":\"white\",\"minorgridcolor\":\"white\",\"startlinecolor\":\"#2a3f5f\"},\"type\":\"carpet\"}],\"table\":[{\"cells\":{\"fill\":{\"color\":\"#EBF0F8\"},\"line\":{\"color\":\"white\"}},\"header\":{\"fill\":{\"color\":\"#C8D4E3\"},\"line\":{\"color\":\"white\"}},\"type\":\"table\"}],\"barpolar\":[{\"marker\":{\"line\":{\"color\":\"#E5ECF6\",\"width\":0.5},\"pattern\":{\"fillmode\":\"overlay\",\"size\":10,\"solidity\":0.2}},\"type\":\"barpolar\"}],\"pie\":[{\"automargin\":true,\"type\":\"pie\"}]},\"layout\":{\"autotypenumbers\":\"strict\",\"colorway\":[\"#636efa\",\"#EF553B\",\"#00cc96\",\"#ab63fa\",\"#FFA15A\",\"#19d3f3\",\"#FF6692\",\"#B6E880\",\"#FF97FF\",\"#FECB52\"],\"font\":{\"color\":\"#2a3f5f\"},\"hovermode\":\"closest\",\"hoverlabel\":{\"align\":\"left\"},\"paper_bgcolor\":\"white\",\"plot_bgcolor\":\"#E5ECF6\",\"polar\":{\"bgcolor\":\"#E5ECF6\",\"angularaxis\":{\"gridcolor\":\"white\",\"linecolor\":\"white\",\"ticks\":\"\"},\"radialaxis\":{\"gridcolor\":\"white\",\"linecolor\":\"white\",\"ticks\":\"\"}},\"ternary\":{\"bgcolor\":\"#E5ECF6\",\"aaxis\":{\"gridcolor\":\"white\",\"linecolor\":\"white\",\"ticks\":\"\"},\"baxis\":{\"gridcolor\":\"white\",\"linecolor\":\"white\",\"ticks\":\"\"},\"caxis\":{\"gridcolor\":\"white\",\"linecolor\":\"white\",\"ticks\":\"\"}},\"coloraxis\":{\"colorbar\":{\"outlinewidth\":0,\"ticks\":\"\"}},\"colorscale\":{\"sequential\":[[0.0,\"#0d0887\"],[0.1111111111111111,\"#46039f\"],[0.2222222222222222,\"#7201a8\"],[0.3333333333333333,\"#9c179e\"],[0.4444444444444444,\"#bd3786\"],[0.5555555555555556,\"#d8576b\"],[0.6666666666666666,\"#ed7953\"],[0.7777777777777778,\"#fb9f3a\"],[0.8888888888888888,\"#fdca26\"],[1.0,\"#f0f921\"]],\"sequentialminus\":[[0.0,\"#0d0887\"],[0.1111111111111111,\"#46039f\"],[0.2222222222222222,\"#7201a8\"],[0.3333333333333333,\"#9c179e\"],[0.4444444444444444,\"#bd3786\"],[0.5555555555555556,\"#d8576b\"],[0.6666666666666666,\"#ed7953\"],[0.7777777777777778,\"#fb9f3a\"],[0.8888888888888888,\"#fdca26\"],[1.0,\"#f0f921\"]],\"diverging\":[[0,\"#8e0152\"],[0.1,\"#c51b7d\"],[0.2,\"#de77ae\"],[0.3,\"#f1b6da\"],[0.4,\"#fde0ef\"],[0.5,\"#f7f7f7\"],[0.6,\"#e6f5d0\"],[0.7,\"#b8e186\"],[0.8,\"#7fbc41\"],[0.9,\"#4d9221\"],[1,\"#276419\"]]},\"xaxis\":{\"gridcolor\":\"white\",\"linecolor\":\"white\",\"ticks\":\"\",\"title\":{\"standoff\":15},\"zerolinecolor\":\"white\",\"automargin\":true,\"zerolinewidth\":2},\"yaxis\":{\"gridcolor\":\"white\",\"linecolor\":\"white\",\"ticks\":\"\",\"title\":{\"standoff\":15},\"zerolinecolor\":\"white\",\"automargin\":true,\"zerolinewidth\":2},\"scene\":{\"xaxis\":{\"backgroundcolor\":\"#E5ECF6\",\"gridcolor\":\"white\",\"linecolor\":\"white\",\"showbackground\":true,\"ticks\":\"\",\"zerolinecolor\":\"white\",\"gridwidth\":2},\"yaxis\":{\"backgroundcolor\":\"#E5ECF6\",\"gridcolor\":\"white\",\"linecolor\":\"white\",\"showbackground\":true,\"ticks\":\"\",\"zerolinecolor\":\"white\",\"gridwidth\":2},\"zaxis\":{\"backgroundcolor\":\"#E5ECF6\",\"gridcolor\":\"white\",\"linecolor\":\"white\",\"showbackground\":true,\"ticks\":\"\",\"zerolinecolor\":\"white\",\"gridwidth\":2}},\"shapedefaults\":{\"line\":{\"color\":\"#2a3f5f\"}},\"annotationdefaults\":{\"arrowcolor\":\"#2a3f5f\",\"arrowhead\":0,\"arrowwidth\":1},\"geo\":{\"bgcolor\":\"white\",\"landcolor\":\"#E5ECF6\",\"subunitcolor\":\"white\",\"showland\":true,\"showlakes\":true,\"lakecolor\":\"white\"},\"title\":{\"x\":0.05},\"mapbox\":{\"style\":\"light\"}}},\"scene\":{\"domain\":{\"x\":[0.0,1.0],\"y\":[0.0,1.0]},\"xaxis\":{\"title\":{\"text\":\"x_coord\"}},\"yaxis\":{\"title\":{\"text\":\"y_coord\"}},\"zaxis\":{\"title\":{\"text\":\"z_coord\"}}},\"legend\":{\"title\":{\"text\":\"label\"},\"tracegroupgap\":0},\"margin\":{\"t\":60},\"width\":1100,\"height\":1100},                        {\"responsive\": true}                    ).then(function(){\n",
       "                            \n",
       "var gd = document.getElementById('68cdd4ab-d287-441e-ab1d-0328c7929d90');\n",
       "var x = new MutationObserver(function (mutations, observer) {{\n",
       "        var display = window.getComputedStyle(gd).display;\n",
       "        if (!display || display === 'none') {{\n",
       "            console.log([gd, 'removed!']);\n",
       "            Plotly.purge(gd);\n",
       "            observer.disconnect();\n",
       "        }}\n",
       "}});\n",
       "\n",
       "// Listen for the removal of the full notebook cells\n",
       "var notebookContainer = gd.closest('#notebook-container');\n",
       "if (notebookContainer) {{\n",
       "    x.observe(notebookContainer, {childList: true});\n",
       "}}\n",
       "\n",
       "// Listen for the clearing of the current output cell\n",
       "var outputEl = gd.closest('.output');\n",
       "if (outputEl) {{\n",
       "    x.observe(outputEl, {childList: true});\n",
       "}}\n",
       "\n",
       "                        })                };                });            </script>        </div>"
      ]
     },
     "metadata": {},
     "output_type": "display_data"
    }
   ],
   "source": [
    "very_hydrohobic_df=outdf_CB[outdf_CB['residue_name'].isin(very_hydrohobic)]\n",
    "\n",
    "fig2.add_trace(\n",
    "    go.Scatter3d(x=very_hydrohobic_df['x_coord'],\n",
    "                 y=very_hydrohobic_df['y_coord'],\n",
    "                 z=very_hydrohobic_df['z_coord'],\n",
    "                 marker_color='yellow',\n",
    "                 mode='markers',\n",
    "                 text=very_hydrohobic_df['residue_number'])\n",
    ")\n"
   ]
  },
  {
   "cell_type": "markdown",
   "id": "225388b2",
   "metadata": {},
   "source": [
    "# Make a PLANE!!!"
   ]
  },
  {
   "cell_type": "code",
   "execution_count": 112,
   "id": "ce31ba1b",
   "metadata": {
    "scrolled": true
   },
   "outputs": [
    {
     "data": {
      "text/html": [
       "<div>\n",
       "<style scoped>\n",
       "    .dataframe tbody tr th:only-of-type {\n",
       "        vertical-align: middle;\n",
       "    }\n",
       "\n",
       "    .dataframe tbody tr th {\n",
       "        vertical-align: top;\n",
       "    }\n",
       "\n",
       "    .dataframe thead th {\n",
       "        text-align: right;\n",
       "    }\n",
       "</style>\n",
       "<table border=\"1\" class=\"dataframe\">\n",
       "  <thead>\n",
       "    <tr style=\"text-align: right;\">\n",
       "      <th></th>\n",
       "      <th>atom_name</th>\n",
       "      <th>residue_name</th>\n",
       "      <th>residue_number</th>\n",
       "      <th>x_coord</th>\n",
       "      <th>y_coord</th>\n",
       "      <th>z_coord</th>\n",
       "      <th>label</th>\n",
       "      <th>new_label</th>\n",
       "    </tr>\n",
       "  </thead>\n",
       "  <tbody>\n",
       "    <tr>\n",
       "      <th>3</th>\n",
       "      <td>CB</td>\n",
       "      <td>PRO</td>\n",
       "      <td>23</td>\n",
       "      <td>17.085</td>\n",
       "      <td>29.147</td>\n",
       "      <td>-19.554</td>\n",
       "      <td>1</td>\n",
       "      <td>2</td>\n",
       "    </tr>\n",
       "    <tr>\n",
       "      <th>10</th>\n",
       "      <td>CB</td>\n",
       "      <td>HIS</td>\n",
       "      <td>24</td>\n",
       "      <td>12.505</td>\n",
       "      <td>31.513</td>\n",
       "      <td>-21.284</td>\n",
       "      <td>1</td>\n",
       "      <td>2</td>\n",
       "    </tr>\n",
       "    <tr>\n",
       "      <th>20</th>\n",
       "      <td>CB</td>\n",
       "      <td>ILE</td>\n",
       "      <td>25</td>\n",
       "      <td>11.779</td>\n",
       "      <td>27.657</td>\n",
       "      <td>-25.057</td>\n",
       "      <td>1</td>\n",
       "      <td>2</td>\n",
       "    </tr>\n",
       "    <tr>\n",
       "      <th>28</th>\n",
       "      <td>CB</td>\n",
       "      <td>THR</td>\n",
       "      <td>26</td>\n",
       "      <td>13.504</td>\n",
       "      <td>24.063</td>\n",
       "      <td>-21.142</td>\n",
       "      <td>1</td>\n",
       "      <td>2</td>\n",
       "    </tr>\n",
       "    <tr>\n",
       "      <th>35</th>\n",
       "      <td>CB</td>\n",
       "      <td>ASN</td>\n",
       "      <td>27</td>\n",
       "      <td>11.041</td>\n",
       "      <td>27.148</td>\n",
       "      <td>-17.728</td>\n",
       "      <td>1</td>\n",
       "      <td>2</td>\n",
       "    </tr>\n",
       "    <tr>\n",
       "      <th>43</th>\n",
       "      <td>CB</td>\n",
       "      <td>VAL</td>\n",
       "      <td>28</td>\n",
       "      <td>7.024</td>\n",
       "      <td>27.884</td>\n",
       "      <td>-21.446</td>\n",
       "      <td>1</td>\n",
       "      <td>2</td>\n",
       "    </tr>\n",
       "    <tr>\n",
       "      <th>54</th>\n",
       "      <td>CB</td>\n",
       "      <td>GLU</td>\n",
       "      <td>30</td>\n",
       "      <td>8.863</td>\n",
       "      <td>21.706</td>\n",
       "      <td>-17.761</td>\n",
       "      <td>1</td>\n",
       "      <td>2</td>\n",
       "    </tr>\n",
       "    <tr>\n",
       "      <th>63</th>\n",
       "      <td>CB</td>\n",
       "      <td>MET</td>\n",
       "      <td>31</td>\n",
       "      <td>5.113</td>\n",
       "      <td>25.341</td>\n",
       "      <td>-16.718</td>\n",
       "      <td>1</td>\n",
       "      <td>2</td>\n",
       "    </tr>\n",
       "    <tr>\n",
       "      <th>71</th>\n",
       "      <td>CB</td>\n",
       "      <td>LYS</td>\n",
       "      <td>32</td>\n",
       "      <td>2.711</td>\n",
       "      <td>23.394</td>\n",
       "      <td>-21.240</td>\n",
       "      <td>1</td>\n",
       "      <td>2</td>\n",
       "    </tr>\n",
       "    <tr>\n",
       "      <th>80</th>\n",
       "      <td>CB</td>\n",
       "      <td>HIS</td>\n",
       "      <td>33</td>\n",
       "      <td>4.251</td>\n",
       "      <td>18.522</td>\n",
       "      <td>-19.685</td>\n",
       "      <td>1</td>\n",
       "      <td>2</td>\n",
       "    </tr>\n",
       "    <tr>\n",
       "      <th>90</th>\n",
       "      <td>CB</td>\n",
       "      <td>TYR</td>\n",
       "      <td>34</td>\n",
       "      <td>3.567</td>\n",
       "      <td>20.605</td>\n",
       "      <td>-14.724</td>\n",
       "      <td>1</td>\n",
       "      <td>2</td>\n",
       "    </tr>\n",
       "    <tr>\n",
       "      <th>102</th>\n",
       "      <td>CB</td>\n",
       "      <td>LEU</td>\n",
       "      <td>35</td>\n",
       "      <td>-0.753</td>\n",
       "      <td>23.104</td>\n",
       "      <td>-16.417</td>\n",
       "      <td>1</td>\n",
       "      <td>2</td>\n",
       "    </tr>\n",
       "    <tr>\n",
       "      <th>351</th>\n",
       "      <td>CB</td>\n",
       "      <td>SER</td>\n",
       "      <td>106</td>\n",
       "      <td>18.500</td>\n",
       "      <td>11.449</td>\n",
       "      <td>-8.501</td>\n",
       "      <td>1</td>\n",
       "      <td>1</td>\n",
       "    </tr>\n",
       "    <tr>\n",
       "      <th>357</th>\n",
       "      <td>CB</td>\n",
       "      <td>CYS</td>\n",
       "      <td>107</td>\n",
       "      <td>21.394</td>\n",
       "      <td>15.428</td>\n",
       "      <td>-6.456</td>\n",
       "      <td>1</td>\n",
       "      <td>1</td>\n",
       "    </tr>\n",
       "    <tr>\n",
       "      <th>363</th>\n",
       "      <td>CB</td>\n",
       "      <td>LEU</td>\n",
       "      <td>108</td>\n",
       "      <td>21.461</td>\n",
       "      <td>12.740</td>\n",
       "      <td>-1.872</td>\n",
       "      <td>1</td>\n",
       "      <td>1</td>\n",
       "    </tr>\n",
       "    <tr>\n",
       "      <th>371</th>\n",
       "      <td>CB</td>\n",
       "      <td>LEU</td>\n",
       "      <td>109</td>\n",
       "      <td>21.727</td>\n",
       "      <td>8.288</td>\n",
       "      <td>-4.881</td>\n",
       "      <td>1</td>\n",
       "      <td>1</td>\n",
       "    </tr>\n",
       "    <tr>\n",
       "      <th>379</th>\n",
       "      <td>CB</td>\n",
       "      <td>HIS</td>\n",
       "      <td>110</td>\n",
       "      <td>24.717</td>\n",
       "      <td>10.963</td>\n",
       "      <td>-8.408</td>\n",
       "      <td>1</td>\n",
       "      <td>1</td>\n",
       "    </tr>\n",
       "    <tr>\n",
       "      <th>389</th>\n",
       "      <td>CB</td>\n",
       "      <td>LYS</td>\n",
       "      <td>111</td>\n",
       "      <td>26.869</td>\n",
       "      <td>13.210</td>\n",
       "      <td>-3.998</td>\n",
       "      <td>1</td>\n",
       "      <td>1</td>\n",
       "    </tr>\n",
       "    <tr>\n",
       "      <th>398</th>\n",
       "      <td>CB</td>\n",
       "      <td>HIS</td>\n",
       "      <td>112</td>\n",
       "      <td>26.897</td>\n",
       "      <td>8.996</td>\n",
       "      <td>-1.128</td>\n",
       "      <td>1</td>\n",
       "      <td>1</td>\n",
       "    </tr>\n",
       "    <tr>\n",
       "      <th>408</th>\n",
       "      <td>CB</td>\n",
       "      <td>VAL</td>\n",
       "      <td>113</td>\n",
       "      <td>26.298</td>\n",
       "      <td>5.075</td>\n",
       "      <td>-4.283</td>\n",
       "      <td>1</td>\n",
       "      <td>1</td>\n",
       "    </tr>\n",
       "    <tr>\n",
       "      <th>415</th>\n",
       "      <td>CB</td>\n",
       "      <td>SER</td>\n",
       "      <td>114</td>\n",
       "      <td>31.134</td>\n",
       "      <td>5.503</td>\n",
       "      <td>-7.956</td>\n",
       "      <td>1</td>\n",
       "      <td>1</td>\n",
       "    </tr>\n",
       "    <tr>\n",
       "      <th>421</th>\n",
       "      <td>CB</td>\n",
       "      <td>ALA</td>\n",
       "      <td>115</td>\n",
       "      <td>28.049</td>\n",
       "      <td>1.344</td>\n",
       "      <td>-7.066</td>\n",
       "      <td>1</td>\n",
       "      <td>1</td>\n",
       "    </tr>\n",
       "    <tr>\n",
       "      <th>783</th>\n",
       "      <td>CB</td>\n",
       "      <td>HIS</td>\n",
       "      <td>200</td>\n",
       "      <td>9.631</td>\n",
       "      <td>-15.979</td>\n",
       "      <td>-21.480</td>\n",
       "      <td>1</td>\n",
       "      <td>0</td>\n",
       "    </tr>\n",
       "    <tr>\n",
       "      <th>793</th>\n",
       "      <td>CB</td>\n",
       "      <td>LEU</td>\n",
       "      <td>201</td>\n",
       "      <td>8.540</td>\n",
       "      <td>-11.328</td>\n",
       "      <td>-24.469</td>\n",
       "      <td>1</td>\n",
       "      <td>0</td>\n",
       "    </tr>\n",
       "    <tr>\n",
       "      <th>801</th>\n",
       "      <td>CB</td>\n",
       "      <td>PRO</td>\n",
       "      <td>202</td>\n",
       "      <td>9.114</td>\n",
       "      <td>-12.678</td>\n",
       "      <td>-29.746</td>\n",
       "      <td>1</td>\n",
       "      <td>0</td>\n",
       "    </tr>\n",
       "    <tr>\n",
       "      <th>808</th>\n",
       "      <td>CB</td>\n",
       "      <td>THR</td>\n",
       "      <td>203</td>\n",
       "      <td>14.266</td>\n",
       "      <td>-10.255</td>\n",
       "      <td>-29.899</td>\n",
       "      <td>1</td>\n",
       "      <td>0</td>\n",
       "    </tr>\n",
       "    <tr>\n",
       "      <th>815</th>\n",
       "      <td>CB</td>\n",
       "      <td>ALA</td>\n",
       "      <td>204</td>\n",
       "      <td>10.330</td>\n",
       "      <td>-5.888</td>\n",
       "      <td>-29.445</td>\n",
       "      <td>1</td>\n",
       "      <td>0</td>\n",
       "    </tr>\n",
       "    <tr>\n",
       "      <th>820</th>\n",
       "      <td>CB</td>\n",
       "      <td>THR</td>\n",
       "      <td>205</td>\n",
       "      <td>12.613</td>\n",
       "      <td>-6.650</td>\n",
       "      <td>-34.949</td>\n",
       "      <td>1</td>\n",
       "      <td>0</td>\n",
       "    </tr>\n",
       "    <tr>\n",
       "      <th>827</th>\n",
       "      <td>CB</td>\n",
       "      <td>THR</td>\n",
       "      <td>206</td>\n",
       "      <td>8.150</td>\n",
       "      <td>-3.883</td>\n",
       "      <td>-35.371</td>\n",
       "      <td>1</td>\n",
       "      <td>0</td>\n",
       "    </tr>\n",
       "    <tr>\n",
       "      <th>834</th>\n",
       "      <td>CB</td>\n",
       "      <td>HIS</td>\n",
       "      <td>207</td>\n",
       "      <td>7.471</td>\n",
       "      <td>0.908</td>\n",
       "      <td>-33.177</td>\n",
       "      <td>1</td>\n",
       "      <td>0</td>\n",
       "    </tr>\n",
       "    <tr>\n",
       "      <th>844</th>\n",
       "      <td>CB</td>\n",
       "      <td>SER</td>\n",
       "      <td>208</td>\n",
       "      <td>3.723</td>\n",
       "      <td>-2.988</td>\n",
       "      <td>-33.536</td>\n",
       "      <td>1</td>\n",
       "      <td>0</td>\n",
       "    </tr>\n",
       "    <tr>\n",
       "      <th>850</th>\n",
       "      <td>CB</td>\n",
       "      <td>ALA</td>\n",
       "      <td>209</td>\n",
       "      <td>7.472</td>\n",
       "      <td>-6.306</td>\n",
       "      <td>-31.594</td>\n",
       "      <td>1</td>\n",
       "      <td>0</td>\n",
       "    </tr>\n",
       "    <tr>\n",
       "      <th>855</th>\n",
       "      <td>CB</td>\n",
       "      <td>HIS</td>\n",
       "      <td>210</td>\n",
       "      <td>8.858</td>\n",
       "      <td>-1.919</td>\n",
       "      <td>-28.479</td>\n",
       "      <td>1</td>\n",
       "      <td>0</td>\n",
       "    </tr>\n",
       "    <tr>\n",
       "      <th>865</th>\n",
       "      <td>CB</td>\n",
       "      <td>LEU</td>\n",
       "      <td>211</td>\n",
       "      <td>3.543</td>\n",
       "      <td>-1.073</td>\n",
       "      <td>-28.168</td>\n",
       "      <td>1</td>\n",
       "      <td>0</td>\n",
       "    </tr>\n",
       "    <tr>\n",
       "      <th>873</th>\n",
       "      <td>CB</td>\n",
       "      <td>VAL</td>\n",
       "      <td>212</td>\n",
       "      <td>3.001</td>\n",
       "      <td>-6.404</td>\n",
       "      <td>-28.127</td>\n",
       "      <td>1</td>\n",
       "      <td>0</td>\n",
       "    </tr>\n",
       "    <tr>\n",
       "      <th>880</th>\n",
       "      <td>CB</td>\n",
       "      <td>ASN</td>\n",
       "      <td>213</td>\n",
       "      <td>7.657</td>\n",
       "      <td>-6.659</td>\n",
       "      <td>-25.452</td>\n",
       "      <td>1</td>\n",
       "      <td>0</td>\n",
       "    </tr>\n",
       "    <tr>\n",
       "      <th>888</th>\n",
       "      <td>CB</td>\n",
       "      <td>ASP</td>\n",
       "      <td>214</td>\n",
       "      <td>6.237</td>\n",
       "      <td>-2.102</td>\n",
       "      <td>-22.979</td>\n",
       "      <td>1</td>\n",
       "      <td>0</td>\n",
       "    </tr>\n",
       "    <tr>\n",
       "      <th>1171</th>\n",
       "      <td>CB</td>\n",
       "      <td>TYR</td>\n",
       "      <td>290</td>\n",
       "      <td>-3.048</td>\n",
       "      <td>13.904</td>\n",
       "      <td>-21.003</td>\n",
       "      <td>1</td>\n",
       "      <td>2</td>\n",
       "    </tr>\n",
       "    <tr>\n",
       "      <th>1183</th>\n",
       "      <td>CB</td>\n",
       "      <td>GLU</td>\n",
       "      <td>291</td>\n",
       "      <td>-4.532</td>\n",
       "      <td>13.655</td>\n",
       "      <td>-26.076</td>\n",
       "      <td>1</td>\n",
       "      <td>2</td>\n",
       "    </tr>\n",
       "    <tr>\n",
       "      <th>1192</th>\n",
       "      <td>CB</td>\n",
       "      <td>PHE</td>\n",
       "      <td>292</td>\n",
       "      <td>-8.407</td>\n",
       "      <td>17.019</td>\n",
       "      <td>-24.753</td>\n",
       "      <td>1</td>\n",
       "      <td>2</td>\n",
       "    </tr>\n",
       "    <tr>\n",
       "      <th>1203</th>\n",
       "      <td>CB</td>\n",
       "      <td>LEU</td>\n",
       "      <td>293</td>\n",
       "      <td>-5.104</td>\n",
       "      <td>19.547</td>\n",
       "      <td>-21.490</td>\n",
       "      <td>1</td>\n",
       "      <td>2</td>\n",
       "    </tr>\n",
       "    <tr>\n",
       "      <th>1211</th>\n",
       "      <td>CB</td>\n",
       "      <td>LEU</td>\n",
       "      <td>294</td>\n",
       "      <td>-1.227</td>\n",
       "      <td>18.292</td>\n",
       "      <td>-25.069</td>\n",
       "      <td>1</td>\n",
       "      <td>2</td>\n",
       "    </tr>\n",
       "    <tr>\n",
       "      <th>1219</th>\n",
       "      <td>CB</td>\n",
       "      <td>LYS</td>\n",
       "      <td>295</td>\n",
       "      <td>-4.821</td>\n",
       "      <td>19.749</td>\n",
       "      <td>-28.811</td>\n",
       "      <td>1</td>\n",
       "      <td>2</td>\n",
       "    </tr>\n",
       "    <tr>\n",
       "      <th>1228</th>\n",
       "      <td>CB</td>\n",
       "      <td>VAL</td>\n",
       "      <td>296</td>\n",
       "      <td>-7.003</td>\n",
       "      <td>23.205</td>\n",
       "      <td>-25.432</td>\n",
       "      <td>1</td>\n",
       "      <td>2</td>\n",
       "    </tr>\n",
       "    <tr>\n",
       "      <th>1235</th>\n",
       "      <td>CB</td>\n",
       "      <td>ILE</td>\n",
       "      <td>297</td>\n",
       "      <td>-2.436</td>\n",
       "      <td>24.489</td>\n",
       "      <td>-23.013</td>\n",
       "      <td>1</td>\n",
       "      <td>2</td>\n",
       "    </tr>\n",
       "  </tbody>\n",
       "</table>\n",
       "</div>"
      ],
      "text/plain": [
       "     atom_name residue_name  residue_number  x_coord  y_coord  z_coord label  \\\n",
       "3           CB          PRO              23   17.085   29.147  -19.554     1   \n",
       "10          CB          HIS              24   12.505   31.513  -21.284     1   \n",
       "20          CB          ILE              25   11.779   27.657  -25.057     1   \n",
       "28          CB          THR              26   13.504   24.063  -21.142     1   \n",
       "35          CB          ASN              27   11.041   27.148  -17.728     1   \n",
       "43          CB          VAL              28    7.024   27.884  -21.446     1   \n",
       "54          CB          GLU              30    8.863   21.706  -17.761     1   \n",
       "63          CB          MET              31    5.113   25.341  -16.718     1   \n",
       "71          CB          LYS              32    2.711   23.394  -21.240     1   \n",
       "80          CB          HIS              33    4.251   18.522  -19.685     1   \n",
       "90          CB          TYR              34    3.567   20.605  -14.724     1   \n",
       "102         CB          LEU              35   -0.753   23.104  -16.417     1   \n",
       "351         CB          SER             106   18.500   11.449   -8.501     1   \n",
       "357         CB          CYS             107   21.394   15.428   -6.456     1   \n",
       "363         CB          LEU             108   21.461   12.740   -1.872     1   \n",
       "371         CB          LEU             109   21.727    8.288   -4.881     1   \n",
       "379         CB          HIS             110   24.717   10.963   -8.408     1   \n",
       "389         CB          LYS             111   26.869   13.210   -3.998     1   \n",
       "398         CB          HIS             112   26.897    8.996   -1.128     1   \n",
       "408         CB          VAL             113   26.298    5.075   -4.283     1   \n",
       "415         CB          SER             114   31.134    5.503   -7.956     1   \n",
       "421         CB          ALA             115   28.049    1.344   -7.066     1   \n",
       "783         CB          HIS             200    9.631  -15.979  -21.480     1   \n",
       "793         CB          LEU             201    8.540  -11.328  -24.469     1   \n",
       "801         CB          PRO             202    9.114  -12.678  -29.746     1   \n",
       "808         CB          THR             203   14.266  -10.255  -29.899     1   \n",
       "815         CB          ALA             204   10.330   -5.888  -29.445     1   \n",
       "820         CB          THR             205   12.613   -6.650  -34.949     1   \n",
       "827         CB          THR             206    8.150   -3.883  -35.371     1   \n",
       "834         CB          HIS             207    7.471    0.908  -33.177     1   \n",
       "844         CB          SER             208    3.723   -2.988  -33.536     1   \n",
       "850         CB          ALA             209    7.472   -6.306  -31.594     1   \n",
       "855         CB          HIS             210    8.858   -1.919  -28.479     1   \n",
       "865         CB          LEU             211    3.543   -1.073  -28.168     1   \n",
       "873         CB          VAL             212    3.001   -6.404  -28.127     1   \n",
       "880         CB          ASN             213    7.657   -6.659  -25.452     1   \n",
       "888         CB          ASP             214    6.237   -2.102  -22.979     1   \n",
       "1171        CB          TYR             290   -3.048   13.904  -21.003     1   \n",
       "1183        CB          GLU             291   -4.532   13.655  -26.076     1   \n",
       "1192        CB          PHE             292   -8.407   17.019  -24.753     1   \n",
       "1203        CB          LEU             293   -5.104   19.547  -21.490     1   \n",
       "1211        CB          LEU             294   -1.227   18.292  -25.069     1   \n",
       "1219        CB          LYS             295   -4.821   19.749  -28.811     1   \n",
       "1228        CB          VAL             296   -7.003   23.205  -25.432     1   \n",
       "1235        CB          ILE             297   -2.436   24.489  -23.013     1   \n",
       "\n",
       "     new_label  \n",
       "3            2  \n",
       "10           2  \n",
       "20           2  \n",
       "28           2  \n",
       "35           2  \n",
       "43           2  \n",
       "54           2  \n",
       "63           2  \n",
       "71           2  \n",
       "80           2  \n",
       "90           2  \n",
       "102          2  \n",
       "351          1  \n",
       "357          1  \n",
       "363          1  \n",
       "371          1  \n",
       "379          1  \n",
       "389          1  \n",
       "398          1  \n",
       "408          1  \n",
       "415          1  \n",
       "421          1  \n",
       "783          0  \n",
       "793          0  \n",
       "801          0  \n",
       "808          0  \n",
       "815          0  \n",
       "820          0  \n",
       "827          0  \n",
       "834          0  \n",
       "844          0  \n",
       "850          0  \n",
       "855          0  \n",
       "865          0  \n",
       "873          0  \n",
       "880          0  \n",
       "888          0  \n",
       "1171         2  \n",
       "1183         2  \n",
       "1192         2  \n",
       "1203         2  \n",
       "1211         2  \n",
       "1219         2  \n",
       "1228         2  \n",
       "1235         2  "
      ]
     },
     "execution_count": 112,
     "metadata": {},
     "output_type": "execute_result"
    }
   ],
   "source": [
    "indf = df_CB[df_CB[\"label\"]==\"1\"]\n",
    "# group indf into 3\n",
    "x_tmp = indf[['x_coord', 'y_coord', 'z_coord']].values\n",
    "model_tmp = KMeans(n_clusters = 3, init = \"k-means++\", max_iter = 300, n_init = 10, random_state = 0)\n",
    "y_clusters_tmp = model_tmp.fit_predict(x_tmp)\n",
    "\n",
    "indf['new_label'] = [str(i) for i in y_clusters_tmp]\n",
    "indf"
   ]
  },
  {
   "cell_type": "code",
   "execution_count": 116,
   "id": "954ae2c0",
   "metadata": {
    "collapsed": true
   },
   "outputs": [
    {
     "data": {
      "application/vnd.plotly.v1+json": {
       "config": {
        "plotlyServerURL": "https://plot.ly"
       },
       "data": [
        {
         "hovertemplate": "new_label=2<br>x_coord=%{x}<br>y_coord=%{y}<br>z_coord=%{z}<extra></extra>",
         "legendgroup": "2",
         "marker": {
          "color": "#636efa",
          "size": 10,
          "symbol": "circle"
         },
         "mode": "markers",
         "name": "2",
         "scene": "scene",
         "showlegend": true,
         "type": "scatter3d",
         "x": [
          17.085,
          12.505,
          11.779,
          13.504,
          11.041,
          7.024,
          8.863,
          5.113,
          2.711,
          4.251,
          3.567,
          -0.753,
          -3.048,
          -4.532,
          -8.407,
          -5.104,
          -1.227,
          -4.821,
          -7.003,
          -2.436
         ],
         "y": [
          29.147,
          31.513,
          27.657,
          24.063,
          27.148,
          27.884,
          21.706,
          25.341,
          23.394,
          18.522,
          20.605,
          23.104,
          13.904,
          13.655,
          17.019,
          19.547,
          18.292,
          19.749,
          23.205,
          24.489
         ],
         "z": [
          -19.554,
          -21.284,
          -25.057,
          -21.142,
          -17.728,
          -21.446,
          -17.761,
          -16.718,
          -21.24,
          -19.685,
          -14.724,
          -16.417,
          -21.003,
          -26.076,
          -24.753,
          -21.49,
          -25.069,
          -28.811,
          -25.432,
          -23.013
         ]
        },
        {
         "hovertemplate": "new_label=1<br>x_coord=%{x}<br>y_coord=%{y}<br>z_coord=%{z}<extra></extra>",
         "legendgroup": "1",
         "marker": {
          "color": "#EF553B",
          "size": 10,
          "symbol": "circle"
         },
         "mode": "markers",
         "name": "1",
         "scene": "scene",
         "showlegend": true,
         "type": "scatter3d",
         "x": [
          18.5,
          21.394,
          21.461,
          21.727,
          24.717,
          26.869,
          26.897,
          26.298,
          31.134,
          28.049
         ],
         "y": [
          11.449,
          15.428,
          12.74,
          8.288,
          10.963,
          13.21,
          8.996,
          5.075,
          5.503,
          1.344
         ],
         "z": [
          -8.501,
          -6.456,
          -1.872,
          -4.881,
          -8.408,
          -3.998,
          -1.128,
          -4.283,
          -7.956,
          -7.066
         ]
        },
        {
         "hovertemplate": "new_label=0<br>x_coord=%{x}<br>y_coord=%{y}<br>z_coord=%{z}<extra></extra>",
         "legendgroup": "0",
         "marker": {
          "color": "#00cc96",
          "size": 10,
          "symbol": "circle"
         },
         "mode": "markers",
         "name": "0",
         "scene": "scene",
         "showlegend": true,
         "type": "scatter3d",
         "x": [
          9.631,
          8.54,
          9.114,
          14.266,
          10.33,
          12.613,
          8.15,
          7.471,
          3.723,
          7.472,
          8.858,
          3.543,
          3.001,
          7.657,
          6.237
         ],
         "y": [
          -15.979,
          -11.328,
          -12.678,
          -10.255,
          -5.888,
          -6.65,
          -3.883,
          0.908,
          -2.988,
          -6.306,
          -1.919,
          -1.073,
          -6.404,
          -6.659,
          -2.102
         ],
         "z": [
          -21.48,
          -24.469,
          -29.746,
          -29.899,
          -29.445,
          -34.949,
          -35.371,
          -33.177,
          -33.536,
          -31.594,
          -28.479,
          -28.168,
          -28.127,
          -25.452,
          -22.979
         ]
        }
       ],
       "layout": {
        "height": 800,
        "legend": {
         "title": {
          "text": "new_label"
         },
         "tracegroupgap": 0
        },
        "margin": {
         "t": 60
        },
        "scene": {
         "domain": {
          "x": [
           0,
           1
          ],
          "y": [
           0,
           1
          ]
         },
         "xaxis": {
          "title": {
           "text": "x_coord"
          }
         },
         "yaxis": {
          "title": {
           "text": "y_coord"
          }
         },
         "zaxis": {
          "title": {
           "text": "z_coord"
          }
         }
        },
        "template": {
         "data": {
          "bar": [
           {
            "error_x": {
             "color": "#2a3f5f"
            },
            "error_y": {
             "color": "#2a3f5f"
            },
            "marker": {
             "line": {
              "color": "#E5ECF6",
              "width": 0.5
             },
             "pattern": {
              "fillmode": "overlay",
              "size": 10,
              "solidity": 0.2
             }
            },
            "type": "bar"
           }
          ],
          "barpolar": [
           {
            "marker": {
             "line": {
              "color": "#E5ECF6",
              "width": 0.5
             },
             "pattern": {
              "fillmode": "overlay",
              "size": 10,
              "solidity": 0.2
             }
            },
            "type": "barpolar"
           }
          ],
          "carpet": [
           {
            "aaxis": {
             "endlinecolor": "#2a3f5f",
             "gridcolor": "white",
             "linecolor": "white",
             "minorgridcolor": "white",
             "startlinecolor": "#2a3f5f"
            },
            "baxis": {
             "endlinecolor": "#2a3f5f",
             "gridcolor": "white",
             "linecolor": "white",
             "minorgridcolor": "white",
             "startlinecolor": "#2a3f5f"
            },
            "type": "carpet"
           }
          ],
          "choropleth": [
           {
            "colorbar": {
             "outlinewidth": 0,
             "ticks": ""
            },
            "type": "choropleth"
           }
          ],
          "contour": [
           {
            "colorbar": {
             "outlinewidth": 0,
             "ticks": ""
            },
            "colorscale": [
             [
              0,
              "#0d0887"
             ],
             [
              0.1111111111111111,
              "#46039f"
             ],
             [
              0.2222222222222222,
              "#7201a8"
             ],
             [
              0.3333333333333333,
              "#9c179e"
             ],
             [
              0.4444444444444444,
              "#bd3786"
             ],
             [
              0.5555555555555556,
              "#d8576b"
             ],
             [
              0.6666666666666666,
              "#ed7953"
             ],
             [
              0.7777777777777778,
              "#fb9f3a"
             ],
             [
              0.8888888888888888,
              "#fdca26"
             ],
             [
              1,
              "#f0f921"
             ]
            ],
            "type": "contour"
           }
          ],
          "contourcarpet": [
           {
            "colorbar": {
             "outlinewidth": 0,
             "ticks": ""
            },
            "type": "contourcarpet"
           }
          ],
          "heatmap": [
           {
            "colorbar": {
             "outlinewidth": 0,
             "ticks": ""
            },
            "colorscale": [
             [
              0,
              "#0d0887"
             ],
             [
              0.1111111111111111,
              "#46039f"
             ],
             [
              0.2222222222222222,
              "#7201a8"
             ],
             [
              0.3333333333333333,
              "#9c179e"
             ],
             [
              0.4444444444444444,
              "#bd3786"
             ],
             [
              0.5555555555555556,
              "#d8576b"
             ],
             [
              0.6666666666666666,
              "#ed7953"
             ],
             [
              0.7777777777777778,
              "#fb9f3a"
             ],
             [
              0.8888888888888888,
              "#fdca26"
             ],
             [
              1,
              "#f0f921"
             ]
            ],
            "type": "heatmap"
           }
          ],
          "heatmapgl": [
           {
            "colorbar": {
             "outlinewidth": 0,
             "ticks": ""
            },
            "colorscale": [
             [
              0,
              "#0d0887"
             ],
             [
              0.1111111111111111,
              "#46039f"
             ],
             [
              0.2222222222222222,
              "#7201a8"
             ],
             [
              0.3333333333333333,
              "#9c179e"
             ],
             [
              0.4444444444444444,
              "#bd3786"
             ],
             [
              0.5555555555555556,
              "#d8576b"
             ],
             [
              0.6666666666666666,
              "#ed7953"
             ],
             [
              0.7777777777777778,
              "#fb9f3a"
             ],
             [
              0.8888888888888888,
              "#fdca26"
             ],
             [
              1,
              "#f0f921"
             ]
            ],
            "type": "heatmapgl"
           }
          ],
          "histogram": [
           {
            "marker": {
             "pattern": {
              "fillmode": "overlay",
              "size": 10,
              "solidity": 0.2
             }
            },
            "type": "histogram"
           }
          ],
          "histogram2d": [
           {
            "colorbar": {
             "outlinewidth": 0,
             "ticks": ""
            },
            "colorscale": [
             [
              0,
              "#0d0887"
             ],
             [
              0.1111111111111111,
              "#46039f"
             ],
             [
              0.2222222222222222,
              "#7201a8"
             ],
             [
              0.3333333333333333,
              "#9c179e"
             ],
             [
              0.4444444444444444,
              "#bd3786"
             ],
             [
              0.5555555555555556,
              "#d8576b"
             ],
             [
              0.6666666666666666,
              "#ed7953"
             ],
             [
              0.7777777777777778,
              "#fb9f3a"
             ],
             [
              0.8888888888888888,
              "#fdca26"
             ],
             [
              1,
              "#f0f921"
             ]
            ],
            "type": "histogram2d"
           }
          ],
          "histogram2dcontour": [
           {
            "colorbar": {
             "outlinewidth": 0,
             "ticks": ""
            },
            "colorscale": [
             [
              0,
              "#0d0887"
             ],
             [
              0.1111111111111111,
              "#46039f"
             ],
             [
              0.2222222222222222,
              "#7201a8"
             ],
             [
              0.3333333333333333,
              "#9c179e"
             ],
             [
              0.4444444444444444,
              "#bd3786"
             ],
             [
              0.5555555555555556,
              "#d8576b"
             ],
             [
              0.6666666666666666,
              "#ed7953"
             ],
             [
              0.7777777777777778,
              "#fb9f3a"
             ],
             [
              0.8888888888888888,
              "#fdca26"
             ],
             [
              1,
              "#f0f921"
             ]
            ],
            "type": "histogram2dcontour"
           }
          ],
          "mesh3d": [
           {
            "colorbar": {
             "outlinewidth": 0,
             "ticks": ""
            },
            "type": "mesh3d"
           }
          ],
          "parcoords": [
           {
            "line": {
             "colorbar": {
              "outlinewidth": 0,
              "ticks": ""
             }
            },
            "type": "parcoords"
           }
          ],
          "pie": [
           {
            "automargin": true,
            "type": "pie"
           }
          ],
          "scatter": [
           {
            "fillpattern": {
             "fillmode": "overlay",
             "size": 10,
             "solidity": 0.2
            },
            "type": "scatter"
           }
          ],
          "scatter3d": [
           {
            "line": {
             "colorbar": {
              "outlinewidth": 0,
              "ticks": ""
             }
            },
            "marker": {
             "colorbar": {
              "outlinewidth": 0,
              "ticks": ""
             }
            },
            "type": "scatter3d"
           }
          ],
          "scattercarpet": [
           {
            "marker": {
             "colorbar": {
              "outlinewidth": 0,
              "ticks": ""
             }
            },
            "type": "scattercarpet"
           }
          ],
          "scattergeo": [
           {
            "marker": {
             "colorbar": {
              "outlinewidth": 0,
              "ticks": ""
             }
            },
            "type": "scattergeo"
           }
          ],
          "scattergl": [
           {
            "marker": {
             "colorbar": {
              "outlinewidth": 0,
              "ticks": ""
             }
            },
            "type": "scattergl"
           }
          ],
          "scattermapbox": [
           {
            "marker": {
             "colorbar": {
              "outlinewidth": 0,
              "ticks": ""
             }
            },
            "type": "scattermapbox"
           }
          ],
          "scatterpolar": [
           {
            "marker": {
             "colorbar": {
              "outlinewidth": 0,
              "ticks": ""
             }
            },
            "type": "scatterpolar"
           }
          ],
          "scatterpolargl": [
           {
            "marker": {
             "colorbar": {
              "outlinewidth": 0,
              "ticks": ""
             }
            },
            "type": "scatterpolargl"
           }
          ],
          "scatterternary": [
           {
            "marker": {
             "colorbar": {
              "outlinewidth": 0,
              "ticks": ""
             }
            },
            "type": "scatterternary"
           }
          ],
          "surface": [
           {
            "colorbar": {
             "outlinewidth": 0,
             "ticks": ""
            },
            "colorscale": [
             [
              0,
              "#0d0887"
             ],
             [
              0.1111111111111111,
              "#46039f"
             ],
             [
              0.2222222222222222,
              "#7201a8"
             ],
             [
              0.3333333333333333,
              "#9c179e"
             ],
             [
              0.4444444444444444,
              "#bd3786"
             ],
             [
              0.5555555555555556,
              "#d8576b"
             ],
             [
              0.6666666666666666,
              "#ed7953"
             ],
             [
              0.7777777777777778,
              "#fb9f3a"
             ],
             [
              0.8888888888888888,
              "#fdca26"
             ],
             [
              1,
              "#f0f921"
             ]
            ],
            "type": "surface"
           }
          ],
          "table": [
           {
            "cells": {
             "fill": {
              "color": "#EBF0F8"
             },
             "line": {
              "color": "white"
             }
            },
            "header": {
             "fill": {
              "color": "#C8D4E3"
             },
             "line": {
              "color": "white"
             }
            },
            "type": "table"
           }
          ]
         },
         "layout": {
          "annotationdefaults": {
           "arrowcolor": "#2a3f5f",
           "arrowhead": 0,
           "arrowwidth": 1
          },
          "autotypenumbers": "strict",
          "coloraxis": {
           "colorbar": {
            "outlinewidth": 0,
            "ticks": ""
           }
          },
          "colorscale": {
           "diverging": [
            [
             0,
             "#8e0152"
            ],
            [
             0.1,
             "#c51b7d"
            ],
            [
             0.2,
             "#de77ae"
            ],
            [
             0.3,
             "#f1b6da"
            ],
            [
             0.4,
             "#fde0ef"
            ],
            [
             0.5,
             "#f7f7f7"
            ],
            [
             0.6,
             "#e6f5d0"
            ],
            [
             0.7,
             "#b8e186"
            ],
            [
             0.8,
             "#7fbc41"
            ],
            [
             0.9,
             "#4d9221"
            ],
            [
             1,
             "#276419"
            ]
           ],
           "sequential": [
            [
             0,
             "#0d0887"
            ],
            [
             0.1111111111111111,
             "#46039f"
            ],
            [
             0.2222222222222222,
             "#7201a8"
            ],
            [
             0.3333333333333333,
             "#9c179e"
            ],
            [
             0.4444444444444444,
             "#bd3786"
            ],
            [
             0.5555555555555556,
             "#d8576b"
            ],
            [
             0.6666666666666666,
             "#ed7953"
            ],
            [
             0.7777777777777778,
             "#fb9f3a"
            ],
            [
             0.8888888888888888,
             "#fdca26"
            ],
            [
             1,
             "#f0f921"
            ]
           ],
           "sequentialminus": [
            [
             0,
             "#0d0887"
            ],
            [
             0.1111111111111111,
             "#46039f"
            ],
            [
             0.2222222222222222,
             "#7201a8"
            ],
            [
             0.3333333333333333,
             "#9c179e"
            ],
            [
             0.4444444444444444,
             "#bd3786"
            ],
            [
             0.5555555555555556,
             "#d8576b"
            ],
            [
             0.6666666666666666,
             "#ed7953"
            ],
            [
             0.7777777777777778,
             "#fb9f3a"
            ],
            [
             0.8888888888888888,
             "#fdca26"
            ],
            [
             1,
             "#f0f921"
            ]
           ]
          },
          "colorway": [
           "#636efa",
           "#EF553B",
           "#00cc96",
           "#ab63fa",
           "#FFA15A",
           "#19d3f3",
           "#FF6692",
           "#B6E880",
           "#FF97FF",
           "#FECB52"
          ],
          "font": {
           "color": "#2a3f5f"
          },
          "geo": {
           "bgcolor": "white",
           "lakecolor": "white",
           "landcolor": "#E5ECF6",
           "showlakes": true,
           "showland": true,
           "subunitcolor": "white"
          },
          "hoverlabel": {
           "align": "left"
          },
          "hovermode": "closest",
          "mapbox": {
           "style": "light"
          },
          "paper_bgcolor": "white",
          "plot_bgcolor": "#E5ECF6",
          "polar": {
           "angularaxis": {
            "gridcolor": "white",
            "linecolor": "white",
            "ticks": ""
           },
           "bgcolor": "#E5ECF6",
           "radialaxis": {
            "gridcolor": "white",
            "linecolor": "white",
            "ticks": ""
           }
          },
          "scene": {
           "xaxis": {
            "backgroundcolor": "#E5ECF6",
            "gridcolor": "white",
            "gridwidth": 2,
            "linecolor": "white",
            "showbackground": true,
            "ticks": "",
            "zerolinecolor": "white"
           },
           "yaxis": {
            "backgroundcolor": "#E5ECF6",
            "gridcolor": "white",
            "gridwidth": 2,
            "linecolor": "white",
            "showbackground": true,
            "ticks": "",
            "zerolinecolor": "white"
           },
           "zaxis": {
            "backgroundcolor": "#E5ECF6",
            "gridcolor": "white",
            "gridwidth": 2,
            "linecolor": "white",
            "showbackground": true,
            "ticks": "",
            "zerolinecolor": "white"
           }
          },
          "shapedefaults": {
           "line": {
            "color": "#2a3f5f"
           }
          },
          "ternary": {
           "aaxis": {
            "gridcolor": "white",
            "linecolor": "white",
            "ticks": ""
           },
           "baxis": {
            "gridcolor": "white",
            "linecolor": "white",
            "ticks": ""
           },
           "bgcolor": "#E5ECF6",
           "caxis": {
            "gridcolor": "white",
            "linecolor": "white",
            "ticks": ""
           }
          },
          "title": {
           "x": 0.05
          },
          "xaxis": {
           "automargin": true,
           "gridcolor": "white",
           "linecolor": "white",
           "ticks": "",
           "title": {
            "standoff": 15
           },
           "zerolinecolor": "white",
           "zerolinewidth": 2
          },
          "yaxis": {
           "automargin": true,
           "gridcolor": "white",
           "linecolor": "white",
           "ticks": "",
           "title": {
            "standoff": 15
           },
           "zerolinecolor": "white",
           "zerolinewidth": 2
          }
         }
        },
        "width": 800
       }
      },
      "text/html": [
       "<div>                            <div id=\"46366d7b-6520-4908-965c-c30ce3f1d15c\" class=\"plotly-graph-div\" style=\"height:800px; width:800px;\"></div>            <script type=\"text/javascript\">                require([\"plotly\"], function(Plotly) {                    window.PLOTLYENV=window.PLOTLYENV || {};                                    if (document.getElementById(\"46366d7b-6520-4908-965c-c30ce3f1d15c\")) {                    Plotly.newPlot(                        \"46366d7b-6520-4908-965c-c30ce3f1d15c\",                        [{\"hovertemplate\":\"new_label=2<br>x_coord=%{x}<br>y_coord=%{y}<br>z_coord=%{z}<extra></extra>\",\"legendgroup\":\"2\",\"marker\":{\"color\":\"#636efa\",\"symbol\":\"circle\",\"size\":10},\"mode\":\"markers\",\"name\":\"2\",\"scene\":\"scene\",\"showlegend\":true,\"x\":[17.085,12.505,11.779,13.504,11.041,7.024,8.863,5.113,2.711,4.251,3.567,-0.753,-3.048,-4.532,-8.407,-5.104,-1.227,-4.821,-7.003,-2.436],\"y\":[29.147,31.513,27.657,24.063,27.148,27.884,21.706,25.341,23.394,18.522,20.605,23.104,13.904,13.655,17.019,19.547,18.292,19.749,23.205,24.489],\"z\":[-19.554,-21.284,-25.057,-21.142,-17.728,-21.446,-17.761,-16.718,-21.24,-19.685,-14.724,-16.417,-21.003,-26.076,-24.753,-21.49,-25.069,-28.811,-25.432,-23.013],\"type\":\"scatter3d\"},{\"hovertemplate\":\"new_label=1<br>x_coord=%{x}<br>y_coord=%{y}<br>z_coord=%{z}<extra></extra>\",\"legendgroup\":\"1\",\"marker\":{\"color\":\"#EF553B\",\"symbol\":\"circle\",\"size\":10},\"mode\":\"markers\",\"name\":\"1\",\"scene\":\"scene\",\"showlegend\":true,\"x\":[18.5,21.394,21.461,21.727,24.717,26.869,26.897,26.298,31.134,28.049],\"y\":[11.449,15.428,12.74,8.288,10.963,13.21,8.996,5.075,5.503,1.344],\"z\":[-8.501,-6.456,-1.872,-4.881,-8.408,-3.998,-1.128,-4.283,-7.956,-7.066],\"type\":\"scatter3d\"},{\"hovertemplate\":\"new_label=0<br>x_coord=%{x}<br>y_coord=%{y}<br>z_coord=%{z}<extra></extra>\",\"legendgroup\":\"0\",\"marker\":{\"color\":\"#00cc96\",\"symbol\":\"circle\",\"size\":10},\"mode\":\"markers\",\"name\":\"0\",\"scene\":\"scene\",\"showlegend\":true,\"x\":[9.631,8.54,9.114,14.266,10.33,12.613,8.15,7.471,3.723,7.472,8.858,3.543,3.001,7.657,6.237],\"y\":[-15.979,-11.328,-12.678,-10.255,-5.888,-6.65,-3.883,0.908,-2.988,-6.306,-1.919,-1.073,-6.404,-6.659,-2.102],\"z\":[-21.48,-24.469,-29.746,-29.899,-29.445,-34.949,-35.371,-33.177,-33.536,-31.594,-28.479,-28.168,-28.127,-25.452,-22.979],\"type\":\"scatter3d\"}],                        {\"template\":{\"data\":{\"histogram2dcontour\":[{\"type\":\"histogram2dcontour\",\"colorbar\":{\"outlinewidth\":0,\"ticks\":\"\"},\"colorscale\":[[0.0,\"#0d0887\"],[0.1111111111111111,\"#46039f\"],[0.2222222222222222,\"#7201a8\"],[0.3333333333333333,\"#9c179e\"],[0.4444444444444444,\"#bd3786\"],[0.5555555555555556,\"#d8576b\"],[0.6666666666666666,\"#ed7953\"],[0.7777777777777778,\"#fb9f3a\"],[0.8888888888888888,\"#fdca26\"],[1.0,\"#f0f921\"]]}],\"choropleth\":[{\"type\":\"choropleth\",\"colorbar\":{\"outlinewidth\":0,\"ticks\":\"\"}}],\"histogram2d\":[{\"type\":\"histogram2d\",\"colorbar\":{\"outlinewidth\":0,\"ticks\":\"\"},\"colorscale\":[[0.0,\"#0d0887\"],[0.1111111111111111,\"#46039f\"],[0.2222222222222222,\"#7201a8\"],[0.3333333333333333,\"#9c179e\"],[0.4444444444444444,\"#bd3786\"],[0.5555555555555556,\"#d8576b\"],[0.6666666666666666,\"#ed7953\"],[0.7777777777777778,\"#fb9f3a\"],[0.8888888888888888,\"#fdca26\"],[1.0,\"#f0f921\"]]}],\"heatmap\":[{\"type\":\"heatmap\",\"colorbar\":{\"outlinewidth\":0,\"ticks\":\"\"},\"colorscale\":[[0.0,\"#0d0887\"],[0.1111111111111111,\"#46039f\"],[0.2222222222222222,\"#7201a8\"],[0.3333333333333333,\"#9c179e\"],[0.4444444444444444,\"#bd3786\"],[0.5555555555555556,\"#d8576b\"],[0.6666666666666666,\"#ed7953\"],[0.7777777777777778,\"#fb9f3a\"],[0.8888888888888888,\"#fdca26\"],[1.0,\"#f0f921\"]]}],\"heatmapgl\":[{\"type\":\"heatmapgl\",\"colorbar\":{\"outlinewidth\":0,\"ticks\":\"\"},\"colorscale\":[[0.0,\"#0d0887\"],[0.1111111111111111,\"#46039f\"],[0.2222222222222222,\"#7201a8\"],[0.3333333333333333,\"#9c179e\"],[0.4444444444444444,\"#bd3786\"],[0.5555555555555556,\"#d8576b\"],[0.6666666666666666,\"#ed7953\"],[0.7777777777777778,\"#fb9f3a\"],[0.8888888888888888,\"#fdca26\"],[1.0,\"#f0f921\"]]}],\"contourcarpet\":[{\"type\":\"contourcarpet\",\"colorbar\":{\"outlinewidth\":0,\"ticks\":\"\"}}],\"contour\":[{\"type\":\"contour\",\"colorbar\":{\"outlinewidth\":0,\"ticks\":\"\"},\"colorscale\":[[0.0,\"#0d0887\"],[0.1111111111111111,\"#46039f\"],[0.2222222222222222,\"#7201a8\"],[0.3333333333333333,\"#9c179e\"],[0.4444444444444444,\"#bd3786\"],[0.5555555555555556,\"#d8576b\"],[0.6666666666666666,\"#ed7953\"],[0.7777777777777778,\"#fb9f3a\"],[0.8888888888888888,\"#fdca26\"],[1.0,\"#f0f921\"]]}],\"surface\":[{\"type\":\"surface\",\"colorbar\":{\"outlinewidth\":0,\"ticks\":\"\"},\"colorscale\":[[0.0,\"#0d0887\"],[0.1111111111111111,\"#46039f\"],[0.2222222222222222,\"#7201a8\"],[0.3333333333333333,\"#9c179e\"],[0.4444444444444444,\"#bd3786\"],[0.5555555555555556,\"#d8576b\"],[0.6666666666666666,\"#ed7953\"],[0.7777777777777778,\"#fb9f3a\"],[0.8888888888888888,\"#fdca26\"],[1.0,\"#f0f921\"]]}],\"mesh3d\":[{\"type\":\"mesh3d\",\"colorbar\":{\"outlinewidth\":0,\"ticks\":\"\"}}],\"scatter\":[{\"fillpattern\":{\"fillmode\":\"overlay\",\"size\":10,\"solidity\":0.2},\"type\":\"scatter\"}],\"parcoords\":[{\"type\":\"parcoords\",\"line\":{\"colorbar\":{\"outlinewidth\":0,\"ticks\":\"\"}}}],\"scatterpolargl\":[{\"type\":\"scatterpolargl\",\"marker\":{\"colorbar\":{\"outlinewidth\":0,\"ticks\":\"\"}}}],\"bar\":[{\"error_x\":{\"color\":\"#2a3f5f\"},\"error_y\":{\"color\":\"#2a3f5f\"},\"marker\":{\"line\":{\"color\":\"#E5ECF6\",\"width\":0.5},\"pattern\":{\"fillmode\":\"overlay\",\"size\":10,\"solidity\":0.2}},\"type\":\"bar\"}],\"scattergeo\":[{\"type\":\"scattergeo\",\"marker\":{\"colorbar\":{\"outlinewidth\":0,\"ticks\":\"\"}}}],\"scatterpolar\":[{\"type\":\"scatterpolar\",\"marker\":{\"colorbar\":{\"outlinewidth\":0,\"ticks\":\"\"}}}],\"histogram\":[{\"marker\":{\"pattern\":{\"fillmode\":\"overlay\",\"size\":10,\"solidity\":0.2}},\"type\":\"histogram\"}],\"scattergl\":[{\"type\":\"scattergl\",\"marker\":{\"colorbar\":{\"outlinewidth\":0,\"ticks\":\"\"}}}],\"scatter3d\":[{\"type\":\"scatter3d\",\"line\":{\"colorbar\":{\"outlinewidth\":0,\"ticks\":\"\"}},\"marker\":{\"colorbar\":{\"outlinewidth\":0,\"ticks\":\"\"}}}],\"scattermapbox\":[{\"type\":\"scattermapbox\",\"marker\":{\"colorbar\":{\"outlinewidth\":0,\"ticks\":\"\"}}}],\"scatterternary\":[{\"type\":\"scatterternary\",\"marker\":{\"colorbar\":{\"outlinewidth\":0,\"ticks\":\"\"}}}],\"scattercarpet\":[{\"type\":\"scattercarpet\",\"marker\":{\"colorbar\":{\"outlinewidth\":0,\"ticks\":\"\"}}}],\"carpet\":[{\"aaxis\":{\"endlinecolor\":\"#2a3f5f\",\"gridcolor\":\"white\",\"linecolor\":\"white\",\"minorgridcolor\":\"white\",\"startlinecolor\":\"#2a3f5f\"},\"baxis\":{\"endlinecolor\":\"#2a3f5f\",\"gridcolor\":\"white\",\"linecolor\":\"white\",\"minorgridcolor\":\"white\",\"startlinecolor\":\"#2a3f5f\"},\"type\":\"carpet\"}],\"table\":[{\"cells\":{\"fill\":{\"color\":\"#EBF0F8\"},\"line\":{\"color\":\"white\"}},\"header\":{\"fill\":{\"color\":\"#C8D4E3\"},\"line\":{\"color\":\"white\"}},\"type\":\"table\"}],\"barpolar\":[{\"marker\":{\"line\":{\"color\":\"#E5ECF6\",\"width\":0.5},\"pattern\":{\"fillmode\":\"overlay\",\"size\":10,\"solidity\":0.2}},\"type\":\"barpolar\"}],\"pie\":[{\"automargin\":true,\"type\":\"pie\"}]},\"layout\":{\"autotypenumbers\":\"strict\",\"colorway\":[\"#636efa\",\"#EF553B\",\"#00cc96\",\"#ab63fa\",\"#FFA15A\",\"#19d3f3\",\"#FF6692\",\"#B6E880\",\"#FF97FF\",\"#FECB52\"],\"font\":{\"color\":\"#2a3f5f\"},\"hovermode\":\"closest\",\"hoverlabel\":{\"align\":\"left\"},\"paper_bgcolor\":\"white\",\"plot_bgcolor\":\"#E5ECF6\",\"polar\":{\"bgcolor\":\"#E5ECF6\",\"angularaxis\":{\"gridcolor\":\"white\",\"linecolor\":\"white\",\"ticks\":\"\"},\"radialaxis\":{\"gridcolor\":\"white\",\"linecolor\":\"white\",\"ticks\":\"\"}},\"ternary\":{\"bgcolor\":\"#E5ECF6\",\"aaxis\":{\"gridcolor\":\"white\",\"linecolor\":\"white\",\"ticks\":\"\"},\"baxis\":{\"gridcolor\":\"white\",\"linecolor\":\"white\",\"ticks\":\"\"},\"caxis\":{\"gridcolor\":\"white\",\"linecolor\":\"white\",\"ticks\":\"\"}},\"coloraxis\":{\"colorbar\":{\"outlinewidth\":0,\"ticks\":\"\"}},\"colorscale\":{\"sequential\":[[0.0,\"#0d0887\"],[0.1111111111111111,\"#46039f\"],[0.2222222222222222,\"#7201a8\"],[0.3333333333333333,\"#9c179e\"],[0.4444444444444444,\"#bd3786\"],[0.5555555555555556,\"#d8576b\"],[0.6666666666666666,\"#ed7953\"],[0.7777777777777778,\"#fb9f3a\"],[0.8888888888888888,\"#fdca26\"],[1.0,\"#f0f921\"]],\"sequentialminus\":[[0.0,\"#0d0887\"],[0.1111111111111111,\"#46039f\"],[0.2222222222222222,\"#7201a8\"],[0.3333333333333333,\"#9c179e\"],[0.4444444444444444,\"#bd3786\"],[0.5555555555555556,\"#d8576b\"],[0.6666666666666666,\"#ed7953\"],[0.7777777777777778,\"#fb9f3a\"],[0.8888888888888888,\"#fdca26\"],[1.0,\"#f0f921\"]],\"diverging\":[[0,\"#8e0152\"],[0.1,\"#c51b7d\"],[0.2,\"#de77ae\"],[0.3,\"#f1b6da\"],[0.4,\"#fde0ef\"],[0.5,\"#f7f7f7\"],[0.6,\"#e6f5d0\"],[0.7,\"#b8e186\"],[0.8,\"#7fbc41\"],[0.9,\"#4d9221\"],[1,\"#276419\"]]},\"xaxis\":{\"gridcolor\":\"white\",\"linecolor\":\"white\",\"ticks\":\"\",\"title\":{\"standoff\":15},\"zerolinecolor\":\"white\",\"automargin\":true,\"zerolinewidth\":2},\"yaxis\":{\"gridcolor\":\"white\",\"linecolor\":\"white\",\"ticks\":\"\",\"title\":{\"standoff\":15},\"zerolinecolor\":\"white\",\"automargin\":true,\"zerolinewidth\":2},\"scene\":{\"xaxis\":{\"backgroundcolor\":\"#E5ECF6\",\"gridcolor\":\"white\",\"linecolor\":\"white\",\"showbackground\":true,\"ticks\":\"\",\"zerolinecolor\":\"white\",\"gridwidth\":2},\"yaxis\":{\"backgroundcolor\":\"#E5ECF6\",\"gridcolor\":\"white\",\"linecolor\":\"white\",\"showbackground\":true,\"ticks\":\"\",\"zerolinecolor\":\"white\",\"gridwidth\":2},\"zaxis\":{\"backgroundcolor\":\"#E5ECF6\",\"gridcolor\":\"white\",\"linecolor\":\"white\",\"showbackground\":true,\"ticks\":\"\",\"zerolinecolor\":\"white\",\"gridwidth\":2}},\"shapedefaults\":{\"line\":{\"color\":\"#2a3f5f\"}},\"annotationdefaults\":{\"arrowcolor\":\"#2a3f5f\",\"arrowhead\":0,\"arrowwidth\":1},\"geo\":{\"bgcolor\":\"white\",\"landcolor\":\"#E5ECF6\",\"subunitcolor\":\"white\",\"showland\":true,\"showlakes\":true,\"lakecolor\":\"white\"},\"title\":{\"x\":0.05},\"mapbox\":{\"style\":\"light\"}}},\"scene\":{\"domain\":{\"x\":[0.0,1.0],\"y\":[0.0,1.0]},\"xaxis\":{\"title\":{\"text\":\"x_coord\"}},\"yaxis\":{\"title\":{\"text\":\"y_coord\"}},\"zaxis\":{\"title\":{\"text\":\"z_coord\"}}},\"legend\":{\"title\":{\"text\":\"new_label\"},\"tracegroupgap\":0},\"margin\":{\"t\":60},\"width\":800,\"height\":800},                        {\"responsive\": true}                    ).then(function(){\n",
       "                            \n",
       "var gd = document.getElementById('46366d7b-6520-4908-965c-c30ce3f1d15c');\n",
       "var x = new MutationObserver(function (mutations, observer) {{\n",
       "        var display = window.getComputedStyle(gd).display;\n",
       "        if (!display || display === 'none') {{\n",
       "            console.log([gd, 'removed!']);\n",
       "            Plotly.purge(gd);\n",
       "            observer.disconnect();\n",
       "        }}\n",
       "}});\n",
       "\n",
       "// Listen for the removal of the full notebook cells\n",
       "var notebookContainer = gd.closest('#notebook-container');\n",
       "if (notebookContainer) {{\n",
       "    x.observe(notebookContainer, {childList: true});\n",
       "}}\n",
       "\n",
       "// Listen for the clearing of the current output cell\n",
       "var outputEl = gd.closest('.output');\n",
       "if (outputEl) {{\n",
       "    x.observe(outputEl, {childList: true});\n",
       "}}\n",
       "\n",
       "                        })                };                });            </script>        </div>"
      ]
     },
     "metadata": {},
     "output_type": "display_data"
    }
   ],
   "source": [
    "# cluster visualization\n",
    "fig_tmp = px.scatter_3d(indf, x='x_coord', y='y_coord', z='z_coord', color='new_label')\n",
    "fig_tmp.update_traces(marker_size=10)\n",
    "\n",
    "fig_tmp.update_layout(\n",
    "    width = 800, \n",
    "    height= 800\n",
    ")\n",
    "fig_tmp.show()"
   ]
  },
  {
   "cell_type": "code",
   "execution_count": 119,
   "id": "6b9503c8",
   "metadata": {},
   "outputs": [],
   "source": [
    "x0, y0, z0 = indf[indf[\"new_label\"]==\"0\"][['x_coord', 'y_coord', 'z_coord']].mean().tolist()\n",
    "x1, y1, z1 = indf[indf[\"new_label\"]==\"1\"][['x_coord', 'y_coord', 'z_coord']].mean().tolist()\n",
    "x2, y2, z2 = indf[indf[\"new_label\"]==\"2\"][['x_coord', 'y_coord', 'z_coord']].mean().tolist()"
   ]
  },
  {
   "cell_type": "code",
   "execution_count": 120,
   "id": "b84a4918",
   "metadata": {
    "scrolled": true
   },
   "outputs": [
    {
     "data": {
      "application/vnd.plotly.v1+json": {
       "config": {
        "plotlyServerURL": "https://plot.ly"
       },
       "data": [
        {
         "hovertemplate": "label=1<br>x_coord=%{x}<br>y_coord=%{y}<br>z_coord=%{z}<extra></extra>",
         "legendgroup": "1",
         "marker": {
          "color": "#636efa",
          "size": 10,
          "symbol": "circle"
         },
         "mode": "markers",
         "name": "1",
         "scene": "scene",
         "showlegend": true,
         "type": "scatter3d",
         "x": [
          17.085,
          12.505,
          11.779,
          13.504,
          11.041,
          7.024,
          8.863,
          5.113,
          2.711,
          4.251,
          3.567,
          -0.753,
          18.5,
          21.394,
          21.461,
          21.727,
          24.717,
          26.869,
          26.897,
          26.298,
          31.134,
          28.049,
          9.631,
          8.54,
          9.114,
          14.266,
          10.33,
          12.613,
          8.15,
          7.471,
          3.723,
          7.472,
          8.858,
          3.543,
          3.001,
          7.657,
          6.237,
          -3.048,
          -4.532,
          -8.407,
          -5.104,
          -1.227,
          -4.821,
          -7.003,
          -2.436
         ],
         "y": [
          29.147,
          31.513,
          27.657,
          24.063,
          27.148,
          27.884,
          21.706,
          25.341,
          23.394,
          18.522,
          20.605,
          23.104,
          11.449,
          15.428,
          12.74,
          8.288,
          10.963,
          13.21,
          8.996,
          5.075,
          5.503,
          1.344,
          -15.979,
          -11.328,
          -12.678,
          -10.255,
          -5.888,
          -6.65,
          -3.883,
          0.908,
          -2.988,
          -6.306,
          -1.919,
          -1.073,
          -6.404,
          -6.659,
          -2.102,
          13.904,
          13.655,
          17.019,
          19.547,
          18.292,
          19.749,
          23.205,
          24.489
         ],
         "z": [
          -19.554,
          -21.284,
          -25.057,
          -21.142,
          -17.728,
          -21.446,
          -17.761,
          -16.718,
          -21.24,
          -19.685,
          -14.724,
          -16.417,
          -8.501,
          -6.456,
          -1.872,
          -4.881,
          -8.408,
          -3.998,
          -1.128,
          -4.283,
          -7.956,
          -7.066,
          -21.48,
          -24.469,
          -29.746,
          -29.899,
          -29.445,
          -34.949,
          -35.371,
          -33.177,
          -33.536,
          -31.594,
          -28.479,
          -28.168,
          -28.127,
          -25.452,
          -22.979,
          -21.003,
          -26.076,
          -24.753,
          -21.49,
          -25.069,
          -28.811,
          -25.432,
          -23.013
         ]
        },
        {
         "hovertemplate": "label=0<br>x_coord=%{x}<br>y_coord=%{y}<br>z_coord=%{z}<extra></extra>",
         "legendgroup": "0",
         "marker": {
          "color": "#EF553B",
          "size": 10,
          "symbol": "circle"
         },
         "mode": "markers",
         "name": "0",
         "scene": "scene",
         "showlegend": true,
         "type": "scatter3d",
         "x": [
          -19.548,
          -17.363,
          -12.863,
          -15.576,
          -19.833,
          -22.148,
          -23.533,
          -21.683,
          -27,
          -25.827,
          -21.878,
          -25.414,
          -29.131,
          -25.349,
          -23.937,
          -29.249,
          -29.933,
          -25.405,
          -27.122,
          -25.429,
          -23.462,
          -22.422,
          -18.727,
          -19.023,
          -13.981,
          -0.362,
          -2.459,
          -4.346,
          -4.86,
          -6.081,
          -8.904,
          -9.67,
          -10.51,
          -12.809,
          -14.682,
          -15.344,
          -16.829,
          -22.79,
          -20.038,
          -17.62,
          -22.697,
          -24.109,
          -18.879,
          -16.587,
          -19.868,
          -15.713,
          -11.078,
          -11.426,
          -15.113,
          -12.352,
          -7.894,
          -10.757,
          -12.807,
          -7.923,
          -6.402,
          -10.05,
          -7.99,
          0.29,
          -5.619,
          -2.679,
          0.372,
          -4.922,
          1.429,
          1.633,
          -1.973,
          -5.354,
          -10.43,
          -11.126,
          -6.671,
          -7.993,
          -13.269,
          -11.269,
          -12.656,
          -7.086,
          -3.267,
          -7.121,
          -2.127,
          -1.945,
          -2.725,
          -6.327,
          -7.969,
          -6.429,
          -8.608,
          -12.201,
          -11.974,
          -11.119,
          -14.894,
          -17.113,
          -15.86,
          -19.258,
          -14.25,
          -16.204,
          -10.963,
          -15.66,
          -16.73
         ],
         "y": [
          0.117,
          -4.088,
          -2.928,
          -1.252,
          -4.008,
          -5.547,
          -8.078,
          -4.406,
          -5.039,
          -4.758,
          -1.453,
          0.629,
          -0.536,
          1.14,
          4.589,
          4.95,
          4.547,
          7.654,
          13.379,
          15.878,
          11.196,
          10.955,
          14.34,
          12.667,
          13.947,
          6.828,
          11.587,
          12.173,
          6.76,
          7.568,
          11.937,
          9.034,
          4.961,
          8.303,
          11.152,
          6.512,
          4.426,
          4.811,
          3.48,
          7.986,
          9.515,
          10.518,
          10.692,
          13.4,
          17.434,
          18.835,
          16.832,
          20.514,
          17.476,
          13.326,
          16.291,
          18.257,
          13.403,
          11.473,
          15.787,
          13.646,
          8.947,
          11.805,
          7.821,
          10.314,
          6.262,
          3.598,
          2.888,
          -2.485,
          -3.515,
          -1.738,
          -0.903,
          -3.97,
          -1.646,
          2.651,
          1.385,
          0.594,
          6.182,
          -2.624,
          -0.58,
          -4.709,
          -7.598,
          -7.466,
          -12.217,
          -9.699,
          -6.923,
          -11.294,
          -14.18,
          -10.195,
          -9.804,
          -15.127,
          -15.29,
          -10.996,
          -13.081,
          -17.607,
          -19.722,
          -18.073,
          -17.682,
          -16.372,
          -13.813
         ],
         "z": [
          -0.729,
          -3.22,
          -0.537,
          3.533,
          3.599,
          -0.073,
          -4.681,
          -8.145,
          -7.079,
          -1.913,
          -3.412,
          -6.954,
          -3.178,
          0.382,
          -3.263,
          -4.489,
          0.936,
          1.138,
          -5.204,
          -0.611,
          0.891,
          -4.891,
          -4.59,
          1.027,
          -4.079,
          5.557,
          7.284,
          2.22,
          2.268,
          7.267,
          6.019,
          1.345,
          4.564,
          7.991,
          3.936,
          1.219,
          6.123,
          5.267,
          9.965,
          9.443,
          6.647,
          11.755,
          13.003,
          9.538,
          7.362,
          5.566,
          4.281,
          8.147,
          10.611,
          8.683,
          9.88,
          13.893,
          14.523,
          13.112,
          16.2,
          19.59,
          18.553,
          16.185,
          15.09,
          11.08,
          10.843,
          11.93,
          8.22,
          9.236,
          5.419,
          3.44,
          2.884,
          7.312,
          9.258,
          6.436,
          7.98,
          13.004,
          14.467,
          20.43,
          16.904,
          14.72,
          14.543,
          9.137,
          11.595,
          14.697,
          10.416,
          7.535,
          11.471,
          11.865,
          6.523,
          6.78,
          10.493,
          8.111,
          3.503,
          3.887,
          5.362,
          0.034,
          -2.362,
          -4.713,
          -0.102
         ]
        },
        {
         "marker": {
          "color": "yellow"
         },
         "mode": "markers",
         "text": [
          4,
          6,
          12,
          13,
          15,
          19,
          22,
          25,
          28,
          31,
          34,
          35,
          44,
          51,
          54,
          58,
          63,
          64,
          69,
          73,
          75,
          78,
          81,
          82,
          85,
          86,
          87,
          93,
          94
         ],
         "type": "scatter3d",
         "x": [
          -15.576,
          -22.148,
          -25.414,
          -29.131,
          -23.937,
          -27.122,
          -22.422,
          -13.981,
          -4.346,
          -8.904,
          -12.809,
          -14.682,
          -16.587,
          -7.894,
          -7.923,
          0.29,
          1.429,
          1.633,
          -6.671,
          -12.656,
          -3.267,
          -1.945,
          -7.969,
          -6.429,
          -11.974,
          -11.119,
          -14.894,
          -10.963,
          -15.66
         ],
         "y": [
          -1.252,
          -5.547,
          0.629,
          -0.536,
          4.589,
          13.379,
          10.955,
          13.947,
          12.173,
          11.937,
          8.303,
          11.152,
          13.4,
          16.291,
          11.473,
          11.805,
          2.888,
          -2.485,
          -1.646,
          6.182,
          -0.58,
          -7.466,
          -6.923,
          -11.294,
          -9.804,
          -15.127,
          -15.29,
          -17.682,
          -16.372
         ],
         "z": [
          3.533,
          -0.073,
          -6.954,
          -3.178,
          -3.263,
          -5.204,
          -4.891,
          -4.079,
          2.22,
          6.019,
          7.991,
          3.936,
          9.538,
          9.88,
          13.112,
          16.185,
          8.22,
          9.236,
          9.258,
          14.467,
          16.904,
          9.137,
          10.416,
          7.535,
          6.523,
          6.78,
          10.493,
          -2.362,
          -4.713
         ]
        },
        {
         "marker": {
          "color": "yellow"
         },
         "mode": "markers",
         "text": [
          4,
          6,
          12,
          13,
          15,
          19,
          22,
          25,
          28,
          31,
          34,
          35,
          44,
          51,
          54,
          58,
          63,
          64,
          69,
          73,
          75,
          78,
          81,
          82,
          85,
          86,
          87,
          93,
          94
         ],
         "type": "scatter3d",
         "x": [
          -15.576,
          -22.148,
          -25.414,
          -29.131,
          -23.937,
          -27.122,
          -22.422,
          -13.981,
          -4.346,
          -8.904,
          -12.809,
          -14.682,
          -16.587,
          -7.894,
          -7.923,
          0.29,
          1.429,
          1.633,
          -6.671,
          -12.656,
          -3.267,
          -1.945,
          -7.969,
          -6.429,
          -11.974,
          -11.119,
          -14.894,
          -10.963,
          -15.66
         ],
         "y": [
          -1.252,
          -5.547,
          0.629,
          -0.536,
          4.589,
          13.379,
          10.955,
          13.947,
          12.173,
          11.937,
          8.303,
          11.152,
          13.4,
          16.291,
          11.473,
          11.805,
          2.888,
          -2.485,
          -1.646,
          6.182,
          -0.58,
          -7.466,
          -6.923,
          -11.294,
          -9.804,
          -15.127,
          -15.29,
          -17.682,
          -16.372
         ],
         "z": [
          3.533,
          -0.073,
          -6.954,
          -3.178,
          -3.263,
          -5.204,
          -4.891,
          -4.079,
          2.22,
          6.019,
          7.991,
          3.936,
          9.538,
          9.88,
          13.112,
          16.185,
          8.22,
          9.236,
          9.258,
          14.467,
          16.904,
          9.137,
          10.416,
          7.535,
          6.523,
          6.78,
          10.493,
          -2.362,
          -4.713
         ]
        },
        {
         "marker": {
          "color": "green"
         },
         "type": "scatter3d",
         "x": [
          8.0404
         ],
         "y": [
          -6.2136
         ],
         "z": [
          -29.12473333333333
         ]
        },
        {
         "marker": {
          "color": "black"
         },
         "type": "scatter3d",
         "x": [
          24.704600000000003
         ],
         "y": [
          9.2996
         ],
         "z": [
          -5.4549
         ]
        },
        {
         "marker": {
          "color": "orange"
         },
         "type": "scatter3d",
         "x": [
          3.0056000000000003
         ],
         "y": [
          22.4972
         ],
         "z": [
          -21.42015
         ]
        }
       ],
       "layout": {
        "height": 1100,
        "legend": {
         "title": {
          "text": "label"
         },
         "tracegroupgap": 0
        },
        "margin": {
         "t": 60
        },
        "scene": {
         "domain": {
          "x": [
           0,
           1
          ],
          "y": [
           0,
           1
          ]
         },
         "xaxis": {
          "title": {
           "text": "x_coord"
          }
         },
         "yaxis": {
          "title": {
           "text": "y_coord"
          }
         },
         "zaxis": {
          "title": {
           "text": "z_coord"
          }
         }
        },
        "template": {
         "data": {
          "bar": [
           {
            "error_x": {
             "color": "#2a3f5f"
            },
            "error_y": {
             "color": "#2a3f5f"
            },
            "marker": {
             "line": {
              "color": "#E5ECF6",
              "width": 0.5
             },
             "pattern": {
              "fillmode": "overlay",
              "size": 10,
              "solidity": 0.2
             }
            },
            "type": "bar"
           }
          ],
          "barpolar": [
           {
            "marker": {
             "line": {
              "color": "#E5ECF6",
              "width": 0.5
             },
             "pattern": {
              "fillmode": "overlay",
              "size": 10,
              "solidity": 0.2
             }
            },
            "type": "barpolar"
           }
          ],
          "carpet": [
           {
            "aaxis": {
             "endlinecolor": "#2a3f5f",
             "gridcolor": "white",
             "linecolor": "white",
             "minorgridcolor": "white",
             "startlinecolor": "#2a3f5f"
            },
            "baxis": {
             "endlinecolor": "#2a3f5f",
             "gridcolor": "white",
             "linecolor": "white",
             "minorgridcolor": "white",
             "startlinecolor": "#2a3f5f"
            },
            "type": "carpet"
           }
          ],
          "choropleth": [
           {
            "colorbar": {
             "outlinewidth": 0,
             "ticks": ""
            },
            "type": "choropleth"
           }
          ],
          "contour": [
           {
            "colorbar": {
             "outlinewidth": 0,
             "ticks": ""
            },
            "colorscale": [
             [
              0,
              "#0d0887"
             ],
             [
              0.1111111111111111,
              "#46039f"
             ],
             [
              0.2222222222222222,
              "#7201a8"
             ],
             [
              0.3333333333333333,
              "#9c179e"
             ],
             [
              0.4444444444444444,
              "#bd3786"
             ],
             [
              0.5555555555555556,
              "#d8576b"
             ],
             [
              0.6666666666666666,
              "#ed7953"
             ],
             [
              0.7777777777777778,
              "#fb9f3a"
             ],
             [
              0.8888888888888888,
              "#fdca26"
             ],
             [
              1,
              "#f0f921"
             ]
            ],
            "type": "contour"
           }
          ],
          "contourcarpet": [
           {
            "colorbar": {
             "outlinewidth": 0,
             "ticks": ""
            },
            "type": "contourcarpet"
           }
          ],
          "heatmap": [
           {
            "colorbar": {
             "outlinewidth": 0,
             "ticks": ""
            },
            "colorscale": [
             [
              0,
              "#0d0887"
             ],
             [
              0.1111111111111111,
              "#46039f"
             ],
             [
              0.2222222222222222,
              "#7201a8"
             ],
             [
              0.3333333333333333,
              "#9c179e"
             ],
             [
              0.4444444444444444,
              "#bd3786"
             ],
             [
              0.5555555555555556,
              "#d8576b"
             ],
             [
              0.6666666666666666,
              "#ed7953"
             ],
             [
              0.7777777777777778,
              "#fb9f3a"
             ],
             [
              0.8888888888888888,
              "#fdca26"
             ],
             [
              1,
              "#f0f921"
             ]
            ],
            "type": "heatmap"
           }
          ],
          "heatmapgl": [
           {
            "colorbar": {
             "outlinewidth": 0,
             "ticks": ""
            },
            "colorscale": [
             [
              0,
              "#0d0887"
             ],
             [
              0.1111111111111111,
              "#46039f"
             ],
             [
              0.2222222222222222,
              "#7201a8"
             ],
             [
              0.3333333333333333,
              "#9c179e"
             ],
             [
              0.4444444444444444,
              "#bd3786"
             ],
             [
              0.5555555555555556,
              "#d8576b"
             ],
             [
              0.6666666666666666,
              "#ed7953"
             ],
             [
              0.7777777777777778,
              "#fb9f3a"
             ],
             [
              0.8888888888888888,
              "#fdca26"
             ],
             [
              1,
              "#f0f921"
             ]
            ],
            "type": "heatmapgl"
           }
          ],
          "histogram": [
           {
            "marker": {
             "pattern": {
              "fillmode": "overlay",
              "size": 10,
              "solidity": 0.2
             }
            },
            "type": "histogram"
           }
          ],
          "histogram2d": [
           {
            "colorbar": {
             "outlinewidth": 0,
             "ticks": ""
            },
            "colorscale": [
             [
              0,
              "#0d0887"
             ],
             [
              0.1111111111111111,
              "#46039f"
             ],
             [
              0.2222222222222222,
              "#7201a8"
             ],
             [
              0.3333333333333333,
              "#9c179e"
             ],
             [
              0.4444444444444444,
              "#bd3786"
             ],
             [
              0.5555555555555556,
              "#d8576b"
             ],
             [
              0.6666666666666666,
              "#ed7953"
             ],
             [
              0.7777777777777778,
              "#fb9f3a"
             ],
             [
              0.8888888888888888,
              "#fdca26"
             ],
             [
              1,
              "#f0f921"
             ]
            ],
            "type": "histogram2d"
           }
          ],
          "histogram2dcontour": [
           {
            "colorbar": {
             "outlinewidth": 0,
             "ticks": ""
            },
            "colorscale": [
             [
              0,
              "#0d0887"
             ],
             [
              0.1111111111111111,
              "#46039f"
             ],
             [
              0.2222222222222222,
              "#7201a8"
             ],
             [
              0.3333333333333333,
              "#9c179e"
             ],
             [
              0.4444444444444444,
              "#bd3786"
             ],
             [
              0.5555555555555556,
              "#d8576b"
             ],
             [
              0.6666666666666666,
              "#ed7953"
             ],
             [
              0.7777777777777778,
              "#fb9f3a"
             ],
             [
              0.8888888888888888,
              "#fdca26"
             ],
             [
              1,
              "#f0f921"
             ]
            ],
            "type": "histogram2dcontour"
           }
          ],
          "mesh3d": [
           {
            "colorbar": {
             "outlinewidth": 0,
             "ticks": ""
            },
            "type": "mesh3d"
           }
          ],
          "parcoords": [
           {
            "line": {
             "colorbar": {
              "outlinewidth": 0,
              "ticks": ""
             }
            },
            "type": "parcoords"
           }
          ],
          "pie": [
           {
            "automargin": true,
            "type": "pie"
           }
          ],
          "scatter": [
           {
            "fillpattern": {
             "fillmode": "overlay",
             "size": 10,
             "solidity": 0.2
            },
            "type": "scatter"
           }
          ],
          "scatter3d": [
           {
            "line": {
             "colorbar": {
              "outlinewidth": 0,
              "ticks": ""
             }
            },
            "marker": {
             "colorbar": {
              "outlinewidth": 0,
              "ticks": ""
             }
            },
            "type": "scatter3d"
           }
          ],
          "scattercarpet": [
           {
            "marker": {
             "colorbar": {
              "outlinewidth": 0,
              "ticks": ""
             }
            },
            "type": "scattercarpet"
           }
          ],
          "scattergeo": [
           {
            "marker": {
             "colorbar": {
              "outlinewidth": 0,
              "ticks": ""
             }
            },
            "type": "scattergeo"
           }
          ],
          "scattergl": [
           {
            "marker": {
             "colorbar": {
              "outlinewidth": 0,
              "ticks": ""
             }
            },
            "type": "scattergl"
           }
          ],
          "scattermapbox": [
           {
            "marker": {
             "colorbar": {
              "outlinewidth": 0,
              "ticks": ""
             }
            },
            "type": "scattermapbox"
           }
          ],
          "scatterpolar": [
           {
            "marker": {
             "colorbar": {
              "outlinewidth": 0,
              "ticks": ""
             }
            },
            "type": "scatterpolar"
           }
          ],
          "scatterpolargl": [
           {
            "marker": {
             "colorbar": {
              "outlinewidth": 0,
              "ticks": ""
             }
            },
            "type": "scatterpolargl"
           }
          ],
          "scatterternary": [
           {
            "marker": {
             "colorbar": {
              "outlinewidth": 0,
              "ticks": ""
             }
            },
            "type": "scatterternary"
           }
          ],
          "surface": [
           {
            "colorbar": {
             "outlinewidth": 0,
             "ticks": ""
            },
            "colorscale": [
             [
              0,
              "#0d0887"
             ],
             [
              0.1111111111111111,
              "#46039f"
             ],
             [
              0.2222222222222222,
              "#7201a8"
             ],
             [
              0.3333333333333333,
              "#9c179e"
             ],
             [
              0.4444444444444444,
              "#bd3786"
             ],
             [
              0.5555555555555556,
              "#d8576b"
             ],
             [
              0.6666666666666666,
              "#ed7953"
             ],
             [
              0.7777777777777778,
              "#fb9f3a"
             ],
             [
              0.8888888888888888,
              "#fdca26"
             ],
             [
              1,
              "#f0f921"
             ]
            ],
            "type": "surface"
           }
          ],
          "table": [
           {
            "cells": {
             "fill": {
              "color": "#EBF0F8"
             },
             "line": {
              "color": "white"
             }
            },
            "header": {
             "fill": {
              "color": "#C8D4E3"
             },
             "line": {
              "color": "white"
             }
            },
            "type": "table"
           }
          ]
         },
         "layout": {
          "annotationdefaults": {
           "arrowcolor": "#2a3f5f",
           "arrowhead": 0,
           "arrowwidth": 1
          },
          "autotypenumbers": "strict",
          "coloraxis": {
           "colorbar": {
            "outlinewidth": 0,
            "ticks": ""
           }
          },
          "colorscale": {
           "diverging": [
            [
             0,
             "#8e0152"
            ],
            [
             0.1,
             "#c51b7d"
            ],
            [
             0.2,
             "#de77ae"
            ],
            [
             0.3,
             "#f1b6da"
            ],
            [
             0.4,
             "#fde0ef"
            ],
            [
             0.5,
             "#f7f7f7"
            ],
            [
             0.6,
             "#e6f5d0"
            ],
            [
             0.7,
             "#b8e186"
            ],
            [
             0.8,
             "#7fbc41"
            ],
            [
             0.9,
             "#4d9221"
            ],
            [
             1,
             "#276419"
            ]
           ],
           "sequential": [
            [
             0,
             "#0d0887"
            ],
            [
             0.1111111111111111,
             "#46039f"
            ],
            [
             0.2222222222222222,
             "#7201a8"
            ],
            [
             0.3333333333333333,
             "#9c179e"
            ],
            [
             0.4444444444444444,
             "#bd3786"
            ],
            [
             0.5555555555555556,
             "#d8576b"
            ],
            [
             0.6666666666666666,
             "#ed7953"
            ],
            [
             0.7777777777777778,
             "#fb9f3a"
            ],
            [
             0.8888888888888888,
             "#fdca26"
            ],
            [
             1,
             "#f0f921"
            ]
           ],
           "sequentialminus": [
            [
             0,
             "#0d0887"
            ],
            [
             0.1111111111111111,
             "#46039f"
            ],
            [
             0.2222222222222222,
             "#7201a8"
            ],
            [
             0.3333333333333333,
             "#9c179e"
            ],
            [
             0.4444444444444444,
             "#bd3786"
            ],
            [
             0.5555555555555556,
             "#d8576b"
            ],
            [
             0.6666666666666666,
             "#ed7953"
            ],
            [
             0.7777777777777778,
             "#fb9f3a"
            ],
            [
             0.8888888888888888,
             "#fdca26"
            ],
            [
             1,
             "#f0f921"
            ]
           ]
          },
          "colorway": [
           "#636efa",
           "#EF553B",
           "#00cc96",
           "#ab63fa",
           "#FFA15A",
           "#19d3f3",
           "#FF6692",
           "#B6E880",
           "#FF97FF",
           "#FECB52"
          ],
          "font": {
           "color": "#2a3f5f"
          },
          "geo": {
           "bgcolor": "white",
           "lakecolor": "white",
           "landcolor": "#E5ECF6",
           "showlakes": true,
           "showland": true,
           "subunitcolor": "white"
          },
          "hoverlabel": {
           "align": "left"
          },
          "hovermode": "closest",
          "mapbox": {
           "style": "light"
          },
          "paper_bgcolor": "white",
          "plot_bgcolor": "#E5ECF6",
          "polar": {
           "angularaxis": {
            "gridcolor": "white",
            "linecolor": "white",
            "ticks": ""
           },
           "bgcolor": "#E5ECF6",
           "radialaxis": {
            "gridcolor": "white",
            "linecolor": "white",
            "ticks": ""
           }
          },
          "scene": {
           "xaxis": {
            "backgroundcolor": "#E5ECF6",
            "gridcolor": "white",
            "gridwidth": 2,
            "linecolor": "white",
            "showbackground": true,
            "ticks": "",
            "zerolinecolor": "white"
           },
           "yaxis": {
            "backgroundcolor": "#E5ECF6",
            "gridcolor": "white",
            "gridwidth": 2,
            "linecolor": "white",
            "showbackground": true,
            "ticks": "",
            "zerolinecolor": "white"
           },
           "zaxis": {
            "backgroundcolor": "#E5ECF6",
            "gridcolor": "white",
            "gridwidth": 2,
            "linecolor": "white",
            "showbackground": true,
            "ticks": "",
            "zerolinecolor": "white"
           }
          },
          "shapedefaults": {
           "line": {
            "color": "#2a3f5f"
           }
          },
          "ternary": {
           "aaxis": {
            "gridcolor": "white",
            "linecolor": "white",
            "ticks": ""
           },
           "baxis": {
            "gridcolor": "white",
            "linecolor": "white",
            "ticks": ""
           },
           "bgcolor": "#E5ECF6",
           "caxis": {
            "gridcolor": "white",
            "linecolor": "white",
            "ticks": ""
           }
          },
          "title": {
           "x": 0.05
          },
          "xaxis": {
           "automargin": true,
           "gridcolor": "white",
           "linecolor": "white",
           "ticks": "",
           "title": {
            "standoff": 15
           },
           "zerolinecolor": "white",
           "zerolinewidth": 2
          },
          "yaxis": {
           "automargin": true,
           "gridcolor": "white",
           "linecolor": "white",
           "ticks": "",
           "title": {
            "standoff": 15
           },
           "zerolinecolor": "white",
           "zerolinewidth": 2
          }
         }
        },
        "width": 1100
       }
      },
      "text/html": [
       "<div>                            <div id=\"0f90908d-5c9c-41f7-869f-7925ae485a90\" class=\"plotly-graph-div\" style=\"height:1100px; width:1100px;\"></div>            <script type=\"text/javascript\">                require([\"plotly\"], function(Plotly) {                    window.PLOTLYENV=window.PLOTLYENV || {};                                    if (document.getElementById(\"0f90908d-5c9c-41f7-869f-7925ae485a90\")) {                    Plotly.newPlot(                        \"0f90908d-5c9c-41f7-869f-7925ae485a90\",                        [{\"hovertemplate\":\"label=1<br>x_coord=%{x}<br>y_coord=%{y}<br>z_coord=%{z}<extra></extra>\",\"legendgroup\":\"1\",\"marker\":{\"color\":\"#636efa\",\"symbol\":\"circle\",\"size\":10},\"mode\":\"markers\",\"name\":\"1\",\"scene\":\"scene\",\"showlegend\":true,\"x\":[17.085,12.505,11.779,13.504,11.041,7.024,8.863,5.113,2.711,4.251,3.567,-0.753,18.5,21.394,21.461,21.727,24.717,26.869,26.897,26.298,31.134,28.049,9.631,8.54,9.114,14.266,10.33,12.613,8.15,7.471,3.723,7.472,8.858,3.543,3.001,7.657,6.237,-3.048,-4.532,-8.407,-5.104,-1.227,-4.821,-7.003,-2.436],\"y\":[29.147,31.513,27.657,24.063,27.148,27.884,21.706,25.341,23.394,18.522,20.605,23.104,11.449,15.428,12.74,8.288,10.963,13.21,8.996,5.075,5.503,1.344,-15.979,-11.328,-12.678,-10.255,-5.888,-6.65,-3.883,0.908,-2.988,-6.306,-1.919,-1.073,-6.404,-6.659,-2.102,13.904,13.655,17.019,19.547,18.292,19.749,23.205,24.489],\"z\":[-19.554,-21.284,-25.057,-21.142,-17.728,-21.446,-17.761,-16.718,-21.24,-19.685,-14.724,-16.417,-8.501,-6.456,-1.872,-4.881,-8.408,-3.998,-1.128,-4.283,-7.956,-7.066,-21.48,-24.469,-29.746,-29.899,-29.445,-34.949,-35.371,-33.177,-33.536,-31.594,-28.479,-28.168,-28.127,-25.452,-22.979,-21.003,-26.076,-24.753,-21.49,-25.069,-28.811,-25.432,-23.013],\"type\":\"scatter3d\"},{\"hovertemplate\":\"label=0<br>x_coord=%{x}<br>y_coord=%{y}<br>z_coord=%{z}<extra></extra>\",\"legendgroup\":\"0\",\"marker\":{\"color\":\"#EF553B\",\"symbol\":\"circle\",\"size\":10},\"mode\":\"markers\",\"name\":\"0\",\"scene\":\"scene\",\"showlegend\":true,\"x\":[-19.548,-17.363,-12.863,-15.576,-19.833,-22.148,-23.533,-21.683,-27.0,-25.827,-21.878,-25.414,-29.131,-25.349,-23.937,-29.249,-29.933,-25.405,-27.122,-25.429,-23.462,-22.422,-18.727,-19.023,-13.981,-0.362,-2.459,-4.346,-4.86,-6.081,-8.904,-9.67,-10.51,-12.809,-14.682,-15.344,-16.829,-22.79,-20.038,-17.62,-22.697,-24.109,-18.879,-16.587,-19.868,-15.713,-11.078,-11.426,-15.113,-12.352,-7.894,-10.757,-12.807,-7.923,-6.402,-10.05,-7.99,0.29,-5.619,-2.679,0.372,-4.922,1.429,1.633,-1.973,-5.354,-10.43,-11.126,-6.671,-7.993,-13.269,-11.269,-12.656,-7.086,-3.267,-7.121,-2.127,-1.945,-2.725,-6.327,-7.969,-6.429,-8.608,-12.201,-11.974,-11.119,-14.894,-17.113,-15.86,-19.258,-14.25,-16.204,-10.963,-15.66,-16.73],\"y\":[0.117,-4.088,-2.928,-1.252,-4.008,-5.547,-8.078,-4.406,-5.039,-4.758,-1.453,0.629,-0.536,1.14,4.589,4.95,4.547,7.654,13.379,15.878,11.196,10.955,14.34,12.667,13.947,6.828,11.587,12.173,6.76,7.568,11.937,9.034,4.961,8.303,11.152,6.512,4.426,4.811,3.48,7.986,9.515,10.518,10.692,13.4,17.434,18.835,16.832,20.514,17.476,13.326,16.291,18.257,13.403,11.473,15.787,13.646,8.947,11.805,7.821,10.314,6.262,3.598,2.888,-2.485,-3.515,-1.738,-0.903,-3.97,-1.646,2.651,1.385,0.594,6.182,-2.624,-0.58,-4.709,-7.598,-7.466,-12.217,-9.699,-6.923,-11.294,-14.18,-10.195,-9.804,-15.127,-15.29,-10.996,-13.081,-17.607,-19.722,-18.073,-17.682,-16.372,-13.813],\"z\":[-0.729,-3.22,-0.537,3.533,3.599,-0.073,-4.681,-8.145,-7.079,-1.913,-3.412,-6.954,-3.178,0.382,-3.263,-4.489,0.936,1.138,-5.204,-0.611,0.891,-4.891,-4.59,1.027,-4.079,5.557,7.284,2.22,2.268,7.267,6.019,1.345,4.564,7.991,3.936,1.219,6.123,5.267,9.965,9.443,6.647,11.755,13.003,9.538,7.362,5.566,4.281,8.147,10.611,8.683,9.88,13.893,14.523,13.112,16.2,19.59,18.553,16.185,15.09,11.08,10.843,11.93,8.22,9.236,5.419,3.44,2.884,7.312,9.258,6.436,7.98,13.004,14.467,20.43,16.904,14.72,14.543,9.137,11.595,14.697,10.416,7.535,11.471,11.865,6.523,6.78,10.493,8.111,3.503,3.887,5.362,0.034,-2.362,-4.713,-0.102],\"type\":\"scatter3d\"},{\"marker\":{\"color\":\"yellow\"},\"mode\":\"markers\",\"text\":[4.0,6.0,12.0,13.0,15.0,19.0,22.0,25.0,28.0,31.0,34.0,35.0,44.0,51.0,54.0,58.0,63.0,64.0,69.0,73.0,75.0,78.0,81.0,82.0,85.0,86.0,87.0,93.0,94.0],\"x\":[-15.576,-22.148,-25.414,-29.131,-23.937,-27.122,-22.422,-13.981,-4.346,-8.904,-12.809,-14.682,-16.587,-7.894,-7.923,0.29,1.429,1.633,-6.671,-12.656,-3.267,-1.945,-7.969,-6.429,-11.974,-11.119,-14.894,-10.963,-15.66],\"y\":[-1.252,-5.547,0.629,-0.536,4.589,13.379,10.955,13.947,12.173,11.937,8.303,11.152,13.4,16.291,11.473,11.805,2.888,-2.485,-1.646,6.182,-0.58,-7.466,-6.923,-11.294,-9.804,-15.127,-15.29,-17.682,-16.372],\"z\":[3.533,-0.073,-6.954,-3.178,-3.263,-5.204,-4.891,-4.079,2.22,6.019,7.991,3.936,9.538,9.88,13.112,16.185,8.22,9.236,9.258,14.467,16.904,9.137,10.416,7.535,6.523,6.78,10.493,-2.362,-4.713],\"type\":\"scatter3d\"},{\"marker\":{\"color\":\"yellow\"},\"mode\":\"markers\",\"text\":[4.0,6.0,12.0,13.0,15.0,19.0,22.0,25.0,28.0,31.0,34.0,35.0,44.0,51.0,54.0,58.0,63.0,64.0,69.0,73.0,75.0,78.0,81.0,82.0,85.0,86.0,87.0,93.0,94.0],\"x\":[-15.576,-22.148,-25.414,-29.131,-23.937,-27.122,-22.422,-13.981,-4.346,-8.904,-12.809,-14.682,-16.587,-7.894,-7.923,0.29,1.429,1.633,-6.671,-12.656,-3.267,-1.945,-7.969,-6.429,-11.974,-11.119,-14.894,-10.963,-15.66],\"y\":[-1.252,-5.547,0.629,-0.536,4.589,13.379,10.955,13.947,12.173,11.937,8.303,11.152,13.4,16.291,11.473,11.805,2.888,-2.485,-1.646,6.182,-0.58,-7.466,-6.923,-11.294,-9.804,-15.127,-15.29,-17.682,-16.372],\"z\":[3.533,-0.073,-6.954,-3.178,-3.263,-5.204,-4.891,-4.079,2.22,6.019,7.991,3.936,9.538,9.88,13.112,16.185,8.22,9.236,9.258,14.467,16.904,9.137,10.416,7.535,6.523,6.78,10.493,-2.362,-4.713],\"type\":\"scatter3d\"},{\"marker\":{\"color\":\"green\"},\"x\":[8.0404],\"y\":[-6.2136],\"z\":[-29.12473333333333],\"type\":\"scatter3d\"},{\"marker\":{\"color\":\"black\"},\"x\":[24.704600000000003],\"y\":[9.2996],\"z\":[-5.4549],\"type\":\"scatter3d\"},{\"marker\":{\"color\":\"orange\"},\"x\":[3.0056000000000003],\"y\":[22.4972],\"z\":[-21.42015],\"type\":\"scatter3d\"}],                        {\"template\":{\"data\":{\"histogram2dcontour\":[{\"type\":\"histogram2dcontour\",\"colorbar\":{\"outlinewidth\":0,\"ticks\":\"\"},\"colorscale\":[[0.0,\"#0d0887\"],[0.1111111111111111,\"#46039f\"],[0.2222222222222222,\"#7201a8\"],[0.3333333333333333,\"#9c179e\"],[0.4444444444444444,\"#bd3786\"],[0.5555555555555556,\"#d8576b\"],[0.6666666666666666,\"#ed7953\"],[0.7777777777777778,\"#fb9f3a\"],[0.8888888888888888,\"#fdca26\"],[1.0,\"#f0f921\"]]}],\"choropleth\":[{\"type\":\"choropleth\",\"colorbar\":{\"outlinewidth\":0,\"ticks\":\"\"}}],\"histogram2d\":[{\"type\":\"histogram2d\",\"colorbar\":{\"outlinewidth\":0,\"ticks\":\"\"},\"colorscale\":[[0.0,\"#0d0887\"],[0.1111111111111111,\"#46039f\"],[0.2222222222222222,\"#7201a8\"],[0.3333333333333333,\"#9c179e\"],[0.4444444444444444,\"#bd3786\"],[0.5555555555555556,\"#d8576b\"],[0.6666666666666666,\"#ed7953\"],[0.7777777777777778,\"#fb9f3a\"],[0.8888888888888888,\"#fdca26\"],[1.0,\"#f0f921\"]]}],\"heatmap\":[{\"type\":\"heatmap\",\"colorbar\":{\"outlinewidth\":0,\"ticks\":\"\"},\"colorscale\":[[0.0,\"#0d0887\"],[0.1111111111111111,\"#46039f\"],[0.2222222222222222,\"#7201a8\"],[0.3333333333333333,\"#9c179e\"],[0.4444444444444444,\"#bd3786\"],[0.5555555555555556,\"#d8576b\"],[0.6666666666666666,\"#ed7953\"],[0.7777777777777778,\"#fb9f3a\"],[0.8888888888888888,\"#fdca26\"],[1.0,\"#f0f921\"]]}],\"heatmapgl\":[{\"type\":\"heatmapgl\",\"colorbar\":{\"outlinewidth\":0,\"ticks\":\"\"},\"colorscale\":[[0.0,\"#0d0887\"],[0.1111111111111111,\"#46039f\"],[0.2222222222222222,\"#7201a8\"],[0.3333333333333333,\"#9c179e\"],[0.4444444444444444,\"#bd3786\"],[0.5555555555555556,\"#d8576b\"],[0.6666666666666666,\"#ed7953\"],[0.7777777777777778,\"#fb9f3a\"],[0.8888888888888888,\"#fdca26\"],[1.0,\"#f0f921\"]]}],\"contourcarpet\":[{\"type\":\"contourcarpet\",\"colorbar\":{\"outlinewidth\":0,\"ticks\":\"\"}}],\"contour\":[{\"type\":\"contour\",\"colorbar\":{\"outlinewidth\":0,\"ticks\":\"\"},\"colorscale\":[[0.0,\"#0d0887\"],[0.1111111111111111,\"#46039f\"],[0.2222222222222222,\"#7201a8\"],[0.3333333333333333,\"#9c179e\"],[0.4444444444444444,\"#bd3786\"],[0.5555555555555556,\"#d8576b\"],[0.6666666666666666,\"#ed7953\"],[0.7777777777777778,\"#fb9f3a\"],[0.8888888888888888,\"#fdca26\"],[1.0,\"#f0f921\"]]}],\"surface\":[{\"type\":\"surface\",\"colorbar\":{\"outlinewidth\":0,\"ticks\":\"\"},\"colorscale\":[[0.0,\"#0d0887\"],[0.1111111111111111,\"#46039f\"],[0.2222222222222222,\"#7201a8\"],[0.3333333333333333,\"#9c179e\"],[0.4444444444444444,\"#bd3786\"],[0.5555555555555556,\"#d8576b\"],[0.6666666666666666,\"#ed7953\"],[0.7777777777777778,\"#fb9f3a\"],[0.8888888888888888,\"#fdca26\"],[1.0,\"#f0f921\"]]}],\"mesh3d\":[{\"type\":\"mesh3d\",\"colorbar\":{\"outlinewidth\":0,\"ticks\":\"\"}}],\"scatter\":[{\"fillpattern\":{\"fillmode\":\"overlay\",\"size\":10,\"solidity\":0.2},\"type\":\"scatter\"}],\"parcoords\":[{\"type\":\"parcoords\",\"line\":{\"colorbar\":{\"outlinewidth\":0,\"ticks\":\"\"}}}],\"scatterpolargl\":[{\"type\":\"scatterpolargl\",\"marker\":{\"colorbar\":{\"outlinewidth\":0,\"ticks\":\"\"}}}],\"bar\":[{\"error_x\":{\"color\":\"#2a3f5f\"},\"error_y\":{\"color\":\"#2a3f5f\"},\"marker\":{\"line\":{\"color\":\"#E5ECF6\",\"width\":0.5},\"pattern\":{\"fillmode\":\"overlay\",\"size\":10,\"solidity\":0.2}},\"type\":\"bar\"}],\"scattergeo\":[{\"type\":\"scattergeo\",\"marker\":{\"colorbar\":{\"outlinewidth\":0,\"ticks\":\"\"}}}],\"scatterpolar\":[{\"type\":\"scatterpolar\",\"marker\":{\"colorbar\":{\"outlinewidth\":0,\"ticks\":\"\"}}}],\"histogram\":[{\"marker\":{\"pattern\":{\"fillmode\":\"overlay\",\"size\":10,\"solidity\":0.2}},\"type\":\"histogram\"}],\"scattergl\":[{\"type\":\"scattergl\",\"marker\":{\"colorbar\":{\"outlinewidth\":0,\"ticks\":\"\"}}}],\"scatter3d\":[{\"type\":\"scatter3d\",\"line\":{\"colorbar\":{\"outlinewidth\":0,\"ticks\":\"\"}},\"marker\":{\"colorbar\":{\"outlinewidth\":0,\"ticks\":\"\"}}}],\"scattermapbox\":[{\"type\":\"scattermapbox\",\"marker\":{\"colorbar\":{\"outlinewidth\":0,\"ticks\":\"\"}}}],\"scatterternary\":[{\"type\":\"scatterternary\",\"marker\":{\"colorbar\":{\"outlinewidth\":0,\"ticks\":\"\"}}}],\"scattercarpet\":[{\"type\":\"scattercarpet\",\"marker\":{\"colorbar\":{\"outlinewidth\":0,\"ticks\":\"\"}}}],\"carpet\":[{\"aaxis\":{\"endlinecolor\":\"#2a3f5f\",\"gridcolor\":\"white\",\"linecolor\":\"white\",\"minorgridcolor\":\"white\",\"startlinecolor\":\"#2a3f5f\"},\"baxis\":{\"endlinecolor\":\"#2a3f5f\",\"gridcolor\":\"white\",\"linecolor\":\"white\",\"minorgridcolor\":\"white\",\"startlinecolor\":\"#2a3f5f\"},\"type\":\"carpet\"}],\"table\":[{\"cells\":{\"fill\":{\"color\":\"#EBF0F8\"},\"line\":{\"color\":\"white\"}},\"header\":{\"fill\":{\"color\":\"#C8D4E3\"},\"line\":{\"color\":\"white\"}},\"type\":\"table\"}],\"barpolar\":[{\"marker\":{\"line\":{\"color\":\"#E5ECF6\",\"width\":0.5},\"pattern\":{\"fillmode\":\"overlay\",\"size\":10,\"solidity\":0.2}},\"type\":\"barpolar\"}],\"pie\":[{\"automargin\":true,\"type\":\"pie\"}]},\"layout\":{\"autotypenumbers\":\"strict\",\"colorway\":[\"#636efa\",\"#EF553B\",\"#00cc96\",\"#ab63fa\",\"#FFA15A\",\"#19d3f3\",\"#FF6692\",\"#B6E880\",\"#FF97FF\",\"#FECB52\"],\"font\":{\"color\":\"#2a3f5f\"},\"hovermode\":\"closest\",\"hoverlabel\":{\"align\":\"left\"},\"paper_bgcolor\":\"white\",\"plot_bgcolor\":\"#E5ECF6\",\"polar\":{\"bgcolor\":\"#E5ECF6\",\"angularaxis\":{\"gridcolor\":\"white\",\"linecolor\":\"white\",\"ticks\":\"\"},\"radialaxis\":{\"gridcolor\":\"white\",\"linecolor\":\"white\",\"ticks\":\"\"}},\"ternary\":{\"bgcolor\":\"#E5ECF6\",\"aaxis\":{\"gridcolor\":\"white\",\"linecolor\":\"white\",\"ticks\":\"\"},\"baxis\":{\"gridcolor\":\"white\",\"linecolor\":\"white\",\"ticks\":\"\"},\"caxis\":{\"gridcolor\":\"white\",\"linecolor\":\"white\",\"ticks\":\"\"}},\"coloraxis\":{\"colorbar\":{\"outlinewidth\":0,\"ticks\":\"\"}},\"colorscale\":{\"sequential\":[[0.0,\"#0d0887\"],[0.1111111111111111,\"#46039f\"],[0.2222222222222222,\"#7201a8\"],[0.3333333333333333,\"#9c179e\"],[0.4444444444444444,\"#bd3786\"],[0.5555555555555556,\"#d8576b\"],[0.6666666666666666,\"#ed7953\"],[0.7777777777777778,\"#fb9f3a\"],[0.8888888888888888,\"#fdca26\"],[1.0,\"#f0f921\"]],\"sequentialminus\":[[0.0,\"#0d0887\"],[0.1111111111111111,\"#46039f\"],[0.2222222222222222,\"#7201a8\"],[0.3333333333333333,\"#9c179e\"],[0.4444444444444444,\"#bd3786\"],[0.5555555555555556,\"#d8576b\"],[0.6666666666666666,\"#ed7953\"],[0.7777777777777778,\"#fb9f3a\"],[0.8888888888888888,\"#fdca26\"],[1.0,\"#f0f921\"]],\"diverging\":[[0,\"#8e0152\"],[0.1,\"#c51b7d\"],[0.2,\"#de77ae\"],[0.3,\"#f1b6da\"],[0.4,\"#fde0ef\"],[0.5,\"#f7f7f7\"],[0.6,\"#e6f5d0\"],[0.7,\"#b8e186\"],[0.8,\"#7fbc41\"],[0.9,\"#4d9221\"],[1,\"#276419\"]]},\"xaxis\":{\"gridcolor\":\"white\",\"linecolor\":\"white\",\"ticks\":\"\",\"title\":{\"standoff\":15},\"zerolinecolor\":\"white\",\"automargin\":true,\"zerolinewidth\":2},\"yaxis\":{\"gridcolor\":\"white\",\"linecolor\":\"white\",\"ticks\":\"\",\"title\":{\"standoff\":15},\"zerolinecolor\":\"white\",\"automargin\":true,\"zerolinewidth\":2},\"scene\":{\"xaxis\":{\"backgroundcolor\":\"#E5ECF6\",\"gridcolor\":\"white\",\"linecolor\":\"white\",\"showbackground\":true,\"ticks\":\"\",\"zerolinecolor\":\"white\",\"gridwidth\":2},\"yaxis\":{\"backgroundcolor\":\"#E5ECF6\",\"gridcolor\":\"white\",\"linecolor\":\"white\",\"showbackground\":true,\"ticks\":\"\",\"zerolinecolor\":\"white\",\"gridwidth\":2},\"zaxis\":{\"backgroundcolor\":\"#E5ECF6\",\"gridcolor\":\"white\",\"linecolor\":\"white\",\"showbackground\":true,\"ticks\":\"\",\"zerolinecolor\":\"white\",\"gridwidth\":2}},\"shapedefaults\":{\"line\":{\"color\":\"#2a3f5f\"}},\"annotationdefaults\":{\"arrowcolor\":\"#2a3f5f\",\"arrowhead\":0,\"arrowwidth\":1},\"geo\":{\"bgcolor\":\"white\",\"landcolor\":\"#E5ECF6\",\"subunitcolor\":\"white\",\"showland\":true,\"showlakes\":true,\"lakecolor\":\"white\"},\"title\":{\"x\":0.05},\"mapbox\":{\"style\":\"light\"}}},\"scene\":{\"domain\":{\"x\":[0.0,1.0],\"y\":[0.0,1.0]},\"xaxis\":{\"title\":{\"text\":\"x_coord\"}},\"yaxis\":{\"title\":{\"text\":\"y_coord\"}},\"zaxis\":{\"title\":{\"text\":\"z_coord\"}}},\"legend\":{\"title\":{\"text\":\"label\"},\"tracegroupgap\":0},\"margin\":{\"t\":60},\"width\":1100,\"height\":1100},                        {\"responsive\": true}                    ).then(function(){\n",
       "                            \n",
       "var gd = document.getElementById('0f90908d-5c9c-41f7-869f-7925ae485a90');\n",
       "var x = new MutationObserver(function (mutations, observer) {{\n",
       "        var display = window.getComputedStyle(gd).display;\n",
       "        if (!display || display === 'none') {{\n",
       "            console.log([gd, 'removed!']);\n",
       "            Plotly.purge(gd);\n",
       "            observer.disconnect();\n",
       "        }}\n",
       "}});\n",
       "\n",
       "// Listen for the removal of the full notebook cells\n",
       "var notebookContainer = gd.closest('#notebook-container');\n",
       "if (notebookContainer) {{\n",
       "    x.observe(notebookContainer, {childList: true});\n",
       "}}\n",
       "\n",
       "// Listen for the clearing of the current output cell\n",
       "var outputEl = gd.closest('.output');\n",
       "if (outputEl) {{\n",
       "    x.observe(outputEl, {childList: true});\n",
       "}}\n",
       "\n",
       "                        })                };                });            </script>        </div>"
      ]
     },
     "metadata": {},
     "output_type": "display_data"
    }
   ],
   "source": [
    "fig2.add_trace(\n",
    "    go.Scatter3d(x=[x0],\n",
    "                 y=[y0],\n",
    "                 z=[z0],\n",
    "                 marker_color='green')\n",
    ")\n",
    "fig2.add_trace(\n",
    "    go.Scatter3d(x=[x1],\n",
    "                 y=[y1],\n",
    "                 z=[z1],\n",
    "                 marker_color='black')\n",
    ")\n",
    "fig2.add_trace(\n",
    "    go.Scatter3d(x=[x2],\n",
    "                 y=[y2],\n",
    "                 z=[z2],\n",
    "                 marker_color='orange')\n",
    ")"
   ]
  },
  {
   "cell_type": "code",
   "execution_count": 123,
   "id": "de4450ed",
   "metadata": {
    "scrolled": true
   },
   "outputs": [
    {
     "data": {
      "application/vnd.plotly.v1+json": {
       "config": {
        "plotlyServerURL": "https://plot.ly"
       },
       "data": [
        {
         "hovertemplate": "label=1<br>x_coord=%{x}<br>y_coord=%{y}<br>z_coord=%{z}<extra></extra>",
         "legendgroup": "1",
         "marker": {
          "color": "#636efa",
          "size": 10,
          "symbol": "circle"
         },
         "mode": "markers",
         "name": "1",
         "scene": "scene",
         "showlegend": true,
         "type": "scatter3d",
         "x": [
          17.085,
          12.505,
          11.779,
          13.504,
          11.041,
          7.024,
          8.863,
          5.113,
          2.711,
          4.251,
          3.567,
          -0.753,
          18.5,
          21.394,
          21.461,
          21.727,
          24.717,
          26.869,
          26.897,
          26.298,
          31.134,
          28.049,
          9.631,
          8.54,
          9.114,
          14.266,
          10.33,
          12.613,
          8.15,
          7.471,
          3.723,
          7.472,
          8.858,
          3.543,
          3.001,
          7.657,
          6.237,
          -3.048,
          -4.532,
          -8.407,
          -5.104,
          -1.227,
          -4.821,
          -7.003,
          -2.436
         ],
         "y": [
          29.147,
          31.513,
          27.657,
          24.063,
          27.148,
          27.884,
          21.706,
          25.341,
          23.394,
          18.522,
          20.605,
          23.104,
          11.449,
          15.428,
          12.74,
          8.288,
          10.963,
          13.21,
          8.996,
          5.075,
          5.503,
          1.344,
          -15.979,
          -11.328,
          -12.678,
          -10.255,
          -5.888,
          -6.65,
          -3.883,
          0.908,
          -2.988,
          -6.306,
          -1.919,
          -1.073,
          -6.404,
          -6.659,
          -2.102,
          13.904,
          13.655,
          17.019,
          19.547,
          18.292,
          19.749,
          23.205,
          24.489
         ],
         "z": [
          -19.554,
          -21.284,
          -25.057,
          -21.142,
          -17.728,
          -21.446,
          -17.761,
          -16.718,
          -21.24,
          -19.685,
          -14.724,
          -16.417,
          -8.501,
          -6.456,
          -1.872,
          -4.881,
          -8.408,
          -3.998,
          -1.128,
          -4.283,
          -7.956,
          -7.066,
          -21.48,
          -24.469,
          -29.746,
          -29.899,
          -29.445,
          -34.949,
          -35.371,
          -33.177,
          -33.536,
          -31.594,
          -28.479,
          -28.168,
          -28.127,
          -25.452,
          -22.979,
          -21.003,
          -26.076,
          -24.753,
          -21.49,
          -25.069,
          -28.811,
          -25.432,
          -23.013
         ]
        },
        {
         "hovertemplate": "label=0<br>x_coord=%{x}<br>y_coord=%{y}<br>z_coord=%{z}<extra></extra>",
         "legendgroup": "0",
         "marker": {
          "color": "#EF553B",
          "size": 10,
          "symbol": "circle"
         },
         "mode": "markers",
         "name": "0",
         "scene": "scene",
         "showlegend": true,
         "type": "scatter3d",
         "x": [
          -19.548,
          -17.363,
          -12.863,
          -15.576,
          -19.833,
          -22.148,
          -23.533,
          -21.683,
          -27,
          -25.827,
          -21.878,
          -25.414,
          -29.131,
          -25.349,
          -23.937,
          -29.249,
          -29.933,
          -25.405,
          -27.122,
          -25.429,
          -23.462,
          -22.422,
          -18.727,
          -19.023,
          -13.981,
          -0.362,
          -2.459,
          -4.346,
          -4.86,
          -6.081,
          -8.904,
          -9.67,
          -10.51,
          -12.809,
          -14.682,
          -15.344,
          -16.829,
          -22.79,
          -20.038,
          -17.62,
          -22.697,
          -24.109,
          -18.879,
          -16.587,
          -19.868,
          -15.713,
          -11.078,
          -11.426,
          -15.113,
          -12.352,
          -7.894,
          -10.757,
          -12.807,
          -7.923,
          -6.402,
          -10.05,
          -7.99,
          0.29,
          -5.619,
          -2.679,
          0.372,
          -4.922,
          1.429,
          1.633,
          -1.973,
          -5.354,
          -10.43,
          -11.126,
          -6.671,
          -7.993,
          -13.269,
          -11.269,
          -12.656,
          -7.086,
          -3.267,
          -7.121,
          -2.127,
          -1.945,
          -2.725,
          -6.327,
          -7.969,
          -6.429,
          -8.608,
          -12.201,
          -11.974,
          -11.119,
          -14.894,
          -17.113,
          -15.86,
          -19.258,
          -14.25,
          -16.204,
          -10.963,
          -15.66,
          -16.73
         ],
         "y": [
          0.117,
          -4.088,
          -2.928,
          -1.252,
          -4.008,
          -5.547,
          -8.078,
          -4.406,
          -5.039,
          -4.758,
          -1.453,
          0.629,
          -0.536,
          1.14,
          4.589,
          4.95,
          4.547,
          7.654,
          13.379,
          15.878,
          11.196,
          10.955,
          14.34,
          12.667,
          13.947,
          6.828,
          11.587,
          12.173,
          6.76,
          7.568,
          11.937,
          9.034,
          4.961,
          8.303,
          11.152,
          6.512,
          4.426,
          4.811,
          3.48,
          7.986,
          9.515,
          10.518,
          10.692,
          13.4,
          17.434,
          18.835,
          16.832,
          20.514,
          17.476,
          13.326,
          16.291,
          18.257,
          13.403,
          11.473,
          15.787,
          13.646,
          8.947,
          11.805,
          7.821,
          10.314,
          6.262,
          3.598,
          2.888,
          -2.485,
          -3.515,
          -1.738,
          -0.903,
          -3.97,
          -1.646,
          2.651,
          1.385,
          0.594,
          6.182,
          -2.624,
          -0.58,
          -4.709,
          -7.598,
          -7.466,
          -12.217,
          -9.699,
          -6.923,
          -11.294,
          -14.18,
          -10.195,
          -9.804,
          -15.127,
          -15.29,
          -10.996,
          -13.081,
          -17.607,
          -19.722,
          -18.073,
          -17.682,
          -16.372,
          -13.813
         ],
         "z": [
          -0.729,
          -3.22,
          -0.537,
          3.533,
          3.599,
          -0.073,
          -4.681,
          -8.145,
          -7.079,
          -1.913,
          -3.412,
          -6.954,
          -3.178,
          0.382,
          -3.263,
          -4.489,
          0.936,
          1.138,
          -5.204,
          -0.611,
          0.891,
          -4.891,
          -4.59,
          1.027,
          -4.079,
          5.557,
          7.284,
          2.22,
          2.268,
          7.267,
          6.019,
          1.345,
          4.564,
          7.991,
          3.936,
          1.219,
          6.123,
          5.267,
          9.965,
          9.443,
          6.647,
          11.755,
          13.003,
          9.538,
          7.362,
          5.566,
          4.281,
          8.147,
          10.611,
          8.683,
          9.88,
          13.893,
          14.523,
          13.112,
          16.2,
          19.59,
          18.553,
          16.185,
          15.09,
          11.08,
          10.843,
          11.93,
          8.22,
          9.236,
          5.419,
          3.44,
          2.884,
          7.312,
          9.258,
          6.436,
          7.98,
          13.004,
          14.467,
          20.43,
          16.904,
          14.72,
          14.543,
          9.137,
          11.595,
          14.697,
          10.416,
          7.535,
          11.471,
          11.865,
          6.523,
          6.78,
          10.493,
          8.111,
          3.503,
          3.887,
          5.362,
          0.034,
          -2.362,
          -4.713,
          -0.102
         ]
        },
        {
         "marker": {
          "color": "yellow"
         },
         "mode": "markers",
         "text": [
          4,
          6,
          12,
          13,
          15,
          19,
          22,
          25,
          28,
          31,
          34,
          35,
          44,
          51,
          54,
          58,
          63,
          64,
          69,
          73,
          75,
          78,
          81,
          82,
          85,
          86,
          87,
          93,
          94
         ],
         "type": "scatter3d",
         "x": [
          -15.576,
          -22.148,
          -25.414,
          -29.131,
          -23.937,
          -27.122,
          -22.422,
          -13.981,
          -4.346,
          -8.904,
          -12.809,
          -14.682,
          -16.587,
          -7.894,
          -7.923,
          0.29,
          1.429,
          1.633,
          -6.671,
          -12.656,
          -3.267,
          -1.945,
          -7.969,
          -6.429,
          -11.974,
          -11.119,
          -14.894,
          -10.963,
          -15.66
         ],
         "y": [
          -1.252,
          -5.547,
          0.629,
          -0.536,
          4.589,
          13.379,
          10.955,
          13.947,
          12.173,
          11.937,
          8.303,
          11.152,
          13.4,
          16.291,
          11.473,
          11.805,
          2.888,
          -2.485,
          -1.646,
          6.182,
          -0.58,
          -7.466,
          -6.923,
          -11.294,
          -9.804,
          -15.127,
          -15.29,
          -17.682,
          -16.372
         ],
         "z": [
          3.533,
          -0.073,
          -6.954,
          -3.178,
          -3.263,
          -5.204,
          -4.891,
          -4.079,
          2.22,
          6.019,
          7.991,
          3.936,
          9.538,
          9.88,
          13.112,
          16.185,
          8.22,
          9.236,
          9.258,
          14.467,
          16.904,
          9.137,
          10.416,
          7.535,
          6.523,
          6.78,
          10.493,
          -2.362,
          -4.713
         ]
        },
        {
         "marker": {
          "color": "yellow"
         },
         "mode": "markers",
         "text": [
          4,
          6,
          12,
          13,
          15,
          19,
          22,
          25,
          28,
          31,
          34,
          35,
          44,
          51,
          54,
          58,
          63,
          64,
          69,
          73,
          75,
          78,
          81,
          82,
          85,
          86,
          87,
          93,
          94
         ],
         "type": "scatter3d",
         "x": [
          -15.576,
          -22.148,
          -25.414,
          -29.131,
          -23.937,
          -27.122,
          -22.422,
          -13.981,
          -4.346,
          -8.904,
          -12.809,
          -14.682,
          -16.587,
          -7.894,
          -7.923,
          0.29,
          1.429,
          1.633,
          -6.671,
          -12.656,
          -3.267,
          -1.945,
          -7.969,
          -6.429,
          -11.974,
          -11.119,
          -14.894,
          -10.963,
          -15.66
         ],
         "y": [
          -1.252,
          -5.547,
          0.629,
          -0.536,
          4.589,
          13.379,
          10.955,
          13.947,
          12.173,
          11.937,
          8.303,
          11.152,
          13.4,
          16.291,
          11.473,
          11.805,
          2.888,
          -2.485,
          -1.646,
          6.182,
          -0.58,
          -7.466,
          -6.923,
          -11.294,
          -9.804,
          -15.127,
          -15.29,
          -17.682,
          -16.372
         ],
         "z": [
          3.533,
          -0.073,
          -6.954,
          -3.178,
          -3.263,
          -5.204,
          -4.891,
          -4.079,
          2.22,
          6.019,
          7.991,
          3.936,
          9.538,
          9.88,
          13.112,
          16.185,
          8.22,
          9.236,
          9.258,
          14.467,
          16.904,
          9.137,
          10.416,
          7.535,
          6.523,
          6.78,
          10.493,
          -2.362,
          -4.713
         ]
        },
        {
         "marker": {
          "color": "green"
         },
         "type": "scatter3d",
         "x": [
          8.0404
         ],
         "y": [
          -6.2136
         ],
         "z": [
          -29.12473333333333
         ]
        },
        {
         "marker": {
          "color": "black"
         },
         "type": "scatter3d",
         "x": [
          24.704600000000003
         ],
         "y": [
          9.2996
         ],
         "z": [
          -5.4549
         ]
        },
        {
         "marker": {
          "color": "orange"
         },
         "type": "scatter3d",
         "x": [
          3.0056000000000003
         ],
         "y": [
          22.4972
         ],
         "z": [
          -21.42015
         ]
        },
        {
         "color": "lightpink",
         "opacity": 0.5,
         "type": "mesh3d",
         "x": [
          8.0404,
          24.704600000000003,
          3.0056000000000003
         ],
         "y": [
          -6.2136,
          9.2996,
          22.4972
         ],
         "z": [
          -29.12473333333333,
          -5.4549,
          -21.42015
         ]
        }
       ],
       "layout": {
        "height": 1100,
        "legend": {
         "title": {
          "text": "label"
         },
         "tracegroupgap": 0
        },
        "margin": {
         "t": 60
        },
        "scene": {
         "domain": {
          "x": [
           0,
           1
          ],
          "y": [
           0,
           1
          ]
         },
         "xaxis": {
          "title": {
           "text": "x_coord"
          }
         },
         "yaxis": {
          "title": {
           "text": "y_coord"
          }
         },
         "zaxis": {
          "title": {
           "text": "z_coord"
          }
         }
        },
        "template": {
         "data": {
          "bar": [
           {
            "error_x": {
             "color": "#2a3f5f"
            },
            "error_y": {
             "color": "#2a3f5f"
            },
            "marker": {
             "line": {
              "color": "#E5ECF6",
              "width": 0.5
             },
             "pattern": {
              "fillmode": "overlay",
              "size": 10,
              "solidity": 0.2
             }
            },
            "type": "bar"
           }
          ],
          "barpolar": [
           {
            "marker": {
             "line": {
              "color": "#E5ECF6",
              "width": 0.5
             },
             "pattern": {
              "fillmode": "overlay",
              "size": 10,
              "solidity": 0.2
             }
            },
            "type": "barpolar"
           }
          ],
          "carpet": [
           {
            "aaxis": {
             "endlinecolor": "#2a3f5f",
             "gridcolor": "white",
             "linecolor": "white",
             "minorgridcolor": "white",
             "startlinecolor": "#2a3f5f"
            },
            "baxis": {
             "endlinecolor": "#2a3f5f",
             "gridcolor": "white",
             "linecolor": "white",
             "minorgridcolor": "white",
             "startlinecolor": "#2a3f5f"
            },
            "type": "carpet"
           }
          ],
          "choropleth": [
           {
            "colorbar": {
             "outlinewidth": 0,
             "ticks": ""
            },
            "type": "choropleth"
           }
          ],
          "contour": [
           {
            "colorbar": {
             "outlinewidth": 0,
             "ticks": ""
            },
            "colorscale": [
             [
              0,
              "#0d0887"
             ],
             [
              0.1111111111111111,
              "#46039f"
             ],
             [
              0.2222222222222222,
              "#7201a8"
             ],
             [
              0.3333333333333333,
              "#9c179e"
             ],
             [
              0.4444444444444444,
              "#bd3786"
             ],
             [
              0.5555555555555556,
              "#d8576b"
             ],
             [
              0.6666666666666666,
              "#ed7953"
             ],
             [
              0.7777777777777778,
              "#fb9f3a"
             ],
             [
              0.8888888888888888,
              "#fdca26"
             ],
             [
              1,
              "#f0f921"
             ]
            ],
            "type": "contour"
           }
          ],
          "contourcarpet": [
           {
            "colorbar": {
             "outlinewidth": 0,
             "ticks": ""
            },
            "type": "contourcarpet"
           }
          ],
          "heatmap": [
           {
            "colorbar": {
             "outlinewidth": 0,
             "ticks": ""
            },
            "colorscale": [
             [
              0,
              "#0d0887"
             ],
             [
              0.1111111111111111,
              "#46039f"
             ],
             [
              0.2222222222222222,
              "#7201a8"
             ],
             [
              0.3333333333333333,
              "#9c179e"
             ],
             [
              0.4444444444444444,
              "#bd3786"
             ],
             [
              0.5555555555555556,
              "#d8576b"
             ],
             [
              0.6666666666666666,
              "#ed7953"
             ],
             [
              0.7777777777777778,
              "#fb9f3a"
             ],
             [
              0.8888888888888888,
              "#fdca26"
             ],
             [
              1,
              "#f0f921"
             ]
            ],
            "type": "heatmap"
           }
          ],
          "heatmapgl": [
           {
            "colorbar": {
             "outlinewidth": 0,
             "ticks": ""
            },
            "colorscale": [
             [
              0,
              "#0d0887"
             ],
             [
              0.1111111111111111,
              "#46039f"
             ],
             [
              0.2222222222222222,
              "#7201a8"
             ],
             [
              0.3333333333333333,
              "#9c179e"
             ],
             [
              0.4444444444444444,
              "#bd3786"
             ],
             [
              0.5555555555555556,
              "#d8576b"
             ],
             [
              0.6666666666666666,
              "#ed7953"
             ],
             [
              0.7777777777777778,
              "#fb9f3a"
             ],
             [
              0.8888888888888888,
              "#fdca26"
             ],
             [
              1,
              "#f0f921"
             ]
            ],
            "type": "heatmapgl"
           }
          ],
          "histogram": [
           {
            "marker": {
             "pattern": {
              "fillmode": "overlay",
              "size": 10,
              "solidity": 0.2
             }
            },
            "type": "histogram"
           }
          ],
          "histogram2d": [
           {
            "colorbar": {
             "outlinewidth": 0,
             "ticks": ""
            },
            "colorscale": [
             [
              0,
              "#0d0887"
             ],
             [
              0.1111111111111111,
              "#46039f"
             ],
             [
              0.2222222222222222,
              "#7201a8"
             ],
             [
              0.3333333333333333,
              "#9c179e"
             ],
             [
              0.4444444444444444,
              "#bd3786"
             ],
             [
              0.5555555555555556,
              "#d8576b"
             ],
             [
              0.6666666666666666,
              "#ed7953"
             ],
             [
              0.7777777777777778,
              "#fb9f3a"
             ],
             [
              0.8888888888888888,
              "#fdca26"
             ],
             [
              1,
              "#f0f921"
             ]
            ],
            "type": "histogram2d"
           }
          ],
          "histogram2dcontour": [
           {
            "colorbar": {
             "outlinewidth": 0,
             "ticks": ""
            },
            "colorscale": [
             [
              0,
              "#0d0887"
             ],
             [
              0.1111111111111111,
              "#46039f"
             ],
             [
              0.2222222222222222,
              "#7201a8"
             ],
             [
              0.3333333333333333,
              "#9c179e"
             ],
             [
              0.4444444444444444,
              "#bd3786"
             ],
             [
              0.5555555555555556,
              "#d8576b"
             ],
             [
              0.6666666666666666,
              "#ed7953"
             ],
             [
              0.7777777777777778,
              "#fb9f3a"
             ],
             [
              0.8888888888888888,
              "#fdca26"
             ],
             [
              1,
              "#f0f921"
             ]
            ],
            "type": "histogram2dcontour"
           }
          ],
          "mesh3d": [
           {
            "colorbar": {
             "outlinewidth": 0,
             "ticks": ""
            },
            "type": "mesh3d"
           }
          ],
          "parcoords": [
           {
            "line": {
             "colorbar": {
              "outlinewidth": 0,
              "ticks": ""
             }
            },
            "type": "parcoords"
           }
          ],
          "pie": [
           {
            "automargin": true,
            "type": "pie"
           }
          ],
          "scatter": [
           {
            "fillpattern": {
             "fillmode": "overlay",
             "size": 10,
             "solidity": 0.2
            },
            "type": "scatter"
           }
          ],
          "scatter3d": [
           {
            "line": {
             "colorbar": {
              "outlinewidth": 0,
              "ticks": ""
             }
            },
            "marker": {
             "colorbar": {
              "outlinewidth": 0,
              "ticks": ""
             }
            },
            "type": "scatter3d"
           }
          ],
          "scattercarpet": [
           {
            "marker": {
             "colorbar": {
              "outlinewidth": 0,
              "ticks": ""
             }
            },
            "type": "scattercarpet"
           }
          ],
          "scattergeo": [
           {
            "marker": {
             "colorbar": {
              "outlinewidth": 0,
              "ticks": ""
             }
            },
            "type": "scattergeo"
           }
          ],
          "scattergl": [
           {
            "marker": {
             "colorbar": {
              "outlinewidth": 0,
              "ticks": ""
             }
            },
            "type": "scattergl"
           }
          ],
          "scattermapbox": [
           {
            "marker": {
             "colorbar": {
              "outlinewidth": 0,
              "ticks": ""
             }
            },
            "type": "scattermapbox"
           }
          ],
          "scatterpolar": [
           {
            "marker": {
             "colorbar": {
              "outlinewidth": 0,
              "ticks": ""
             }
            },
            "type": "scatterpolar"
           }
          ],
          "scatterpolargl": [
           {
            "marker": {
             "colorbar": {
              "outlinewidth": 0,
              "ticks": ""
             }
            },
            "type": "scatterpolargl"
           }
          ],
          "scatterternary": [
           {
            "marker": {
             "colorbar": {
              "outlinewidth": 0,
              "ticks": ""
             }
            },
            "type": "scatterternary"
           }
          ],
          "surface": [
           {
            "colorbar": {
             "outlinewidth": 0,
             "ticks": ""
            },
            "colorscale": [
             [
              0,
              "#0d0887"
             ],
             [
              0.1111111111111111,
              "#46039f"
             ],
             [
              0.2222222222222222,
              "#7201a8"
             ],
             [
              0.3333333333333333,
              "#9c179e"
             ],
             [
              0.4444444444444444,
              "#bd3786"
             ],
             [
              0.5555555555555556,
              "#d8576b"
             ],
             [
              0.6666666666666666,
              "#ed7953"
             ],
             [
              0.7777777777777778,
              "#fb9f3a"
             ],
             [
              0.8888888888888888,
              "#fdca26"
             ],
             [
              1,
              "#f0f921"
             ]
            ],
            "type": "surface"
           }
          ],
          "table": [
           {
            "cells": {
             "fill": {
              "color": "#EBF0F8"
             },
             "line": {
              "color": "white"
             }
            },
            "header": {
             "fill": {
              "color": "#C8D4E3"
             },
             "line": {
              "color": "white"
             }
            },
            "type": "table"
           }
          ]
         },
         "layout": {
          "annotationdefaults": {
           "arrowcolor": "#2a3f5f",
           "arrowhead": 0,
           "arrowwidth": 1
          },
          "autotypenumbers": "strict",
          "coloraxis": {
           "colorbar": {
            "outlinewidth": 0,
            "ticks": ""
           }
          },
          "colorscale": {
           "diverging": [
            [
             0,
             "#8e0152"
            ],
            [
             0.1,
             "#c51b7d"
            ],
            [
             0.2,
             "#de77ae"
            ],
            [
             0.3,
             "#f1b6da"
            ],
            [
             0.4,
             "#fde0ef"
            ],
            [
             0.5,
             "#f7f7f7"
            ],
            [
             0.6,
             "#e6f5d0"
            ],
            [
             0.7,
             "#b8e186"
            ],
            [
             0.8,
             "#7fbc41"
            ],
            [
             0.9,
             "#4d9221"
            ],
            [
             1,
             "#276419"
            ]
           ],
           "sequential": [
            [
             0,
             "#0d0887"
            ],
            [
             0.1111111111111111,
             "#46039f"
            ],
            [
             0.2222222222222222,
             "#7201a8"
            ],
            [
             0.3333333333333333,
             "#9c179e"
            ],
            [
             0.4444444444444444,
             "#bd3786"
            ],
            [
             0.5555555555555556,
             "#d8576b"
            ],
            [
             0.6666666666666666,
             "#ed7953"
            ],
            [
             0.7777777777777778,
             "#fb9f3a"
            ],
            [
             0.8888888888888888,
             "#fdca26"
            ],
            [
             1,
             "#f0f921"
            ]
           ],
           "sequentialminus": [
            [
             0,
             "#0d0887"
            ],
            [
             0.1111111111111111,
             "#46039f"
            ],
            [
             0.2222222222222222,
             "#7201a8"
            ],
            [
             0.3333333333333333,
             "#9c179e"
            ],
            [
             0.4444444444444444,
             "#bd3786"
            ],
            [
             0.5555555555555556,
             "#d8576b"
            ],
            [
             0.6666666666666666,
             "#ed7953"
            ],
            [
             0.7777777777777778,
             "#fb9f3a"
            ],
            [
             0.8888888888888888,
             "#fdca26"
            ],
            [
             1,
             "#f0f921"
            ]
           ]
          },
          "colorway": [
           "#636efa",
           "#EF553B",
           "#00cc96",
           "#ab63fa",
           "#FFA15A",
           "#19d3f3",
           "#FF6692",
           "#B6E880",
           "#FF97FF",
           "#FECB52"
          ],
          "font": {
           "color": "#2a3f5f"
          },
          "geo": {
           "bgcolor": "white",
           "lakecolor": "white",
           "landcolor": "#E5ECF6",
           "showlakes": true,
           "showland": true,
           "subunitcolor": "white"
          },
          "hoverlabel": {
           "align": "left"
          },
          "hovermode": "closest",
          "mapbox": {
           "style": "light"
          },
          "paper_bgcolor": "white",
          "plot_bgcolor": "#E5ECF6",
          "polar": {
           "angularaxis": {
            "gridcolor": "white",
            "linecolor": "white",
            "ticks": ""
           },
           "bgcolor": "#E5ECF6",
           "radialaxis": {
            "gridcolor": "white",
            "linecolor": "white",
            "ticks": ""
           }
          },
          "scene": {
           "xaxis": {
            "backgroundcolor": "#E5ECF6",
            "gridcolor": "white",
            "gridwidth": 2,
            "linecolor": "white",
            "showbackground": true,
            "ticks": "",
            "zerolinecolor": "white"
           },
           "yaxis": {
            "backgroundcolor": "#E5ECF6",
            "gridcolor": "white",
            "gridwidth": 2,
            "linecolor": "white",
            "showbackground": true,
            "ticks": "",
            "zerolinecolor": "white"
           },
           "zaxis": {
            "backgroundcolor": "#E5ECF6",
            "gridcolor": "white",
            "gridwidth": 2,
            "linecolor": "white",
            "showbackground": true,
            "ticks": "",
            "zerolinecolor": "white"
           }
          },
          "shapedefaults": {
           "line": {
            "color": "#2a3f5f"
           }
          },
          "ternary": {
           "aaxis": {
            "gridcolor": "white",
            "linecolor": "white",
            "ticks": ""
           },
           "baxis": {
            "gridcolor": "white",
            "linecolor": "white",
            "ticks": ""
           },
           "bgcolor": "#E5ECF6",
           "caxis": {
            "gridcolor": "white",
            "linecolor": "white",
            "ticks": ""
           }
          },
          "title": {
           "x": 0.05
          },
          "xaxis": {
           "automargin": true,
           "gridcolor": "white",
           "linecolor": "white",
           "ticks": "",
           "title": {
            "standoff": 15
           },
           "zerolinecolor": "white",
           "zerolinewidth": 2
          },
          "yaxis": {
           "automargin": true,
           "gridcolor": "white",
           "linecolor": "white",
           "ticks": "",
           "title": {
            "standoff": 15
           },
           "zerolinecolor": "white",
           "zerolinewidth": 2
          }
         }
        },
        "width": 1100
       }
      },
      "text/html": [
       "<div>                            <div id=\"d1891e67-756c-4aa5-adcc-05178d2e8e19\" class=\"plotly-graph-div\" style=\"height:1100px; width:1100px;\"></div>            <script type=\"text/javascript\">                require([\"plotly\"], function(Plotly) {                    window.PLOTLYENV=window.PLOTLYENV || {};                                    if (document.getElementById(\"d1891e67-756c-4aa5-adcc-05178d2e8e19\")) {                    Plotly.newPlot(                        \"d1891e67-756c-4aa5-adcc-05178d2e8e19\",                        [{\"hovertemplate\":\"label=1<br>x_coord=%{x}<br>y_coord=%{y}<br>z_coord=%{z}<extra></extra>\",\"legendgroup\":\"1\",\"marker\":{\"color\":\"#636efa\",\"symbol\":\"circle\",\"size\":10},\"mode\":\"markers\",\"name\":\"1\",\"scene\":\"scene\",\"showlegend\":true,\"x\":[17.085,12.505,11.779,13.504,11.041,7.024,8.863,5.113,2.711,4.251,3.567,-0.753,18.5,21.394,21.461,21.727,24.717,26.869,26.897,26.298,31.134,28.049,9.631,8.54,9.114,14.266,10.33,12.613,8.15,7.471,3.723,7.472,8.858,3.543,3.001,7.657,6.237,-3.048,-4.532,-8.407,-5.104,-1.227,-4.821,-7.003,-2.436],\"y\":[29.147,31.513,27.657,24.063,27.148,27.884,21.706,25.341,23.394,18.522,20.605,23.104,11.449,15.428,12.74,8.288,10.963,13.21,8.996,5.075,5.503,1.344,-15.979,-11.328,-12.678,-10.255,-5.888,-6.65,-3.883,0.908,-2.988,-6.306,-1.919,-1.073,-6.404,-6.659,-2.102,13.904,13.655,17.019,19.547,18.292,19.749,23.205,24.489],\"z\":[-19.554,-21.284,-25.057,-21.142,-17.728,-21.446,-17.761,-16.718,-21.24,-19.685,-14.724,-16.417,-8.501,-6.456,-1.872,-4.881,-8.408,-3.998,-1.128,-4.283,-7.956,-7.066,-21.48,-24.469,-29.746,-29.899,-29.445,-34.949,-35.371,-33.177,-33.536,-31.594,-28.479,-28.168,-28.127,-25.452,-22.979,-21.003,-26.076,-24.753,-21.49,-25.069,-28.811,-25.432,-23.013],\"type\":\"scatter3d\"},{\"hovertemplate\":\"label=0<br>x_coord=%{x}<br>y_coord=%{y}<br>z_coord=%{z}<extra></extra>\",\"legendgroup\":\"0\",\"marker\":{\"color\":\"#EF553B\",\"symbol\":\"circle\",\"size\":10},\"mode\":\"markers\",\"name\":\"0\",\"scene\":\"scene\",\"showlegend\":true,\"x\":[-19.548,-17.363,-12.863,-15.576,-19.833,-22.148,-23.533,-21.683,-27.0,-25.827,-21.878,-25.414,-29.131,-25.349,-23.937,-29.249,-29.933,-25.405,-27.122,-25.429,-23.462,-22.422,-18.727,-19.023,-13.981,-0.362,-2.459,-4.346,-4.86,-6.081,-8.904,-9.67,-10.51,-12.809,-14.682,-15.344,-16.829,-22.79,-20.038,-17.62,-22.697,-24.109,-18.879,-16.587,-19.868,-15.713,-11.078,-11.426,-15.113,-12.352,-7.894,-10.757,-12.807,-7.923,-6.402,-10.05,-7.99,0.29,-5.619,-2.679,0.372,-4.922,1.429,1.633,-1.973,-5.354,-10.43,-11.126,-6.671,-7.993,-13.269,-11.269,-12.656,-7.086,-3.267,-7.121,-2.127,-1.945,-2.725,-6.327,-7.969,-6.429,-8.608,-12.201,-11.974,-11.119,-14.894,-17.113,-15.86,-19.258,-14.25,-16.204,-10.963,-15.66,-16.73],\"y\":[0.117,-4.088,-2.928,-1.252,-4.008,-5.547,-8.078,-4.406,-5.039,-4.758,-1.453,0.629,-0.536,1.14,4.589,4.95,4.547,7.654,13.379,15.878,11.196,10.955,14.34,12.667,13.947,6.828,11.587,12.173,6.76,7.568,11.937,9.034,4.961,8.303,11.152,6.512,4.426,4.811,3.48,7.986,9.515,10.518,10.692,13.4,17.434,18.835,16.832,20.514,17.476,13.326,16.291,18.257,13.403,11.473,15.787,13.646,8.947,11.805,7.821,10.314,6.262,3.598,2.888,-2.485,-3.515,-1.738,-0.903,-3.97,-1.646,2.651,1.385,0.594,6.182,-2.624,-0.58,-4.709,-7.598,-7.466,-12.217,-9.699,-6.923,-11.294,-14.18,-10.195,-9.804,-15.127,-15.29,-10.996,-13.081,-17.607,-19.722,-18.073,-17.682,-16.372,-13.813],\"z\":[-0.729,-3.22,-0.537,3.533,3.599,-0.073,-4.681,-8.145,-7.079,-1.913,-3.412,-6.954,-3.178,0.382,-3.263,-4.489,0.936,1.138,-5.204,-0.611,0.891,-4.891,-4.59,1.027,-4.079,5.557,7.284,2.22,2.268,7.267,6.019,1.345,4.564,7.991,3.936,1.219,6.123,5.267,9.965,9.443,6.647,11.755,13.003,9.538,7.362,5.566,4.281,8.147,10.611,8.683,9.88,13.893,14.523,13.112,16.2,19.59,18.553,16.185,15.09,11.08,10.843,11.93,8.22,9.236,5.419,3.44,2.884,7.312,9.258,6.436,7.98,13.004,14.467,20.43,16.904,14.72,14.543,9.137,11.595,14.697,10.416,7.535,11.471,11.865,6.523,6.78,10.493,8.111,3.503,3.887,5.362,0.034,-2.362,-4.713,-0.102],\"type\":\"scatter3d\"},{\"marker\":{\"color\":\"yellow\"},\"mode\":\"markers\",\"text\":[4.0,6.0,12.0,13.0,15.0,19.0,22.0,25.0,28.0,31.0,34.0,35.0,44.0,51.0,54.0,58.0,63.0,64.0,69.0,73.0,75.0,78.0,81.0,82.0,85.0,86.0,87.0,93.0,94.0],\"x\":[-15.576,-22.148,-25.414,-29.131,-23.937,-27.122,-22.422,-13.981,-4.346,-8.904,-12.809,-14.682,-16.587,-7.894,-7.923,0.29,1.429,1.633,-6.671,-12.656,-3.267,-1.945,-7.969,-6.429,-11.974,-11.119,-14.894,-10.963,-15.66],\"y\":[-1.252,-5.547,0.629,-0.536,4.589,13.379,10.955,13.947,12.173,11.937,8.303,11.152,13.4,16.291,11.473,11.805,2.888,-2.485,-1.646,6.182,-0.58,-7.466,-6.923,-11.294,-9.804,-15.127,-15.29,-17.682,-16.372],\"z\":[3.533,-0.073,-6.954,-3.178,-3.263,-5.204,-4.891,-4.079,2.22,6.019,7.991,3.936,9.538,9.88,13.112,16.185,8.22,9.236,9.258,14.467,16.904,9.137,10.416,7.535,6.523,6.78,10.493,-2.362,-4.713],\"type\":\"scatter3d\"},{\"marker\":{\"color\":\"yellow\"},\"mode\":\"markers\",\"text\":[4.0,6.0,12.0,13.0,15.0,19.0,22.0,25.0,28.0,31.0,34.0,35.0,44.0,51.0,54.0,58.0,63.0,64.0,69.0,73.0,75.0,78.0,81.0,82.0,85.0,86.0,87.0,93.0,94.0],\"x\":[-15.576,-22.148,-25.414,-29.131,-23.937,-27.122,-22.422,-13.981,-4.346,-8.904,-12.809,-14.682,-16.587,-7.894,-7.923,0.29,1.429,1.633,-6.671,-12.656,-3.267,-1.945,-7.969,-6.429,-11.974,-11.119,-14.894,-10.963,-15.66],\"y\":[-1.252,-5.547,0.629,-0.536,4.589,13.379,10.955,13.947,12.173,11.937,8.303,11.152,13.4,16.291,11.473,11.805,2.888,-2.485,-1.646,6.182,-0.58,-7.466,-6.923,-11.294,-9.804,-15.127,-15.29,-17.682,-16.372],\"z\":[3.533,-0.073,-6.954,-3.178,-3.263,-5.204,-4.891,-4.079,2.22,6.019,7.991,3.936,9.538,9.88,13.112,16.185,8.22,9.236,9.258,14.467,16.904,9.137,10.416,7.535,6.523,6.78,10.493,-2.362,-4.713],\"type\":\"scatter3d\"},{\"marker\":{\"color\":\"green\"},\"x\":[8.0404],\"y\":[-6.2136],\"z\":[-29.12473333333333],\"type\":\"scatter3d\"},{\"marker\":{\"color\":\"black\"},\"x\":[24.704600000000003],\"y\":[9.2996],\"z\":[-5.4549],\"type\":\"scatter3d\"},{\"marker\":{\"color\":\"orange\"},\"x\":[3.0056000000000003],\"y\":[22.4972],\"z\":[-21.42015],\"type\":\"scatter3d\"},{\"color\":\"lightpink\",\"opacity\":0.5,\"x\":[8.0404,24.704600000000003,3.0056000000000003],\"y\":[-6.2136,9.2996,22.4972],\"z\":[-29.12473333333333,-5.4549,-21.42015],\"type\":\"mesh3d\"}],                        {\"template\":{\"data\":{\"histogram2dcontour\":[{\"type\":\"histogram2dcontour\",\"colorbar\":{\"outlinewidth\":0,\"ticks\":\"\"},\"colorscale\":[[0.0,\"#0d0887\"],[0.1111111111111111,\"#46039f\"],[0.2222222222222222,\"#7201a8\"],[0.3333333333333333,\"#9c179e\"],[0.4444444444444444,\"#bd3786\"],[0.5555555555555556,\"#d8576b\"],[0.6666666666666666,\"#ed7953\"],[0.7777777777777778,\"#fb9f3a\"],[0.8888888888888888,\"#fdca26\"],[1.0,\"#f0f921\"]]}],\"choropleth\":[{\"type\":\"choropleth\",\"colorbar\":{\"outlinewidth\":0,\"ticks\":\"\"}}],\"histogram2d\":[{\"type\":\"histogram2d\",\"colorbar\":{\"outlinewidth\":0,\"ticks\":\"\"},\"colorscale\":[[0.0,\"#0d0887\"],[0.1111111111111111,\"#46039f\"],[0.2222222222222222,\"#7201a8\"],[0.3333333333333333,\"#9c179e\"],[0.4444444444444444,\"#bd3786\"],[0.5555555555555556,\"#d8576b\"],[0.6666666666666666,\"#ed7953\"],[0.7777777777777778,\"#fb9f3a\"],[0.8888888888888888,\"#fdca26\"],[1.0,\"#f0f921\"]]}],\"heatmap\":[{\"type\":\"heatmap\",\"colorbar\":{\"outlinewidth\":0,\"ticks\":\"\"},\"colorscale\":[[0.0,\"#0d0887\"],[0.1111111111111111,\"#46039f\"],[0.2222222222222222,\"#7201a8\"],[0.3333333333333333,\"#9c179e\"],[0.4444444444444444,\"#bd3786\"],[0.5555555555555556,\"#d8576b\"],[0.6666666666666666,\"#ed7953\"],[0.7777777777777778,\"#fb9f3a\"],[0.8888888888888888,\"#fdca26\"],[1.0,\"#f0f921\"]]}],\"heatmapgl\":[{\"type\":\"heatmapgl\",\"colorbar\":{\"outlinewidth\":0,\"ticks\":\"\"},\"colorscale\":[[0.0,\"#0d0887\"],[0.1111111111111111,\"#46039f\"],[0.2222222222222222,\"#7201a8\"],[0.3333333333333333,\"#9c179e\"],[0.4444444444444444,\"#bd3786\"],[0.5555555555555556,\"#d8576b\"],[0.6666666666666666,\"#ed7953\"],[0.7777777777777778,\"#fb9f3a\"],[0.8888888888888888,\"#fdca26\"],[1.0,\"#f0f921\"]]}],\"contourcarpet\":[{\"type\":\"contourcarpet\",\"colorbar\":{\"outlinewidth\":0,\"ticks\":\"\"}}],\"contour\":[{\"type\":\"contour\",\"colorbar\":{\"outlinewidth\":0,\"ticks\":\"\"},\"colorscale\":[[0.0,\"#0d0887\"],[0.1111111111111111,\"#46039f\"],[0.2222222222222222,\"#7201a8\"],[0.3333333333333333,\"#9c179e\"],[0.4444444444444444,\"#bd3786\"],[0.5555555555555556,\"#d8576b\"],[0.6666666666666666,\"#ed7953\"],[0.7777777777777778,\"#fb9f3a\"],[0.8888888888888888,\"#fdca26\"],[1.0,\"#f0f921\"]]}],\"surface\":[{\"type\":\"surface\",\"colorbar\":{\"outlinewidth\":0,\"ticks\":\"\"},\"colorscale\":[[0.0,\"#0d0887\"],[0.1111111111111111,\"#46039f\"],[0.2222222222222222,\"#7201a8\"],[0.3333333333333333,\"#9c179e\"],[0.4444444444444444,\"#bd3786\"],[0.5555555555555556,\"#d8576b\"],[0.6666666666666666,\"#ed7953\"],[0.7777777777777778,\"#fb9f3a\"],[0.8888888888888888,\"#fdca26\"],[1.0,\"#f0f921\"]]}],\"mesh3d\":[{\"type\":\"mesh3d\",\"colorbar\":{\"outlinewidth\":0,\"ticks\":\"\"}}],\"scatter\":[{\"fillpattern\":{\"fillmode\":\"overlay\",\"size\":10,\"solidity\":0.2},\"type\":\"scatter\"}],\"parcoords\":[{\"type\":\"parcoords\",\"line\":{\"colorbar\":{\"outlinewidth\":0,\"ticks\":\"\"}}}],\"scatterpolargl\":[{\"type\":\"scatterpolargl\",\"marker\":{\"colorbar\":{\"outlinewidth\":0,\"ticks\":\"\"}}}],\"bar\":[{\"error_x\":{\"color\":\"#2a3f5f\"},\"error_y\":{\"color\":\"#2a3f5f\"},\"marker\":{\"line\":{\"color\":\"#E5ECF6\",\"width\":0.5},\"pattern\":{\"fillmode\":\"overlay\",\"size\":10,\"solidity\":0.2}},\"type\":\"bar\"}],\"scattergeo\":[{\"type\":\"scattergeo\",\"marker\":{\"colorbar\":{\"outlinewidth\":0,\"ticks\":\"\"}}}],\"scatterpolar\":[{\"type\":\"scatterpolar\",\"marker\":{\"colorbar\":{\"outlinewidth\":0,\"ticks\":\"\"}}}],\"histogram\":[{\"marker\":{\"pattern\":{\"fillmode\":\"overlay\",\"size\":10,\"solidity\":0.2}},\"type\":\"histogram\"}],\"scattergl\":[{\"type\":\"scattergl\",\"marker\":{\"colorbar\":{\"outlinewidth\":0,\"ticks\":\"\"}}}],\"scatter3d\":[{\"type\":\"scatter3d\",\"line\":{\"colorbar\":{\"outlinewidth\":0,\"ticks\":\"\"}},\"marker\":{\"colorbar\":{\"outlinewidth\":0,\"ticks\":\"\"}}}],\"scattermapbox\":[{\"type\":\"scattermapbox\",\"marker\":{\"colorbar\":{\"outlinewidth\":0,\"ticks\":\"\"}}}],\"scatterternary\":[{\"type\":\"scatterternary\",\"marker\":{\"colorbar\":{\"outlinewidth\":0,\"ticks\":\"\"}}}],\"scattercarpet\":[{\"type\":\"scattercarpet\",\"marker\":{\"colorbar\":{\"outlinewidth\":0,\"ticks\":\"\"}}}],\"carpet\":[{\"aaxis\":{\"endlinecolor\":\"#2a3f5f\",\"gridcolor\":\"white\",\"linecolor\":\"white\",\"minorgridcolor\":\"white\",\"startlinecolor\":\"#2a3f5f\"},\"baxis\":{\"endlinecolor\":\"#2a3f5f\",\"gridcolor\":\"white\",\"linecolor\":\"white\",\"minorgridcolor\":\"white\",\"startlinecolor\":\"#2a3f5f\"},\"type\":\"carpet\"}],\"table\":[{\"cells\":{\"fill\":{\"color\":\"#EBF0F8\"},\"line\":{\"color\":\"white\"}},\"header\":{\"fill\":{\"color\":\"#C8D4E3\"},\"line\":{\"color\":\"white\"}},\"type\":\"table\"}],\"barpolar\":[{\"marker\":{\"line\":{\"color\":\"#E5ECF6\",\"width\":0.5},\"pattern\":{\"fillmode\":\"overlay\",\"size\":10,\"solidity\":0.2}},\"type\":\"barpolar\"}],\"pie\":[{\"automargin\":true,\"type\":\"pie\"}]},\"layout\":{\"autotypenumbers\":\"strict\",\"colorway\":[\"#636efa\",\"#EF553B\",\"#00cc96\",\"#ab63fa\",\"#FFA15A\",\"#19d3f3\",\"#FF6692\",\"#B6E880\",\"#FF97FF\",\"#FECB52\"],\"font\":{\"color\":\"#2a3f5f\"},\"hovermode\":\"closest\",\"hoverlabel\":{\"align\":\"left\"},\"paper_bgcolor\":\"white\",\"plot_bgcolor\":\"#E5ECF6\",\"polar\":{\"bgcolor\":\"#E5ECF6\",\"angularaxis\":{\"gridcolor\":\"white\",\"linecolor\":\"white\",\"ticks\":\"\"},\"radialaxis\":{\"gridcolor\":\"white\",\"linecolor\":\"white\",\"ticks\":\"\"}},\"ternary\":{\"bgcolor\":\"#E5ECF6\",\"aaxis\":{\"gridcolor\":\"white\",\"linecolor\":\"white\",\"ticks\":\"\"},\"baxis\":{\"gridcolor\":\"white\",\"linecolor\":\"white\",\"ticks\":\"\"},\"caxis\":{\"gridcolor\":\"white\",\"linecolor\":\"white\",\"ticks\":\"\"}},\"coloraxis\":{\"colorbar\":{\"outlinewidth\":0,\"ticks\":\"\"}},\"colorscale\":{\"sequential\":[[0.0,\"#0d0887\"],[0.1111111111111111,\"#46039f\"],[0.2222222222222222,\"#7201a8\"],[0.3333333333333333,\"#9c179e\"],[0.4444444444444444,\"#bd3786\"],[0.5555555555555556,\"#d8576b\"],[0.6666666666666666,\"#ed7953\"],[0.7777777777777778,\"#fb9f3a\"],[0.8888888888888888,\"#fdca26\"],[1.0,\"#f0f921\"]],\"sequentialminus\":[[0.0,\"#0d0887\"],[0.1111111111111111,\"#46039f\"],[0.2222222222222222,\"#7201a8\"],[0.3333333333333333,\"#9c179e\"],[0.4444444444444444,\"#bd3786\"],[0.5555555555555556,\"#d8576b\"],[0.6666666666666666,\"#ed7953\"],[0.7777777777777778,\"#fb9f3a\"],[0.8888888888888888,\"#fdca26\"],[1.0,\"#f0f921\"]],\"diverging\":[[0,\"#8e0152\"],[0.1,\"#c51b7d\"],[0.2,\"#de77ae\"],[0.3,\"#f1b6da\"],[0.4,\"#fde0ef\"],[0.5,\"#f7f7f7\"],[0.6,\"#e6f5d0\"],[0.7,\"#b8e186\"],[0.8,\"#7fbc41\"],[0.9,\"#4d9221\"],[1,\"#276419\"]]},\"xaxis\":{\"gridcolor\":\"white\",\"linecolor\":\"white\",\"ticks\":\"\",\"title\":{\"standoff\":15},\"zerolinecolor\":\"white\",\"automargin\":true,\"zerolinewidth\":2},\"yaxis\":{\"gridcolor\":\"white\",\"linecolor\":\"white\",\"ticks\":\"\",\"title\":{\"standoff\":15},\"zerolinecolor\":\"white\",\"automargin\":true,\"zerolinewidth\":2},\"scene\":{\"xaxis\":{\"backgroundcolor\":\"#E5ECF6\",\"gridcolor\":\"white\",\"linecolor\":\"white\",\"showbackground\":true,\"ticks\":\"\",\"zerolinecolor\":\"white\",\"gridwidth\":2},\"yaxis\":{\"backgroundcolor\":\"#E5ECF6\",\"gridcolor\":\"white\",\"linecolor\":\"white\",\"showbackground\":true,\"ticks\":\"\",\"zerolinecolor\":\"white\",\"gridwidth\":2},\"zaxis\":{\"backgroundcolor\":\"#E5ECF6\",\"gridcolor\":\"white\",\"linecolor\":\"white\",\"showbackground\":true,\"ticks\":\"\",\"zerolinecolor\":\"white\",\"gridwidth\":2}},\"shapedefaults\":{\"line\":{\"color\":\"#2a3f5f\"}},\"annotationdefaults\":{\"arrowcolor\":\"#2a3f5f\",\"arrowhead\":0,\"arrowwidth\":1},\"geo\":{\"bgcolor\":\"white\",\"landcolor\":\"#E5ECF6\",\"subunitcolor\":\"white\",\"showland\":true,\"showlakes\":true,\"lakecolor\":\"white\"},\"title\":{\"x\":0.05},\"mapbox\":{\"style\":\"light\"}}},\"scene\":{\"domain\":{\"x\":[0.0,1.0],\"y\":[0.0,1.0]},\"xaxis\":{\"title\":{\"text\":\"x_coord\"}},\"yaxis\":{\"title\":{\"text\":\"y_coord\"}},\"zaxis\":{\"title\":{\"text\":\"z_coord\"}}},\"legend\":{\"title\":{\"text\":\"label\"},\"tracegroupgap\":0},\"margin\":{\"t\":60},\"width\":1100,\"height\":1100},                        {\"responsive\": true}                    ).then(function(){\n",
       "                            \n",
       "var gd = document.getElementById('d1891e67-756c-4aa5-adcc-05178d2e8e19');\n",
       "var x = new MutationObserver(function (mutations, observer) {{\n",
       "        var display = window.getComputedStyle(gd).display;\n",
       "        if (!display || display === 'none') {{\n",
       "            console.log([gd, 'removed!']);\n",
       "            Plotly.purge(gd);\n",
       "            observer.disconnect();\n",
       "        }}\n",
       "}});\n",
       "\n",
       "// Listen for the removal of the full notebook cells\n",
       "var notebookContainer = gd.closest('#notebook-container');\n",
       "if (notebookContainer) {{\n",
       "    x.observe(notebookContainer, {childList: true});\n",
       "}}\n",
       "\n",
       "// Listen for the clearing of the current output cell\n",
       "var outputEl = gd.closest('.output');\n",
       "if (outputEl) {{\n",
       "    x.observe(outputEl, {childList: true});\n",
       "}}\n",
       "\n",
       "                        })                };                });            </script>        </div>"
      ]
     },
     "metadata": {},
     "output_type": "display_data"
    }
   ],
   "source": [
    "pts =np.array([[x0, y0, z0],\n",
    "              [x1, y1, z1],\n",
    "              [x2, y2, z2]])\n",
    "x, y, z = pts.T\n",
    "\n",
    "fig2.add_trace(\n",
    "    go.Mesh3d(x=x, y=y, z=z, color='lightpink', opacity=0.50)\n",
    ")\n"
   ]
  },
  {
   "cell_type": "code",
   "execution_count": 125,
   "id": "26cc52e8",
   "metadata": {},
   "outputs": [
    {
     "data": {
      "text/html": [
       "<div>\n",
       "<style scoped>\n",
       "    .dataframe tbody tr th:only-of-type {\n",
       "        vertical-align: middle;\n",
       "    }\n",
       "\n",
       "    .dataframe tbody tr th {\n",
       "        vertical-align: top;\n",
       "    }\n",
       "\n",
       "    .dataframe thead th {\n",
       "        text-align: right;\n",
       "    }\n",
       "</style>\n",
       "<table border=\"1\" class=\"dataframe\">\n",
       "  <thead>\n",
       "    <tr style=\"text-align: right;\">\n",
       "      <th></th>\n",
       "      <th>atom_name</th>\n",
       "      <th>residue_name</th>\n",
       "      <th>residue_number</th>\n",
       "      <th>x_coord</th>\n",
       "      <th>y_coord</th>\n",
       "      <th>z_coord</th>\n",
       "      <th>label</th>\n",
       "      <th>new_label2</th>\n",
       "    </tr>\n",
       "  </thead>\n",
       "  <tbody>\n",
       "    <tr>\n",
       "      <th>110</th>\n",
       "      <td>CB</td>\n",
       "      <td>ARG</td>\n",
       "      <td>57</td>\n",
       "      <td>-19.548</td>\n",
       "      <td>0.117</td>\n",
       "      <td>-0.729</td>\n",
       "      <td>0</td>\n",
       "      <td>0</td>\n",
       "    </tr>\n",
       "    <tr>\n",
       "      <th>121</th>\n",
       "      <td>CB</td>\n",
       "      <td>GLN</td>\n",
       "      <td>58</td>\n",
       "      <td>-17.363</td>\n",
       "      <td>-4.088</td>\n",
       "      <td>-3.220</td>\n",
       "      <td>0</td>\n",
       "      <td>0</td>\n",
       "    </tr>\n",
       "    <tr>\n",
       "      <th>130</th>\n",
       "      <td>CB</td>\n",
       "      <td>GLN</td>\n",
       "      <td>59</td>\n",
       "      <td>-12.863</td>\n",
       "      <td>-2.928</td>\n",
       "      <td>-0.537</td>\n",
       "      <td>0</td>\n",
       "      <td>2</td>\n",
       "    </tr>\n",
       "    <tr>\n",
       "      <th>139</th>\n",
       "      <td>CB</td>\n",
       "      <td>LEU</td>\n",
       "      <td>60</td>\n",
       "      <td>-15.576</td>\n",
       "      <td>-1.252</td>\n",
       "      <td>3.533</td>\n",
       "      <td>0</td>\n",
       "      <td>0</td>\n",
       "    </tr>\n",
       "    <tr>\n",
       "      <th>147</th>\n",
       "      <td>CB</td>\n",
       "      <td>TYR</td>\n",
       "      <td>61</td>\n",
       "      <td>-19.833</td>\n",
       "      <td>-4.008</td>\n",
       "      <td>3.599</td>\n",
       "      <td>0</td>\n",
       "      <td>0</td>\n",
       "    </tr>\n",
       "    <tr>\n",
       "      <th>...</th>\n",
       "      <td>...</td>\n",
       "      <td>...</td>\n",
       "      <td>...</td>\n",
       "      <td>...</td>\n",
       "      <td>...</td>\n",
       "      <td>...</td>\n",
       "      <td>...</td>\n",
       "      <td>...</td>\n",
       "    </tr>\n",
       "    <tr>\n",
       "      <th>1127</th>\n",
       "      <td>CB</td>\n",
       "      <td>ARG</td>\n",
       "      <td>263</td>\n",
       "      <td>-14.250</td>\n",
       "      <td>-19.722</td>\n",
       "      <td>5.362</td>\n",
       "      <td>0</td>\n",
       "      <td>2</td>\n",
       "    </tr>\n",
       "    <tr>\n",
       "      <th>1138</th>\n",
       "      <td>CB</td>\n",
       "      <td>LYS</td>\n",
       "      <td>264</td>\n",
       "      <td>-16.204</td>\n",
       "      <td>-18.073</td>\n",
       "      <td>0.034</td>\n",
       "      <td>0</td>\n",
       "      <td>2</td>\n",
       "    </tr>\n",
       "    <tr>\n",
       "      <th>1147</th>\n",
       "      <td>CB</td>\n",
       "      <td>LEU</td>\n",
       "      <td>265</td>\n",
       "      <td>-10.963</td>\n",
       "      <td>-17.682</td>\n",
       "      <td>-2.362</td>\n",
       "      <td>0</td>\n",
       "      <td>2</td>\n",
       "    </tr>\n",
       "    <tr>\n",
       "      <th>1155</th>\n",
       "      <td>CB</td>\n",
       "      <td>ILE</td>\n",
       "      <td>266</td>\n",
       "      <td>-15.660</td>\n",
       "      <td>-16.372</td>\n",
       "      <td>-4.713</td>\n",
       "      <td>0</td>\n",
       "      <td>2</td>\n",
       "    </tr>\n",
       "    <tr>\n",
       "      <th>1163</th>\n",
       "      <td>CB</td>\n",
       "      <td>ASN</td>\n",
       "      <td>267</td>\n",
       "      <td>-16.730</td>\n",
       "      <td>-13.813</td>\n",
       "      <td>-0.102</td>\n",
       "      <td>0</td>\n",
       "      <td>2</td>\n",
       "    </tr>\n",
       "  </tbody>\n",
       "</table>\n",
       "<p>95 rows × 8 columns</p>\n",
       "</div>"
      ],
      "text/plain": [
       "     atom_name residue_name  residue_number  x_coord  y_coord  z_coord label  \\\n",
       "110         CB          ARG              57  -19.548    0.117   -0.729     0   \n",
       "121         CB          GLN              58  -17.363   -4.088   -3.220     0   \n",
       "130         CB          GLN              59  -12.863   -2.928   -0.537     0   \n",
       "139         CB          LEU              60  -15.576   -1.252    3.533     0   \n",
       "147         CB          TYR              61  -19.833   -4.008    3.599     0   \n",
       "...        ...          ...             ...      ...      ...      ...   ...   \n",
       "1127        CB          ARG             263  -14.250  -19.722    5.362     0   \n",
       "1138        CB          LYS             264  -16.204  -18.073    0.034     0   \n",
       "1147        CB          LEU             265  -10.963  -17.682   -2.362     0   \n",
       "1155        CB          ILE             266  -15.660  -16.372   -4.713     0   \n",
       "1163        CB          ASN             267  -16.730  -13.813   -0.102     0   \n",
       "\n",
       "     new_label2  \n",
       "110           0  \n",
       "121           0  \n",
       "130           2  \n",
       "139           0  \n",
       "147           0  \n",
       "...         ...  \n",
       "1127          2  \n",
       "1138          2  \n",
       "1147          2  \n",
       "1155          2  \n",
       "1163          2  \n",
       "\n",
       "[95 rows x 8 columns]"
      ]
     },
     "execution_count": 125,
     "metadata": {},
     "output_type": "execute_result"
    }
   ],
   "source": [
    "outdf = df_CB[df_CB[\"label\"]==\"0\"]\n",
    "# group outdf into 3\n",
    "x_tmp2 = outdf[['x_coord', 'y_coord', 'z_coord']].values\n",
    "model_tmp2 = KMeans(n_clusters = 3, init = \"k-means++\", max_iter = 300, n_init = 10, random_state = 0)\n",
    "y_clusters_tmp2 = model_tmp2.fit_predict(x_tmp2)\n",
    "\n",
    "outdf['new_label2'] = [str(i) for i in y_clusters_tmp2]\n",
    "outdf"
   ]
  },
  {
   "cell_type": "code",
   "execution_count": 126,
   "id": "f0d27d26",
   "metadata": {
    "collapsed": true
   },
   "outputs": [
    {
     "data": {
      "application/vnd.plotly.v1+json": {
       "config": {
        "plotlyServerURL": "https://plot.ly"
       },
       "data": [
        {
         "hovertemplate": "new_label2=0<br>x_coord=%{x}<br>y_coord=%{y}<br>z_coord=%{z}<extra></extra>",
         "legendgroup": "0",
         "marker": {
          "color": "#636efa",
          "size": 10,
          "symbol": "circle"
         },
         "mode": "markers",
         "name": "0",
         "scene": "scene",
         "showlegend": true,
         "type": "scatter3d",
         "x": [
          -19.548,
          -17.363,
          -15.576,
          -19.833,
          -22.148,
          -23.533,
          -21.683,
          -27,
          -25.827,
          -21.878,
          -25.414,
          -29.131,
          -25.349,
          -23.937,
          -29.249,
          -29.933,
          -25.405,
          -27.122,
          -25.429,
          -23.462,
          -22.422,
          -18.727,
          -19.023,
          -13.981,
          -15.344,
          -16.829,
          -22.79,
          -20.038,
          -22.697,
          -24.109
         ],
         "y": [
          0.117,
          -4.088,
          -1.252,
          -4.008,
          -5.547,
          -8.078,
          -4.406,
          -5.039,
          -4.758,
          -1.453,
          0.629,
          -0.536,
          1.14,
          4.589,
          4.95,
          4.547,
          7.654,
          13.379,
          15.878,
          11.196,
          10.955,
          14.34,
          12.667,
          13.947,
          6.512,
          4.426,
          4.811,
          3.48,
          9.515,
          10.518
         ],
         "z": [
          -0.729,
          -3.22,
          3.533,
          3.599,
          -0.073,
          -4.681,
          -8.145,
          -7.079,
          -1.913,
          -3.412,
          -6.954,
          -3.178,
          0.382,
          -3.263,
          -4.489,
          0.936,
          1.138,
          -5.204,
          -0.611,
          0.891,
          -4.891,
          -4.59,
          1.027,
          -4.079,
          1.219,
          6.123,
          5.267,
          9.965,
          6.647,
          11.755
         ]
        },
        {
         "hovertemplate": "new_label2=2<br>x_coord=%{x}<br>y_coord=%{y}<br>z_coord=%{z}<extra></extra>",
         "legendgroup": "2",
         "marker": {
          "color": "#EF553B",
          "size": 10,
          "symbol": "circle"
         },
         "mode": "markers",
         "name": "2",
         "scene": "scene",
         "showlegend": true,
         "type": "scatter3d",
         "x": [
          -12.863,
          1.633,
          -1.973,
          -5.354,
          -10.43,
          -11.126,
          -6.671,
          -7.086,
          -7.121,
          -2.127,
          -1.945,
          -2.725,
          -6.327,
          -7.969,
          -6.429,
          -8.608,
          -12.201,
          -11.974,
          -11.119,
          -14.894,
          -17.113,
          -15.86,
          -19.258,
          -14.25,
          -16.204,
          -10.963,
          -15.66,
          -16.73
         ],
         "y": [
          -2.928,
          -2.485,
          -3.515,
          -1.738,
          -0.903,
          -3.97,
          -1.646,
          -2.624,
          -4.709,
          -7.598,
          -7.466,
          -12.217,
          -9.699,
          -6.923,
          -11.294,
          -14.18,
          -10.195,
          -9.804,
          -15.127,
          -15.29,
          -10.996,
          -13.081,
          -17.607,
          -19.722,
          -18.073,
          -17.682,
          -16.372,
          -13.813
         ],
         "z": [
          -0.537,
          9.236,
          5.419,
          3.44,
          2.884,
          7.312,
          9.258,
          20.43,
          14.72,
          14.543,
          9.137,
          11.595,
          14.697,
          10.416,
          7.535,
          11.471,
          11.865,
          6.523,
          6.78,
          10.493,
          8.111,
          3.503,
          3.887,
          5.362,
          0.034,
          -2.362,
          -4.713,
          -0.102
         ]
        },
        {
         "hovertemplate": "new_label2=1<br>x_coord=%{x}<br>y_coord=%{y}<br>z_coord=%{z}<extra></extra>",
         "legendgroup": "1",
         "marker": {
          "color": "#00cc96",
          "size": 10,
          "symbol": "circle"
         },
         "mode": "markers",
         "name": "1",
         "scene": "scene",
         "showlegend": true,
         "type": "scatter3d",
         "x": [
          -0.362,
          -2.459,
          -4.346,
          -4.86,
          -6.081,
          -8.904,
          -9.67,
          -10.51,
          -12.809,
          -14.682,
          -17.62,
          -18.879,
          -16.587,
          -19.868,
          -15.713,
          -11.078,
          -11.426,
          -15.113,
          -12.352,
          -7.894,
          -10.757,
          -12.807,
          -7.923,
          -6.402,
          -10.05,
          -7.99,
          0.29,
          -5.619,
          -2.679,
          0.372,
          -4.922,
          1.429,
          -7.993,
          -13.269,
          -11.269,
          -12.656,
          -3.267
         ],
         "y": [
          6.828,
          11.587,
          12.173,
          6.76,
          7.568,
          11.937,
          9.034,
          4.961,
          8.303,
          11.152,
          7.986,
          10.692,
          13.4,
          17.434,
          18.835,
          16.832,
          20.514,
          17.476,
          13.326,
          16.291,
          18.257,
          13.403,
          11.473,
          15.787,
          13.646,
          8.947,
          11.805,
          7.821,
          10.314,
          6.262,
          3.598,
          2.888,
          2.651,
          1.385,
          0.594,
          6.182,
          -0.58
         ],
         "z": [
          5.557,
          7.284,
          2.22,
          2.268,
          7.267,
          6.019,
          1.345,
          4.564,
          7.991,
          3.936,
          9.443,
          13.003,
          9.538,
          7.362,
          5.566,
          4.281,
          8.147,
          10.611,
          8.683,
          9.88,
          13.893,
          14.523,
          13.112,
          16.2,
          19.59,
          18.553,
          16.185,
          15.09,
          11.08,
          10.843,
          11.93,
          8.22,
          6.436,
          7.98,
          13.004,
          14.467,
          16.904
         ]
        }
       ],
       "layout": {
        "height": 800,
        "legend": {
         "title": {
          "text": "new_label2"
         },
         "tracegroupgap": 0
        },
        "margin": {
         "t": 60
        },
        "scene": {
         "domain": {
          "x": [
           0,
           1
          ],
          "y": [
           0,
           1
          ]
         },
         "xaxis": {
          "title": {
           "text": "x_coord"
          }
         },
         "yaxis": {
          "title": {
           "text": "y_coord"
          }
         },
         "zaxis": {
          "title": {
           "text": "z_coord"
          }
         }
        },
        "template": {
         "data": {
          "bar": [
           {
            "error_x": {
             "color": "#2a3f5f"
            },
            "error_y": {
             "color": "#2a3f5f"
            },
            "marker": {
             "line": {
              "color": "#E5ECF6",
              "width": 0.5
             },
             "pattern": {
              "fillmode": "overlay",
              "size": 10,
              "solidity": 0.2
             }
            },
            "type": "bar"
           }
          ],
          "barpolar": [
           {
            "marker": {
             "line": {
              "color": "#E5ECF6",
              "width": 0.5
             },
             "pattern": {
              "fillmode": "overlay",
              "size": 10,
              "solidity": 0.2
             }
            },
            "type": "barpolar"
           }
          ],
          "carpet": [
           {
            "aaxis": {
             "endlinecolor": "#2a3f5f",
             "gridcolor": "white",
             "linecolor": "white",
             "minorgridcolor": "white",
             "startlinecolor": "#2a3f5f"
            },
            "baxis": {
             "endlinecolor": "#2a3f5f",
             "gridcolor": "white",
             "linecolor": "white",
             "minorgridcolor": "white",
             "startlinecolor": "#2a3f5f"
            },
            "type": "carpet"
           }
          ],
          "choropleth": [
           {
            "colorbar": {
             "outlinewidth": 0,
             "ticks": ""
            },
            "type": "choropleth"
           }
          ],
          "contour": [
           {
            "colorbar": {
             "outlinewidth": 0,
             "ticks": ""
            },
            "colorscale": [
             [
              0,
              "#0d0887"
             ],
             [
              0.1111111111111111,
              "#46039f"
             ],
             [
              0.2222222222222222,
              "#7201a8"
             ],
             [
              0.3333333333333333,
              "#9c179e"
             ],
             [
              0.4444444444444444,
              "#bd3786"
             ],
             [
              0.5555555555555556,
              "#d8576b"
             ],
             [
              0.6666666666666666,
              "#ed7953"
             ],
             [
              0.7777777777777778,
              "#fb9f3a"
             ],
             [
              0.8888888888888888,
              "#fdca26"
             ],
             [
              1,
              "#f0f921"
             ]
            ],
            "type": "contour"
           }
          ],
          "contourcarpet": [
           {
            "colorbar": {
             "outlinewidth": 0,
             "ticks": ""
            },
            "type": "contourcarpet"
           }
          ],
          "heatmap": [
           {
            "colorbar": {
             "outlinewidth": 0,
             "ticks": ""
            },
            "colorscale": [
             [
              0,
              "#0d0887"
             ],
             [
              0.1111111111111111,
              "#46039f"
             ],
             [
              0.2222222222222222,
              "#7201a8"
             ],
             [
              0.3333333333333333,
              "#9c179e"
             ],
             [
              0.4444444444444444,
              "#bd3786"
             ],
             [
              0.5555555555555556,
              "#d8576b"
             ],
             [
              0.6666666666666666,
              "#ed7953"
             ],
             [
              0.7777777777777778,
              "#fb9f3a"
             ],
             [
              0.8888888888888888,
              "#fdca26"
             ],
             [
              1,
              "#f0f921"
             ]
            ],
            "type": "heatmap"
           }
          ],
          "heatmapgl": [
           {
            "colorbar": {
             "outlinewidth": 0,
             "ticks": ""
            },
            "colorscale": [
             [
              0,
              "#0d0887"
             ],
             [
              0.1111111111111111,
              "#46039f"
             ],
             [
              0.2222222222222222,
              "#7201a8"
             ],
             [
              0.3333333333333333,
              "#9c179e"
             ],
             [
              0.4444444444444444,
              "#bd3786"
             ],
             [
              0.5555555555555556,
              "#d8576b"
             ],
             [
              0.6666666666666666,
              "#ed7953"
             ],
             [
              0.7777777777777778,
              "#fb9f3a"
             ],
             [
              0.8888888888888888,
              "#fdca26"
             ],
             [
              1,
              "#f0f921"
             ]
            ],
            "type": "heatmapgl"
           }
          ],
          "histogram": [
           {
            "marker": {
             "pattern": {
              "fillmode": "overlay",
              "size": 10,
              "solidity": 0.2
             }
            },
            "type": "histogram"
           }
          ],
          "histogram2d": [
           {
            "colorbar": {
             "outlinewidth": 0,
             "ticks": ""
            },
            "colorscale": [
             [
              0,
              "#0d0887"
             ],
             [
              0.1111111111111111,
              "#46039f"
             ],
             [
              0.2222222222222222,
              "#7201a8"
             ],
             [
              0.3333333333333333,
              "#9c179e"
             ],
             [
              0.4444444444444444,
              "#bd3786"
             ],
             [
              0.5555555555555556,
              "#d8576b"
             ],
             [
              0.6666666666666666,
              "#ed7953"
             ],
             [
              0.7777777777777778,
              "#fb9f3a"
             ],
             [
              0.8888888888888888,
              "#fdca26"
             ],
             [
              1,
              "#f0f921"
             ]
            ],
            "type": "histogram2d"
           }
          ],
          "histogram2dcontour": [
           {
            "colorbar": {
             "outlinewidth": 0,
             "ticks": ""
            },
            "colorscale": [
             [
              0,
              "#0d0887"
             ],
             [
              0.1111111111111111,
              "#46039f"
             ],
             [
              0.2222222222222222,
              "#7201a8"
             ],
             [
              0.3333333333333333,
              "#9c179e"
             ],
             [
              0.4444444444444444,
              "#bd3786"
             ],
             [
              0.5555555555555556,
              "#d8576b"
             ],
             [
              0.6666666666666666,
              "#ed7953"
             ],
             [
              0.7777777777777778,
              "#fb9f3a"
             ],
             [
              0.8888888888888888,
              "#fdca26"
             ],
             [
              1,
              "#f0f921"
             ]
            ],
            "type": "histogram2dcontour"
           }
          ],
          "mesh3d": [
           {
            "colorbar": {
             "outlinewidth": 0,
             "ticks": ""
            },
            "type": "mesh3d"
           }
          ],
          "parcoords": [
           {
            "line": {
             "colorbar": {
              "outlinewidth": 0,
              "ticks": ""
             }
            },
            "type": "parcoords"
           }
          ],
          "pie": [
           {
            "automargin": true,
            "type": "pie"
           }
          ],
          "scatter": [
           {
            "fillpattern": {
             "fillmode": "overlay",
             "size": 10,
             "solidity": 0.2
            },
            "type": "scatter"
           }
          ],
          "scatter3d": [
           {
            "line": {
             "colorbar": {
              "outlinewidth": 0,
              "ticks": ""
             }
            },
            "marker": {
             "colorbar": {
              "outlinewidth": 0,
              "ticks": ""
             }
            },
            "type": "scatter3d"
           }
          ],
          "scattercarpet": [
           {
            "marker": {
             "colorbar": {
              "outlinewidth": 0,
              "ticks": ""
             }
            },
            "type": "scattercarpet"
           }
          ],
          "scattergeo": [
           {
            "marker": {
             "colorbar": {
              "outlinewidth": 0,
              "ticks": ""
             }
            },
            "type": "scattergeo"
           }
          ],
          "scattergl": [
           {
            "marker": {
             "colorbar": {
              "outlinewidth": 0,
              "ticks": ""
             }
            },
            "type": "scattergl"
           }
          ],
          "scattermapbox": [
           {
            "marker": {
             "colorbar": {
              "outlinewidth": 0,
              "ticks": ""
             }
            },
            "type": "scattermapbox"
           }
          ],
          "scatterpolar": [
           {
            "marker": {
             "colorbar": {
              "outlinewidth": 0,
              "ticks": ""
             }
            },
            "type": "scatterpolar"
           }
          ],
          "scatterpolargl": [
           {
            "marker": {
             "colorbar": {
              "outlinewidth": 0,
              "ticks": ""
             }
            },
            "type": "scatterpolargl"
           }
          ],
          "scatterternary": [
           {
            "marker": {
             "colorbar": {
              "outlinewidth": 0,
              "ticks": ""
             }
            },
            "type": "scatterternary"
           }
          ],
          "surface": [
           {
            "colorbar": {
             "outlinewidth": 0,
             "ticks": ""
            },
            "colorscale": [
             [
              0,
              "#0d0887"
             ],
             [
              0.1111111111111111,
              "#46039f"
             ],
             [
              0.2222222222222222,
              "#7201a8"
             ],
             [
              0.3333333333333333,
              "#9c179e"
             ],
             [
              0.4444444444444444,
              "#bd3786"
             ],
             [
              0.5555555555555556,
              "#d8576b"
             ],
             [
              0.6666666666666666,
              "#ed7953"
             ],
             [
              0.7777777777777778,
              "#fb9f3a"
             ],
             [
              0.8888888888888888,
              "#fdca26"
             ],
             [
              1,
              "#f0f921"
             ]
            ],
            "type": "surface"
           }
          ],
          "table": [
           {
            "cells": {
             "fill": {
              "color": "#EBF0F8"
             },
             "line": {
              "color": "white"
             }
            },
            "header": {
             "fill": {
              "color": "#C8D4E3"
             },
             "line": {
              "color": "white"
             }
            },
            "type": "table"
           }
          ]
         },
         "layout": {
          "annotationdefaults": {
           "arrowcolor": "#2a3f5f",
           "arrowhead": 0,
           "arrowwidth": 1
          },
          "autotypenumbers": "strict",
          "coloraxis": {
           "colorbar": {
            "outlinewidth": 0,
            "ticks": ""
           }
          },
          "colorscale": {
           "diverging": [
            [
             0,
             "#8e0152"
            ],
            [
             0.1,
             "#c51b7d"
            ],
            [
             0.2,
             "#de77ae"
            ],
            [
             0.3,
             "#f1b6da"
            ],
            [
             0.4,
             "#fde0ef"
            ],
            [
             0.5,
             "#f7f7f7"
            ],
            [
             0.6,
             "#e6f5d0"
            ],
            [
             0.7,
             "#b8e186"
            ],
            [
             0.8,
             "#7fbc41"
            ],
            [
             0.9,
             "#4d9221"
            ],
            [
             1,
             "#276419"
            ]
           ],
           "sequential": [
            [
             0,
             "#0d0887"
            ],
            [
             0.1111111111111111,
             "#46039f"
            ],
            [
             0.2222222222222222,
             "#7201a8"
            ],
            [
             0.3333333333333333,
             "#9c179e"
            ],
            [
             0.4444444444444444,
             "#bd3786"
            ],
            [
             0.5555555555555556,
             "#d8576b"
            ],
            [
             0.6666666666666666,
             "#ed7953"
            ],
            [
             0.7777777777777778,
             "#fb9f3a"
            ],
            [
             0.8888888888888888,
             "#fdca26"
            ],
            [
             1,
             "#f0f921"
            ]
           ],
           "sequentialminus": [
            [
             0,
             "#0d0887"
            ],
            [
             0.1111111111111111,
             "#46039f"
            ],
            [
             0.2222222222222222,
             "#7201a8"
            ],
            [
             0.3333333333333333,
             "#9c179e"
            ],
            [
             0.4444444444444444,
             "#bd3786"
            ],
            [
             0.5555555555555556,
             "#d8576b"
            ],
            [
             0.6666666666666666,
             "#ed7953"
            ],
            [
             0.7777777777777778,
             "#fb9f3a"
            ],
            [
             0.8888888888888888,
             "#fdca26"
            ],
            [
             1,
             "#f0f921"
            ]
           ]
          },
          "colorway": [
           "#636efa",
           "#EF553B",
           "#00cc96",
           "#ab63fa",
           "#FFA15A",
           "#19d3f3",
           "#FF6692",
           "#B6E880",
           "#FF97FF",
           "#FECB52"
          ],
          "font": {
           "color": "#2a3f5f"
          },
          "geo": {
           "bgcolor": "white",
           "lakecolor": "white",
           "landcolor": "#E5ECF6",
           "showlakes": true,
           "showland": true,
           "subunitcolor": "white"
          },
          "hoverlabel": {
           "align": "left"
          },
          "hovermode": "closest",
          "mapbox": {
           "style": "light"
          },
          "paper_bgcolor": "white",
          "plot_bgcolor": "#E5ECF6",
          "polar": {
           "angularaxis": {
            "gridcolor": "white",
            "linecolor": "white",
            "ticks": ""
           },
           "bgcolor": "#E5ECF6",
           "radialaxis": {
            "gridcolor": "white",
            "linecolor": "white",
            "ticks": ""
           }
          },
          "scene": {
           "xaxis": {
            "backgroundcolor": "#E5ECF6",
            "gridcolor": "white",
            "gridwidth": 2,
            "linecolor": "white",
            "showbackground": true,
            "ticks": "",
            "zerolinecolor": "white"
           },
           "yaxis": {
            "backgroundcolor": "#E5ECF6",
            "gridcolor": "white",
            "gridwidth": 2,
            "linecolor": "white",
            "showbackground": true,
            "ticks": "",
            "zerolinecolor": "white"
           },
           "zaxis": {
            "backgroundcolor": "#E5ECF6",
            "gridcolor": "white",
            "gridwidth": 2,
            "linecolor": "white",
            "showbackground": true,
            "ticks": "",
            "zerolinecolor": "white"
           }
          },
          "shapedefaults": {
           "line": {
            "color": "#2a3f5f"
           }
          },
          "ternary": {
           "aaxis": {
            "gridcolor": "white",
            "linecolor": "white",
            "ticks": ""
           },
           "baxis": {
            "gridcolor": "white",
            "linecolor": "white",
            "ticks": ""
           },
           "bgcolor": "#E5ECF6",
           "caxis": {
            "gridcolor": "white",
            "linecolor": "white",
            "ticks": ""
           }
          },
          "title": {
           "x": 0.05
          },
          "xaxis": {
           "automargin": true,
           "gridcolor": "white",
           "linecolor": "white",
           "ticks": "",
           "title": {
            "standoff": 15
           },
           "zerolinecolor": "white",
           "zerolinewidth": 2
          },
          "yaxis": {
           "automargin": true,
           "gridcolor": "white",
           "linecolor": "white",
           "ticks": "",
           "title": {
            "standoff": 15
           },
           "zerolinecolor": "white",
           "zerolinewidth": 2
          }
         }
        },
        "width": 800
       }
      },
      "text/html": [
       "<div>                            <div id=\"5a23624d-5d39-4dd3-a7a7-6ebc3c87d797\" class=\"plotly-graph-div\" style=\"height:800px; width:800px;\"></div>            <script type=\"text/javascript\">                require([\"plotly\"], function(Plotly) {                    window.PLOTLYENV=window.PLOTLYENV || {};                                    if (document.getElementById(\"5a23624d-5d39-4dd3-a7a7-6ebc3c87d797\")) {                    Plotly.newPlot(                        \"5a23624d-5d39-4dd3-a7a7-6ebc3c87d797\",                        [{\"hovertemplate\":\"new_label2=0<br>x_coord=%{x}<br>y_coord=%{y}<br>z_coord=%{z}<extra></extra>\",\"legendgroup\":\"0\",\"marker\":{\"color\":\"#636efa\",\"symbol\":\"circle\",\"size\":10},\"mode\":\"markers\",\"name\":\"0\",\"scene\":\"scene\",\"showlegend\":true,\"x\":[-19.548,-17.363,-15.576,-19.833,-22.148,-23.533,-21.683,-27.0,-25.827,-21.878,-25.414,-29.131,-25.349,-23.937,-29.249,-29.933,-25.405,-27.122,-25.429,-23.462,-22.422,-18.727,-19.023,-13.981,-15.344,-16.829,-22.79,-20.038,-22.697,-24.109],\"y\":[0.117,-4.088,-1.252,-4.008,-5.547,-8.078,-4.406,-5.039,-4.758,-1.453,0.629,-0.536,1.14,4.589,4.95,4.547,7.654,13.379,15.878,11.196,10.955,14.34,12.667,13.947,6.512,4.426,4.811,3.48,9.515,10.518],\"z\":[-0.729,-3.22,3.533,3.599,-0.073,-4.681,-8.145,-7.079,-1.913,-3.412,-6.954,-3.178,0.382,-3.263,-4.489,0.936,1.138,-5.204,-0.611,0.891,-4.891,-4.59,1.027,-4.079,1.219,6.123,5.267,9.965,6.647,11.755],\"type\":\"scatter3d\"},{\"hovertemplate\":\"new_label2=2<br>x_coord=%{x}<br>y_coord=%{y}<br>z_coord=%{z}<extra></extra>\",\"legendgroup\":\"2\",\"marker\":{\"color\":\"#EF553B\",\"symbol\":\"circle\",\"size\":10},\"mode\":\"markers\",\"name\":\"2\",\"scene\":\"scene\",\"showlegend\":true,\"x\":[-12.863,1.633,-1.973,-5.354,-10.43,-11.126,-6.671,-7.086,-7.121,-2.127,-1.945,-2.725,-6.327,-7.969,-6.429,-8.608,-12.201,-11.974,-11.119,-14.894,-17.113,-15.86,-19.258,-14.25,-16.204,-10.963,-15.66,-16.73],\"y\":[-2.928,-2.485,-3.515,-1.738,-0.903,-3.97,-1.646,-2.624,-4.709,-7.598,-7.466,-12.217,-9.699,-6.923,-11.294,-14.18,-10.195,-9.804,-15.127,-15.29,-10.996,-13.081,-17.607,-19.722,-18.073,-17.682,-16.372,-13.813],\"z\":[-0.537,9.236,5.419,3.44,2.884,7.312,9.258,20.43,14.72,14.543,9.137,11.595,14.697,10.416,7.535,11.471,11.865,6.523,6.78,10.493,8.111,3.503,3.887,5.362,0.034,-2.362,-4.713,-0.102],\"type\":\"scatter3d\"},{\"hovertemplate\":\"new_label2=1<br>x_coord=%{x}<br>y_coord=%{y}<br>z_coord=%{z}<extra></extra>\",\"legendgroup\":\"1\",\"marker\":{\"color\":\"#00cc96\",\"symbol\":\"circle\",\"size\":10},\"mode\":\"markers\",\"name\":\"1\",\"scene\":\"scene\",\"showlegend\":true,\"x\":[-0.362,-2.459,-4.346,-4.86,-6.081,-8.904,-9.67,-10.51,-12.809,-14.682,-17.62,-18.879,-16.587,-19.868,-15.713,-11.078,-11.426,-15.113,-12.352,-7.894,-10.757,-12.807,-7.923,-6.402,-10.05,-7.99,0.29,-5.619,-2.679,0.372,-4.922,1.429,-7.993,-13.269,-11.269,-12.656,-3.267],\"y\":[6.828,11.587,12.173,6.76,7.568,11.937,9.034,4.961,8.303,11.152,7.986,10.692,13.4,17.434,18.835,16.832,20.514,17.476,13.326,16.291,18.257,13.403,11.473,15.787,13.646,8.947,11.805,7.821,10.314,6.262,3.598,2.888,2.651,1.385,0.594,6.182,-0.58],\"z\":[5.557,7.284,2.22,2.268,7.267,6.019,1.345,4.564,7.991,3.936,9.443,13.003,9.538,7.362,5.566,4.281,8.147,10.611,8.683,9.88,13.893,14.523,13.112,16.2,19.59,18.553,16.185,15.09,11.08,10.843,11.93,8.22,6.436,7.98,13.004,14.467,16.904],\"type\":\"scatter3d\"}],                        {\"template\":{\"data\":{\"histogram2dcontour\":[{\"type\":\"histogram2dcontour\",\"colorbar\":{\"outlinewidth\":0,\"ticks\":\"\"},\"colorscale\":[[0.0,\"#0d0887\"],[0.1111111111111111,\"#46039f\"],[0.2222222222222222,\"#7201a8\"],[0.3333333333333333,\"#9c179e\"],[0.4444444444444444,\"#bd3786\"],[0.5555555555555556,\"#d8576b\"],[0.6666666666666666,\"#ed7953\"],[0.7777777777777778,\"#fb9f3a\"],[0.8888888888888888,\"#fdca26\"],[1.0,\"#f0f921\"]]}],\"choropleth\":[{\"type\":\"choropleth\",\"colorbar\":{\"outlinewidth\":0,\"ticks\":\"\"}}],\"histogram2d\":[{\"type\":\"histogram2d\",\"colorbar\":{\"outlinewidth\":0,\"ticks\":\"\"},\"colorscale\":[[0.0,\"#0d0887\"],[0.1111111111111111,\"#46039f\"],[0.2222222222222222,\"#7201a8\"],[0.3333333333333333,\"#9c179e\"],[0.4444444444444444,\"#bd3786\"],[0.5555555555555556,\"#d8576b\"],[0.6666666666666666,\"#ed7953\"],[0.7777777777777778,\"#fb9f3a\"],[0.8888888888888888,\"#fdca26\"],[1.0,\"#f0f921\"]]}],\"heatmap\":[{\"type\":\"heatmap\",\"colorbar\":{\"outlinewidth\":0,\"ticks\":\"\"},\"colorscale\":[[0.0,\"#0d0887\"],[0.1111111111111111,\"#46039f\"],[0.2222222222222222,\"#7201a8\"],[0.3333333333333333,\"#9c179e\"],[0.4444444444444444,\"#bd3786\"],[0.5555555555555556,\"#d8576b\"],[0.6666666666666666,\"#ed7953\"],[0.7777777777777778,\"#fb9f3a\"],[0.8888888888888888,\"#fdca26\"],[1.0,\"#f0f921\"]]}],\"heatmapgl\":[{\"type\":\"heatmapgl\",\"colorbar\":{\"outlinewidth\":0,\"ticks\":\"\"},\"colorscale\":[[0.0,\"#0d0887\"],[0.1111111111111111,\"#46039f\"],[0.2222222222222222,\"#7201a8\"],[0.3333333333333333,\"#9c179e\"],[0.4444444444444444,\"#bd3786\"],[0.5555555555555556,\"#d8576b\"],[0.6666666666666666,\"#ed7953\"],[0.7777777777777778,\"#fb9f3a\"],[0.8888888888888888,\"#fdca26\"],[1.0,\"#f0f921\"]]}],\"contourcarpet\":[{\"type\":\"contourcarpet\",\"colorbar\":{\"outlinewidth\":0,\"ticks\":\"\"}}],\"contour\":[{\"type\":\"contour\",\"colorbar\":{\"outlinewidth\":0,\"ticks\":\"\"},\"colorscale\":[[0.0,\"#0d0887\"],[0.1111111111111111,\"#46039f\"],[0.2222222222222222,\"#7201a8\"],[0.3333333333333333,\"#9c179e\"],[0.4444444444444444,\"#bd3786\"],[0.5555555555555556,\"#d8576b\"],[0.6666666666666666,\"#ed7953\"],[0.7777777777777778,\"#fb9f3a\"],[0.8888888888888888,\"#fdca26\"],[1.0,\"#f0f921\"]]}],\"surface\":[{\"type\":\"surface\",\"colorbar\":{\"outlinewidth\":0,\"ticks\":\"\"},\"colorscale\":[[0.0,\"#0d0887\"],[0.1111111111111111,\"#46039f\"],[0.2222222222222222,\"#7201a8\"],[0.3333333333333333,\"#9c179e\"],[0.4444444444444444,\"#bd3786\"],[0.5555555555555556,\"#d8576b\"],[0.6666666666666666,\"#ed7953\"],[0.7777777777777778,\"#fb9f3a\"],[0.8888888888888888,\"#fdca26\"],[1.0,\"#f0f921\"]]}],\"mesh3d\":[{\"type\":\"mesh3d\",\"colorbar\":{\"outlinewidth\":0,\"ticks\":\"\"}}],\"scatter\":[{\"fillpattern\":{\"fillmode\":\"overlay\",\"size\":10,\"solidity\":0.2},\"type\":\"scatter\"}],\"parcoords\":[{\"type\":\"parcoords\",\"line\":{\"colorbar\":{\"outlinewidth\":0,\"ticks\":\"\"}}}],\"scatterpolargl\":[{\"type\":\"scatterpolargl\",\"marker\":{\"colorbar\":{\"outlinewidth\":0,\"ticks\":\"\"}}}],\"bar\":[{\"error_x\":{\"color\":\"#2a3f5f\"},\"error_y\":{\"color\":\"#2a3f5f\"},\"marker\":{\"line\":{\"color\":\"#E5ECF6\",\"width\":0.5},\"pattern\":{\"fillmode\":\"overlay\",\"size\":10,\"solidity\":0.2}},\"type\":\"bar\"}],\"scattergeo\":[{\"type\":\"scattergeo\",\"marker\":{\"colorbar\":{\"outlinewidth\":0,\"ticks\":\"\"}}}],\"scatterpolar\":[{\"type\":\"scatterpolar\",\"marker\":{\"colorbar\":{\"outlinewidth\":0,\"ticks\":\"\"}}}],\"histogram\":[{\"marker\":{\"pattern\":{\"fillmode\":\"overlay\",\"size\":10,\"solidity\":0.2}},\"type\":\"histogram\"}],\"scattergl\":[{\"type\":\"scattergl\",\"marker\":{\"colorbar\":{\"outlinewidth\":0,\"ticks\":\"\"}}}],\"scatter3d\":[{\"type\":\"scatter3d\",\"line\":{\"colorbar\":{\"outlinewidth\":0,\"ticks\":\"\"}},\"marker\":{\"colorbar\":{\"outlinewidth\":0,\"ticks\":\"\"}}}],\"scattermapbox\":[{\"type\":\"scattermapbox\",\"marker\":{\"colorbar\":{\"outlinewidth\":0,\"ticks\":\"\"}}}],\"scatterternary\":[{\"type\":\"scatterternary\",\"marker\":{\"colorbar\":{\"outlinewidth\":0,\"ticks\":\"\"}}}],\"scattercarpet\":[{\"type\":\"scattercarpet\",\"marker\":{\"colorbar\":{\"outlinewidth\":0,\"ticks\":\"\"}}}],\"carpet\":[{\"aaxis\":{\"endlinecolor\":\"#2a3f5f\",\"gridcolor\":\"white\",\"linecolor\":\"white\",\"minorgridcolor\":\"white\",\"startlinecolor\":\"#2a3f5f\"},\"baxis\":{\"endlinecolor\":\"#2a3f5f\",\"gridcolor\":\"white\",\"linecolor\":\"white\",\"minorgridcolor\":\"white\",\"startlinecolor\":\"#2a3f5f\"},\"type\":\"carpet\"}],\"table\":[{\"cells\":{\"fill\":{\"color\":\"#EBF0F8\"},\"line\":{\"color\":\"white\"}},\"header\":{\"fill\":{\"color\":\"#C8D4E3\"},\"line\":{\"color\":\"white\"}},\"type\":\"table\"}],\"barpolar\":[{\"marker\":{\"line\":{\"color\":\"#E5ECF6\",\"width\":0.5},\"pattern\":{\"fillmode\":\"overlay\",\"size\":10,\"solidity\":0.2}},\"type\":\"barpolar\"}],\"pie\":[{\"automargin\":true,\"type\":\"pie\"}]},\"layout\":{\"autotypenumbers\":\"strict\",\"colorway\":[\"#636efa\",\"#EF553B\",\"#00cc96\",\"#ab63fa\",\"#FFA15A\",\"#19d3f3\",\"#FF6692\",\"#B6E880\",\"#FF97FF\",\"#FECB52\"],\"font\":{\"color\":\"#2a3f5f\"},\"hovermode\":\"closest\",\"hoverlabel\":{\"align\":\"left\"},\"paper_bgcolor\":\"white\",\"plot_bgcolor\":\"#E5ECF6\",\"polar\":{\"bgcolor\":\"#E5ECF6\",\"angularaxis\":{\"gridcolor\":\"white\",\"linecolor\":\"white\",\"ticks\":\"\"},\"radialaxis\":{\"gridcolor\":\"white\",\"linecolor\":\"white\",\"ticks\":\"\"}},\"ternary\":{\"bgcolor\":\"#E5ECF6\",\"aaxis\":{\"gridcolor\":\"white\",\"linecolor\":\"white\",\"ticks\":\"\"},\"baxis\":{\"gridcolor\":\"white\",\"linecolor\":\"white\",\"ticks\":\"\"},\"caxis\":{\"gridcolor\":\"white\",\"linecolor\":\"white\",\"ticks\":\"\"}},\"coloraxis\":{\"colorbar\":{\"outlinewidth\":0,\"ticks\":\"\"}},\"colorscale\":{\"sequential\":[[0.0,\"#0d0887\"],[0.1111111111111111,\"#46039f\"],[0.2222222222222222,\"#7201a8\"],[0.3333333333333333,\"#9c179e\"],[0.4444444444444444,\"#bd3786\"],[0.5555555555555556,\"#d8576b\"],[0.6666666666666666,\"#ed7953\"],[0.7777777777777778,\"#fb9f3a\"],[0.8888888888888888,\"#fdca26\"],[1.0,\"#f0f921\"]],\"sequentialminus\":[[0.0,\"#0d0887\"],[0.1111111111111111,\"#46039f\"],[0.2222222222222222,\"#7201a8\"],[0.3333333333333333,\"#9c179e\"],[0.4444444444444444,\"#bd3786\"],[0.5555555555555556,\"#d8576b\"],[0.6666666666666666,\"#ed7953\"],[0.7777777777777778,\"#fb9f3a\"],[0.8888888888888888,\"#fdca26\"],[1.0,\"#f0f921\"]],\"diverging\":[[0,\"#8e0152\"],[0.1,\"#c51b7d\"],[0.2,\"#de77ae\"],[0.3,\"#f1b6da\"],[0.4,\"#fde0ef\"],[0.5,\"#f7f7f7\"],[0.6,\"#e6f5d0\"],[0.7,\"#b8e186\"],[0.8,\"#7fbc41\"],[0.9,\"#4d9221\"],[1,\"#276419\"]]},\"xaxis\":{\"gridcolor\":\"white\",\"linecolor\":\"white\",\"ticks\":\"\",\"title\":{\"standoff\":15},\"zerolinecolor\":\"white\",\"automargin\":true,\"zerolinewidth\":2},\"yaxis\":{\"gridcolor\":\"white\",\"linecolor\":\"white\",\"ticks\":\"\",\"title\":{\"standoff\":15},\"zerolinecolor\":\"white\",\"automargin\":true,\"zerolinewidth\":2},\"scene\":{\"xaxis\":{\"backgroundcolor\":\"#E5ECF6\",\"gridcolor\":\"white\",\"linecolor\":\"white\",\"showbackground\":true,\"ticks\":\"\",\"zerolinecolor\":\"white\",\"gridwidth\":2},\"yaxis\":{\"backgroundcolor\":\"#E5ECF6\",\"gridcolor\":\"white\",\"linecolor\":\"white\",\"showbackground\":true,\"ticks\":\"\",\"zerolinecolor\":\"white\",\"gridwidth\":2},\"zaxis\":{\"backgroundcolor\":\"#E5ECF6\",\"gridcolor\":\"white\",\"linecolor\":\"white\",\"showbackground\":true,\"ticks\":\"\",\"zerolinecolor\":\"white\",\"gridwidth\":2}},\"shapedefaults\":{\"line\":{\"color\":\"#2a3f5f\"}},\"annotationdefaults\":{\"arrowcolor\":\"#2a3f5f\",\"arrowhead\":0,\"arrowwidth\":1},\"geo\":{\"bgcolor\":\"white\",\"landcolor\":\"#E5ECF6\",\"subunitcolor\":\"white\",\"showland\":true,\"showlakes\":true,\"lakecolor\":\"white\"},\"title\":{\"x\":0.05},\"mapbox\":{\"style\":\"light\"}}},\"scene\":{\"domain\":{\"x\":[0.0,1.0],\"y\":[0.0,1.0]},\"xaxis\":{\"title\":{\"text\":\"x_coord\"}},\"yaxis\":{\"title\":{\"text\":\"y_coord\"}},\"zaxis\":{\"title\":{\"text\":\"z_coord\"}}},\"legend\":{\"title\":{\"text\":\"new_label2\"},\"tracegroupgap\":0},\"margin\":{\"t\":60},\"width\":800,\"height\":800},                        {\"responsive\": true}                    ).then(function(){\n",
       "                            \n",
       "var gd = document.getElementById('5a23624d-5d39-4dd3-a7a7-6ebc3c87d797');\n",
       "var x = new MutationObserver(function (mutations, observer) {{\n",
       "        var display = window.getComputedStyle(gd).display;\n",
       "        if (!display || display === 'none') {{\n",
       "            console.log([gd, 'removed!']);\n",
       "            Plotly.purge(gd);\n",
       "            observer.disconnect();\n",
       "        }}\n",
       "}});\n",
       "\n",
       "// Listen for the removal of the full notebook cells\n",
       "var notebookContainer = gd.closest('#notebook-container');\n",
       "if (notebookContainer) {{\n",
       "    x.observe(notebookContainer, {childList: true});\n",
       "}}\n",
       "\n",
       "// Listen for the clearing of the current output cell\n",
       "var outputEl = gd.closest('.output');\n",
       "if (outputEl) {{\n",
       "    x.observe(outputEl, {childList: true});\n",
       "}}\n",
       "\n",
       "                        })                };                });            </script>        </div>"
      ]
     },
     "metadata": {},
     "output_type": "display_data"
    }
   ],
   "source": [
    "# cluster visualization\n",
    "fig_tmp2 = px.scatter_3d(outdf, x='x_coord', y='y_coord', z='z_coord', color='new_label2')\n",
    "fig_tmp2.update_traces(marker_size=10)\n",
    "\n",
    "fig_tmp2.update_layout(\n",
    "    width = 800, \n",
    "    height= 800\n",
    ")\n",
    "fig_tmp2.show()"
   ]
  },
  {
   "cell_type": "code",
   "execution_count": 128,
   "id": "16235323",
   "metadata": {},
   "outputs": [],
   "source": [
    "x02, y02, z02 = outdf[outdf[\"new_label2\"]==\"0\"][['x_coord', 'y_coord', 'z_coord']].mean().tolist()\n",
    "x12, y12, z12 = outdf[outdf[\"new_label2\"]==\"1\"][['x_coord', 'y_coord', 'z_coord']].mean().tolist()\n",
    "x22, y22, z22 = outdf[outdf[\"new_label2\"]==\"2\"][['x_coord', 'y_coord', 'z_coord']].mean().tolist()"
   ]
  },
  {
   "cell_type": "code",
   "execution_count": 129,
   "id": "ac812b99",
   "metadata": {
    "collapsed": true
   },
   "outputs": [
    {
     "data": {
      "application/vnd.plotly.v1+json": {
       "config": {
        "plotlyServerURL": "https://plot.ly"
       },
       "data": [
        {
         "hovertemplate": "label=1<br>x_coord=%{x}<br>y_coord=%{y}<br>z_coord=%{z}<extra></extra>",
         "legendgroup": "1",
         "marker": {
          "color": "#636efa",
          "size": 10,
          "symbol": "circle"
         },
         "mode": "markers",
         "name": "1",
         "scene": "scene",
         "showlegend": true,
         "type": "scatter3d",
         "x": [
          17.085,
          12.505,
          11.779,
          13.504,
          11.041,
          7.024,
          8.863,
          5.113,
          2.711,
          4.251,
          3.567,
          -0.753,
          18.5,
          21.394,
          21.461,
          21.727,
          24.717,
          26.869,
          26.897,
          26.298,
          31.134,
          28.049,
          9.631,
          8.54,
          9.114,
          14.266,
          10.33,
          12.613,
          8.15,
          7.471,
          3.723,
          7.472,
          8.858,
          3.543,
          3.001,
          7.657,
          6.237,
          -3.048,
          -4.532,
          -8.407,
          -5.104,
          -1.227,
          -4.821,
          -7.003,
          -2.436
         ],
         "y": [
          29.147,
          31.513,
          27.657,
          24.063,
          27.148,
          27.884,
          21.706,
          25.341,
          23.394,
          18.522,
          20.605,
          23.104,
          11.449,
          15.428,
          12.74,
          8.288,
          10.963,
          13.21,
          8.996,
          5.075,
          5.503,
          1.344,
          -15.979,
          -11.328,
          -12.678,
          -10.255,
          -5.888,
          -6.65,
          -3.883,
          0.908,
          -2.988,
          -6.306,
          -1.919,
          -1.073,
          -6.404,
          -6.659,
          -2.102,
          13.904,
          13.655,
          17.019,
          19.547,
          18.292,
          19.749,
          23.205,
          24.489
         ],
         "z": [
          -19.554,
          -21.284,
          -25.057,
          -21.142,
          -17.728,
          -21.446,
          -17.761,
          -16.718,
          -21.24,
          -19.685,
          -14.724,
          -16.417,
          -8.501,
          -6.456,
          -1.872,
          -4.881,
          -8.408,
          -3.998,
          -1.128,
          -4.283,
          -7.956,
          -7.066,
          -21.48,
          -24.469,
          -29.746,
          -29.899,
          -29.445,
          -34.949,
          -35.371,
          -33.177,
          -33.536,
          -31.594,
          -28.479,
          -28.168,
          -28.127,
          -25.452,
          -22.979,
          -21.003,
          -26.076,
          -24.753,
          -21.49,
          -25.069,
          -28.811,
          -25.432,
          -23.013
         ]
        },
        {
         "hovertemplate": "label=0<br>x_coord=%{x}<br>y_coord=%{y}<br>z_coord=%{z}<extra></extra>",
         "legendgroup": "0",
         "marker": {
          "color": "#EF553B",
          "size": 10,
          "symbol": "circle"
         },
         "mode": "markers",
         "name": "0",
         "scene": "scene",
         "showlegend": true,
         "type": "scatter3d",
         "x": [
          -19.548,
          -17.363,
          -12.863,
          -15.576,
          -19.833,
          -22.148,
          -23.533,
          -21.683,
          -27,
          -25.827,
          -21.878,
          -25.414,
          -29.131,
          -25.349,
          -23.937,
          -29.249,
          -29.933,
          -25.405,
          -27.122,
          -25.429,
          -23.462,
          -22.422,
          -18.727,
          -19.023,
          -13.981,
          -0.362,
          -2.459,
          -4.346,
          -4.86,
          -6.081,
          -8.904,
          -9.67,
          -10.51,
          -12.809,
          -14.682,
          -15.344,
          -16.829,
          -22.79,
          -20.038,
          -17.62,
          -22.697,
          -24.109,
          -18.879,
          -16.587,
          -19.868,
          -15.713,
          -11.078,
          -11.426,
          -15.113,
          -12.352,
          -7.894,
          -10.757,
          -12.807,
          -7.923,
          -6.402,
          -10.05,
          -7.99,
          0.29,
          -5.619,
          -2.679,
          0.372,
          -4.922,
          1.429,
          1.633,
          -1.973,
          -5.354,
          -10.43,
          -11.126,
          -6.671,
          -7.993,
          -13.269,
          -11.269,
          -12.656,
          -7.086,
          -3.267,
          -7.121,
          -2.127,
          -1.945,
          -2.725,
          -6.327,
          -7.969,
          -6.429,
          -8.608,
          -12.201,
          -11.974,
          -11.119,
          -14.894,
          -17.113,
          -15.86,
          -19.258,
          -14.25,
          -16.204,
          -10.963,
          -15.66,
          -16.73
         ],
         "y": [
          0.117,
          -4.088,
          -2.928,
          -1.252,
          -4.008,
          -5.547,
          -8.078,
          -4.406,
          -5.039,
          -4.758,
          -1.453,
          0.629,
          -0.536,
          1.14,
          4.589,
          4.95,
          4.547,
          7.654,
          13.379,
          15.878,
          11.196,
          10.955,
          14.34,
          12.667,
          13.947,
          6.828,
          11.587,
          12.173,
          6.76,
          7.568,
          11.937,
          9.034,
          4.961,
          8.303,
          11.152,
          6.512,
          4.426,
          4.811,
          3.48,
          7.986,
          9.515,
          10.518,
          10.692,
          13.4,
          17.434,
          18.835,
          16.832,
          20.514,
          17.476,
          13.326,
          16.291,
          18.257,
          13.403,
          11.473,
          15.787,
          13.646,
          8.947,
          11.805,
          7.821,
          10.314,
          6.262,
          3.598,
          2.888,
          -2.485,
          -3.515,
          -1.738,
          -0.903,
          -3.97,
          -1.646,
          2.651,
          1.385,
          0.594,
          6.182,
          -2.624,
          -0.58,
          -4.709,
          -7.598,
          -7.466,
          -12.217,
          -9.699,
          -6.923,
          -11.294,
          -14.18,
          -10.195,
          -9.804,
          -15.127,
          -15.29,
          -10.996,
          -13.081,
          -17.607,
          -19.722,
          -18.073,
          -17.682,
          -16.372,
          -13.813
         ],
         "z": [
          -0.729,
          -3.22,
          -0.537,
          3.533,
          3.599,
          -0.073,
          -4.681,
          -8.145,
          -7.079,
          -1.913,
          -3.412,
          -6.954,
          -3.178,
          0.382,
          -3.263,
          -4.489,
          0.936,
          1.138,
          -5.204,
          -0.611,
          0.891,
          -4.891,
          -4.59,
          1.027,
          -4.079,
          5.557,
          7.284,
          2.22,
          2.268,
          7.267,
          6.019,
          1.345,
          4.564,
          7.991,
          3.936,
          1.219,
          6.123,
          5.267,
          9.965,
          9.443,
          6.647,
          11.755,
          13.003,
          9.538,
          7.362,
          5.566,
          4.281,
          8.147,
          10.611,
          8.683,
          9.88,
          13.893,
          14.523,
          13.112,
          16.2,
          19.59,
          18.553,
          16.185,
          15.09,
          11.08,
          10.843,
          11.93,
          8.22,
          9.236,
          5.419,
          3.44,
          2.884,
          7.312,
          9.258,
          6.436,
          7.98,
          13.004,
          14.467,
          20.43,
          16.904,
          14.72,
          14.543,
          9.137,
          11.595,
          14.697,
          10.416,
          7.535,
          11.471,
          11.865,
          6.523,
          6.78,
          10.493,
          8.111,
          3.503,
          3.887,
          5.362,
          0.034,
          -2.362,
          -4.713,
          -0.102
         ]
        },
        {
         "marker": {
          "color": "yellow"
         },
         "mode": "markers",
         "text": [
          4,
          6,
          12,
          13,
          15,
          19,
          22,
          25,
          28,
          31,
          34,
          35,
          44,
          51,
          54,
          58,
          63,
          64,
          69,
          73,
          75,
          78,
          81,
          82,
          85,
          86,
          87,
          93,
          94
         ],
         "type": "scatter3d",
         "x": [
          -15.576,
          -22.148,
          -25.414,
          -29.131,
          -23.937,
          -27.122,
          -22.422,
          -13.981,
          -4.346,
          -8.904,
          -12.809,
          -14.682,
          -16.587,
          -7.894,
          -7.923,
          0.29,
          1.429,
          1.633,
          -6.671,
          -12.656,
          -3.267,
          -1.945,
          -7.969,
          -6.429,
          -11.974,
          -11.119,
          -14.894,
          -10.963,
          -15.66
         ],
         "y": [
          -1.252,
          -5.547,
          0.629,
          -0.536,
          4.589,
          13.379,
          10.955,
          13.947,
          12.173,
          11.937,
          8.303,
          11.152,
          13.4,
          16.291,
          11.473,
          11.805,
          2.888,
          -2.485,
          -1.646,
          6.182,
          -0.58,
          -7.466,
          -6.923,
          -11.294,
          -9.804,
          -15.127,
          -15.29,
          -17.682,
          -16.372
         ],
         "z": [
          3.533,
          -0.073,
          -6.954,
          -3.178,
          -3.263,
          -5.204,
          -4.891,
          -4.079,
          2.22,
          6.019,
          7.991,
          3.936,
          9.538,
          9.88,
          13.112,
          16.185,
          8.22,
          9.236,
          9.258,
          14.467,
          16.904,
          9.137,
          10.416,
          7.535,
          6.523,
          6.78,
          10.493,
          -2.362,
          -4.713
         ]
        },
        {
         "marker": {
          "color": "yellow"
         },
         "mode": "markers",
         "text": [
          4,
          6,
          12,
          13,
          15,
          19,
          22,
          25,
          28,
          31,
          34,
          35,
          44,
          51,
          54,
          58,
          63,
          64,
          69,
          73,
          75,
          78,
          81,
          82,
          85,
          86,
          87,
          93,
          94
         ],
         "type": "scatter3d",
         "x": [
          -15.576,
          -22.148,
          -25.414,
          -29.131,
          -23.937,
          -27.122,
          -22.422,
          -13.981,
          -4.346,
          -8.904,
          -12.809,
          -14.682,
          -16.587,
          -7.894,
          -7.923,
          0.29,
          1.429,
          1.633,
          -6.671,
          -12.656,
          -3.267,
          -1.945,
          -7.969,
          -6.429,
          -11.974,
          -11.119,
          -14.894,
          -10.963,
          -15.66
         ],
         "y": [
          -1.252,
          -5.547,
          0.629,
          -0.536,
          4.589,
          13.379,
          10.955,
          13.947,
          12.173,
          11.937,
          8.303,
          11.152,
          13.4,
          16.291,
          11.473,
          11.805,
          2.888,
          -2.485,
          -1.646,
          6.182,
          -0.58,
          -7.466,
          -6.923,
          -11.294,
          -9.804,
          -15.127,
          -15.29,
          -17.682,
          -16.372
         ],
         "z": [
          3.533,
          -0.073,
          -6.954,
          -3.178,
          -3.263,
          -5.204,
          -4.891,
          -4.079,
          2.22,
          6.019,
          7.991,
          3.936,
          9.538,
          9.88,
          13.112,
          16.185,
          8.22,
          9.236,
          9.258,
          14.467,
          16.904,
          9.137,
          10.416,
          7.535,
          6.523,
          6.78,
          10.493,
          -2.362,
          -4.713
         ]
        },
        {
         "marker": {
          "color": "green"
         },
         "type": "scatter3d",
         "x": [
          8.0404
         ],
         "y": [
          -6.2136
         ],
         "z": [
          -29.12473333333333
         ]
        },
        {
         "marker": {
          "color": "black"
         },
         "type": "scatter3d",
         "x": [
          24.704600000000003
         ],
         "y": [
          9.2996
         ],
         "z": [
          -5.4549
         ]
        },
        {
         "marker": {
          "color": "orange"
         },
         "type": "scatter3d",
         "x": [
          3.0056000000000003
         ],
         "y": [
          22.4972
         ],
         "z": [
          -21.42015
         ]
        },
        {
         "color": "lightpink",
         "opacity": 0.5,
         "type": "mesh3d",
         "x": [
          8.0404,
          24.704600000000003,
          3.0056000000000003
         ],
         "y": [
          -6.2136,
          9.2996,
          22.4972
         ],
         "z": [
          -29.12473333333333,
          -5.4549,
          -21.42015
         ]
        },
        {
         "marker": {
          "color": "green"
         },
         "type": "scatter3d",
         "x": [
          -22.492666666666665
         ],
         "y": [
          3.8695000000000004
         ],
         "z": [
          -0.4676333333333333
         ]
        },
        {
         "marker": {
          "color": "black"
         },
         "type": "scatter3d",
         "x": [
          -9.100675675675678
         ],
         "y": [
          10.203297297297297
         ],
         "z": [
          9.810135135135134
         ]
        },
        {
         "marker": {
          "color": "orange"
         },
         "type": "scatter3d",
         "x": [
          -9.762392857142858
         ],
         "y": [
          -9.702035714285714
         ],
         "z": [
          7.176321428571428
         ]
        }
       ],
       "layout": {
        "height": 1100,
        "legend": {
         "title": {
          "text": "label"
         },
         "tracegroupgap": 0
        },
        "margin": {
         "t": 60
        },
        "scene": {
         "domain": {
          "x": [
           0,
           1
          ],
          "y": [
           0,
           1
          ]
         },
         "xaxis": {
          "title": {
           "text": "x_coord"
          }
         },
         "yaxis": {
          "title": {
           "text": "y_coord"
          }
         },
         "zaxis": {
          "title": {
           "text": "z_coord"
          }
         }
        },
        "template": {
         "data": {
          "bar": [
           {
            "error_x": {
             "color": "#2a3f5f"
            },
            "error_y": {
             "color": "#2a3f5f"
            },
            "marker": {
             "line": {
              "color": "#E5ECF6",
              "width": 0.5
             },
             "pattern": {
              "fillmode": "overlay",
              "size": 10,
              "solidity": 0.2
             }
            },
            "type": "bar"
           }
          ],
          "barpolar": [
           {
            "marker": {
             "line": {
              "color": "#E5ECF6",
              "width": 0.5
             },
             "pattern": {
              "fillmode": "overlay",
              "size": 10,
              "solidity": 0.2
             }
            },
            "type": "barpolar"
           }
          ],
          "carpet": [
           {
            "aaxis": {
             "endlinecolor": "#2a3f5f",
             "gridcolor": "white",
             "linecolor": "white",
             "minorgridcolor": "white",
             "startlinecolor": "#2a3f5f"
            },
            "baxis": {
             "endlinecolor": "#2a3f5f",
             "gridcolor": "white",
             "linecolor": "white",
             "minorgridcolor": "white",
             "startlinecolor": "#2a3f5f"
            },
            "type": "carpet"
           }
          ],
          "choropleth": [
           {
            "colorbar": {
             "outlinewidth": 0,
             "ticks": ""
            },
            "type": "choropleth"
           }
          ],
          "contour": [
           {
            "colorbar": {
             "outlinewidth": 0,
             "ticks": ""
            },
            "colorscale": [
             [
              0,
              "#0d0887"
             ],
             [
              0.1111111111111111,
              "#46039f"
             ],
             [
              0.2222222222222222,
              "#7201a8"
             ],
             [
              0.3333333333333333,
              "#9c179e"
             ],
             [
              0.4444444444444444,
              "#bd3786"
             ],
             [
              0.5555555555555556,
              "#d8576b"
             ],
             [
              0.6666666666666666,
              "#ed7953"
             ],
             [
              0.7777777777777778,
              "#fb9f3a"
             ],
             [
              0.8888888888888888,
              "#fdca26"
             ],
             [
              1,
              "#f0f921"
             ]
            ],
            "type": "contour"
           }
          ],
          "contourcarpet": [
           {
            "colorbar": {
             "outlinewidth": 0,
             "ticks": ""
            },
            "type": "contourcarpet"
           }
          ],
          "heatmap": [
           {
            "colorbar": {
             "outlinewidth": 0,
             "ticks": ""
            },
            "colorscale": [
             [
              0,
              "#0d0887"
             ],
             [
              0.1111111111111111,
              "#46039f"
             ],
             [
              0.2222222222222222,
              "#7201a8"
             ],
             [
              0.3333333333333333,
              "#9c179e"
             ],
             [
              0.4444444444444444,
              "#bd3786"
             ],
             [
              0.5555555555555556,
              "#d8576b"
             ],
             [
              0.6666666666666666,
              "#ed7953"
             ],
             [
              0.7777777777777778,
              "#fb9f3a"
             ],
             [
              0.8888888888888888,
              "#fdca26"
             ],
             [
              1,
              "#f0f921"
             ]
            ],
            "type": "heatmap"
           }
          ],
          "heatmapgl": [
           {
            "colorbar": {
             "outlinewidth": 0,
             "ticks": ""
            },
            "colorscale": [
             [
              0,
              "#0d0887"
             ],
             [
              0.1111111111111111,
              "#46039f"
             ],
             [
              0.2222222222222222,
              "#7201a8"
             ],
             [
              0.3333333333333333,
              "#9c179e"
             ],
             [
              0.4444444444444444,
              "#bd3786"
             ],
             [
              0.5555555555555556,
              "#d8576b"
             ],
             [
              0.6666666666666666,
              "#ed7953"
             ],
             [
              0.7777777777777778,
              "#fb9f3a"
             ],
             [
              0.8888888888888888,
              "#fdca26"
             ],
             [
              1,
              "#f0f921"
             ]
            ],
            "type": "heatmapgl"
           }
          ],
          "histogram": [
           {
            "marker": {
             "pattern": {
              "fillmode": "overlay",
              "size": 10,
              "solidity": 0.2
             }
            },
            "type": "histogram"
           }
          ],
          "histogram2d": [
           {
            "colorbar": {
             "outlinewidth": 0,
             "ticks": ""
            },
            "colorscale": [
             [
              0,
              "#0d0887"
             ],
             [
              0.1111111111111111,
              "#46039f"
             ],
             [
              0.2222222222222222,
              "#7201a8"
             ],
             [
              0.3333333333333333,
              "#9c179e"
             ],
             [
              0.4444444444444444,
              "#bd3786"
             ],
             [
              0.5555555555555556,
              "#d8576b"
             ],
             [
              0.6666666666666666,
              "#ed7953"
             ],
             [
              0.7777777777777778,
              "#fb9f3a"
             ],
             [
              0.8888888888888888,
              "#fdca26"
             ],
             [
              1,
              "#f0f921"
             ]
            ],
            "type": "histogram2d"
           }
          ],
          "histogram2dcontour": [
           {
            "colorbar": {
             "outlinewidth": 0,
             "ticks": ""
            },
            "colorscale": [
             [
              0,
              "#0d0887"
             ],
             [
              0.1111111111111111,
              "#46039f"
             ],
             [
              0.2222222222222222,
              "#7201a8"
             ],
             [
              0.3333333333333333,
              "#9c179e"
             ],
             [
              0.4444444444444444,
              "#bd3786"
             ],
             [
              0.5555555555555556,
              "#d8576b"
             ],
             [
              0.6666666666666666,
              "#ed7953"
             ],
             [
              0.7777777777777778,
              "#fb9f3a"
             ],
             [
              0.8888888888888888,
              "#fdca26"
             ],
             [
              1,
              "#f0f921"
             ]
            ],
            "type": "histogram2dcontour"
           }
          ],
          "mesh3d": [
           {
            "colorbar": {
             "outlinewidth": 0,
             "ticks": ""
            },
            "type": "mesh3d"
           }
          ],
          "parcoords": [
           {
            "line": {
             "colorbar": {
              "outlinewidth": 0,
              "ticks": ""
             }
            },
            "type": "parcoords"
           }
          ],
          "pie": [
           {
            "automargin": true,
            "type": "pie"
           }
          ],
          "scatter": [
           {
            "fillpattern": {
             "fillmode": "overlay",
             "size": 10,
             "solidity": 0.2
            },
            "type": "scatter"
           }
          ],
          "scatter3d": [
           {
            "line": {
             "colorbar": {
              "outlinewidth": 0,
              "ticks": ""
             }
            },
            "marker": {
             "colorbar": {
              "outlinewidth": 0,
              "ticks": ""
             }
            },
            "type": "scatter3d"
           }
          ],
          "scattercarpet": [
           {
            "marker": {
             "colorbar": {
              "outlinewidth": 0,
              "ticks": ""
             }
            },
            "type": "scattercarpet"
           }
          ],
          "scattergeo": [
           {
            "marker": {
             "colorbar": {
              "outlinewidth": 0,
              "ticks": ""
             }
            },
            "type": "scattergeo"
           }
          ],
          "scattergl": [
           {
            "marker": {
             "colorbar": {
              "outlinewidth": 0,
              "ticks": ""
             }
            },
            "type": "scattergl"
           }
          ],
          "scattermapbox": [
           {
            "marker": {
             "colorbar": {
              "outlinewidth": 0,
              "ticks": ""
             }
            },
            "type": "scattermapbox"
           }
          ],
          "scatterpolar": [
           {
            "marker": {
             "colorbar": {
              "outlinewidth": 0,
              "ticks": ""
             }
            },
            "type": "scatterpolar"
           }
          ],
          "scatterpolargl": [
           {
            "marker": {
             "colorbar": {
              "outlinewidth": 0,
              "ticks": ""
             }
            },
            "type": "scatterpolargl"
           }
          ],
          "scatterternary": [
           {
            "marker": {
             "colorbar": {
              "outlinewidth": 0,
              "ticks": ""
             }
            },
            "type": "scatterternary"
           }
          ],
          "surface": [
           {
            "colorbar": {
             "outlinewidth": 0,
             "ticks": ""
            },
            "colorscale": [
             [
              0,
              "#0d0887"
             ],
             [
              0.1111111111111111,
              "#46039f"
             ],
             [
              0.2222222222222222,
              "#7201a8"
             ],
             [
              0.3333333333333333,
              "#9c179e"
             ],
             [
              0.4444444444444444,
              "#bd3786"
             ],
             [
              0.5555555555555556,
              "#d8576b"
             ],
             [
              0.6666666666666666,
              "#ed7953"
             ],
             [
              0.7777777777777778,
              "#fb9f3a"
             ],
             [
              0.8888888888888888,
              "#fdca26"
             ],
             [
              1,
              "#f0f921"
             ]
            ],
            "type": "surface"
           }
          ],
          "table": [
           {
            "cells": {
             "fill": {
              "color": "#EBF0F8"
             },
             "line": {
              "color": "white"
             }
            },
            "header": {
             "fill": {
              "color": "#C8D4E3"
             },
             "line": {
              "color": "white"
             }
            },
            "type": "table"
           }
          ]
         },
         "layout": {
          "annotationdefaults": {
           "arrowcolor": "#2a3f5f",
           "arrowhead": 0,
           "arrowwidth": 1
          },
          "autotypenumbers": "strict",
          "coloraxis": {
           "colorbar": {
            "outlinewidth": 0,
            "ticks": ""
           }
          },
          "colorscale": {
           "diverging": [
            [
             0,
             "#8e0152"
            ],
            [
             0.1,
             "#c51b7d"
            ],
            [
             0.2,
             "#de77ae"
            ],
            [
             0.3,
             "#f1b6da"
            ],
            [
             0.4,
             "#fde0ef"
            ],
            [
             0.5,
             "#f7f7f7"
            ],
            [
             0.6,
             "#e6f5d0"
            ],
            [
             0.7,
             "#b8e186"
            ],
            [
             0.8,
             "#7fbc41"
            ],
            [
             0.9,
             "#4d9221"
            ],
            [
             1,
             "#276419"
            ]
           ],
           "sequential": [
            [
             0,
             "#0d0887"
            ],
            [
             0.1111111111111111,
             "#46039f"
            ],
            [
             0.2222222222222222,
             "#7201a8"
            ],
            [
             0.3333333333333333,
             "#9c179e"
            ],
            [
             0.4444444444444444,
             "#bd3786"
            ],
            [
             0.5555555555555556,
             "#d8576b"
            ],
            [
             0.6666666666666666,
             "#ed7953"
            ],
            [
             0.7777777777777778,
             "#fb9f3a"
            ],
            [
             0.8888888888888888,
             "#fdca26"
            ],
            [
             1,
             "#f0f921"
            ]
           ],
           "sequentialminus": [
            [
             0,
             "#0d0887"
            ],
            [
             0.1111111111111111,
             "#46039f"
            ],
            [
             0.2222222222222222,
             "#7201a8"
            ],
            [
             0.3333333333333333,
             "#9c179e"
            ],
            [
             0.4444444444444444,
             "#bd3786"
            ],
            [
             0.5555555555555556,
             "#d8576b"
            ],
            [
             0.6666666666666666,
             "#ed7953"
            ],
            [
             0.7777777777777778,
             "#fb9f3a"
            ],
            [
             0.8888888888888888,
             "#fdca26"
            ],
            [
             1,
             "#f0f921"
            ]
           ]
          },
          "colorway": [
           "#636efa",
           "#EF553B",
           "#00cc96",
           "#ab63fa",
           "#FFA15A",
           "#19d3f3",
           "#FF6692",
           "#B6E880",
           "#FF97FF",
           "#FECB52"
          ],
          "font": {
           "color": "#2a3f5f"
          },
          "geo": {
           "bgcolor": "white",
           "lakecolor": "white",
           "landcolor": "#E5ECF6",
           "showlakes": true,
           "showland": true,
           "subunitcolor": "white"
          },
          "hoverlabel": {
           "align": "left"
          },
          "hovermode": "closest",
          "mapbox": {
           "style": "light"
          },
          "paper_bgcolor": "white",
          "plot_bgcolor": "#E5ECF6",
          "polar": {
           "angularaxis": {
            "gridcolor": "white",
            "linecolor": "white",
            "ticks": ""
           },
           "bgcolor": "#E5ECF6",
           "radialaxis": {
            "gridcolor": "white",
            "linecolor": "white",
            "ticks": ""
           }
          },
          "scene": {
           "xaxis": {
            "backgroundcolor": "#E5ECF6",
            "gridcolor": "white",
            "gridwidth": 2,
            "linecolor": "white",
            "showbackground": true,
            "ticks": "",
            "zerolinecolor": "white"
           },
           "yaxis": {
            "backgroundcolor": "#E5ECF6",
            "gridcolor": "white",
            "gridwidth": 2,
            "linecolor": "white",
            "showbackground": true,
            "ticks": "",
            "zerolinecolor": "white"
           },
           "zaxis": {
            "backgroundcolor": "#E5ECF6",
            "gridcolor": "white",
            "gridwidth": 2,
            "linecolor": "white",
            "showbackground": true,
            "ticks": "",
            "zerolinecolor": "white"
           }
          },
          "shapedefaults": {
           "line": {
            "color": "#2a3f5f"
           }
          },
          "ternary": {
           "aaxis": {
            "gridcolor": "white",
            "linecolor": "white",
            "ticks": ""
           },
           "baxis": {
            "gridcolor": "white",
            "linecolor": "white",
            "ticks": ""
           },
           "bgcolor": "#E5ECF6",
           "caxis": {
            "gridcolor": "white",
            "linecolor": "white",
            "ticks": ""
           }
          },
          "title": {
           "x": 0.05
          },
          "xaxis": {
           "automargin": true,
           "gridcolor": "white",
           "linecolor": "white",
           "ticks": "",
           "title": {
            "standoff": 15
           },
           "zerolinecolor": "white",
           "zerolinewidth": 2
          },
          "yaxis": {
           "automargin": true,
           "gridcolor": "white",
           "linecolor": "white",
           "ticks": "",
           "title": {
            "standoff": 15
           },
           "zerolinecolor": "white",
           "zerolinewidth": 2
          }
         }
        },
        "width": 1100
       }
      },
      "text/html": [
       "<div>                            <div id=\"86bb4145-695c-4afe-853a-7e108f7965de\" class=\"plotly-graph-div\" style=\"height:1100px; width:1100px;\"></div>            <script type=\"text/javascript\">                require([\"plotly\"], function(Plotly) {                    window.PLOTLYENV=window.PLOTLYENV || {};                                    if (document.getElementById(\"86bb4145-695c-4afe-853a-7e108f7965de\")) {                    Plotly.newPlot(                        \"86bb4145-695c-4afe-853a-7e108f7965de\",                        [{\"hovertemplate\":\"label=1<br>x_coord=%{x}<br>y_coord=%{y}<br>z_coord=%{z}<extra></extra>\",\"legendgroup\":\"1\",\"marker\":{\"color\":\"#636efa\",\"symbol\":\"circle\",\"size\":10},\"mode\":\"markers\",\"name\":\"1\",\"scene\":\"scene\",\"showlegend\":true,\"x\":[17.085,12.505,11.779,13.504,11.041,7.024,8.863,5.113,2.711,4.251,3.567,-0.753,18.5,21.394,21.461,21.727,24.717,26.869,26.897,26.298,31.134,28.049,9.631,8.54,9.114,14.266,10.33,12.613,8.15,7.471,3.723,7.472,8.858,3.543,3.001,7.657,6.237,-3.048,-4.532,-8.407,-5.104,-1.227,-4.821,-7.003,-2.436],\"y\":[29.147,31.513,27.657,24.063,27.148,27.884,21.706,25.341,23.394,18.522,20.605,23.104,11.449,15.428,12.74,8.288,10.963,13.21,8.996,5.075,5.503,1.344,-15.979,-11.328,-12.678,-10.255,-5.888,-6.65,-3.883,0.908,-2.988,-6.306,-1.919,-1.073,-6.404,-6.659,-2.102,13.904,13.655,17.019,19.547,18.292,19.749,23.205,24.489],\"z\":[-19.554,-21.284,-25.057,-21.142,-17.728,-21.446,-17.761,-16.718,-21.24,-19.685,-14.724,-16.417,-8.501,-6.456,-1.872,-4.881,-8.408,-3.998,-1.128,-4.283,-7.956,-7.066,-21.48,-24.469,-29.746,-29.899,-29.445,-34.949,-35.371,-33.177,-33.536,-31.594,-28.479,-28.168,-28.127,-25.452,-22.979,-21.003,-26.076,-24.753,-21.49,-25.069,-28.811,-25.432,-23.013],\"type\":\"scatter3d\"},{\"hovertemplate\":\"label=0<br>x_coord=%{x}<br>y_coord=%{y}<br>z_coord=%{z}<extra></extra>\",\"legendgroup\":\"0\",\"marker\":{\"color\":\"#EF553B\",\"symbol\":\"circle\",\"size\":10},\"mode\":\"markers\",\"name\":\"0\",\"scene\":\"scene\",\"showlegend\":true,\"x\":[-19.548,-17.363,-12.863,-15.576,-19.833,-22.148,-23.533,-21.683,-27.0,-25.827,-21.878,-25.414,-29.131,-25.349,-23.937,-29.249,-29.933,-25.405,-27.122,-25.429,-23.462,-22.422,-18.727,-19.023,-13.981,-0.362,-2.459,-4.346,-4.86,-6.081,-8.904,-9.67,-10.51,-12.809,-14.682,-15.344,-16.829,-22.79,-20.038,-17.62,-22.697,-24.109,-18.879,-16.587,-19.868,-15.713,-11.078,-11.426,-15.113,-12.352,-7.894,-10.757,-12.807,-7.923,-6.402,-10.05,-7.99,0.29,-5.619,-2.679,0.372,-4.922,1.429,1.633,-1.973,-5.354,-10.43,-11.126,-6.671,-7.993,-13.269,-11.269,-12.656,-7.086,-3.267,-7.121,-2.127,-1.945,-2.725,-6.327,-7.969,-6.429,-8.608,-12.201,-11.974,-11.119,-14.894,-17.113,-15.86,-19.258,-14.25,-16.204,-10.963,-15.66,-16.73],\"y\":[0.117,-4.088,-2.928,-1.252,-4.008,-5.547,-8.078,-4.406,-5.039,-4.758,-1.453,0.629,-0.536,1.14,4.589,4.95,4.547,7.654,13.379,15.878,11.196,10.955,14.34,12.667,13.947,6.828,11.587,12.173,6.76,7.568,11.937,9.034,4.961,8.303,11.152,6.512,4.426,4.811,3.48,7.986,9.515,10.518,10.692,13.4,17.434,18.835,16.832,20.514,17.476,13.326,16.291,18.257,13.403,11.473,15.787,13.646,8.947,11.805,7.821,10.314,6.262,3.598,2.888,-2.485,-3.515,-1.738,-0.903,-3.97,-1.646,2.651,1.385,0.594,6.182,-2.624,-0.58,-4.709,-7.598,-7.466,-12.217,-9.699,-6.923,-11.294,-14.18,-10.195,-9.804,-15.127,-15.29,-10.996,-13.081,-17.607,-19.722,-18.073,-17.682,-16.372,-13.813],\"z\":[-0.729,-3.22,-0.537,3.533,3.599,-0.073,-4.681,-8.145,-7.079,-1.913,-3.412,-6.954,-3.178,0.382,-3.263,-4.489,0.936,1.138,-5.204,-0.611,0.891,-4.891,-4.59,1.027,-4.079,5.557,7.284,2.22,2.268,7.267,6.019,1.345,4.564,7.991,3.936,1.219,6.123,5.267,9.965,9.443,6.647,11.755,13.003,9.538,7.362,5.566,4.281,8.147,10.611,8.683,9.88,13.893,14.523,13.112,16.2,19.59,18.553,16.185,15.09,11.08,10.843,11.93,8.22,9.236,5.419,3.44,2.884,7.312,9.258,6.436,7.98,13.004,14.467,20.43,16.904,14.72,14.543,9.137,11.595,14.697,10.416,7.535,11.471,11.865,6.523,6.78,10.493,8.111,3.503,3.887,5.362,0.034,-2.362,-4.713,-0.102],\"type\":\"scatter3d\"},{\"marker\":{\"color\":\"yellow\"},\"mode\":\"markers\",\"text\":[4.0,6.0,12.0,13.0,15.0,19.0,22.0,25.0,28.0,31.0,34.0,35.0,44.0,51.0,54.0,58.0,63.0,64.0,69.0,73.0,75.0,78.0,81.0,82.0,85.0,86.0,87.0,93.0,94.0],\"x\":[-15.576,-22.148,-25.414,-29.131,-23.937,-27.122,-22.422,-13.981,-4.346,-8.904,-12.809,-14.682,-16.587,-7.894,-7.923,0.29,1.429,1.633,-6.671,-12.656,-3.267,-1.945,-7.969,-6.429,-11.974,-11.119,-14.894,-10.963,-15.66],\"y\":[-1.252,-5.547,0.629,-0.536,4.589,13.379,10.955,13.947,12.173,11.937,8.303,11.152,13.4,16.291,11.473,11.805,2.888,-2.485,-1.646,6.182,-0.58,-7.466,-6.923,-11.294,-9.804,-15.127,-15.29,-17.682,-16.372],\"z\":[3.533,-0.073,-6.954,-3.178,-3.263,-5.204,-4.891,-4.079,2.22,6.019,7.991,3.936,9.538,9.88,13.112,16.185,8.22,9.236,9.258,14.467,16.904,9.137,10.416,7.535,6.523,6.78,10.493,-2.362,-4.713],\"type\":\"scatter3d\"},{\"marker\":{\"color\":\"yellow\"},\"mode\":\"markers\",\"text\":[4.0,6.0,12.0,13.0,15.0,19.0,22.0,25.0,28.0,31.0,34.0,35.0,44.0,51.0,54.0,58.0,63.0,64.0,69.0,73.0,75.0,78.0,81.0,82.0,85.0,86.0,87.0,93.0,94.0],\"x\":[-15.576,-22.148,-25.414,-29.131,-23.937,-27.122,-22.422,-13.981,-4.346,-8.904,-12.809,-14.682,-16.587,-7.894,-7.923,0.29,1.429,1.633,-6.671,-12.656,-3.267,-1.945,-7.969,-6.429,-11.974,-11.119,-14.894,-10.963,-15.66],\"y\":[-1.252,-5.547,0.629,-0.536,4.589,13.379,10.955,13.947,12.173,11.937,8.303,11.152,13.4,16.291,11.473,11.805,2.888,-2.485,-1.646,6.182,-0.58,-7.466,-6.923,-11.294,-9.804,-15.127,-15.29,-17.682,-16.372],\"z\":[3.533,-0.073,-6.954,-3.178,-3.263,-5.204,-4.891,-4.079,2.22,6.019,7.991,3.936,9.538,9.88,13.112,16.185,8.22,9.236,9.258,14.467,16.904,9.137,10.416,7.535,6.523,6.78,10.493,-2.362,-4.713],\"type\":\"scatter3d\"},{\"marker\":{\"color\":\"green\"},\"x\":[8.0404],\"y\":[-6.2136],\"z\":[-29.12473333333333],\"type\":\"scatter3d\"},{\"marker\":{\"color\":\"black\"},\"x\":[24.704600000000003],\"y\":[9.2996],\"z\":[-5.4549],\"type\":\"scatter3d\"},{\"marker\":{\"color\":\"orange\"},\"x\":[3.0056000000000003],\"y\":[22.4972],\"z\":[-21.42015],\"type\":\"scatter3d\"},{\"color\":\"lightpink\",\"opacity\":0.5,\"x\":[8.0404,24.704600000000003,3.0056000000000003],\"y\":[-6.2136,9.2996,22.4972],\"z\":[-29.12473333333333,-5.4549,-21.42015],\"type\":\"mesh3d\"},{\"marker\":{\"color\":\"green\"},\"x\":[-22.492666666666665],\"y\":[3.8695000000000004],\"z\":[-0.4676333333333333],\"type\":\"scatter3d\"},{\"marker\":{\"color\":\"black\"},\"x\":[-9.100675675675678],\"y\":[10.203297297297297],\"z\":[9.810135135135134],\"type\":\"scatter3d\"},{\"marker\":{\"color\":\"orange\"},\"x\":[-9.762392857142858],\"y\":[-9.702035714285714],\"z\":[7.176321428571428],\"type\":\"scatter3d\"}],                        {\"template\":{\"data\":{\"histogram2dcontour\":[{\"type\":\"histogram2dcontour\",\"colorbar\":{\"outlinewidth\":0,\"ticks\":\"\"},\"colorscale\":[[0.0,\"#0d0887\"],[0.1111111111111111,\"#46039f\"],[0.2222222222222222,\"#7201a8\"],[0.3333333333333333,\"#9c179e\"],[0.4444444444444444,\"#bd3786\"],[0.5555555555555556,\"#d8576b\"],[0.6666666666666666,\"#ed7953\"],[0.7777777777777778,\"#fb9f3a\"],[0.8888888888888888,\"#fdca26\"],[1.0,\"#f0f921\"]]}],\"choropleth\":[{\"type\":\"choropleth\",\"colorbar\":{\"outlinewidth\":0,\"ticks\":\"\"}}],\"histogram2d\":[{\"type\":\"histogram2d\",\"colorbar\":{\"outlinewidth\":0,\"ticks\":\"\"},\"colorscale\":[[0.0,\"#0d0887\"],[0.1111111111111111,\"#46039f\"],[0.2222222222222222,\"#7201a8\"],[0.3333333333333333,\"#9c179e\"],[0.4444444444444444,\"#bd3786\"],[0.5555555555555556,\"#d8576b\"],[0.6666666666666666,\"#ed7953\"],[0.7777777777777778,\"#fb9f3a\"],[0.8888888888888888,\"#fdca26\"],[1.0,\"#f0f921\"]]}],\"heatmap\":[{\"type\":\"heatmap\",\"colorbar\":{\"outlinewidth\":0,\"ticks\":\"\"},\"colorscale\":[[0.0,\"#0d0887\"],[0.1111111111111111,\"#46039f\"],[0.2222222222222222,\"#7201a8\"],[0.3333333333333333,\"#9c179e\"],[0.4444444444444444,\"#bd3786\"],[0.5555555555555556,\"#d8576b\"],[0.6666666666666666,\"#ed7953\"],[0.7777777777777778,\"#fb9f3a\"],[0.8888888888888888,\"#fdca26\"],[1.0,\"#f0f921\"]]}],\"heatmapgl\":[{\"type\":\"heatmapgl\",\"colorbar\":{\"outlinewidth\":0,\"ticks\":\"\"},\"colorscale\":[[0.0,\"#0d0887\"],[0.1111111111111111,\"#46039f\"],[0.2222222222222222,\"#7201a8\"],[0.3333333333333333,\"#9c179e\"],[0.4444444444444444,\"#bd3786\"],[0.5555555555555556,\"#d8576b\"],[0.6666666666666666,\"#ed7953\"],[0.7777777777777778,\"#fb9f3a\"],[0.8888888888888888,\"#fdca26\"],[1.0,\"#f0f921\"]]}],\"contourcarpet\":[{\"type\":\"contourcarpet\",\"colorbar\":{\"outlinewidth\":0,\"ticks\":\"\"}}],\"contour\":[{\"type\":\"contour\",\"colorbar\":{\"outlinewidth\":0,\"ticks\":\"\"},\"colorscale\":[[0.0,\"#0d0887\"],[0.1111111111111111,\"#46039f\"],[0.2222222222222222,\"#7201a8\"],[0.3333333333333333,\"#9c179e\"],[0.4444444444444444,\"#bd3786\"],[0.5555555555555556,\"#d8576b\"],[0.6666666666666666,\"#ed7953\"],[0.7777777777777778,\"#fb9f3a\"],[0.8888888888888888,\"#fdca26\"],[1.0,\"#f0f921\"]]}],\"surface\":[{\"type\":\"surface\",\"colorbar\":{\"outlinewidth\":0,\"ticks\":\"\"},\"colorscale\":[[0.0,\"#0d0887\"],[0.1111111111111111,\"#46039f\"],[0.2222222222222222,\"#7201a8\"],[0.3333333333333333,\"#9c179e\"],[0.4444444444444444,\"#bd3786\"],[0.5555555555555556,\"#d8576b\"],[0.6666666666666666,\"#ed7953\"],[0.7777777777777778,\"#fb9f3a\"],[0.8888888888888888,\"#fdca26\"],[1.0,\"#f0f921\"]]}],\"mesh3d\":[{\"type\":\"mesh3d\",\"colorbar\":{\"outlinewidth\":0,\"ticks\":\"\"}}],\"scatter\":[{\"fillpattern\":{\"fillmode\":\"overlay\",\"size\":10,\"solidity\":0.2},\"type\":\"scatter\"}],\"parcoords\":[{\"type\":\"parcoords\",\"line\":{\"colorbar\":{\"outlinewidth\":0,\"ticks\":\"\"}}}],\"scatterpolargl\":[{\"type\":\"scatterpolargl\",\"marker\":{\"colorbar\":{\"outlinewidth\":0,\"ticks\":\"\"}}}],\"bar\":[{\"error_x\":{\"color\":\"#2a3f5f\"},\"error_y\":{\"color\":\"#2a3f5f\"},\"marker\":{\"line\":{\"color\":\"#E5ECF6\",\"width\":0.5},\"pattern\":{\"fillmode\":\"overlay\",\"size\":10,\"solidity\":0.2}},\"type\":\"bar\"}],\"scattergeo\":[{\"type\":\"scattergeo\",\"marker\":{\"colorbar\":{\"outlinewidth\":0,\"ticks\":\"\"}}}],\"scatterpolar\":[{\"type\":\"scatterpolar\",\"marker\":{\"colorbar\":{\"outlinewidth\":0,\"ticks\":\"\"}}}],\"histogram\":[{\"marker\":{\"pattern\":{\"fillmode\":\"overlay\",\"size\":10,\"solidity\":0.2}},\"type\":\"histogram\"}],\"scattergl\":[{\"type\":\"scattergl\",\"marker\":{\"colorbar\":{\"outlinewidth\":0,\"ticks\":\"\"}}}],\"scatter3d\":[{\"type\":\"scatter3d\",\"line\":{\"colorbar\":{\"outlinewidth\":0,\"ticks\":\"\"}},\"marker\":{\"colorbar\":{\"outlinewidth\":0,\"ticks\":\"\"}}}],\"scattermapbox\":[{\"type\":\"scattermapbox\",\"marker\":{\"colorbar\":{\"outlinewidth\":0,\"ticks\":\"\"}}}],\"scatterternary\":[{\"type\":\"scatterternary\",\"marker\":{\"colorbar\":{\"outlinewidth\":0,\"ticks\":\"\"}}}],\"scattercarpet\":[{\"type\":\"scattercarpet\",\"marker\":{\"colorbar\":{\"outlinewidth\":0,\"ticks\":\"\"}}}],\"carpet\":[{\"aaxis\":{\"endlinecolor\":\"#2a3f5f\",\"gridcolor\":\"white\",\"linecolor\":\"white\",\"minorgridcolor\":\"white\",\"startlinecolor\":\"#2a3f5f\"},\"baxis\":{\"endlinecolor\":\"#2a3f5f\",\"gridcolor\":\"white\",\"linecolor\":\"white\",\"minorgridcolor\":\"white\",\"startlinecolor\":\"#2a3f5f\"},\"type\":\"carpet\"}],\"table\":[{\"cells\":{\"fill\":{\"color\":\"#EBF0F8\"},\"line\":{\"color\":\"white\"}},\"header\":{\"fill\":{\"color\":\"#C8D4E3\"},\"line\":{\"color\":\"white\"}},\"type\":\"table\"}],\"barpolar\":[{\"marker\":{\"line\":{\"color\":\"#E5ECF6\",\"width\":0.5},\"pattern\":{\"fillmode\":\"overlay\",\"size\":10,\"solidity\":0.2}},\"type\":\"barpolar\"}],\"pie\":[{\"automargin\":true,\"type\":\"pie\"}]},\"layout\":{\"autotypenumbers\":\"strict\",\"colorway\":[\"#636efa\",\"#EF553B\",\"#00cc96\",\"#ab63fa\",\"#FFA15A\",\"#19d3f3\",\"#FF6692\",\"#B6E880\",\"#FF97FF\",\"#FECB52\"],\"font\":{\"color\":\"#2a3f5f\"},\"hovermode\":\"closest\",\"hoverlabel\":{\"align\":\"left\"},\"paper_bgcolor\":\"white\",\"plot_bgcolor\":\"#E5ECF6\",\"polar\":{\"bgcolor\":\"#E5ECF6\",\"angularaxis\":{\"gridcolor\":\"white\",\"linecolor\":\"white\",\"ticks\":\"\"},\"radialaxis\":{\"gridcolor\":\"white\",\"linecolor\":\"white\",\"ticks\":\"\"}},\"ternary\":{\"bgcolor\":\"#E5ECF6\",\"aaxis\":{\"gridcolor\":\"white\",\"linecolor\":\"white\",\"ticks\":\"\"},\"baxis\":{\"gridcolor\":\"white\",\"linecolor\":\"white\",\"ticks\":\"\"},\"caxis\":{\"gridcolor\":\"white\",\"linecolor\":\"white\",\"ticks\":\"\"}},\"coloraxis\":{\"colorbar\":{\"outlinewidth\":0,\"ticks\":\"\"}},\"colorscale\":{\"sequential\":[[0.0,\"#0d0887\"],[0.1111111111111111,\"#46039f\"],[0.2222222222222222,\"#7201a8\"],[0.3333333333333333,\"#9c179e\"],[0.4444444444444444,\"#bd3786\"],[0.5555555555555556,\"#d8576b\"],[0.6666666666666666,\"#ed7953\"],[0.7777777777777778,\"#fb9f3a\"],[0.8888888888888888,\"#fdca26\"],[1.0,\"#f0f921\"]],\"sequentialminus\":[[0.0,\"#0d0887\"],[0.1111111111111111,\"#46039f\"],[0.2222222222222222,\"#7201a8\"],[0.3333333333333333,\"#9c179e\"],[0.4444444444444444,\"#bd3786\"],[0.5555555555555556,\"#d8576b\"],[0.6666666666666666,\"#ed7953\"],[0.7777777777777778,\"#fb9f3a\"],[0.8888888888888888,\"#fdca26\"],[1.0,\"#f0f921\"]],\"diverging\":[[0,\"#8e0152\"],[0.1,\"#c51b7d\"],[0.2,\"#de77ae\"],[0.3,\"#f1b6da\"],[0.4,\"#fde0ef\"],[0.5,\"#f7f7f7\"],[0.6,\"#e6f5d0\"],[0.7,\"#b8e186\"],[0.8,\"#7fbc41\"],[0.9,\"#4d9221\"],[1,\"#276419\"]]},\"xaxis\":{\"gridcolor\":\"white\",\"linecolor\":\"white\",\"ticks\":\"\",\"title\":{\"standoff\":15},\"zerolinecolor\":\"white\",\"automargin\":true,\"zerolinewidth\":2},\"yaxis\":{\"gridcolor\":\"white\",\"linecolor\":\"white\",\"ticks\":\"\",\"title\":{\"standoff\":15},\"zerolinecolor\":\"white\",\"automargin\":true,\"zerolinewidth\":2},\"scene\":{\"xaxis\":{\"backgroundcolor\":\"#E5ECF6\",\"gridcolor\":\"white\",\"linecolor\":\"white\",\"showbackground\":true,\"ticks\":\"\",\"zerolinecolor\":\"white\",\"gridwidth\":2},\"yaxis\":{\"backgroundcolor\":\"#E5ECF6\",\"gridcolor\":\"white\",\"linecolor\":\"white\",\"showbackground\":true,\"ticks\":\"\",\"zerolinecolor\":\"white\",\"gridwidth\":2},\"zaxis\":{\"backgroundcolor\":\"#E5ECF6\",\"gridcolor\":\"white\",\"linecolor\":\"white\",\"showbackground\":true,\"ticks\":\"\",\"zerolinecolor\":\"white\",\"gridwidth\":2}},\"shapedefaults\":{\"line\":{\"color\":\"#2a3f5f\"}},\"annotationdefaults\":{\"arrowcolor\":\"#2a3f5f\",\"arrowhead\":0,\"arrowwidth\":1},\"geo\":{\"bgcolor\":\"white\",\"landcolor\":\"#E5ECF6\",\"subunitcolor\":\"white\",\"showland\":true,\"showlakes\":true,\"lakecolor\":\"white\"},\"title\":{\"x\":0.05},\"mapbox\":{\"style\":\"light\"}}},\"scene\":{\"domain\":{\"x\":[0.0,1.0],\"y\":[0.0,1.0]},\"xaxis\":{\"title\":{\"text\":\"x_coord\"}},\"yaxis\":{\"title\":{\"text\":\"y_coord\"}},\"zaxis\":{\"title\":{\"text\":\"z_coord\"}}},\"legend\":{\"title\":{\"text\":\"label\"},\"tracegroupgap\":0},\"margin\":{\"t\":60},\"width\":1100,\"height\":1100},                        {\"responsive\": true}                    ).then(function(){\n",
       "                            \n",
       "var gd = document.getElementById('86bb4145-695c-4afe-853a-7e108f7965de');\n",
       "var x = new MutationObserver(function (mutations, observer) {{\n",
       "        var display = window.getComputedStyle(gd).display;\n",
       "        if (!display || display === 'none') {{\n",
       "            console.log([gd, 'removed!']);\n",
       "            Plotly.purge(gd);\n",
       "            observer.disconnect();\n",
       "        }}\n",
       "}});\n",
       "\n",
       "// Listen for the removal of the full notebook cells\n",
       "var notebookContainer = gd.closest('#notebook-container');\n",
       "if (notebookContainer) {{\n",
       "    x.observe(notebookContainer, {childList: true});\n",
       "}}\n",
       "\n",
       "// Listen for the clearing of the current output cell\n",
       "var outputEl = gd.closest('.output');\n",
       "if (outputEl) {{\n",
       "    x.observe(outputEl, {childList: true});\n",
       "}}\n",
       "\n",
       "                        })                };                });            </script>        </div>"
      ]
     },
     "metadata": {},
     "output_type": "display_data"
    }
   ],
   "source": [
    "fig2.add_trace(\n",
    "    go.Scatter3d(x=[x02],\n",
    "                 y=[y02],\n",
    "                 z=[z02],\n",
    "                 marker_color='green')\n",
    ")\n",
    "fig2.add_trace(\n",
    "    go.Scatter3d(x=[x12],\n",
    "                 y=[y12],\n",
    "                 z=[z12],\n",
    "                 marker_color='black')\n",
    ")\n",
    "fig2.add_trace(\n",
    "    go.Scatter3d(x=[x22],\n",
    "                 y=[y22],\n",
    "                 z=[z22],\n",
    "                 marker_color='orange')\n",
    ")"
   ]
  },
  {
   "cell_type": "code",
   "execution_count": 132,
   "id": "20c7175e",
   "metadata": {
    "scrolled": false
   },
   "outputs": [
    {
     "data": {
      "application/vnd.plotly.v1+json": {
       "config": {
        "plotlyServerURL": "https://plot.ly"
       },
       "data": [
        {
         "hovertemplate": "label=1<br>x_coord=%{x}<br>y_coord=%{y}<br>z_coord=%{z}<extra></extra>",
         "legendgroup": "1",
         "marker": {
          "color": "#636efa",
          "size": 10,
          "symbol": "circle"
         },
         "mode": "markers",
         "name": "1",
         "scene": "scene",
         "showlegend": true,
         "type": "scatter3d",
         "x": [
          17.085,
          12.505,
          11.779,
          13.504,
          11.041,
          7.024,
          8.863,
          5.113,
          2.711,
          4.251,
          3.567,
          -0.753,
          18.5,
          21.394,
          21.461,
          21.727,
          24.717,
          26.869,
          26.897,
          26.298,
          31.134,
          28.049,
          9.631,
          8.54,
          9.114,
          14.266,
          10.33,
          12.613,
          8.15,
          7.471,
          3.723,
          7.472,
          8.858,
          3.543,
          3.001,
          7.657,
          6.237,
          -3.048,
          -4.532,
          -8.407,
          -5.104,
          -1.227,
          -4.821,
          -7.003,
          -2.436
         ],
         "y": [
          29.147,
          31.513,
          27.657,
          24.063,
          27.148,
          27.884,
          21.706,
          25.341,
          23.394,
          18.522,
          20.605,
          23.104,
          11.449,
          15.428,
          12.74,
          8.288,
          10.963,
          13.21,
          8.996,
          5.075,
          5.503,
          1.344,
          -15.979,
          -11.328,
          -12.678,
          -10.255,
          -5.888,
          -6.65,
          -3.883,
          0.908,
          -2.988,
          -6.306,
          -1.919,
          -1.073,
          -6.404,
          -6.659,
          -2.102,
          13.904,
          13.655,
          17.019,
          19.547,
          18.292,
          19.749,
          23.205,
          24.489
         ],
         "z": [
          -19.554,
          -21.284,
          -25.057,
          -21.142,
          -17.728,
          -21.446,
          -17.761,
          -16.718,
          -21.24,
          -19.685,
          -14.724,
          -16.417,
          -8.501,
          -6.456,
          -1.872,
          -4.881,
          -8.408,
          -3.998,
          -1.128,
          -4.283,
          -7.956,
          -7.066,
          -21.48,
          -24.469,
          -29.746,
          -29.899,
          -29.445,
          -34.949,
          -35.371,
          -33.177,
          -33.536,
          -31.594,
          -28.479,
          -28.168,
          -28.127,
          -25.452,
          -22.979,
          -21.003,
          -26.076,
          -24.753,
          -21.49,
          -25.069,
          -28.811,
          -25.432,
          -23.013
         ]
        },
        {
         "hovertemplate": "label=0<br>x_coord=%{x}<br>y_coord=%{y}<br>z_coord=%{z}<extra></extra>",
         "legendgroup": "0",
         "marker": {
          "color": "#EF553B",
          "size": 10,
          "symbol": "circle"
         },
         "mode": "markers",
         "name": "0",
         "scene": "scene",
         "showlegend": true,
         "type": "scatter3d",
         "x": [
          -19.548,
          -17.363,
          -12.863,
          -15.576,
          -19.833,
          -22.148,
          -23.533,
          -21.683,
          -27,
          -25.827,
          -21.878,
          -25.414,
          -29.131,
          -25.349,
          -23.937,
          -29.249,
          -29.933,
          -25.405,
          -27.122,
          -25.429,
          -23.462,
          -22.422,
          -18.727,
          -19.023,
          -13.981,
          -0.362,
          -2.459,
          -4.346,
          -4.86,
          -6.081,
          -8.904,
          -9.67,
          -10.51,
          -12.809,
          -14.682,
          -15.344,
          -16.829,
          -22.79,
          -20.038,
          -17.62,
          -22.697,
          -24.109,
          -18.879,
          -16.587,
          -19.868,
          -15.713,
          -11.078,
          -11.426,
          -15.113,
          -12.352,
          -7.894,
          -10.757,
          -12.807,
          -7.923,
          -6.402,
          -10.05,
          -7.99,
          0.29,
          -5.619,
          -2.679,
          0.372,
          -4.922,
          1.429,
          1.633,
          -1.973,
          -5.354,
          -10.43,
          -11.126,
          -6.671,
          -7.993,
          -13.269,
          -11.269,
          -12.656,
          -7.086,
          -3.267,
          -7.121,
          -2.127,
          -1.945,
          -2.725,
          -6.327,
          -7.969,
          -6.429,
          -8.608,
          -12.201,
          -11.974,
          -11.119,
          -14.894,
          -17.113,
          -15.86,
          -19.258,
          -14.25,
          -16.204,
          -10.963,
          -15.66,
          -16.73
         ],
         "y": [
          0.117,
          -4.088,
          -2.928,
          -1.252,
          -4.008,
          -5.547,
          -8.078,
          -4.406,
          -5.039,
          -4.758,
          -1.453,
          0.629,
          -0.536,
          1.14,
          4.589,
          4.95,
          4.547,
          7.654,
          13.379,
          15.878,
          11.196,
          10.955,
          14.34,
          12.667,
          13.947,
          6.828,
          11.587,
          12.173,
          6.76,
          7.568,
          11.937,
          9.034,
          4.961,
          8.303,
          11.152,
          6.512,
          4.426,
          4.811,
          3.48,
          7.986,
          9.515,
          10.518,
          10.692,
          13.4,
          17.434,
          18.835,
          16.832,
          20.514,
          17.476,
          13.326,
          16.291,
          18.257,
          13.403,
          11.473,
          15.787,
          13.646,
          8.947,
          11.805,
          7.821,
          10.314,
          6.262,
          3.598,
          2.888,
          -2.485,
          -3.515,
          -1.738,
          -0.903,
          -3.97,
          -1.646,
          2.651,
          1.385,
          0.594,
          6.182,
          -2.624,
          -0.58,
          -4.709,
          -7.598,
          -7.466,
          -12.217,
          -9.699,
          -6.923,
          -11.294,
          -14.18,
          -10.195,
          -9.804,
          -15.127,
          -15.29,
          -10.996,
          -13.081,
          -17.607,
          -19.722,
          -18.073,
          -17.682,
          -16.372,
          -13.813
         ],
         "z": [
          -0.729,
          -3.22,
          -0.537,
          3.533,
          3.599,
          -0.073,
          -4.681,
          -8.145,
          -7.079,
          -1.913,
          -3.412,
          -6.954,
          -3.178,
          0.382,
          -3.263,
          -4.489,
          0.936,
          1.138,
          -5.204,
          -0.611,
          0.891,
          -4.891,
          -4.59,
          1.027,
          -4.079,
          5.557,
          7.284,
          2.22,
          2.268,
          7.267,
          6.019,
          1.345,
          4.564,
          7.991,
          3.936,
          1.219,
          6.123,
          5.267,
          9.965,
          9.443,
          6.647,
          11.755,
          13.003,
          9.538,
          7.362,
          5.566,
          4.281,
          8.147,
          10.611,
          8.683,
          9.88,
          13.893,
          14.523,
          13.112,
          16.2,
          19.59,
          18.553,
          16.185,
          15.09,
          11.08,
          10.843,
          11.93,
          8.22,
          9.236,
          5.419,
          3.44,
          2.884,
          7.312,
          9.258,
          6.436,
          7.98,
          13.004,
          14.467,
          20.43,
          16.904,
          14.72,
          14.543,
          9.137,
          11.595,
          14.697,
          10.416,
          7.535,
          11.471,
          11.865,
          6.523,
          6.78,
          10.493,
          8.111,
          3.503,
          3.887,
          5.362,
          0.034,
          -2.362,
          -4.713,
          -0.102
         ]
        },
        {
         "marker": {
          "color": "yellow"
         },
         "mode": "markers",
         "text": [
          4,
          6,
          12,
          13,
          15,
          19,
          22,
          25,
          28,
          31,
          34,
          35,
          44,
          51,
          54,
          58,
          63,
          64,
          69,
          73,
          75,
          78,
          81,
          82,
          85,
          86,
          87,
          93,
          94
         ],
         "type": "scatter3d",
         "x": [
          -15.576,
          -22.148,
          -25.414,
          -29.131,
          -23.937,
          -27.122,
          -22.422,
          -13.981,
          -4.346,
          -8.904,
          -12.809,
          -14.682,
          -16.587,
          -7.894,
          -7.923,
          0.29,
          1.429,
          1.633,
          -6.671,
          -12.656,
          -3.267,
          -1.945,
          -7.969,
          -6.429,
          -11.974,
          -11.119,
          -14.894,
          -10.963,
          -15.66
         ],
         "y": [
          -1.252,
          -5.547,
          0.629,
          -0.536,
          4.589,
          13.379,
          10.955,
          13.947,
          12.173,
          11.937,
          8.303,
          11.152,
          13.4,
          16.291,
          11.473,
          11.805,
          2.888,
          -2.485,
          -1.646,
          6.182,
          -0.58,
          -7.466,
          -6.923,
          -11.294,
          -9.804,
          -15.127,
          -15.29,
          -17.682,
          -16.372
         ],
         "z": [
          3.533,
          -0.073,
          -6.954,
          -3.178,
          -3.263,
          -5.204,
          -4.891,
          -4.079,
          2.22,
          6.019,
          7.991,
          3.936,
          9.538,
          9.88,
          13.112,
          16.185,
          8.22,
          9.236,
          9.258,
          14.467,
          16.904,
          9.137,
          10.416,
          7.535,
          6.523,
          6.78,
          10.493,
          -2.362,
          -4.713
         ]
        },
        {
         "marker": {
          "color": "yellow"
         },
         "mode": "markers",
         "text": [
          4,
          6,
          12,
          13,
          15,
          19,
          22,
          25,
          28,
          31,
          34,
          35,
          44,
          51,
          54,
          58,
          63,
          64,
          69,
          73,
          75,
          78,
          81,
          82,
          85,
          86,
          87,
          93,
          94
         ],
         "type": "scatter3d",
         "x": [
          -15.576,
          -22.148,
          -25.414,
          -29.131,
          -23.937,
          -27.122,
          -22.422,
          -13.981,
          -4.346,
          -8.904,
          -12.809,
          -14.682,
          -16.587,
          -7.894,
          -7.923,
          0.29,
          1.429,
          1.633,
          -6.671,
          -12.656,
          -3.267,
          -1.945,
          -7.969,
          -6.429,
          -11.974,
          -11.119,
          -14.894,
          -10.963,
          -15.66
         ],
         "y": [
          -1.252,
          -5.547,
          0.629,
          -0.536,
          4.589,
          13.379,
          10.955,
          13.947,
          12.173,
          11.937,
          8.303,
          11.152,
          13.4,
          16.291,
          11.473,
          11.805,
          2.888,
          -2.485,
          -1.646,
          6.182,
          -0.58,
          -7.466,
          -6.923,
          -11.294,
          -9.804,
          -15.127,
          -15.29,
          -17.682,
          -16.372
         ],
         "z": [
          3.533,
          -0.073,
          -6.954,
          -3.178,
          -3.263,
          -5.204,
          -4.891,
          -4.079,
          2.22,
          6.019,
          7.991,
          3.936,
          9.538,
          9.88,
          13.112,
          16.185,
          8.22,
          9.236,
          9.258,
          14.467,
          16.904,
          9.137,
          10.416,
          7.535,
          6.523,
          6.78,
          10.493,
          -2.362,
          -4.713
         ]
        },
        {
         "marker": {
          "color": "green"
         },
         "type": "scatter3d",
         "x": [
          8.0404
         ],
         "y": [
          -6.2136
         ],
         "z": [
          -29.12473333333333
         ]
        },
        {
         "marker": {
          "color": "black"
         },
         "type": "scatter3d",
         "x": [
          24.704600000000003
         ],
         "y": [
          9.2996
         ],
         "z": [
          -5.4549
         ]
        },
        {
         "marker": {
          "color": "orange"
         },
         "type": "scatter3d",
         "x": [
          3.0056000000000003
         ],
         "y": [
          22.4972
         ],
         "z": [
          -21.42015
         ]
        },
        {
         "color": "lightpink",
         "opacity": 0.5,
         "type": "mesh3d",
         "x": [
          8.0404,
          24.704600000000003,
          3.0056000000000003
         ],
         "y": [
          -6.2136,
          9.2996,
          22.4972
         ],
         "z": [
          -29.12473333333333,
          -5.4549,
          -21.42015
         ]
        },
        {
         "marker": {
          "color": "green"
         },
         "type": "scatter3d",
         "x": [
          -22.492666666666665
         ],
         "y": [
          3.8695000000000004
         ],
         "z": [
          -0.4676333333333333
         ]
        },
        {
         "marker": {
          "color": "black"
         },
         "type": "scatter3d",
         "x": [
          -9.100675675675678
         ],
         "y": [
          10.203297297297297
         ],
         "z": [
          9.810135135135134
         ]
        },
        {
         "marker": {
          "color": "orange"
         },
         "type": "scatter3d",
         "x": [
          -9.762392857142858
         ],
         "y": [
          -9.702035714285714
         ],
         "z": [
          7.176321428571428
         ]
        },
        {
         "color": "lightpink",
         "opacity": 0.5,
         "type": "mesh3d",
         "x": [
          -22.492666666666665,
          -9.100675675675678,
          -9.762392857142858
         ],
         "y": [
          3.8695000000000004,
          10.203297297297297,
          -9.702035714285714
         ],
         "z": [
          -0.4676333333333333,
          9.810135135135134,
          7.176321428571428
         ]
        },
        {
         "color": "lightblue",
         "opacity": 0.5,
         "type": "mesh3d",
         "x": [
          -22.492666666666665,
          -9.100675675675678,
          -9.762392857142858
         ],
         "y": [
          3.8695000000000004,
          10.203297297297297,
          -9.702035714285714
         ],
         "z": [
          -0.4676333333333333,
          9.810135135135134,
          7.176321428571428
         ]
        },
        {
         "color": "lightgreen",
         "opacity": 0.5,
         "type": "mesh3d",
         "x": [
          -22.492666666666665,
          -9.100675675675678,
          -9.762392857142858
         ],
         "y": [
          3.8695000000000004,
          10.203297297297297,
          -9.702035714285714
         ],
         "z": [
          -0.4676333333333333,
          9.810135135135134,
          7.176321428571428
         ]
        }
       ],
       "layout": {
        "height": 1100,
        "legend": {
         "title": {
          "text": "label"
         },
         "tracegroupgap": 0
        },
        "margin": {
         "t": 60
        },
        "scene": {
         "domain": {
          "x": [
           0,
           1
          ],
          "y": [
           0,
           1
          ]
         },
         "xaxis": {
          "title": {
           "text": "x_coord"
          }
         },
         "yaxis": {
          "title": {
           "text": "y_coord"
          }
         },
         "zaxis": {
          "title": {
           "text": "z_coord"
          }
         }
        },
        "template": {
         "data": {
          "bar": [
           {
            "error_x": {
             "color": "#2a3f5f"
            },
            "error_y": {
             "color": "#2a3f5f"
            },
            "marker": {
             "line": {
              "color": "#E5ECF6",
              "width": 0.5
             },
             "pattern": {
              "fillmode": "overlay",
              "size": 10,
              "solidity": 0.2
             }
            },
            "type": "bar"
           }
          ],
          "barpolar": [
           {
            "marker": {
             "line": {
              "color": "#E5ECF6",
              "width": 0.5
             },
             "pattern": {
              "fillmode": "overlay",
              "size": 10,
              "solidity": 0.2
             }
            },
            "type": "barpolar"
           }
          ],
          "carpet": [
           {
            "aaxis": {
             "endlinecolor": "#2a3f5f",
             "gridcolor": "white",
             "linecolor": "white",
             "minorgridcolor": "white",
             "startlinecolor": "#2a3f5f"
            },
            "baxis": {
             "endlinecolor": "#2a3f5f",
             "gridcolor": "white",
             "linecolor": "white",
             "minorgridcolor": "white",
             "startlinecolor": "#2a3f5f"
            },
            "type": "carpet"
           }
          ],
          "choropleth": [
           {
            "colorbar": {
             "outlinewidth": 0,
             "ticks": ""
            },
            "type": "choropleth"
           }
          ],
          "contour": [
           {
            "colorbar": {
             "outlinewidth": 0,
             "ticks": ""
            },
            "colorscale": [
             [
              0,
              "#0d0887"
             ],
             [
              0.1111111111111111,
              "#46039f"
             ],
             [
              0.2222222222222222,
              "#7201a8"
             ],
             [
              0.3333333333333333,
              "#9c179e"
             ],
             [
              0.4444444444444444,
              "#bd3786"
             ],
             [
              0.5555555555555556,
              "#d8576b"
             ],
             [
              0.6666666666666666,
              "#ed7953"
             ],
             [
              0.7777777777777778,
              "#fb9f3a"
             ],
             [
              0.8888888888888888,
              "#fdca26"
             ],
             [
              1,
              "#f0f921"
             ]
            ],
            "type": "contour"
           }
          ],
          "contourcarpet": [
           {
            "colorbar": {
             "outlinewidth": 0,
             "ticks": ""
            },
            "type": "contourcarpet"
           }
          ],
          "heatmap": [
           {
            "colorbar": {
             "outlinewidth": 0,
             "ticks": ""
            },
            "colorscale": [
             [
              0,
              "#0d0887"
             ],
             [
              0.1111111111111111,
              "#46039f"
             ],
             [
              0.2222222222222222,
              "#7201a8"
             ],
             [
              0.3333333333333333,
              "#9c179e"
             ],
             [
              0.4444444444444444,
              "#bd3786"
             ],
             [
              0.5555555555555556,
              "#d8576b"
             ],
             [
              0.6666666666666666,
              "#ed7953"
             ],
             [
              0.7777777777777778,
              "#fb9f3a"
             ],
             [
              0.8888888888888888,
              "#fdca26"
             ],
             [
              1,
              "#f0f921"
             ]
            ],
            "type": "heatmap"
           }
          ],
          "heatmapgl": [
           {
            "colorbar": {
             "outlinewidth": 0,
             "ticks": ""
            },
            "colorscale": [
             [
              0,
              "#0d0887"
             ],
             [
              0.1111111111111111,
              "#46039f"
             ],
             [
              0.2222222222222222,
              "#7201a8"
             ],
             [
              0.3333333333333333,
              "#9c179e"
             ],
             [
              0.4444444444444444,
              "#bd3786"
             ],
             [
              0.5555555555555556,
              "#d8576b"
             ],
             [
              0.6666666666666666,
              "#ed7953"
             ],
             [
              0.7777777777777778,
              "#fb9f3a"
             ],
             [
              0.8888888888888888,
              "#fdca26"
             ],
             [
              1,
              "#f0f921"
             ]
            ],
            "type": "heatmapgl"
           }
          ],
          "histogram": [
           {
            "marker": {
             "pattern": {
              "fillmode": "overlay",
              "size": 10,
              "solidity": 0.2
             }
            },
            "type": "histogram"
           }
          ],
          "histogram2d": [
           {
            "colorbar": {
             "outlinewidth": 0,
             "ticks": ""
            },
            "colorscale": [
             [
              0,
              "#0d0887"
             ],
             [
              0.1111111111111111,
              "#46039f"
             ],
             [
              0.2222222222222222,
              "#7201a8"
             ],
             [
              0.3333333333333333,
              "#9c179e"
             ],
             [
              0.4444444444444444,
              "#bd3786"
             ],
             [
              0.5555555555555556,
              "#d8576b"
             ],
             [
              0.6666666666666666,
              "#ed7953"
             ],
             [
              0.7777777777777778,
              "#fb9f3a"
             ],
             [
              0.8888888888888888,
              "#fdca26"
             ],
             [
              1,
              "#f0f921"
             ]
            ],
            "type": "histogram2d"
           }
          ],
          "histogram2dcontour": [
           {
            "colorbar": {
             "outlinewidth": 0,
             "ticks": ""
            },
            "colorscale": [
             [
              0,
              "#0d0887"
             ],
             [
              0.1111111111111111,
              "#46039f"
             ],
             [
              0.2222222222222222,
              "#7201a8"
             ],
             [
              0.3333333333333333,
              "#9c179e"
             ],
             [
              0.4444444444444444,
              "#bd3786"
             ],
             [
              0.5555555555555556,
              "#d8576b"
             ],
             [
              0.6666666666666666,
              "#ed7953"
             ],
             [
              0.7777777777777778,
              "#fb9f3a"
             ],
             [
              0.8888888888888888,
              "#fdca26"
             ],
             [
              1,
              "#f0f921"
             ]
            ],
            "type": "histogram2dcontour"
           }
          ],
          "mesh3d": [
           {
            "colorbar": {
             "outlinewidth": 0,
             "ticks": ""
            },
            "type": "mesh3d"
           }
          ],
          "parcoords": [
           {
            "line": {
             "colorbar": {
              "outlinewidth": 0,
              "ticks": ""
             }
            },
            "type": "parcoords"
           }
          ],
          "pie": [
           {
            "automargin": true,
            "type": "pie"
           }
          ],
          "scatter": [
           {
            "fillpattern": {
             "fillmode": "overlay",
             "size": 10,
             "solidity": 0.2
            },
            "type": "scatter"
           }
          ],
          "scatter3d": [
           {
            "line": {
             "colorbar": {
              "outlinewidth": 0,
              "ticks": ""
             }
            },
            "marker": {
             "colorbar": {
              "outlinewidth": 0,
              "ticks": ""
             }
            },
            "type": "scatter3d"
           }
          ],
          "scattercarpet": [
           {
            "marker": {
             "colorbar": {
              "outlinewidth": 0,
              "ticks": ""
             }
            },
            "type": "scattercarpet"
           }
          ],
          "scattergeo": [
           {
            "marker": {
             "colorbar": {
              "outlinewidth": 0,
              "ticks": ""
             }
            },
            "type": "scattergeo"
           }
          ],
          "scattergl": [
           {
            "marker": {
             "colorbar": {
              "outlinewidth": 0,
              "ticks": ""
             }
            },
            "type": "scattergl"
           }
          ],
          "scattermapbox": [
           {
            "marker": {
             "colorbar": {
              "outlinewidth": 0,
              "ticks": ""
             }
            },
            "type": "scattermapbox"
           }
          ],
          "scatterpolar": [
           {
            "marker": {
             "colorbar": {
              "outlinewidth": 0,
              "ticks": ""
             }
            },
            "type": "scatterpolar"
           }
          ],
          "scatterpolargl": [
           {
            "marker": {
             "colorbar": {
              "outlinewidth": 0,
              "ticks": ""
             }
            },
            "type": "scatterpolargl"
           }
          ],
          "scatterternary": [
           {
            "marker": {
             "colorbar": {
              "outlinewidth": 0,
              "ticks": ""
             }
            },
            "type": "scatterternary"
           }
          ],
          "surface": [
           {
            "colorbar": {
             "outlinewidth": 0,
             "ticks": ""
            },
            "colorscale": [
             [
              0,
              "#0d0887"
             ],
             [
              0.1111111111111111,
              "#46039f"
             ],
             [
              0.2222222222222222,
              "#7201a8"
             ],
             [
              0.3333333333333333,
              "#9c179e"
             ],
             [
              0.4444444444444444,
              "#bd3786"
             ],
             [
              0.5555555555555556,
              "#d8576b"
             ],
             [
              0.6666666666666666,
              "#ed7953"
             ],
             [
              0.7777777777777778,
              "#fb9f3a"
             ],
             [
              0.8888888888888888,
              "#fdca26"
             ],
             [
              1,
              "#f0f921"
             ]
            ],
            "type": "surface"
           }
          ],
          "table": [
           {
            "cells": {
             "fill": {
              "color": "#EBF0F8"
             },
             "line": {
              "color": "white"
             }
            },
            "header": {
             "fill": {
              "color": "#C8D4E3"
             },
             "line": {
              "color": "white"
             }
            },
            "type": "table"
           }
          ]
         },
         "layout": {
          "annotationdefaults": {
           "arrowcolor": "#2a3f5f",
           "arrowhead": 0,
           "arrowwidth": 1
          },
          "autotypenumbers": "strict",
          "coloraxis": {
           "colorbar": {
            "outlinewidth": 0,
            "ticks": ""
           }
          },
          "colorscale": {
           "diverging": [
            [
             0,
             "#8e0152"
            ],
            [
             0.1,
             "#c51b7d"
            ],
            [
             0.2,
             "#de77ae"
            ],
            [
             0.3,
             "#f1b6da"
            ],
            [
             0.4,
             "#fde0ef"
            ],
            [
             0.5,
             "#f7f7f7"
            ],
            [
             0.6,
             "#e6f5d0"
            ],
            [
             0.7,
             "#b8e186"
            ],
            [
             0.8,
             "#7fbc41"
            ],
            [
             0.9,
             "#4d9221"
            ],
            [
             1,
             "#276419"
            ]
           ],
           "sequential": [
            [
             0,
             "#0d0887"
            ],
            [
             0.1111111111111111,
             "#46039f"
            ],
            [
             0.2222222222222222,
             "#7201a8"
            ],
            [
             0.3333333333333333,
             "#9c179e"
            ],
            [
             0.4444444444444444,
             "#bd3786"
            ],
            [
             0.5555555555555556,
             "#d8576b"
            ],
            [
             0.6666666666666666,
             "#ed7953"
            ],
            [
             0.7777777777777778,
             "#fb9f3a"
            ],
            [
             0.8888888888888888,
             "#fdca26"
            ],
            [
             1,
             "#f0f921"
            ]
           ],
           "sequentialminus": [
            [
             0,
             "#0d0887"
            ],
            [
             0.1111111111111111,
             "#46039f"
            ],
            [
             0.2222222222222222,
             "#7201a8"
            ],
            [
             0.3333333333333333,
             "#9c179e"
            ],
            [
             0.4444444444444444,
             "#bd3786"
            ],
            [
             0.5555555555555556,
             "#d8576b"
            ],
            [
             0.6666666666666666,
             "#ed7953"
            ],
            [
             0.7777777777777778,
             "#fb9f3a"
            ],
            [
             0.8888888888888888,
             "#fdca26"
            ],
            [
             1,
             "#f0f921"
            ]
           ]
          },
          "colorway": [
           "#636efa",
           "#EF553B",
           "#00cc96",
           "#ab63fa",
           "#FFA15A",
           "#19d3f3",
           "#FF6692",
           "#B6E880",
           "#FF97FF",
           "#FECB52"
          ],
          "font": {
           "color": "#2a3f5f"
          },
          "geo": {
           "bgcolor": "white",
           "lakecolor": "white",
           "landcolor": "#E5ECF6",
           "showlakes": true,
           "showland": true,
           "subunitcolor": "white"
          },
          "hoverlabel": {
           "align": "left"
          },
          "hovermode": "closest",
          "mapbox": {
           "style": "light"
          },
          "paper_bgcolor": "white",
          "plot_bgcolor": "#E5ECF6",
          "polar": {
           "angularaxis": {
            "gridcolor": "white",
            "linecolor": "white",
            "ticks": ""
           },
           "bgcolor": "#E5ECF6",
           "radialaxis": {
            "gridcolor": "white",
            "linecolor": "white",
            "ticks": ""
           }
          },
          "scene": {
           "xaxis": {
            "backgroundcolor": "#E5ECF6",
            "gridcolor": "white",
            "gridwidth": 2,
            "linecolor": "white",
            "showbackground": true,
            "ticks": "",
            "zerolinecolor": "white"
           },
           "yaxis": {
            "backgroundcolor": "#E5ECF6",
            "gridcolor": "white",
            "gridwidth": 2,
            "linecolor": "white",
            "showbackground": true,
            "ticks": "",
            "zerolinecolor": "white"
           },
           "zaxis": {
            "backgroundcolor": "#E5ECF6",
            "gridcolor": "white",
            "gridwidth": 2,
            "linecolor": "white",
            "showbackground": true,
            "ticks": "",
            "zerolinecolor": "white"
           }
          },
          "shapedefaults": {
           "line": {
            "color": "#2a3f5f"
           }
          },
          "ternary": {
           "aaxis": {
            "gridcolor": "white",
            "linecolor": "white",
            "ticks": ""
           },
           "baxis": {
            "gridcolor": "white",
            "linecolor": "white",
            "ticks": ""
           },
           "bgcolor": "#E5ECF6",
           "caxis": {
            "gridcolor": "white",
            "linecolor": "white",
            "ticks": ""
           }
          },
          "title": {
           "x": 0.05
          },
          "xaxis": {
           "automargin": true,
           "gridcolor": "white",
           "linecolor": "white",
           "ticks": "",
           "title": {
            "standoff": 15
           },
           "zerolinecolor": "white",
           "zerolinewidth": 2
          },
          "yaxis": {
           "automargin": true,
           "gridcolor": "white",
           "linecolor": "white",
           "ticks": "",
           "title": {
            "standoff": 15
           },
           "zerolinecolor": "white",
           "zerolinewidth": 2
          }
         }
        },
        "width": 1100
       }
      },
      "text/html": [
       "<div>                            <div id=\"76427387-4bd0-4e27-a73a-8ed64cd55241\" class=\"plotly-graph-div\" style=\"height:1100px; width:1100px;\"></div>            <script type=\"text/javascript\">                require([\"plotly\"], function(Plotly) {                    window.PLOTLYENV=window.PLOTLYENV || {};                                    if (document.getElementById(\"76427387-4bd0-4e27-a73a-8ed64cd55241\")) {                    Plotly.newPlot(                        \"76427387-4bd0-4e27-a73a-8ed64cd55241\",                        [{\"hovertemplate\":\"label=1<br>x_coord=%{x}<br>y_coord=%{y}<br>z_coord=%{z}<extra></extra>\",\"legendgroup\":\"1\",\"marker\":{\"color\":\"#636efa\",\"symbol\":\"circle\",\"size\":10},\"mode\":\"markers\",\"name\":\"1\",\"scene\":\"scene\",\"showlegend\":true,\"x\":[17.085,12.505,11.779,13.504,11.041,7.024,8.863,5.113,2.711,4.251,3.567,-0.753,18.5,21.394,21.461,21.727,24.717,26.869,26.897,26.298,31.134,28.049,9.631,8.54,9.114,14.266,10.33,12.613,8.15,7.471,3.723,7.472,8.858,3.543,3.001,7.657,6.237,-3.048,-4.532,-8.407,-5.104,-1.227,-4.821,-7.003,-2.436],\"y\":[29.147,31.513,27.657,24.063,27.148,27.884,21.706,25.341,23.394,18.522,20.605,23.104,11.449,15.428,12.74,8.288,10.963,13.21,8.996,5.075,5.503,1.344,-15.979,-11.328,-12.678,-10.255,-5.888,-6.65,-3.883,0.908,-2.988,-6.306,-1.919,-1.073,-6.404,-6.659,-2.102,13.904,13.655,17.019,19.547,18.292,19.749,23.205,24.489],\"z\":[-19.554,-21.284,-25.057,-21.142,-17.728,-21.446,-17.761,-16.718,-21.24,-19.685,-14.724,-16.417,-8.501,-6.456,-1.872,-4.881,-8.408,-3.998,-1.128,-4.283,-7.956,-7.066,-21.48,-24.469,-29.746,-29.899,-29.445,-34.949,-35.371,-33.177,-33.536,-31.594,-28.479,-28.168,-28.127,-25.452,-22.979,-21.003,-26.076,-24.753,-21.49,-25.069,-28.811,-25.432,-23.013],\"type\":\"scatter3d\"},{\"hovertemplate\":\"label=0<br>x_coord=%{x}<br>y_coord=%{y}<br>z_coord=%{z}<extra></extra>\",\"legendgroup\":\"0\",\"marker\":{\"color\":\"#EF553B\",\"symbol\":\"circle\",\"size\":10},\"mode\":\"markers\",\"name\":\"0\",\"scene\":\"scene\",\"showlegend\":true,\"x\":[-19.548,-17.363,-12.863,-15.576,-19.833,-22.148,-23.533,-21.683,-27.0,-25.827,-21.878,-25.414,-29.131,-25.349,-23.937,-29.249,-29.933,-25.405,-27.122,-25.429,-23.462,-22.422,-18.727,-19.023,-13.981,-0.362,-2.459,-4.346,-4.86,-6.081,-8.904,-9.67,-10.51,-12.809,-14.682,-15.344,-16.829,-22.79,-20.038,-17.62,-22.697,-24.109,-18.879,-16.587,-19.868,-15.713,-11.078,-11.426,-15.113,-12.352,-7.894,-10.757,-12.807,-7.923,-6.402,-10.05,-7.99,0.29,-5.619,-2.679,0.372,-4.922,1.429,1.633,-1.973,-5.354,-10.43,-11.126,-6.671,-7.993,-13.269,-11.269,-12.656,-7.086,-3.267,-7.121,-2.127,-1.945,-2.725,-6.327,-7.969,-6.429,-8.608,-12.201,-11.974,-11.119,-14.894,-17.113,-15.86,-19.258,-14.25,-16.204,-10.963,-15.66,-16.73],\"y\":[0.117,-4.088,-2.928,-1.252,-4.008,-5.547,-8.078,-4.406,-5.039,-4.758,-1.453,0.629,-0.536,1.14,4.589,4.95,4.547,7.654,13.379,15.878,11.196,10.955,14.34,12.667,13.947,6.828,11.587,12.173,6.76,7.568,11.937,9.034,4.961,8.303,11.152,6.512,4.426,4.811,3.48,7.986,9.515,10.518,10.692,13.4,17.434,18.835,16.832,20.514,17.476,13.326,16.291,18.257,13.403,11.473,15.787,13.646,8.947,11.805,7.821,10.314,6.262,3.598,2.888,-2.485,-3.515,-1.738,-0.903,-3.97,-1.646,2.651,1.385,0.594,6.182,-2.624,-0.58,-4.709,-7.598,-7.466,-12.217,-9.699,-6.923,-11.294,-14.18,-10.195,-9.804,-15.127,-15.29,-10.996,-13.081,-17.607,-19.722,-18.073,-17.682,-16.372,-13.813],\"z\":[-0.729,-3.22,-0.537,3.533,3.599,-0.073,-4.681,-8.145,-7.079,-1.913,-3.412,-6.954,-3.178,0.382,-3.263,-4.489,0.936,1.138,-5.204,-0.611,0.891,-4.891,-4.59,1.027,-4.079,5.557,7.284,2.22,2.268,7.267,6.019,1.345,4.564,7.991,3.936,1.219,6.123,5.267,9.965,9.443,6.647,11.755,13.003,9.538,7.362,5.566,4.281,8.147,10.611,8.683,9.88,13.893,14.523,13.112,16.2,19.59,18.553,16.185,15.09,11.08,10.843,11.93,8.22,9.236,5.419,3.44,2.884,7.312,9.258,6.436,7.98,13.004,14.467,20.43,16.904,14.72,14.543,9.137,11.595,14.697,10.416,7.535,11.471,11.865,6.523,6.78,10.493,8.111,3.503,3.887,5.362,0.034,-2.362,-4.713,-0.102],\"type\":\"scatter3d\"},{\"marker\":{\"color\":\"yellow\"},\"mode\":\"markers\",\"text\":[4.0,6.0,12.0,13.0,15.0,19.0,22.0,25.0,28.0,31.0,34.0,35.0,44.0,51.0,54.0,58.0,63.0,64.0,69.0,73.0,75.0,78.0,81.0,82.0,85.0,86.0,87.0,93.0,94.0],\"x\":[-15.576,-22.148,-25.414,-29.131,-23.937,-27.122,-22.422,-13.981,-4.346,-8.904,-12.809,-14.682,-16.587,-7.894,-7.923,0.29,1.429,1.633,-6.671,-12.656,-3.267,-1.945,-7.969,-6.429,-11.974,-11.119,-14.894,-10.963,-15.66],\"y\":[-1.252,-5.547,0.629,-0.536,4.589,13.379,10.955,13.947,12.173,11.937,8.303,11.152,13.4,16.291,11.473,11.805,2.888,-2.485,-1.646,6.182,-0.58,-7.466,-6.923,-11.294,-9.804,-15.127,-15.29,-17.682,-16.372],\"z\":[3.533,-0.073,-6.954,-3.178,-3.263,-5.204,-4.891,-4.079,2.22,6.019,7.991,3.936,9.538,9.88,13.112,16.185,8.22,9.236,9.258,14.467,16.904,9.137,10.416,7.535,6.523,6.78,10.493,-2.362,-4.713],\"type\":\"scatter3d\"},{\"marker\":{\"color\":\"yellow\"},\"mode\":\"markers\",\"text\":[4.0,6.0,12.0,13.0,15.0,19.0,22.0,25.0,28.0,31.0,34.0,35.0,44.0,51.0,54.0,58.0,63.0,64.0,69.0,73.0,75.0,78.0,81.0,82.0,85.0,86.0,87.0,93.0,94.0],\"x\":[-15.576,-22.148,-25.414,-29.131,-23.937,-27.122,-22.422,-13.981,-4.346,-8.904,-12.809,-14.682,-16.587,-7.894,-7.923,0.29,1.429,1.633,-6.671,-12.656,-3.267,-1.945,-7.969,-6.429,-11.974,-11.119,-14.894,-10.963,-15.66],\"y\":[-1.252,-5.547,0.629,-0.536,4.589,13.379,10.955,13.947,12.173,11.937,8.303,11.152,13.4,16.291,11.473,11.805,2.888,-2.485,-1.646,6.182,-0.58,-7.466,-6.923,-11.294,-9.804,-15.127,-15.29,-17.682,-16.372],\"z\":[3.533,-0.073,-6.954,-3.178,-3.263,-5.204,-4.891,-4.079,2.22,6.019,7.991,3.936,9.538,9.88,13.112,16.185,8.22,9.236,9.258,14.467,16.904,9.137,10.416,7.535,6.523,6.78,10.493,-2.362,-4.713],\"type\":\"scatter3d\"},{\"marker\":{\"color\":\"green\"},\"x\":[8.0404],\"y\":[-6.2136],\"z\":[-29.12473333333333],\"type\":\"scatter3d\"},{\"marker\":{\"color\":\"black\"},\"x\":[24.704600000000003],\"y\":[9.2996],\"z\":[-5.4549],\"type\":\"scatter3d\"},{\"marker\":{\"color\":\"orange\"},\"x\":[3.0056000000000003],\"y\":[22.4972],\"z\":[-21.42015],\"type\":\"scatter3d\"},{\"color\":\"lightpink\",\"opacity\":0.5,\"x\":[8.0404,24.704600000000003,3.0056000000000003],\"y\":[-6.2136,9.2996,22.4972],\"z\":[-29.12473333333333,-5.4549,-21.42015],\"type\":\"mesh3d\"},{\"marker\":{\"color\":\"green\"},\"x\":[-22.492666666666665],\"y\":[3.8695000000000004],\"z\":[-0.4676333333333333],\"type\":\"scatter3d\"},{\"marker\":{\"color\":\"black\"},\"x\":[-9.100675675675678],\"y\":[10.203297297297297],\"z\":[9.810135135135134],\"type\":\"scatter3d\"},{\"marker\":{\"color\":\"orange\"},\"x\":[-9.762392857142858],\"y\":[-9.702035714285714],\"z\":[7.176321428571428],\"type\":\"scatter3d\"},{\"color\":\"lightpink\",\"opacity\":0.5,\"x\":[-22.492666666666665,-9.100675675675678,-9.762392857142858],\"y\":[3.8695000000000004,10.203297297297297,-9.702035714285714],\"z\":[-0.4676333333333333,9.810135135135134,7.176321428571428],\"type\":\"mesh3d\"},{\"color\":\"lightblue\",\"opacity\":0.5,\"x\":[-22.492666666666665,-9.100675675675678,-9.762392857142858],\"y\":[3.8695000000000004,10.203297297297297,-9.702035714285714],\"z\":[-0.4676333333333333,9.810135135135134,7.176321428571428],\"type\":\"mesh3d\"},{\"color\":\"lightgreen\",\"opacity\":0.5,\"x\":[-22.492666666666665,-9.100675675675678,-9.762392857142858],\"y\":[3.8695000000000004,10.203297297297297,-9.702035714285714],\"z\":[-0.4676333333333333,9.810135135135134,7.176321428571428],\"type\":\"mesh3d\"}],                        {\"template\":{\"data\":{\"histogram2dcontour\":[{\"type\":\"histogram2dcontour\",\"colorbar\":{\"outlinewidth\":0,\"ticks\":\"\"},\"colorscale\":[[0.0,\"#0d0887\"],[0.1111111111111111,\"#46039f\"],[0.2222222222222222,\"#7201a8\"],[0.3333333333333333,\"#9c179e\"],[0.4444444444444444,\"#bd3786\"],[0.5555555555555556,\"#d8576b\"],[0.6666666666666666,\"#ed7953\"],[0.7777777777777778,\"#fb9f3a\"],[0.8888888888888888,\"#fdca26\"],[1.0,\"#f0f921\"]]}],\"choropleth\":[{\"type\":\"choropleth\",\"colorbar\":{\"outlinewidth\":0,\"ticks\":\"\"}}],\"histogram2d\":[{\"type\":\"histogram2d\",\"colorbar\":{\"outlinewidth\":0,\"ticks\":\"\"},\"colorscale\":[[0.0,\"#0d0887\"],[0.1111111111111111,\"#46039f\"],[0.2222222222222222,\"#7201a8\"],[0.3333333333333333,\"#9c179e\"],[0.4444444444444444,\"#bd3786\"],[0.5555555555555556,\"#d8576b\"],[0.6666666666666666,\"#ed7953\"],[0.7777777777777778,\"#fb9f3a\"],[0.8888888888888888,\"#fdca26\"],[1.0,\"#f0f921\"]]}],\"heatmap\":[{\"type\":\"heatmap\",\"colorbar\":{\"outlinewidth\":0,\"ticks\":\"\"},\"colorscale\":[[0.0,\"#0d0887\"],[0.1111111111111111,\"#46039f\"],[0.2222222222222222,\"#7201a8\"],[0.3333333333333333,\"#9c179e\"],[0.4444444444444444,\"#bd3786\"],[0.5555555555555556,\"#d8576b\"],[0.6666666666666666,\"#ed7953\"],[0.7777777777777778,\"#fb9f3a\"],[0.8888888888888888,\"#fdca26\"],[1.0,\"#f0f921\"]]}],\"heatmapgl\":[{\"type\":\"heatmapgl\",\"colorbar\":{\"outlinewidth\":0,\"ticks\":\"\"},\"colorscale\":[[0.0,\"#0d0887\"],[0.1111111111111111,\"#46039f\"],[0.2222222222222222,\"#7201a8\"],[0.3333333333333333,\"#9c179e\"],[0.4444444444444444,\"#bd3786\"],[0.5555555555555556,\"#d8576b\"],[0.6666666666666666,\"#ed7953\"],[0.7777777777777778,\"#fb9f3a\"],[0.8888888888888888,\"#fdca26\"],[1.0,\"#f0f921\"]]}],\"contourcarpet\":[{\"type\":\"contourcarpet\",\"colorbar\":{\"outlinewidth\":0,\"ticks\":\"\"}}],\"contour\":[{\"type\":\"contour\",\"colorbar\":{\"outlinewidth\":0,\"ticks\":\"\"},\"colorscale\":[[0.0,\"#0d0887\"],[0.1111111111111111,\"#46039f\"],[0.2222222222222222,\"#7201a8\"],[0.3333333333333333,\"#9c179e\"],[0.4444444444444444,\"#bd3786\"],[0.5555555555555556,\"#d8576b\"],[0.6666666666666666,\"#ed7953\"],[0.7777777777777778,\"#fb9f3a\"],[0.8888888888888888,\"#fdca26\"],[1.0,\"#f0f921\"]]}],\"surface\":[{\"type\":\"surface\",\"colorbar\":{\"outlinewidth\":0,\"ticks\":\"\"},\"colorscale\":[[0.0,\"#0d0887\"],[0.1111111111111111,\"#46039f\"],[0.2222222222222222,\"#7201a8\"],[0.3333333333333333,\"#9c179e\"],[0.4444444444444444,\"#bd3786\"],[0.5555555555555556,\"#d8576b\"],[0.6666666666666666,\"#ed7953\"],[0.7777777777777778,\"#fb9f3a\"],[0.8888888888888888,\"#fdca26\"],[1.0,\"#f0f921\"]]}],\"mesh3d\":[{\"type\":\"mesh3d\",\"colorbar\":{\"outlinewidth\":0,\"ticks\":\"\"}}],\"scatter\":[{\"fillpattern\":{\"fillmode\":\"overlay\",\"size\":10,\"solidity\":0.2},\"type\":\"scatter\"}],\"parcoords\":[{\"type\":\"parcoords\",\"line\":{\"colorbar\":{\"outlinewidth\":0,\"ticks\":\"\"}}}],\"scatterpolargl\":[{\"type\":\"scatterpolargl\",\"marker\":{\"colorbar\":{\"outlinewidth\":0,\"ticks\":\"\"}}}],\"bar\":[{\"error_x\":{\"color\":\"#2a3f5f\"},\"error_y\":{\"color\":\"#2a3f5f\"},\"marker\":{\"line\":{\"color\":\"#E5ECF6\",\"width\":0.5},\"pattern\":{\"fillmode\":\"overlay\",\"size\":10,\"solidity\":0.2}},\"type\":\"bar\"}],\"scattergeo\":[{\"type\":\"scattergeo\",\"marker\":{\"colorbar\":{\"outlinewidth\":0,\"ticks\":\"\"}}}],\"scatterpolar\":[{\"type\":\"scatterpolar\",\"marker\":{\"colorbar\":{\"outlinewidth\":0,\"ticks\":\"\"}}}],\"histogram\":[{\"marker\":{\"pattern\":{\"fillmode\":\"overlay\",\"size\":10,\"solidity\":0.2}},\"type\":\"histogram\"}],\"scattergl\":[{\"type\":\"scattergl\",\"marker\":{\"colorbar\":{\"outlinewidth\":0,\"ticks\":\"\"}}}],\"scatter3d\":[{\"type\":\"scatter3d\",\"line\":{\"colorbar\":{\"outlinewidth\":0,\"ticks\":\"\"}},\"marker\":{\"colorbar\":{\"outlinewidth\":0,\"ticks\":\"\"}}}],\"scattermapbox\":[{\"type\":\"scattermapbox\",\"marker\":{\"colorbar\":{\"outlinewidth\":0,\"ticks\":\"\"}}}],\"scatterternary\":[{\"type\":\"scatterternary\",\"marker\":{\"colorbar\":{\"outlinewidth\":0,\"ticks\":\"\"}}}],\"scattercarpet\":[{\"type\":\"scattercarpet\",\"marker\":{\"colorbar\":{\"outlinewidth\":0,\"ticks\":\"\"}}}],\"carpet\":[{\"aaxis\":{\"endlinecolor\":\"#2a3f5f\",\"gridcolor\":\"white\",\"linecolor\":\"white\",\"minorgridcolor\":\"white\",\"startlinecolor\":\"#2a3f5f\"},\"baxis\":{\"endlinecolor\":\"#2a3f5f\",\"gridcolor\":\"white\",\"linecolor\":\"white\",\"minorgridcolor\":\"white\",\"startlinecolor\":\"#2a3f5f\"},\"type\":\"carpet\"}],\"table\":[{\"cells\":{\"fill\":{\"color\":\"#EBF0F8\"},\"line\":{\"color\":\"white\"}},\"header\":{\"fill\":{\"color\":\"#C8D4E3\"},\"line\":{\"color\":\"white\"}},\"type\":\"table\"}],\"barpolar\":[{\"marker\":{\"line\":{\"color\":\"#E5ECF6\",\"width\":0.5},\"pattern\":{\"fillmode\":\"overlay\",\"size\":10,\"solidity\":0.2}},\"type\":\"barpolar\"}],\"pie\":[{\"automargin\":true,\"type\":\"pie\"}]},\"layout\":{\"autotypenumbers\":\"strict\",\"colorway\":[\"#636efa\",\"#EF553B\",\"#00cc96\",\"#ab63fa\",\"#FFA15A\",\"#19d3f3\",\"#FF6692\",\"#B6E880\",\"#FF97FF\",\"#FECB52\"],\"font\":{\"color\":\"#2a3f5f\"},\"hovermode\":\"closest\",\"hoverlabel\":{\"align\":\"left\"},\"paper_bgcolor\":\"white\",\"plot_bgcolor\":\"#E5ECF6\",\"polar\":{\"bgcolor\":\"#E5ECF6\",\"angularaxis\":{\"gridcolor\":\"white\",\"linecolor\":\"white\",\"ticks\":\"\"},\"radialaxis\":{\"gridcolor\":\"white\",\"linecolor\":\"white\",\"ticks\":\"\"}},\"ternary\":{\"bgcolor\":\"#E5ECF6\",\"aaxis\":{\"gridcolor\":\"white\",\"linecolor\":\"white\",\"ticks\":\"\"},\"baxis\":{\"gridcolor\":\"white\",\"linecolor\":\"white\",\"ticks\":\"\"},\"caxis\":{\"gridcolor\":\"white\",\"linecolor\":\"white\",\"ticks\":\"\"}},\"coloraxis\":{\"colorbar\":{\"outlinewidth\":0,\"ticks\":\"\"}},\"colorscale\":{\"sequential\":[[0.0,\"#0d0887\"],[0.1111111111111111,\"#46039f\"],[0.2222222222222222,\"#7201a8\"],[0.3333333333333333,\"#9c179e\"],[0.4444444444444444,\"#bd3786\"],[0.5555555555555556,\"#d8576b\"],[0.6666666666666666,\"#ed7953\"],[0.7777777777777778,\"#fb9f3a\"],[0.8888888888888888,\"#fdca26\"],[1.0,\"#f0f921\"]],\"sequentialminus\":[[0.0,\"#0d0887\"],[0.1111111111111111,\"#46039f\"],[0.2222222222222222,\"#7201a8\"],[0.3333333333333333,\"#9c179e\"],[0.4444444444444444,\"#bd3786\"],[0.5555555555555556,\"#d8576b\"],[0.6666666666666666,\"#ed7953\"],[0.7777777777777778,\"#fb9f3a\"],[0.8888888888888888,\"#fdca26\"],[1.0,\"#f0f921\"]],\"diverging\":[[0,\"#8e0152\"],[0.1,\"#c51b7d\"],[0.2,\"#de77ae\"],[0.3,\"#f1b6da\"],[0.4,\"#fde0ef\"],[0.5,\"#f7f7f7\"],[0.6,\"#e6f5d0\"],[0.7,\"#b8e186\"],[0.8,\"#7fbc41\"],[0.9,\"#4d9221\"],[1,\"#276419\"]]},\"xaxis\":{\"gridcolor\":\"white\",\"linecolor\":\"white\",\"ticks\":\"\",\"title\":{\"standoff\":15},\"zerolinecolor\":\"white\",\"automargin\":true,\"zerolinewidth\":2},\"yaxis\":{\"gridcolor\":\"white\",\"linecolor\":\"white\",\"ticks\":\"\",\"title\":{\"standoff\":15},\"zerolinecolor\":\"white\",\"automargin\":true,\"zerolinewidth\":2},\"scene\":{\"xaxis\":{\"backgroundcolor\":\"#E5ECF6\",\"gridcolor\":\"white\",\"linecolor\":\"white\",\"showbackground\":true,\"ticks\":\"\",\"zerolinecolor\":\"white\",\"gridwidth\":2},\"yaxis\":{\"backgroundcolor\":\"#E5ECF6\",\"gridcolor\":\"white\",\"linecolor\":\"white\",\"showbackground\":true,\"ticks\":\"\",\"zerolinecolor\":\"white\",\"gridwidth\":2},\"zaxis\":{\"backgroundcolor\":\"#E5ECF6\",\"gridcolor\":\"white\",\"linecolor\":\"white\",\"showbackground\":true,\"ticks\":\"\",\"zerolinecolor\":\"white\",\"gridwidth\":2}},\"shapedefaults\":{\"line\":{\"color\":\"#2a3f5f\"}},\"annotationdefaults\":{\"arrowcolor\":\"#2a3f5f\",\"arrowhead\":0,\"arrowwidth\":1},\"geo\":{\"bgcolor\":\"white\",\"landcolor\":\"#E5ECF6\",\"subunitcolor\":\"white\",\"showland\":true,\"showlakes\":true,\"lakecolor\":\"white\"},\"title\":{\"x\":0.05},\"mapbox\":{\"style\":\"light\"}}},\"scene\":{\"domain\":{\"x\":[0.0,1.0],\"y\":[0.0,1.0]},\"xaxis\":{\"title\":{\"text\":\"x_coord\"}},\"yaxis\":{\"title\":{\"text\":\"y_coord\"}},\"zaxis\":{\"title\":{\"text\":\"z_coord\"}}},\"legend\":{\"title\":{\"text\":\"label\"},\"tracegroupgap\":0},\"margin\":{\"t\":60},\"width\":1100,\"height\":1100},                        {\"responsive\": true}                    ).then(function(){\n",
       "                            \n",
       "var gd = document.getElementById('76427387-4bd0-4e27-a73a-8ed64cd55241');\n",
       "var x = new MutationObserver(function (mutations, observer) {{\n",
       "        var display = window.getComputedStyle(gd).display;\n",
       "        if (!display || display === 'none') {{\n",
       "            console.log([gd, 'removed!']);\n",
       "            Plotly.purge(gd);\n",
       "            observer.disconnect();\n",
       "        }}\n",
       "}});\n",
       "\n",
       "// Listen for the removal of the full notebook cells\n",
       "var notebookContainer = gd.closest('#notebook-container');\n",
       "if (notebookContainer) {{\n",
       "    x.observe(notebookContainer, {childList: true});\n",
       "}}\n",
       "\n",
       "// Listen for the clearing of the current output cell\n",
       "var outputEl = gd.closest('.output');\n",
       "if (outputEl) {{\n",
       "    x.observe(outputEl, {childList: true});\n",
       "}}\n",
       "\n",
       "                        })                };                });            </script>        </div>"
      ]
     },
     "metadata": {},
     "output_type": "display_data"
    }
   ],
   "source": [
    "pts2 =np.array([[x02, y02, z02],\n",
    "              [x12, y12, z12],\n",
    "              [x22, y22, z22]])\n",
    "x2, y2, z2 = pts2.T\n",
    "\n",
    "fig2.add_trace(\n",
    "    go.Mesh3d(x=x2, y=y2, z=z2, color='lightgreen', opacity=0.50)\n",
    ")\n"
   ]
  },
  {
   "cell_type": "code",
   "execution_count": 135,
   "id": "bae48952",
   "metadata": {},
   "outputs": [],
   "source": [
    "# distance calculation\n",
    "def dist_to_plane(p, p0, p1, p2):\n",
    "    u = p1 - p0\n",
    "    v = p2 - p0\n",
    "    # vector normal to plane\n",
    "    n = np.cross(u, v)\n",
    "    n /= np.linalg.norm(n)\n",
    "    p_ = p - p0\n",
    "    dist_to_plane = np.dot(p_, n)\n",
    "    return dist_to_plane"
   ]
  },
  {
   "cell_type": "code",
   "execution_count": 155,
   "id": "57acf09f",
   "metadata": {},
   "outputs": [
    {
     "data": {
      "text/html": [
       "<div>\n",
       "<style scoped>\n",
       "    .dataframe tbody tr th:only-of-type {\n",
       "        vertical-align: middle;\n",
       "    }\n",
       "\n",
       "    .dataframe tbody tr th {\n",
       "        vertical-align: top;\n",
       "    }\n",
       "\n",
       "    .dataframe thead th {\n",
       "        text-align: right;\n",
       "    }\n",
       "</style>\n",
       "<table border=\"1\" class=\"dataframe\">\n",
       "  <thead>\n",
       "    <tr style=\"text-align: right;\">\n",
       "      <th></th>\n",
       "      <th>atom_name</th>\n",
       "      <th>residue_name</th>\n",
       "      <th>residue_number</th>\n",
       "      <th>x_coord</th>\n",
       "      <th>y_coord</th>\n",
       "      <th>z_coord</th>\n",
       "      <th>label</th>\n",
       "      <th>new_label2</th>\n",
       "    </tr>\n",
       "  </thead>\n",
       "  <tbody>\n",
       "    <tr>\n",
       "      <th>110</th>\n",
       "      <td>CB</td>\n",
       "      <td>ARG</td>\n",
       "      <td>57</td>\n",
       "      <td>-19.548</td>\n",
       "      <td>0.117</td>\n",
       "      <td>-0.729</td>\n",
       "      <td>0</td>\n",
       "      <td>0</td>\n",
       "    </tr>\n",
       "    <tr>\n",
       "      <th>121</th>\n",
       "      <td>CB</td>\n",
       "      <td>GLN</td>\n",
       "      <td>58</td>\n",
       "      <td>-17.363</td>\n",
       "      <td>-4.088</td>\n",
       "      <td>-3.220</td>\n",
       "      <td>0</td>\n",
       "      <td>0</td>\n",
       "    </tr>\n",
       "    <tr>\n",
       "      <th>130</th>\n",
       "      <td>CB</td>\n",
       "      <td>GLN</td>\n",
       "      <td>59</td>\n",
       "      <td>-12.863</td>\n",
       "      <td>-2.928</td>\n",
       "      <td>-0.537</td>\n",
       "      <td>0</td>\n",
       "      <td>2</td>\n",
       "    </tr>\n",
       "    <tr>\n",
       "      <th>139</th>\n",
       "      <td>CB</td>\n",
       "      <td>LEU</td>\n",
       "      <td>60</td>\n",
       "      <td>-15.576</td>\n",
       "      <td>-1.252</td>\n",
       "      <td>3.533</td>\n",
       "      <td>0</td>\n",
       "      <td>0</td>\n",
       "    </tr>\n",
       "    <tr>\n",
       "      <th>147</th>\n",
       "      <td>CB</td>\n",
       "      <td>TYR</td>\n",
       "      <td>61</td>\n",
       "      <td>-19.833</td>\n",
       "      <td>-4.008</td>\n",
       "      <td>3.599</td>\n",
       "      <td>0</td>\n",
       "      <td>0</td>\n",
       "    </tr>\n",
       "    <tr>\n",
       "      <th>...</th>\n",
       "      <td>...</td>\n",
       "      <td>...</td>\n",
       "      <td>...</td>\n",
       "      <td>...</td>\n",
       "      <td>...</td>\n",
       "      <td>...</td>\n",
       "      <td>...</td>\n",
       "      <td>...</td>\n",
       "    </tr>\n",
       "    <tr>\n",
       "      <th>1127</th>\n",
       "      <td>CB</td>\n",
       "      <td>ARG</td>\n",
       "      <td>263</td>\n",
       "      <td>-14.250</td>\n",
       "      <td>-19.722</td>\n",
       "      <td>5.362</td>\n",
       "      <td>0</td>\n",
       "      <td>2</td>\n",
       "    </tr>\n",
       "    <tr>\n",
       "      <th>1138</th>\n",
       "      <td>CB</td>\n",
       "      <td>LYS</td>\n",
       "      <td>264</td>\n",
       "      <td>-16.204</td>\n",
       "      <td>-18.073</td>\n",
       "      <td>0.034</td>\n",
       "      <td>0</td>\n",
       "      <td>2</td>\n",
       "    </tr>\n",
       "    <tr>\n",
       "      <th>1147</th>\n",
       "      <td>CB</td>\n",
       "      <td>LEU</td>\n",
       "      <td>265</td>\n",
       "      <td>-10.963</td>\n",
       "      <td>-17.682</td>\n",
       "      <td>-2.362</td>\n",
       "      <td>0</td>\n",
       "      <td>2</td>\n",
       "    </tr>\n",
       "    <tr>\n",
       "      <th>1155</th>\n",
       "      <td>CB</td>\n",
       "      <td>ILE</td>\n",
       "      <td>266</td>\n",
       "      <td>-15.660</td>\n",
       "      <td>-16.372</td>\n",
       "      <td>-4.713</td>\n",
       "      <td>0</td>\n",
       "      <td>2</td>\n",
       "    </tr>\n",
       "    <tr>\n",
       "      <th>1163</th>\n",
       "      <td>CB</td>\n",
       "      <td>ASN</td>\n",
       "      <td>267</td>\n",
       "      <td>-16.730</td>\n",
       "      <td>-13.813</td>\n",
       "      <td>-0.102</td>\n",
       "      <td>0</td>\n",
       "      <td>2</td>\n",
       "    </tr>\n",
       "  </tbody>\n",
       "</table>\n",
       "<p>95 rows × 8 columns</p>\n",
       "</div>"
      ],
      "text/plain": [
       "     atom_name residue_name  residue_number  x_coord  y_coord  z_coord label  \\\n",
       "110         CB          ARG              57  -19.548    0.117   -0.729     0   \n",
       "121         CB          GLN              58  -17.363   -4.088   -3.220     0   \n",
       "130         CB          GLN              59  -12.863   -2.928   -0.537     0   \n",
       "139         CB          LEU              60  -15.576   -1.252    3.533     0   \n",
       "147         CB          TYR              61  -19.833   -4.008    3.599     0   \n",
       "...        ...          ...             ...      ...      ...      ...   ...   \n",
       "1127        CB          ARG             263  -14.250  -19.722    5.362     0   \n",
       "1138        CB          LYS             264  -16.204  -18.073    0.034     0   \n",
       "1147        CB          LEU             265  -10.963  -17.682   -2.362     0   \n",
       "1155        CB          ILE             266  -15.660  -16.372   -4.713     0   \n",
       "1163        CB          ASN             267  -16.730  -13.813   -0.102     0   \n",
       "\n",
       "     new_label2  \n",
       "110           0  \n",
       "121           0  \n",
       "130           2  \n",
       "139           0  \n",
       "147           0  \n",
       "...         ...  \n",
       "1127          2  \n",
       "1138          2  \n",
       "1147          2  \n",
       "1155          2  \n",
       "1163          2  \n",
       "\n",
       "[95 rows x 8 columns]"
      ]
     },
     "execution_count": 155,
     "metadata": {},
     "output_type": "execute_result"
    }
   ],
   "source": [
    "outdf"
   ]
  },
  {
   "cell_type": "code",
   "execution_count": 170,
   "id": "e471f696",
   "metadata": {},
   "outputs": [],
   "source": [
    "p0 = np.array([x02, y02, z02])\n",
    "p1 = np.array([x12, y12, z12])\n",
    "p2 = np.array([x22, y22, z22])\n",
    "dis_dic = pd.DataFrame(columns=[\"x_coord\",\"y_coord\", \"z_coord\", \"dis\"])\n",
    "dis_list, xl, yl, zl = [], [], [], []"
   ]
  },
  {
   "cell_type": "code",
   "execution_count": 173,
   "id": "fc845d0e",
   "metadata": {},
   "outputs": [],
   "source": [
    "p0 = np.array([x02, y02, z02])\n",
    "p1 = np.array([x12, y12, z12])\n",
    "p2 = np.array([x22, y22, z22])\n",
    "dis_dic = pd.DataFrame(columns=[\"x_coord\",\"y_coord\", \"z_coord\", \"dis\"])\n",
    "dis_list, xl, yl, zl = [], [], [], []\n",
    "\n",
    "dis_list, xl, yl, zl = [], [], [], []\n",
    "for i in range(0, len(outdf)):\n",
    "    p = np.array(outdf.iloc[i][['x_coord', 'y_coord', 'z_coord']].tolist())\n",
    "    dis = dist_to_plane(p, p0, p1, p2)\n",
    "    dis_list.append(dis)\n",
    "    xl.append(outdf.iloc[i]['x_coord'].tolist())\n",
    "    yl.append(outdf.iloc[i]['y_coord'].tolist())\n",
    "    zl.append(outdf.iloc[i]['z_coord'].tolist())\n",
    "    \n",
    "\n",
    "dis_dic[\"dis\"] = dis_list\n",
    "dis_dic[\"x_coord\"] = xl\n",
    "dis_dic[\"y_coord\"] = yl\n",
    "dis_dic[\"z_coord\"] = zl\n",
    "dis_dic[\"abs_dis\"] = dis_dic['dis'].abs()"
   ]
  },
  {
   "cell_type": "code",
   "execution_count": 174,
   "id": "dad87fc7",
   "metadata": {},
   "outputs": [
    {
     "data": {
      "text/html": [
       "<div>\n",
       "<style scoped>\n",
       "    .dataframe tbody tr th:only-of-type {\n",
       "        vertical-align: middle;\n",
       "    }\n",
       "\n",
       "    .dataframe tbody tr th {\n",
       "        vertical-align: top;\n",
       "    }\n",
       "\n",
       "    .dataframe thead th {\n",
       "        text-align: right;\n",
       "    }\n",
       "</style>\n",
       "<table border=\"1\" class=\"dataframe\">\n",
       "  <thead>\n",
       "    <tr style=\"text-align: right;\">\n",
       "      <th></th>\n",
       "      <th>x_coord</th>\n",
       "      <th>y_coord</th>\n",
       "      <th>z_coord</th>\n",
       "      <th>dis</th>\n",
       "      <th>abs_dis</th>\n",
       "    </tr>\n",
       "  </thead>\n",
       "  <tbody>\n",
       "    <tr>\n",
       "      <th>0</th>\n",
       "      <td>-19.548</td>\n",
       "      <td>0.117</td>\n",
       "      <td>-0.729</td>\n",
       "      <td>1.589757</td>\n",
       "      <td>1.589757</td>\n",
       "    </tr>\n",
       "    <tr>\n",
       "      <th>1</th>\n",
       "      <td>-17.363</td>\n",
       "      <td>-4.088</td>\n",
       "      <td>-3.220</td>\n",
       "      <td>4.504881</td>\n",
       "      <td>4.504881</td>\n",
       "    </tr>\n",
       "    <tr>\n",
       "      <th>2</th>\n",
       "      <td>-12.863</td>\n",
       "      <td>-2.928</td>\n",
       "      <td>-0.537</td>\n",
       "      <td>5.043841</td>\n",
       "      <td>5.043841</td>\n",
       "    </tr>\n",
       "    <tr>\n",
       "      <th>3</th>\n",
       "      <td>-15.576</td>\n",
       "      <td>-1.252</td>\n",
       "      <td>3.533</td>\n",
       "      <td>0.321443</td>\n",
       "      <td>0.321443</td>\n",
       "    </tr>\n",
       "    <tr>\n",
       "      <th>4</th>\n",
       "      <td>-19.833</td>\n",
       "      <td>-4.008</td>\n",
       "      <td>3.599</td>\n",
       "      <td>-2.443185</td>\n",
       "      <td>2.443185</td>\n",
       "    </tr>\n",
       "    <tr>\n",
       "      <th>...</th>\n",
       "      <td>...</td>\n",
       "      <td>...</td>\n",
       "      <td>...</td>\n",
       "      <td>...</td>\n",
       "      <td>...</td>\n",
       "    </tr>\n",
       "    <tr>\n",
       "      <th>90</th>\n",
       "      <td>-14.250</td>\n",
       "      <td>-19.722</td>\n",
       "      <td>5.362</td>\n",
       "      <td>-2.013906</td>\n",
       "      <td>2.013906</td>\n",
       "    </tr>\n",
       "    <tr>\n",
       "      <th>91</th>\n",
       "      <td>-16.204</td>\n",
       "      <td>-18.073</td>\n",
       "      <td>0.034</td>\n",
       "      <td>1.312743</td>\n",
       "      <td>1.312743</td>\n",
       "    </tr>\n",
       "    <tr>\n",
       "      <th>92</th>\n",
       "      <td>-10.963</td>\n",
       "      <td>-17.682</td>\n",
       "      <td>-2.362</td>\n",
       "      <td>6.327248</td>\n",
       "      <td>6.327248</td>\n",
       "    </tr>\n",
       "    <tr>\n",
       "      <th>93</th>\n",
       "      <td>-15.660</td>\n",
       "      <td>-16.372</td>\n",
       "      <td>-4.713</td>\n",
       "      <td>5.622217</td>\n",
       "      <td>5.622217</td>\n",
       "    </tr>\n",
       "    <tr>\n",
       "      <th>94</th>\n",
       "      <td>-16.730</td>\n",
       "      <td>-13.813</td>\n",
       "      <td>-0.102</td>\n",
       "      <td>1.492185</td>\n",
       "      <td>1.492185</td>\n",
       "    </tr>\n",
       "  </tbody>\n",
       "</table>\n",
       "<p>95 rows × 5 columns</p>\n",
       "</div>"
      ],
      "text/plain": [
       "    x_coord  y_coord  z_coord       dis   abs_dis\n",
       "0   -19.548    0.117   -0.729  1.589757  1.589757\n",
       "1   -17.363   -4.088   -3.220  4.504881  4.504881\n",
       "2   -12.863   -2.928   -0.537  5.043841  5.043841\n",
       "3   -15.576   -1.252    3.533  0.321443  0.321443\n",
       "4   -19.833   -4.008    3.599 -2.443185  2.443185\n",
       "..      ...      ...      ...       ...       ...\n",
       "90  -14.250  -19.722    5.362 -2.013906  2.013906\n",
       "91  -16.204  -18.073    0.034  1.312743  1.312743\n",
       "92  -10.963  -17.682   -2.362  6.327248  6.327248\n",
       "93  -15.660  -16.372   -4.713  5.622217  5.622217\n",
       "94  -16.730  -13.813   -0.102  1.492185  1.492185\n",
       "\n",
       "[95 rows x 5 columns]"
      ]
     },
     "execution_count": 174,
     "metadata": {},
     "output_type": "execute_result"
    }
   ],
   "source": [
    "dis_dic"
   ]
  },
  {
   "cell_type": "code",
   "execution_count": 156,
   "id": "3c5fa93b",
   "metadata": {},
   "outputs": [
    {
     "data": {
      "text/html": [
       "<div>\n",
       "<style scoped>\n",
       "    .dataframe tbody tr th:only-of-type {\n",
       "        vertical-align: middle;\n",
       "    }\n",
       "\n",
       "    .dataframe tbody tr th {\n",
       "        vertical-align: top;\n",
       "    }\n",
       "\n",
       "    .dataframe thead th {\n",
       "        text-align: right;\n",
       "    }\n",
       "</style>\n",
       "<table border=\"1\" class=\"dataframe\">\n",
       "  <thead>\n",
       "    <tr style=\"text-align: right;\">\n",
       "      <th></th>\n",
       "      <th>resnum</th>\n",
       "      <th>dis</th>\n",
       "      <th>abs_dis</th>\n",
       "    </tr>\n",
       "  </thead>\n",
       "  <tbody>\n",
       "    <tr>\n",
       "      <th>0</th>\n",
       "      <td>57</td>\n",
       "      <td>1.589757</td>\n",
       "      <td>1.589757</td>\n",
       "    </tr>\n",
       "    <tr>\n",
       "      <th>1</th>\n",
       "      <td>58</td>\n",
       "      <td>4.504881</td>\n",
       "      <td>4.504881</td>\n",
       "    </tr>\n",
       "    <tr>\n",
       "      <th>2</th>\n",
       "      <td>59</td>\n",
       "      <td>5.043841</td>\n",
       "      <td>5.043841</td>\n",
       "    </tr>\n",
       "    <tr>\n",
       "      <th>3</th>\n",
       "      <td>60</td>\n",
       "      <td>0.321443</td>\n",
       "      <td>0.321443</td>\n",
       "    </tr>\n",
       "    <tr>\n",
       "      <th>4</th>\n",
       "      <td>61</td>\n",
       "      <td>-2.443185</td>\n",
       "      <td>2.443185</td>\n",
       "    </tr>\n",
       "    <tr>\n",
       "      <th>...</th>\n",
       "      <td>...</td>\n",
       "      <td>...</td>\n",
       "      <td>...</td>\n",
       "    </tr>\n",
       "    <tr>\n",
       "      <th>90</th>\n",
       "      <td>263</td>\n",
       "      <td>-2.013906</td>\n",
       "      <td>2.013906</td>\n",
       "    </tr>\n",
       "    <tr>\n",
       "      <th>91</th>\n",
       "      <td>264</td>\n",
       "      <td>1.312743</td>\n",
       "      <td>1.312743</td>\n",
       "    </tr>\n",
       "    <tr>\n",
       "      <th>92</th>\n",
       "      <td>265</td>\n",
       "      <td>6.327248</td>\n",
       "      <td>6.327248</td>\n",
       "    </tr>\n",
       "    <tr>\n",
       "      <th>93</th>\n",
       "      <td>266</td>\n",
       "      <td>5.622217</td>\n",
       "      <td>5.622217</td>\n",
       "    </tr>\n",
       "    <tr>\n",
       "      <th>94</th>\n",
       "      <td>267</td>\n",
       "      <td>1.492185</td>\n",
       "      <td>1.492185</td>\n",
       "    </tr>\n",
       "  </tbody>\n",
       "</table>\n",
       "<p>95 rows × 3 columns</p>\n",
       "</div>"
      ],
      "text/plain": [
       "    resnum       dis   abs_dis\n",
       "0       57  1.589757  1.589757\n",
       "1       58  4.504881  4.504881\n",
       "2       59  5.043841  5.043841\n",
       "3       60  0.321443  0.321443\n",
       "4       61 -2.443185  2.443185\n",
       "..     ...       ...       ...\n",
       "90     263 -2.013906  2.013906\n",
       "91     264  1.312743  1.312743\n",
       "92     265  6.327248  6.327248\n",
       "93     266  5.622217  5.622217\n",
       "94     267  1.492185  1.492185\n",
       "\n",
       "[95 rows x 3 columns]"
      ]
     },
     "execution_count": 156,
     "metadata": {},
     "output_type": "execute_result"
    }
   ],
   "source": [
    "dis_dic#.sort_values('abs_dis')"
   ]
  },
  {
   "cell_type": "code",
   "execution_count": 157,
   "id": "e4043870",
   "metadata": {},
   "outputs": [
    {
     "data": {
      "text/html": [
       "<div>\n",
       "<style scoped>\n",
       "    .dataframe tbody tr th:only-of-type {\n",
       "        vertical-align: middle;\n",
       "    }\n",
       "\n",
       "    .dataframe tbody tr th {\n",
       "        vertical-align: top;\n",
       "    }\n",
       "\n",
       "    .dataframe thead th {\n",
       "        text-align: right;\n",
       "    }\n",
       "</style>\n",
       "<table border=\"1\" class=\"dataframe\">\n",
       "  <thead>\n",
       "    <tr style=\"text-align: right;\">\n",
       "      <th></th>\n",
       "      <th>atom_name</th>\n",
       "      <th>residue_name</th>\n",
       "      <th>residue_number</th>\n",
       "      <th>x_coord</th>\n",
       "      <th>y_coord</th>\n",
       "      <th>z_coord</th>\n",
       "    </tr>\n",
       "  </thead>\n",
       "  <tbody>\n",
       "    <tr>\n",
       "      <th>3</th>\n",
       "      <td>CB</td>\n",
       "      <td>ARG</td>\n",
       "      <td>1</td>\n",
       "      <td>-19.548</td>\n",
       "      <td>0.117</td>\n",
       "      <td>-0.729</td>\n",
       "    </tr>\n",
       "    <tr>\n",
       "      <th>14</th>\n",
       "      <td>CB</td>\n",
       "      <td>GLN</td>\n",
       "      <td>2</td>\n",
       "      <td>-17.363</td>\n",
       "      <td>-4.088</td>\n",
       "      <td>-3.220</td>\n",
       "    </tr>\n",
       "    <tr>\n",
       "      <th>23</th>\n",
       "      <td>CB</td>\n",
       "      <td>GLN</td>\n",
       "      <td>3</td>\n",
       "      <td>-12.863</td>\n",
       "      <td>-2.928</td>\n",
       "      <td>-0.537</td>\n",
       "    </tr>\n",
       "    <tr>\n",
       "      <th>32</th>\n",
       "      <td>CB</td>\n",
       "      <td>LEU</td>\n",
       "      <td>4</td>\n",
       "      <td>-15.576</td>\n",
       "      <td>-1.252</td>\n",
       "      <td>3.533</td>\n",
       "    </tr>\n",
       "    <tr>\n",
       "      <th>40</th>\n",
       "      <td>CB</td>\n",
       "      <td>TYR</td>\n",
       "      <td>5</td>\n",
       "      <td>-19.833</td>\n",
       "      <td>-4.008</td>\n",
       "      <td>3.599</td>\n",
       "    </tr>\n",
       "    <tr>\n",
       "      <th>...</th>\n",
       "      <td>...</td>\n",
       "      <td>...</td>\n",
       "      <td>...</td>\n",
       "      <td>...</td>\n",
       "      <td>...</td>\n",
       "      <td>...</td>\n",
       "    </tr>\n",
       "    <tr>\n",
       "      <th>800</th>\n",
       "      <td>CB</td>\n",
       "      <td>ARG</td>\n",
       "      <td>91</td>\n",
       "      <td>-14.250</td>\n",
       "      <td>-19.722</td>\n",
       "      <td>5.362</td>\n",
       "    </tr>\n",
       "    <tr>\n",
       "      <th>811</th>\n",
       "      <td>CB</td>\n",
       "      <td>LYS</td>\n",
       "      <td>92</td>\n",
       "      <td>-16.204</td>\n",
       "      <td>-18.073</td>\n",
       "      <td>0.034</td>\n",
       "    </tr>\n",
       "    <tr>\n",
       "      <th>820</th>\n",
       "      <td>CB</td>\n",
       "      <td>LEU</td>\n",
       "      <td>93</td>\n",
       "      <td>-10.963</td>\n",
       "      <td>-17.682</td>\n",
       "      <td>-2.362</td>\n",
       "    </tr>\n",
       "    <tr>\n",
       "      <th>828</th>\n",
       "      <td>CB</td>\n",
       "      <td>ILE</td>\n",
       "      <td>94</td>\n",
       "      <td>-15.660</td>\n",
       "      <td>-16.372</td>\n",
       "      <td>-4.713</td>\n",
       "    </tr>\n",
       "    <tr>\n",
       "      <th>836</th>\n",
       "      <td>CB</td>\n",
       "      <td>ASN</td>\n",
       "      <td>95</td>\n",
       "      <td>-16.730</td>\n",
       "      <td>-13.813</td>\n",
       "      <td>-0.102</td>\n",
       "    </tr>\n",
       "  </tbody>\n",
       "</table>\n",
       "<p>95 rows × 6 columns</p>\n",
       "</div>"
      ],
      "text/plain": [
       "    atom_name residue_name  residue_number  x_coord  y_coord  z_coord\n",
       "3          CB          ARG               1  -19.548    0.117   -0.729\n",
       "14         CB          GLN               2  -17.363   -4.088   -3.220\n",
       "23         CB          GLN               3  -12.863   -2.928   -0.537\n",
       "32         CB          LEU               4  -15.576   -1.252    3.533\n",
       "40         CB          TYR               5  -19.833   -4.008    3.599\n",
       "..        ...          ...             ...      ...      ...      ...\n",
       "800        CB          ARG              91  -14.250  -19.722    5.362\n",
       "811        CB          LYS              92  -16.204  -18.073    0.034\n",
       "820        CB          LEU              93  -10.963  -17.682   -2.362\n",
       "828        CB          ILE              94  -15.660  -16.372   -4.713\n",
       "836        CB          ASN              95  -16.730  -13.813   -0.102\n",
       "\n",
       "[95 rows x 6 columns]"
      ]
     },
     "execution_count": 157,
     "metadata": {},
     "output_type": "execute_result"
    }
   ],
   "source": [
    "outdf_CB"
   ]
  },
  {
   "cell_type": "code",
   "execution_count": 175,
   "id": "ef759e54",
   "metadata": {},
   "outputs": [],
   "source": [
    "DF = pd.merge(outdf_CB, dis_dic, on=['x_coord', 'y_coord', 'z_coord'], how='inner')"
   ]
  },
  {
   "cell_type": "code",
   "execution_count": 177,
   "id": "552f998b",
   "metadata": {},
   "outputs": [
    {
     "data": {
      "text/html": [
       "<div>\n",
       "<style scoped>\n",
       "    .dataframe tbody tr th:only-of-type {\n",
       "        vertical-align: middle;\n",
       "    }\n",
       "\n",
       "    .dataframe tbody tr th {\n",
       "        vertical-align: top;\n",
       "    }\n",
       "\n",
       "    .dataframe thead th {\n",
       "        text-align: right;\n",
       "    }\n",
       "</style>\n",
       "<table border=\"1\" class=\"dataframe\">\n",
       "  <thead>\n",
       "    <tr style=\"text-align: right;\">\n",
       "      <th></th>\n",
       "      <th>atom_name</th>\n",
       "      <th>residue_name</th>\n",
       "      <th>residue_number</th>\n",
       "      <th>x_coord</th>\n",
       "      <th>y_coord</th>\n",
       "      <th>z_coord</th>\n",
       "      <th>dis</th>\n",
       "      <th>abs_dis</th>\n",
       "    </tr>\n",
       "  </thead>\n",
       "  <tbody>\n",
       "    <tr>\n",
       "      <th>61</th>\n",
       "      <td>CB</td>\n",
       "      <td>ARG</td>\n",
       "      <td>62</td>\n",
       "      <td>-4.922</td>\n",
       "      <td>3.598</td>\n",
       "      <td>11.930</td>\n",
       "      <td>0.126253</td>\n",
       "      <td>0.126253</td>\n",
       "    </tr>\n",
       "    <tr>\n",
       "      <th>78</th>\n",
       "      <td>CB</td>\n",
       "      <td>PRO</td>\n",
       "      <td>79</td>\n",
       "      <td>-2.725</td>\n",
       "      <td>-12.217</td>\n",
       "      <td>11.595</td>\n",
       "      <td>0.281960</td>\n",
       "      <td>0.281960</td>\n",
       "    </tr>\n",
       "    <tr>\n",
       "      <th>3</th>\n",
       "      <td>CB</td>\n",
       "      <td>LEU</td>\n",
       "      <td>4</td>\n",
       "      <td>-15.576</td>\n",
       "      <td>-1.252</td>\n",
       "      <td>3.533</td>\n",
       "      <td>0.321443</td>\n",
       "      <td>0.321443</td>\n",
       "    </tr>\n",
       "    <tr>\n",
       "      <th>45</th>\n",
       "      <td>CB</td>\n",
       "      <td>ASN</td>\n",
       "      <td>46</td>\n",
       "      <td>-15.713</td>\n",
       "      <td>18.835</td>\n",
       "      <td>5.566</td>\n",
       "      <td>0.360752</td>\n",
       "      <td>0.360752</td>\n",
       "    </tr>\n",
       "    <tr>\n",
       "      <th>67</th>\n",
       "      <td>CB</td>\n",
       "      <td>ARG</td>\n",
       "      <td>68</td>\n",
       "      <td>-11.126</td>\n",
       "      <td>-3.970</td>\n",
       "      <td>7.312</td>\n",
       "      <td>-0.397019</td>\n",
       "      <td>0.397019</td>\n",
       "    </tr>\n",
       "    <tr>\n",
       "      <th>...</th>\n",
       "      <td>...</td>\n",
       "      <td>...</td>\n",
       "      <td>...</td>\n",
       "      <td>...</td>\n",
       "      <td>...</td>\n",
       "      <td>...</td>\n",
       "      <td>...</td>\n",
       "      <td>...</td>\n",
       "    </tr>\n",
       "    <tr>\n",
       "      <th>28</th>\n",
       "      <td>CB</td>\n",
       "      <td>GLU</td>\n",
       "      <td>29</td>\n",
       "      <td>-4.860</td>\n",
       "      <td>6.760</td>\n",
       "      <td>2.268</td>\n",
       "      <td>8.265109</td>\n",
       "      <td>8.265109</td>\n",
       "    </tr>\n",
       "    <tr>\n",
       "      <th>73</th>\n",
       "      <td>CB</td>\n",
       "      <td>GLU</td>\n",
       "      <td>74</td>\n",
       "      <td>-7.086</td>\n",
       "      <td>-2.624</td>\n",
       "      <td>20.430</td>\n",
       "      <td>-8.559560</td>\n",
       "      <td>8.559560</td>\n",
       "    </tr>\n",
       "    <tr>\n",
       "      <th>24</th>\n",
       "      <td>CB</td>\n",
       "      <td>ILE</td>\n",
       "      <td>25</td>\n",
       "      <td>-13.981</td>\n",
       "      <td>13.947</td>\n",
       "      <td>-4.079</td>\n",
       "      <td>8.746975</td>\n",
       "      <td>8.746975</td>\n",
       "    </tr>\n",
       "    <tr>\n",
       "      <th>27</th>\n",
       "      <td>CB</td>\n",
       "      <td>LEU</td>\n",
       "      <td>28</td>\n",
       "      <td>-4.346</td>\n",
       "      <td>12.173</td>\n",
       "      <td>2.220</td>\n",
       "      <td>9.077787</td>\n",
       "      <td>9.077787</td>\n",
       "    </tr>\n",
       "    <tr>\n",
       "      <th>41</th>\n",
       "      <td>CB</td>\n",
       "      <td>ASP</td>\n",
       "      <td>42</td>\n",
       "      <td>-24.109</td>\n",
       "      <td>10.518</td>\n",
       "      <td>11.755</td>\n",
       "      <td>-10.251989</td>\n",
       "      <td>10.251989</td>\n",
       "    </tr>\n",
       "  </tbody>\n",
       "</table>\n",
       "<p>95 rows × 8 columns</p>\n",
       "</div>"
      ],
      "text/plain": [
       "   atom_name residue_name  residue_number  x_coord  y_coord  z_coord  \\\n",
       "61        CB          ARG              62   -4.922    3.598   11.930   \n",
       "78        CB          PRO              79   -2.725  -12.217   11.595   \n",
       "3         CB          LEU               4  -15.576   -1.252    3.533   \n",
       "45        CB          ASN              46  -15.713   18.835    5.566   \n",
       "67        CB          ARG              68  -11.126   -3.970    7.312   \n",
       "..       ...          ...             ...      ...      ...      ...   \n",
       "28        CB          GLU              29   -4.860    6.760    2.268   \n",
       "73        CB          GLU              74   -7.086   -2.624   20.430   \n",
       "24        CB          ILE              25  -13.981   13.947   -4.079   \n",
       "27        CB          LEU              28   -4.346   12.173    2.220   \n",
       "41        CB          ASP              42  -24.109   10.518   11.755   \n",
       "\n",
       "          dis    abs_dis  \n",
       "61   0.126253   0.126253  \n",
       "78   0.281960   0.281960  \n",
       "3    0.321443   0.321443  \n",
       "45   0.360752   0.360752  \n",
       "67  -0.397019   0.397019  \n",
       "..        ...        ...  \n",
       "28   8.265109   8.265109  \n",
       "73  -8.559560   8.559560  \n",
       "24   8.746975   8.746975  \n",
       "27   9.077787   9.077787  \n",
       "41 -10.251989  10.251989  \n",
       "\n",
       "[95 rows x 8 columns]"
      ]
     },
     "execution_count": 177,
     "metadata": {},
     "output_type": "execute_result"
    }
   ],
   "source": [
    "DF.sort_values(\"abs_dis\")"
   ]
  },
  {
   "cell_type": "code",
   "execution_count": null,
   "id": "7d840459",
   "metadata": {},
   "outputs": [],
   "source": []
  }
 ],
 "metadata": {
  "kernelspec": {
   "display_name": "Python 3 (ipykernel)",
   "language": "python",
   "name": "python3"
  },
  "language_info": {
   "codemirror_mode": {
    "name": "ipython",
    "version": 3
   },
   "file_extension": ".py",
   "mimetype": "text/x-python",
   "name": "python",
   "nbconvert_exporter": "python",
   "pygments_lexer": "ipython3",
   "version": "3.11.5"
  }
 },
 "nbformat": 4,
 "nbformat_minor": 5
}
